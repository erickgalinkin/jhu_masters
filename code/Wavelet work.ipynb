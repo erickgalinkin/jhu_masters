{
 "cells": [
  {
   "cell_type": "code",
   "execution_count": 1,
   "metadata": {},
   "outputs": [],
   "source": [
    "import pandas as pd\n",
    "import numpy as np\n",
    "import pywt\n",
    "import tensorflow as tf"
   ]
  },
  {
   "cell_type": "code",
   "execution_count": 2,
   "metadata": {},
   "outputs": [],
   "source": [
    "REQUEST_REPLY_CSV_LOCATION = \"./data/requestreply.csv\"\n",
    "df = pd.read_csv(REQUEST_REPLY_CSV_LOCATION, header=None)"
   ]
  },
  {
   "cell_type": "code",
   "execution_count": 3,
   "metadata": {},
   "outputs": [],
   "source": [
    "scales = [1]\n",
    "wavelet = \"mexh\"\n",
    "columns = df.columns.tolist()\n",
    "allowed_cols = columns[2:]"
   ]
  },
  {
   "cell_type": "code",
   "execution_count": 4,
   "metadata": {},
   "outputs": [],
   "source": [
    "wavelet_data = df[allowed_cols].apply(pywt.cwt, args=(scales, wavelet), axis=1).to_frame()"
   ]
  },
  {
   "cell_type": "code",
   "execution_count": 5,
   "metadata": {},
   "outputs": [
    {
     "data": {
      "text/plain": [
       "array([-4.46914270e+01,  2.25116524e+01,  3.11363359e+01, -1.18327964e+02,\n",
       "        1.13218119e+01,  1.72482993e+02,  6.06659303e+01, -3.12120407e+01,\n",
       "       -8.89311575e+00, -6.54124301e+01, -3.09705851e+02, -1.43283627e+02,\n",
       "        2.82403796e+02,  2.94544848e+02,  9.41894377e+01, -2.21513737e-01,\n",
       "       -1.93954399e+01,  6.38981227e+00, -2.46422727e+01, -7.98846612e+01,\n",
       "       -5.85451123e+01, -2.74835660e+01, -2.32089165e+00,  1.99573084e+00,\n",
       "       -1.07355986e+01,  4.78909947e+00,  1.14785808e+01, -5.07676022e+00,\n",
       "       -5.91445706e+00, -1.07626487e+00,  2.01484907e+00,  2.19853686e+00,\n",
       "       -7.86459796e+00, -9.09726332e+00,  7.70198956e+00,  1.76826746e+01,\n",
       "        2.28416169e+00, -7.25427293e+00, -5.66128312e+00, -1.09882800e+01,\n",
       "       -1.92465751e+00,  2.09863744e+01,  1.05180981e+01, -1.25992537e+01,\n",
       "       -8.05679255e+00, -1.81007951e-01,  1.81717902e+00,  2.71387091e+00,\n",
       "        4.45037809e-01, -4.37759579e+00, -1.29778640e+00,  2.05266185e+00,\n",
       "        2.36391743e+00,  3.59442608e+00, -1.75200175e-02, -2.34309847e+00,\n",
       "       -1.06087068e+00, -1.18073144e+00, -4.68186230e-01, -8.13645412e-01,\n",
       "       -1.05054922e+00,  1.67969878e+00, -1.56650620e+00, -3.83338900e+00,\n",
       "        1.90270944e+00,  6.49429972e+00, -1.56676656e+00, -2.30402091e+01,\n",
       "       -3.10530699e+01,  5.07679815e+01,  5.53610383e+01, -3.07802117e+01,\n",
       "       -4.28579365e+01, -4.52608932e+01,  1.55473539e+01,  5.13798019e+01,\n",
       "       -3.39589254e+01,  5.92140253e+01,  7.67195110e+01, -6.39005705e+01,\n",
       "       -3.76651149e+01,  6.11872197e-01,  4.05739020e+00, -3.66942919e+00,\n",
       "       -1.80420344e-01,  1.74291107e+00, -5.79394326e+00,  2.41732306e+00,\n",
       "        1.09069806e+00, -1.20083556e+01, -8.60770172e+00,  5.89207195e+00,\n",
       "       -3.97946355e+00, -2.44283848e+01,  4.68294865e+01,  5.03926785e+01,\n",
       "       -2.94088190e+01, -2.75272738e+01,  3.19753148e+00,  1.24787548e+01])"
      ]
     },
     "execution_count": 5,
     "metadata": {},
     "output_type": "execute_result"
    }
   ],
   "source": [
    "wavelet_data.loc[0][0][0][0]"
   ]
  },
  {
   "cell_type": "code",
   "execution_count": 7,
   "metadata": {},
   "outputs": [],
   "source": [
    "wavelet_array = []\n",
    "for i in range(wavelet_data.shape[0]):\n",
    "    wavelet_array.append(wavelet_data.loc[i][0][0][0])"
   ]
  },
  {
   "cell_type": "code",
   "execution_count": 19,
   "metadata": {},
   "outputs": [],
   "source": [
    "wavelet_data = pd.DataFrame(data=wavelet_array)"
   ]
  },
  {
   "cell_type": "code",
   "execution_count": 23,
   "metadata": {},
   "outputs": [
    {
     "ename": "ValueError",
     "evalue": "cannot insert 0, already exists",
     "output_type": "error",
     "traceback": [
      "\u001b[0;31m---------------------------------------------------------------------------\u001b[0m",
      "\u001b[0;31mValueError\u001b[0m                                Traceback (most recent call last)",
      "\u001b[0;32m<ipython-input-23-eef514a39dcc>\u001b[0m in \u001b[0;36m<module>\u001b[0;34m\u001b[0m\n\u001b[0;32m----> 1\u001b[0;31m \u001b[0mwavelet_data\u001b[0m\u001b[0;34m.\u001b[0m\u001b[0minsert\u001b[0m\u001b[0;34m(\u001b[0m\u001b[0;36m0\u001b[0m\u001b[0;34m,\u001b[0m \u001b[0;36m0\u001b[0m\u001b[0;34m,\u001b[0m \u001b[0mvalue\u001b[0m\u001b[0;34m=\u001b[0m\u001b[0mdf\u001b[0m\u001b[0;34m[\u001b[0m\u001b[0;36m0\u001b[0m\u001b[0;34m]\u001b[0m\u001b[0;34m)\u001b[0m\u001b[0;34m\u001b[0m\u001b[0;34m\u001b[0m\u001b[0m\n\u001b[0m",
      "\u001b[0;32m~/anaconda3/lib/python3.6/site-packages/pandas/core/frame.py\u001b[0m in \u001b[0;36minsert\u001b[0;34m(self, loc, column, value, allow_duplicates)\u001b[0m\n\u001b[1;32m   3220\u001b[0m         \u001b[0mvalue\u001b[0m \u001b[0;34m=\u001b[0m \u001b[0mself\u001b[0m\u001b[0;34m.\u001b[0m\u001b[0m_sanitize_column\u001b[0m\u001b[0;34m(\u001b[0m\u001b[0mcolumn\u001b[0m\u001b[0;34m,\u001b[0m \u001b[0mvalue\u001b[0m\u001b[0;34m,\u001b[0m \u001b[0mbroadcast\u001b[0m\u001b[0;34m=\u001b[0m\u001b[0;32mFalse\u001b[0m\u001b[0;34m)\u001b[0m\u001b[0;34m\u001b[0m\u001b[0;34m\u001b[0m\u001b[0m\n\u001b[1;32m   3221\u001b[0m         self._data.insert(loc, column, value,\n\u001b[0;32m-> 3222\u001b[0;31m                           allow_duplicates=allow_duplicates)\n\u001b[0m\u001b[1;32m   3223\u001b[0m \u001b[0;34m\u001b[0m\u001b[0m\n\u001b[1;32m   3224\u001b[0m     \u001b[0;32mdef\u001b[0m \u001b[0massign\u001b[0m\u001b[0;34m(\u001b[0m\u001b[0mself\u001b[0m\u001b[0;34m,\u001b[0m \u001b[0;34m**\u001b[0m\u001b[0mkwargs\u001b[0m\u001b[0;34m)\u001b[0m\u001b[0;34m:\u001b[0m\u001b[0;34m\u001b[0m\u001b[0;34m\u001b[0m\u001b[0m\n",
      "\u001b[0;32m~/anaconda3/lib/python3.6/site-packages/pandas/core/internals.py\u001b[0m in \u001b[0;36minsert\u001b[0;34m(self, loc, item, value, allow_duplicates)\u001b[0m\n\u001b[1;32m   4336\u001b[0m         \u001b[0;32mif\u001b[0m \u001b[0;32mnot\u001b[0m \u001b[0mallow_duplicates\u001b[0m \u001b[0;32mand\u001b[0m \u001b[0mitem\u001b[0m \u001b[0;32min\u001b[0m \u001b[0mself\u001b[0m\u001b[0;34m.\u001b[0m\u001b[0mitems\u001b[0m\u001b[0;34m:\u001b[0m\u001b[0;34m\u001b[0m\u001b[0;34m\u001b[0m\u001b[0m\n\u001b[1;32m   4337\u001b[0m             \u001b[0;31m# Should this be a different kind of error??\u001b[0m\u001b[0;34m\u001b[0m\u001b[0;34m\u001b[0m\u001b[0;34m\u001b[0m\u001b[0m\n\u001b[0;32m-> 4338\u001b[0;31m             \u001b[0;32mraise\u001b[0m \u001b[0mValueError\u001b[0m\u001b[0;34m(\u001b[0m\u001b[0;34m'cannot insert {}, already exists'\u001b[0m\u001b[0;34m.\u001b[0m\u001b[0mformat\u001b[0m\u001b[0;34m(\u001b[0m\u001b[0mitem\u001b[0m\u001b[0;34m)\u001b[0m\u001b[0;34m)\u001b[0m\u001b[0;34m\u001b[0m\u001b[0;34m\u001b[0m\u001b[0m\n\u001b[0m\u001b[1;32m   4339\u001b[0m \u001b[0;34m\u001b[0m\u001b[0m\n\u001b[1;32m   4340\u001b[0m         \u001b[0;32mif\u001b[0m \u001b[0;32mnot\u001b[0m \u001b[0misinstance\u001b[0m\u001b[0;34m(\u001b[0m\u001b[0mloc\u001b[0m\u001b[0;34m,\u001b[0m \u001b[0mint\u001b[0m\u001b[0;34m)\u001b[0m\u001b[0;34m:\u001b[0m\u001b[0;34m\u001b[0m\u001b[0;34m\u001b[0m\u001b[0m\n",
      "\u001b[0;31mValueError\u001b[0m: cannot insert 0, already exists"
     ]
    }
   ],
   "source": [
    "wavelet_data.insert(0, 0, value=df[0])"
   ]
  },
  {
   "cell_type": "code",
   "execution_count": 10,
   "metadata": {},
   "outputs": [],
   "source": [
    "wavelet_data[\"1\"] = df[1]"
   ]
  },
  {
   "cell_type": "code",
   "execution_count": 13,
   "metadata": {},
   "outputs": [
    {
     "data": {
      "text/plain": [
       "((12300, 102), (12300, 102))"
      ]
     },
     "execution_count": 13,
     "metadata": {},
     "output_type": "execute_result"
    }
   ],
   "source": [
    "wavelet_data.shape, df.shape"
   ]
  },
  {
   "cell_type": "code",
   "execution_count": 16,
   "metadata": {},
   "outputs": [],
   "source": [
    "wavelet_data.columns = [str(col) for col in wavelet_data.columns]\n",
    "features = [tf.feature_column.numeric_column(col) for col in wavelet_data.columns if col not in [\"0\", \"1\"]]"
   ]
  },
  {
   "cell_type": "code",
   "execution_count": 18,
   "metadata": {},
   "outputs": [
    {
     "data": {
      "text/plain": [
       "98"
      ]
     },
     "execution_count": 18,
     "metadata": {},
     "output_type": "execute_result"
    }
   ],
   "source": [
    "len(wavelet_data.columns)\n",
    "len(features)"
   ]
  },
  {
   "cell_type": "code",
   "execution_count": 20,
   "metadata": {},
   "outputs": [
    {
     "data": {
      "text/plain": [
       "RangeIndex(start=0, stop=100, step=1)"
      ]
     },
     "execution_count": 20,
     "metadata": {},
     "output_type": "execute_result"
    }
   ],
   "source": [
    "wavelet_data.columns"
   ]
  },
  {
   "cell_type": "code",
   "execution_count": null,
   "metadata": {},
   "outputs": [],
   "source": []
  }
 ],
 "metadata": {
  "kernelspec": {
   "display_name": "Python 3",
   "language": "python",
   "name": "python3"
  },
  "language_info": {
   "codemirror_mode": {
    "name": "ipython",
    "version": 3
   },
   "file_extension": ".py",
   "mimetype": "text/x-python",
   "name": "python",
   "nbconvert_exporter": "python",
   "pygments_lexer": "ipython3",
   "version": "3.6.7"
  }
 },
 "nbformat": 4,
 "nbformat_minor": 2
}
