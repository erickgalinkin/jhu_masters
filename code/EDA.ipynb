{
 "cells": [
  {
   "cell_type": "code",
   "execution_count": 42,
   "metadata": {},
   "outputs": [],
   "source": [
    "import pandas as pd\n",
    "import numpy as np\n",
    "import matplotlib.pyplot as plt\n",
    "import tensorflow as tf\n",
    "%matplotlib inline"
   ]
  },
  {
   "cell_type": "code",
   "execution_count": 20,
   "metadata": {},
   "outputs": [
    {
     "name": "stdout",
     "output_type": "stream",
     "text": [
      "Collecting sklearn\n",
      "  Downloading sklearn-0.0.tar.gz (1.1 kB)\n",
      "Collecting scikit-learn\n",
      "  Downloading scikit_learn-0.22.2.post1-cp36-cp36m-manylinux1_x86_64.whl (7.1 MB)\n",
      "\u001b[K     |████████████████████████████████| 7.1 MB 3.0 MB/s eta 0:00:01\n",
      "\u001b[?25hRequirement already satisfied: numpy>=1.11.0 in /home/erick/anaconda3/envs/drlnd/lib/python3.6/site-packages (from scikit-learn->sklearn) (1.18.1)\n",
      "Requirement already satisfied: scipy>=0.17.0 in /home/erick/anaconda3/envs/drlnd/lib/python3.6/site-packages (from scikit-learn->sklearn) (1.4.1)\n",
      "Collecting joblib>=0.11\n",
      "  Downloading joblib-0.14.1-py2.py3-none-any.whl (294 kB)\n",
      "\u001b[K     |████████████████████████████████| 294 kB 30.2 MB/s eta 0:00:01\n",
      "\u001b[?25hBuilding wheels for collected packages: sklearn\n",
      "  Building wheel for sklearn (setup.py) ... \u001b[?25ldone\n",
      "\u001b[?25h  Created wheel for sklearn: filename=sklearn-0.0-py2.py3-none-any.whl size=1315 sha256=946312d7166a3624cbde183533daadd6fe7c6f456ce0fa4b907ae3bd6dfe84fc\n",
      "  Stored in directory: /home/erick/.cache/pip/wheels/23/9d/42/5ec745cbbb17517000a53cecc49d6a865450d1f5cb16dc8a9c\n",
      "Successfully built sklearn\n",
      "Installing collected packages: joblib, scikit-learn, sklearn\n",
      "Successfully installed joblib-0.14.1 scikit-learn-0.22.2.post1 sklearn-0.0\n"
     ]
    }
   ],
   "source": [
    "!pip install sklearn"
   ]
  },
  {
   "cell_type": "code",
   "execution_count": 52,
   "metadata": {},
   "outputs": [],
   "source": [
    "request_reply_df = pd.read_csv(\"./data/requestreply.csv\", header=None)\n",
    "reply_reply_df = pd.read_csv(\"./data/replyreply.csv\", header=None)"
   ]
  },
  {
   "cell_type": "code",
   "execution_count": 44,
   "metadata": {},
   "outputs": [],
   "source": [
    "from scipy import stats"
   ]
  },
  {
   "cell_type": "code",
   "execution_count": 16,
   "metadata": {},
   "outputs": [
    {
     "data": {
      "text/html": [
       "<div>\n",
       "<style scoped>\n",
       "    .dataframe tbody tr th:only-of-type {\n",
       "        vertical-align: middle;\n",
       "    }\n",
       "\n",
       "    .dataframe tbody tr th {\n",
       "        vertical-align: top;\n",
       "    }\n",
       "\n",
       "    .dataframe thead th {\n",
       "        text-align: right;\n",
       "    }\n",
       "</style>\n",
       "<table border=\"1\" class=\"dataframe\">\n",
       "  <thead>\n",
       "    <tr style=\"text-align: right;\">\n",
       "      <th></th>\n",
       "      <th>Malicious</th>\n",
       "      <th>2</th>\n",
       "      <th>3</th>\n",
       "      <th>4</th>\n",
       "      <th>5</th>\n",
       "      <th>6</th>\n",
       "      <th>7</th>\n",
       "      <th>8</th>\n",
       "      <th>9</th>\n",
       "      <th>10</th>\n",
       "      <th>...</th>\n",
       "      <th>92</th>\n",
       "      <th>93</th>\n",
       "      <th>94</th>\n",
       "      <th>95</th>\n",
       "      <th>96</th>\n",
       "      <th>97</th>\n",
       "      <th>98</th>\n",
       "      <th>99</th>\n",
       "      <th>100</th>\n",
       "      <th>101</th>\n",
       "    </tr>\n",
       "  </thead>\n",
       "  <tbody>\n",
       "    <tr>\n",
       "      <th>0</th>\n",
       "      <td>0</td>\n",
       "      <td>20.825148</td>\n",
       "      <td>108.520031</td>\n",
       "      <td>112.684965</td>\n",
       "      <td>15.868187</td>\n",
       "      <td>330.741167</td>\n",
       "      <td>230.258942</td>\n",
       "      <td>217.554092</td>\n",
       "      <td>113.749981</td>\n",
       "      <td>176.881075</td>\n",
       "      <td>...</td>\n",
       "      <td>14.228106</td>\n",
       "      <td>27.732849</td>\n",
       "      <td>27.627945</td>\n",
       "      <td>15.902042</td>\n",
       "      <td>113.047838</td>\n",
       "      <td>13.890982</td>\n",
       "      <td>12.917995</td>\n",
       "      <td>4.037857</td>\n",
       "      <td>24.651051</td>\n",
       "      <td>7.324934</td>\n",
       "    </tr>\n",
       "    <tr>\n",
       "      <th>1</th>\n",
       "      <td>0</td>\n",
       "      <td>224.698067</td>\n",
       "      <td>121.433020</td>\n",
       "      <td>18.800974</td>\n",
       "      <td>4.509211</td>\n",
       "      <td>9.665012</td>\n",
       "      <td>3.786087</td>\n",
       "      <td>4.933119</td>\n",
       "      <td>7.514000</td>\n",
       "      <td>9.127855</td>\n",
       "      <td>...</td>\n",
       "      <td>11.039972</td>\n",
       "      <td>10.627031</td>\n",
       "      <td>7.166862</td>\n",
       "      <td>9.289980</td>\n",
       "      <td>9.554863</td>\n",
       "      <td>10.976076</td>\n",
       "      <td>4.159927</td>\n",
       "      <td>12.969017</td>\n",
       "      <td>25.047064</td>\n",
       "      <td>8.896112</td>\n",
       "    </tr>\n",
       "    <tr>\n",
       "      <th>2</th>\n",
       "      <td>0</td>\n",
       "      <td>109.153032</td>\n",
       "      <td>9.268045</td>\n",
       "      <td>27.769089</td>\n",
       "      <td>11.770964</td>\n",
       "      <td>6.238937</td>\n",
       "      <td>9.030819</td>\n",
       "      <td>4.626036</td>\n",
       "      <td>9.043217</td>\n",
       "      <td>7.443190</td>\n",
       "      <td>...</td>\n",
       "      <td>9.481907</td>\n",
       "      <td>9.615898</td>\n",
       "      <td>13.746023</td>\n",
       "      <td>4.111052</td>\n",
       "      <td>13.911009</td>\n",
       "      <td>12.578011</td>\n",
       "      <td>16.284943</td>\n",
       "      <td>5.783081</td>\n",
       "      <td>9.770870</td>\n",
       "      <td>10.164976</td>\n",
       "    </tr>\n",
       "    <tr>\n",
       "      <th>3</th>\n",
       "      <td>0</td>\n",
       "      <td>214.911222</td>\n",
       "      <td>113.813162</td>\n",
       "      <td>11.111975</td>\n",
       "      <td>5.372047</td>\n",
       "      <td>11.233091</td>\n",
       "      <td>113.419056</td>\n",
       "      <td>11.961937</td>\n",
       "      <td>76.493979</td>\n",
       "      <td>2.870083</td>\n",
       "      <td>...</td>\n",
       "      <td>4.685879</td>\n",
       "      <td>8.937836</td>\n",
       "      <td>5.654097</td>\n",
       "      <td>9.099007</td>\n",
       "      <td>102.588892</td>\n",
       "      <td>3.908157</td>\n",
       "      <td>3.888845</td>\n",
       "      <td>11.066198</td>\n",
       "      <td>3.864050</td>\n",
       "      <td>15.835047</td>\n",
       "    </tr>\n",
       "    <tr>\n",
       "      <th>4</th>\n",
       "      <td>0</td>\n",
       "      <td>112.665892</td>\n",
       "      <td>103.324890</td>\n",
       "      <td>4.642010</td>\n",
       "      <td>527.385950</td>\n",
       "      <td>424.393892</td>\n",
       "      <td>320.701122</td>\n",
       "      <td>216.873884</td>\n",
       "      <td>113.031864</td>\n",
       "      <td>82.963943</td>\n",
       "      <td>...</td>\n",
       "      <td>9.331942</td>\n",
       "      <td>5.966902</td>\n",
       "      <td>9.373903</td>\n",
       "      <td>5.156994</td>\n",
       "      <td>8.961916</td>\n",
       "      <td>3.869057</td>\n",
       "      <td>9.786844</td>\n",
       "      <td>9.626150</td>\n",
       "      <td>20.761013</td>\n",
       "      <td>7.896900</td>\n",
       "    </tr>\n",
       "  </tbody>\n",
       "</table>\n",
       "<p>5 rows × 101 columns</p>\n",
       "</div>"
      ],
      "text/plain": [
       "   Malicious           2           3           4           5           6  \\\n",
       "0          0   20.825148  108.520031  112.684965   15.868187  330.741167   \n",
       "1          0  224.698067  121.433020   18.800974    4.509211    9.665012   \n",
       "2          0  109.153032    9.268045   27.769089   11.770964    6.238937   \n",
       "3          0  214.911222  113.813162   11.111975    5.372047   11.233091   \n",
       "4          0  112.665892  103.324890    4.642010  527.385950  424.393892   \n",
       "\n",
       "            7           8           9          10  ...         92         93  \\\n",
       "0  230.258942  217.554092  113.749981  176.881075  ...  14.228106  27.732849   \n",
       "1    3.786087    4.933119    7.514000    9.127855  ...  11.039972  10.627031   \n",
       "2    9.030819    4.626036    9.043217    7.443190  ...   9.481907   9.615898   \n",
       "3  113.419056   11.961937   76.493979    2.870083  ...   4.685879   8.937836   \n",
       "4  320.701122  216.873884  113.031864   82.963943  ...   9.331942   5.966902   \n",
       "\n",
       "          94         95          96         97         98         99  \\\n",
       "0  27.627945  15.902042  113.047838  13.890982  12.917995   4.037857   \n",
       "1   7.166862   9.289980    9.554863  10.976076   4.159927  12.969017   \n",
       "2  13.746023   4.111052   13.911009  12.578011  16.284943   5.783081   \n",
       "3   5.654097   9.099007  102.588892   3.908157   3.888845  11.066198   \n",
       "4   9.373903   5.156994    8.961916   3.869057   9.786844   9.626150   \n",
       "\n",
       "         100        101  \n",
       "0  24.651051   7.324934  \n",
       "1  25.047064   8.896112  \n",
       "2   9.770870  10.164976  \n",
       "3   3.864050  15.835047  \n",
       "4  20.761013   7.896900  \n",
       "\n",
       "[5 rows x 101 columns]"
      ]
     },
     "execution_count": 16,
     "metadata": {},
     "output_type": "execute_result"
    }
   ],
   "source": [
    "request_reply_df.head()"
   ]
  },
  {
   "cell_type": "code",
   "execution_count": 96,
   "metadata": {},
   "outputs": [],
   "source": [
    "def create_summary_dataset(dataset):\n",
    "    dataset = dataset.copy()\n",
    "    mal = dataset.pop(\"Malicious\")\n",
    "    amean = dataset.copy().apply(np.mean, axis=1)\n",
    "    sd = dataset.copy().apply(np.std, axis=1)\n",
    "    var = dataset.copy().apply(np.var, axis=1)\n",
    "    maximum = dataset.copy().apply(np.max, axis=1)\n",
    "    minimum = dataset.copy().apply(np.min, axis=1)\n",
    "    geo_mean = dataset.copy().apply(np.abs).apply(stats.gmean, axis=1)\n",
    "    har_mean = dataset.copy().apply(np.abs).apply(stats.hmean, axis=1)\n",
    "    summary_data = pd.DataFrame()\n",
    "    summary_data[\"Malicious\"] = mal.values\n",
    "    summary_data[\"Arithmetic_Mean\"] = amean.values\n",
    "    summary_data[\"Standard_Deviation\"] = sd.values\n",
    "    summary_data[\"Variance\"] = var.values\n",
    "    summary_data[\"Max\"] = maximum.values\n",
    "    summary_data[\"Min\"] = minimum.values\n",
    "    summary_data[\"Geometric_Mean\"] = geo_mean.values\n",
    "    summary_data[\"Harmonic_Mean\"] = har_mean.values\n",
    "    return summary_data"
   ]
  },
  {
   "cell_type": "code",
   "execution_count": 97,
   "metadata": {},
   "outputs": [],
   "source": [
    "summary_data = create_summary_dataset(request_reply_df)"
   ]
  },
  {
   "cell_type": "code",
   "execution_count": 98,
   "metadata": {},
   "outputs": [
    {
     "data": {
      "text/plain": [
       "0        0\n",
       "1        0\n",
       "2        0\n",
       "3        0\n",
       "4        0\n",
       "        ..\n",
       "12295    1\n",
       "12296    1\n",
       "12297    1\n",
       "12298    1\n",
       "12299    1\n",
       "Name: Malicious, Length: 12300, dtype: int64"
      ]
     },
     "execution_count": 98,
     "metadata": {},
     "output_type": "execute_result"
    }
   ],
   "source": [
    "summary_data['Malicious']"
   ]
  },
  {
   "cell_type": "code",
   "execution_count": 99,
   "metadata": {},
   "outputs": [
    {
     "data": {
      "text/html": [
       "<div>\n",
       "<style scoped>\n",
       "    .dataframe tbody tr th:only-of-type {\n",
       "        vertical-align: middle;\n",
       "    }\n",
       "\n",
       "    .dataframe tbody tr th {\n",
       "        vertical-align: top;\n",
       "    }\n",
       "\n",
       "    .dataframe thead th {\n",
       "        text-align: right;\n",
       "    }\n",
       "</style>\n",
       "<table border=\"1\" class=\"dataframe\">\n",
       "  <thead>\n",
       "    <tr style=\"text-align: right;\">\n",
       "      <th></th>\n",
       "      <th>Malicious</th>\n",
       "      <th>Arithmetic_Mean</th>\n",
       "      <th>Standard_Deviation</th>\n",
       "      <th>Variance</th>\n",
       "      <th>Max</th>\n",
       "      <th>Min</th>\n",
       "      <th>Geometric_Mean</th>\n",
       "      <th>Harmonic_Mean</th>\n",
       "    </tr>\n",
       "  </thead>\n",
       "  <tbody>\n",
       "    <tr>\n",
       "      <th>0</th>\n",
       "      <td>0</td>\n",
       "      <td>59.185963</td>\n",
       "      <td>122.067837</td>\n",
       "      <td>14900.556774</td>\n",
       "      <td>667.421103</td>\n",
       "      <td>2.313137</td>\n",
       "      <td>16.443096</td>\n",
       "      <td>8.626193</td>\n",
       "    </tr>\n",
       "    <tr>\n",
       "      <th>1</th>\n",
       "      <td>0</td>\n",
       "      <td>22.103214</td>\n",
       "      <td>34.715208</td>\n",
       "      <td>1205.145634</td>\n",
       "      <td>224.698067</td>\n",
       "      <td>3.786087</td>\n",
       "      <td>12.882226</td>\n",
       "      <td>9.803478</td>\n",
       "    </tr>\n",
       "    <tr>\n",
       "      <th>2</th>\n",
       "      <td>0</td>\n",
       "      <td>22.907884</td>\n",
       "      <td>57.440960</td>\n",
       "      <td>3299.463856</td>\n",
       "      <td>423.770189</td>\n",
       "      <td>3.897190</td>\n",
       "      <td>10.908328</td>\n",
       "      <td>8.498000</td>\n",
       "    </tr>\n",
       "    <tr>\n",
       "      <th>3</th>\n",
       "      <td>0</td>\n",
       "      <td>27.850859</td>\n",
       "      <td>60.939352</td>\n",
       "      <td>3713.604637</td>\n",
       "      <td>419.315100</td>\n",
       "      <td>2.870083</td>\n",
       "      <td>12.481497</td>\n",
       "      <td>8.964352</td>\n",
       "    </tr>\n",
       "    <tr>\n",
       "      <th>4</th>\n",
       "      <td>0</td>\n",
       "      <td>29.037657</td>\n",
       "      <td>76.543921</td>\n",
       "      <td>5858.971831</td>\n",
       "      <td>527.385950</td>\n",
       "      <td>2.856970</td>\n",
       "      <td>11.498459</td>\n",
       "      <td>8.442153</td>\n",
       "    </tr>\n",
       "  </tbody>\n",
       "</table>\n",
       "</div>"
      ],
      "text/plain": [
       "   Malicious  Arithmetic_Mean  Standard_Deviation      Variance         Max  \\\n",
       "0          0        59.185963          122.067837  14900.556774  667.421103   \n",
       "1          0        22.103214           34.715208   1205.145634  224.698067   \n",
       "2          0        22.907884           57.440960   3299.463856  423.770189   \n",
       "3          0        27.850859           60.939352   3713.604637  419.315100   \n",
       "4          0        29.037657           76.543921   5858.971831  527.385950   \n",
       "\n",
       "        Min  Geometric_Mean  Harmonic_Mean  \n",
       "0  2.313137       16.443096       8.626193  \n",
       "1  3.786087       12.882226       9.803478  \n",
       "2  3.897190       10.908328       8.498000  \n",
       "3  2.870083       12.481497       8.964352  \n",
       "4  2.856970       11.498459       8.442153  "
      ]
     },
     "execution_count": 99,
     "metadata": {},
     "output_type": "execute_result"
    }
   ],
   "source": [
    "summary_data.head()"
   ]
  },
  {
   "cell_type": "code",
   "execution_count": 4,
   "metadata": {},
   "outputs": [],
   "source": [
    "def dataset_statistics(df):\n",
    "    ds_mean = np.mean(df.mean(numeric_only=True))\n",
    "    ds_median = np.median(df.median(numeric_only=True))\n",
    "    ds_mean_var = np.mean(df.var(numeric_only=True))\n",
    "    ds_median_var = np.median(df.var(numeric_only=True))\n",
    "    return ds_mean, ds_median, ds_mean_var, ds_median_var"
   ]
  },
  {
   "cell_type": "code",
   "execution_count": 5,
   "metadata": {},
   "outputs": [],
   "source": [
    "request_reply_df.rename(columns={0:'Malicious'}, inplace=True)"
   ]
  },
  {
   "cell_type": "code",
   "execution_count": 53,
   "metadata": {},
   "outputs": [],
   "source": [
    "request_reply_df.columns = [str(col) for col in request_reply_df.columns]\n",
    "request_reply_df.drop(\"1\", axis=1, inplace=True)\n",
    "request_reply_df.rename(columns={\"0\": \"Malicious\"}, inplace=True)\n",
    "request_reply_df.replace({\"Malicious\": {'legit': 0, 'malware': 1}}, inplace=True)"
   ]
  },
  {
   "cell_type": "code",
   "execution_count": 7,
   "metadata": {},
   "outputs": [
    {
     "data": {
      "text/plain": [
       "<matplotlib.axes._subplots.AxesSubplot at 0x7fabfc733a20>"
      ]
     },
     "execution_count": 7,
     "metadata": {},
     "output_type": "execute_result"
    },
    {
     "data": {
      "image/png": "[encoded data removed]",
      "text/plain": [
       "<Figure size 432x288 with 1 Axes>"
      ]
     },
     "metadata": {
      "needs_background": "light"
     },
     "output_type": "display_data"
    }
   ],
   "source": [
    "benignware = request_reply_df.loc[request_reply_df[\"Malicious\"] == 0]\n",
    "benignware.plot(legend=False)"
   ]
  },
  {
   "cell_type": "code",
   "execution_count": 8,
   "metadata": {},
   "outputs": [
    {
     "data": {
      "text/plain": [
       "<matplotlib.axes._subplots.AxesSubplot at 0x7fabfc5235c0>"
      ]
     },
     "execution_count": 8,
     "metadata": {},
     "output_type": "execute_result"
    },
    {
     "data": {
      "image/png": "[encoded data removed]",
      "text/plain": [
       "<Figure size 432x288 with 1 Axes>"
      ]
     },
     "metadata": {
      "needs_background": "light"
     },
     "output_type": "display_data"
    }
   ],
   "source": [
    "malware = request_reply_df.loc[request_reply_df[\"Malicious\"] == 1]\n",
    "malware.plot(legend=False)"
   ]
  },
  {
   "cell_type": "code",
   "execution_count": 18,
   "metadata": {},
   "outputs": [
    {
     "name": "stdout",
     "output_type": "stream",
     "text": [
      "20.825148000000002\n",
      "108.520031\n",
      "112.68496499999999\n",
      "15.868186999999999\n",
      "330.741167\n"
     ]
    }
   ],
   "source": [
    "for i in range(5):\n",
    "    print(request_reply_df.loc[0][i+1])"
   ]
  },
  {
   "cell_type": "code",
   "execution_count": 66,
   "metadata": {},
   "outputs": [],
   "source": [
    "from prototype_model import *"
   ]
  },
  {
   "cell_type": "code",
   "execution_count": 23,
   "metadata": {},
   "outputs": [],
   "source": [
    "request_reply_fourier = create_fourier_dataset(request_reply_df)\n",
    "request_reply_cwavelet = create_continuous_wavelet_dataset(request_reply_df)"
   ]
  },
  {
   "cell_type": "code",
   "execution_count": 10,
   "metadata": {},
   "outputs": [
    {
     "data": {
      "text/plain": [
       "((58.604390351203385+7.584613306260597e-16j),\n",
       " (-1.4514760249295477-5621.282955458517j),\n",
       " 113461711.81745677,\n",
       " 100535393.93087971)"
      ]
     },
     "execution_count": 10,
     "metadata": {},
     "output_type": "execute_result"
    }
   ],
   "source": [
    "dataset_statistics(request_reply_fourier)"
   ]
  },
  {
   "cell_type": "code",
   "execution_count": 11,
   "metadata": {},
   "outputs": [
    {
     "data": {
      "text/plain": [
       "((100.18508077471539+9.62733416023051e-16j),\n",
       " (-6.815148765591573+2503.544078804928j),\n",
       " 152077222.0613499,\n",
       " 152901167.7689203)"
      ]
     },
     "execution_count": 11,
     "metadata": {},
     "output_type": "execute_result"
    }
   ],
   "source": [
    "dataset_statistics(reply_reply_fourier)"
   ]
  },
  {
   "cell_type": "code",
   "execution_count": 12,
   "metadata": {},
   "outputs": [
    {
     "data": {
      "text/plain": [
       "(-0.23982914010307635,\n",
       " 0.032688860041574105,\n",
       " 97.32855683618969,\n",
       " 78.07325231009084)"
      ]
     },
     "execution_count": 12,
     "metadata": {},
     "output_type": "execute_result"
    }
   ],
   "source": [
    "dataset_statistics(request_reply_cwavelet)"
   ]
  },
  {
   "cell_type": "code",
   "execution_count": 13,
   "metadata": {},
   "outputs": [
    {
     "data": {
      "text/plain": [
       "(-0.13882611736088013,\n",
       " -0.035714383126698904,\n",
       " 181.86647260223148,\n",
       " 176.2678754236699)"
      ]
     },
     "execution_count": 13,
     "metadata": {},
     "output_type": "execute_result"
    }
   ],
   "source": [
    "dataset_statistics(reply_reply_cwavelet)"
   ]
  },
  {
   "cell_type": "code",
   "execution_count": 11,
   "metadata": {},
   "outputs": [],
   "source": [
    "import pywt"
   ]
  },
  {
   "cell_type": "code",
   "execution_count": 24,
   "metadata": {},
   "outputs": [],
   "source": [
    "def high_pass_dataset(dataset):\n",
    "    scales = [1]\n",
    "    wavelet = \"morl\"\n",
    "    columns = dataset.columns.tolist()\n",
    "    columns.remove(\"Malicious\")\n",
    "    wavelet_data = dataset[columns].apply(pywt.cwt, args=(scales, wavelet), axis=1).to_frame()\n",
    "    wavelet_array = list()\n",
    "    for i in range(wavelet_data.shape[0]):\n",
    "        wavelet_array.append(wavelet_data.loc[i][0][0][0])\n",
    "    wavelet_data = pd.DataFrame(data=wavelet_array)\n",
    "    wavelet_data[\"Malicious\"] = dataset[\"Malicious\"]\n",
    "    return wavelet_data"
   ]
  },
  {
   "cell_type": "code",
   "execution_count": 50,
   "metadata": {},
   "outputs": [],
   "source": [
    "def low_pass_dataset(dataset):\n",
    "    scales = [1]\n",
    "    wavelet = \"morl\"\n",
    "    columns = dataset.columns.tolist()\n",
    "    columns.remove(\"Malicious\")\n",
    "    wavelet_data = dataset[columns].apply(pywt.cwt, args=(scales, wavelet), axis=1).to_frame()\n",
    "    wavelet_array = list()\n",
    "    for i in range(wavelet_data.shape[0]):\n",
    "        wavelet_array.append(wavelet_data.loc[i][0][1][0])\n",
    "    wavelet_data = pd.DataFrame(data=wavelet_array)\n",
    "    wavelet_data[\"Malicious\"] = dataset[\"Malicious\"]\n",
    "    return wavelet_data"
   ]
  },
  {
   "cell_type": "code",
   "execution_count": 52,
   "metadata": {},
   "outputs": [],
   "source": [
    "high_pass_wavelet = high_pass_dataset(request_reply_df)\n",
    "low_pass_wavelet = low_pass_dataset(request_reply_df)"
   ]
  },
  {
   "cell_type": "code",
   "execution_count": 14,
   "metadata": {},
   "outputs": [
    {
     "name": "stdout",
     "output_type": "stream",
     "text": [
      "Train for 99 steps\n",
      "Epoch 1/20\n",
      "99/99 [==============================] - 2s 18ms/step - loss: 3.6526 - accuracy: 0.5400\n",
      "Epoch 2/20\n",
      "99/99 [==============================] - 1s 8ms/step - loss: 0.6423 - accuracy: 0.6282\n",
      "Epoch 3/20\n",
      "99/99 [==============================] - 1s 8ms/step - loss: 0.5871 - accuracy: 0.6720\n",
      "Epoch 4/20\n",
      "99/99 [==============================] - 1s 8ms/step - loss: 0.5485 - accuracy: 0.6997\n",
      "Epoch 5/20\n",
      "99/99 [==============================] - 1s 8ms/step - loss: 0.5165 - accuracy: 0.7277\n",
      "Epoch 6/20\n",
      "99/99 [==============================] - 1s 8ms/step - loss: 0.4832 - accuracy: 0.7542\n",
      "Epoch 7/20\n",
      "99/99 [==============================] - 1s 8ms/step - loss: 0.4601 - accuracy: 0.7722\n",
      "Epoch 8/20\n",
      "99/99 [==============================] - 1s 8ms/step - loss: 0.4630 - accuracy: 0.7711\n",
      "Epoch 9/20\n",
      "99/99 [==============================] - 1s 8ms/step - loss: 0.4198 - accuracy: 0.8005\n",
      "Epoch 10/20\n",
      "99/99 [==============================] - 1s 8ms/step - loss: 0.3883 - accuracy: 0.8235\n",
      "Epoch 11/20\n",
      "99/99 [==============================] - 1s 8ms/step - loss: 0.3678 - accuracy: 0.8337\n",
      "Epoch 12/20\n",
      "99/99 [==============================] - 1s 8ms/step - loss: 0.3526 - accuracy: 0.8487\n",
      "Epoch 13/20\n",
      "99/99 [==============================] - 1s 8ms/step - loss: 0.3268 - accuracy: 0.8621\n",
      "Epoch 14/20\n",
      "99/99 [==============================] - 1s 8ms/step - loss: 0.3144 - accuracy: 0.8705\n",
      "Epoch 15/20\n",
      "99/99 [==============================] - 1s 9ms/step - loss: 0.2968 - accuracy: 0.8791\n",
      "Epoch 16/20\n",
      "99/99 [==============================] - 1s 8ms/step - loss: 0.2883 - accuracy: 0.8876\n",
      "Epoch 17/20\n",
      "99/99 [==============================] - 1s 8ms/step - loss: 0.2613 - accuracy: 0.8997\n",
      "Epoch 18/20\n",
      "99/99 [==============================] - 1s 8ms/step - loss: 0.2480 - accuracy: 0.9088\n",
      "Epoch 19/20\n",
      "99/99 [==============================] - 1s 9ms/step - loss: 0.2434 - accuracy: 0.9155\n",
      "Epoch 20/20\n",
      "99/99 [==============================] - 1s 8ms/step - loss: 0.2332 - accuracy: 0.9205\n",
      "History: {'loss': [3.6708390835097164, 0.6426174953216459, 0.5873344493348424, 0.5485877254750671, 0.5156678793028118, 0.4825497252669761, 0.4599477454293065, 0.46264324918752764, 0.41968098749232485, 0.38728197912375134, 0.3677110565992875, 0.351681521238108, 0.3268212666659336, 0.3142344267751143, 0.2966898544350775, 0.28836971939336964, 0.26170510486737497, 0.24825945151288334, 0.243435365640051, 0.23329087143869903], 'accuracy': [0.5400407, 0.6281504, 0.67195123, 0.6996951, 0.7277439, 0.75416666, 0.77215445, 0.7711382, 0.80050814, 0.8234756, 0.8337398, 0.8486789, 0.8620935, 0.87052846, 0.87906504, 0.8876016, 0.8996951, 0.9088415, 0.9155488, 0.9205285]}\n",
      "25/25 [==============================] - 1s 23ms/step - loss: 1.2654 - accuracy: 0.6411\n",
      "test loss, test acc: [1.265425500869751, 0.6410569]\n"
     ]
    }
   ],
   "source": [
    "features = generate_features(request_reply_df)\n",
    "model = build_fc_model(features)\n",
    "fc_qr_history, fc_qr_results = train_model(model, request_reply_df)"
   ]
  },
  {
   "cell_type": "code",
   "execution_count": 15,
   "metadata": {},
   "outputs": [
    {
     "data": {
      "image/png": "[encoded data removed]",
      "text/plain": [
       "<Figure size 432x288 with 1 Axes>"
      ]
     },
     "metadata": {
      "needs_background": "light"
     },
     "output_type": "display_data"
    }
   ],
   "source": [
    "plt.plot(fc_qr_history.history['loss'])\n",
    "plt.title('Fully Connected model loss')\n",
    "plt.ylabel('Loss')\n",
    "plt.xlabel('Epoch')\n",
    "plt.legend(['Train', 'Val'], loc='upper left')\n",
    "plt.show()"
   ]
  },
  {
   "cell_type": "code",
   "execution_count": 16,
   "metadata": {},
   "outputs": [
    {
     "name": "stdout",
     "output_type": "stream",
     "text": [
      "Model: \"sequential\"\n",
      "_________________________________________________________________\n",
      "Layer (type)                 Output Shape              Param #   \n",
      "=================================================================\n",
      "dense_features (DenseFeature multiple                  0         \n",
      "_________________________________________________________________\n",
      "dense (Dense)                multiple                  25856     \n",
      "_________________________________________________________________\n",
      "dense_1 (Dense)              multiple                  65792     \n",
      "_________________________________________________________________\n",
      "dense_2 (Dense)              multiple                  65792     \n",
      "_________________________________________________________________\n",
      "dense_3 (Dense)              multiple                  257       \n",
      "=================================================================\n",
      "Total params: 157,697\n",
      "Trainable params: 157,697\n",
      "Non-trainable params: 0\n",
      "_________________________________________________________________\n"
     ]
    }
   ],
   "source": [
    "model.summary()"
   ]
  },
  {
   "cell_type": "code",
   "execution_count": 17,
   "metadata": {},
   "outputs": [],
   "source": [
    "# features = generate_features(reply_reply_df)\n",
    "# model = build_fc_model(features)\n",
    "# fc_rr_history, fc_rr_results = train_model(model, reply_reply_df)"
   ]
  },
  {
   "cell_type": "code",
   "execution_count": 18,
   "metadata": {},
   "outputs": [],
   "source": [
    "# plt.plot(fc_rr_history.history['loss'])\n",
    "# # plt.plot(fc_rr_history.history['val_accuracy'])\n",
    "# plt.title('Fully Connected model loss')\n",
    "# plt.ylabel('Loss')\n",
    "# plt.xlabel('Epoch')\n",
    "# plt.legend(['Train', 'Val'], loc='upper left')\n",
    "# plt.show()"
   ]
  },
  {
   "cell_type": "code",
   "execution_count": 19,
   "metadata": {},
   "outputs": [
    {
     "name": "stdout",
     "output_type": "stream",
     "text": [
      "Train for 99 steps\n",
      "Epoch 1/20\n",
      "99/99 [==============================] - 3s 34ms/step - loss: 0.6708 - accuracy: 0.5922\n",
      "Epoch 2/20\n",
      "99/99 [==============================] - 2s 23ms/step - loss: 0.6175 - accuracy: 0.6627\n",
      "Epoch 3/20\n",
      "99/99 [==============================] - 2s 23ms/step - loss: 0.5904 - accuracy: 0.6948\n",
      "Epoch 4/20\n",
      "99/99 [==============================] - 2s 23ms/step - loss: 0.5651 - accuracy: 0.7243\n",
      "Epoch 5/20\n",
      "99/99 [==============================] - 2s 23ms/step - loss: 0.5440 - accuracy: 0.7351\n",
      "Epoch 6/20\n",
      "99/99 [==============================] - 2s 23ms/step - loss: 0.5278 - accuracy: 0.7426\n",
      "Epoch 7/20\n",
      "99/99 [==============================] - 2s 23ms/step - loss: 0.5145 - accuracy: 0.7460\n",
      "Epoch 8/20\n",
      "99/99 [==============================] - 2s 23ms/step - loss: 0.5073 - accuracy: 0.7583\n",
      "Epoch 9/20\n",
      "99/99 [==============================] - 2s 23ms/step - loss: 0.5019 - accuracy: 0.7614\n",
      "Epoch 10/20\n",
      "99/99 [==============================] - 2s 23ms/step - loss: 0.4886 - accuracy: 0.7694\n",
      "Epoch 11/20\n",
      "99/99 [==============================] - 2s 23ms/step - loss: 0.4865 - accuracy: 0.7678\n",
      "Epoch 12/20\n",
      "99/99 [==============================] - 2s 23ms/step - loss: 0.4791 - accuracy: 0.7740\n",
      "Epoch 13/20\n",
      "99/99 [==============================] - 2s 23ms/step - loss: 0.4709 - accuracy: 0.7762\n",
      "Epoch 14/20\n",
      "99/99 [==============================] - 2s 23ms/step - loss: 0.4659 - accuracy: 0.7854\n",
      "Epoch 15/20\n",
      "99/99 [==============================] - 2s 23ms/step - loss: 0.4568 - accuracy: 0.7865\n",
      "Epoch 16/20\n",
      "99/99 [==============================] - 2s 23ms/step - loss: 0.4483 - accuracy: 0.7871\n",
      "Epoch 17/20\n",
      "99/99 [==============================] - 2s 23ms/step - loss: 0.4371 - accuracy: 0.7996\n",
      "Epoch 18/20\n",
      "99/99 [==============================] - 2s 23ms/step - loss: 0.4259 - accuracy: 0.7988\n",
      "Epoch 19/20\n",
      "99/99 [==============================] - 2s 23ms/step - loss: 0.4291 - accuracy: 0.8008\n",
      "Epoch 20/20\n",
      "99/99 [==============================] - 2s 23ms/step - loss: 0.4246 - accuracy: 0.8034\n",
      "History: {'loss': [0.6711562231061904, 0.6176154676491652, 0.5903964191675186, 0.5651675350055462, 0.5445296768613948, 0.528403617865671, 0.5144643635163463, 0.5077993357326926, 0.5019274504809845, 0.4876992226979597, 0.48592598930122405, 0.478201837013892, 0.4709496901529591, 0.46547736433463366, 0.45718322688244223, 0.447618132320846, 0.4375095434668588, 0.42563534479557985, 0.4292694299322803, 0.4243602179051415], 'accuracy': [0.59217477, 0.6627033, 0.69481707, 0.72428864, 0.735061, 0.7425813, 0.7460366, 0.7583333, 0.7613821, 0.76941055, 0.76778454, 0.7739837, 0.7762195, 0.7853659, 0.78648376, 0.7870935, 0.7995935, 0.7987805, 0.800813, 0.80335367]}\n",
      "25/25 [==============================] - 1s 35ms/step - loss: 0.6032 - accuracy: 0.7057\n",
      "test loss, test acc: [0.6032026624679565, 0.70569104]\n"
     ]
    }
   ],
   "source": [
    "features = generate_features(request_reply_df)\n",
    "model = build_conv_model(features)\n",
    "conv_qr_history, conv_qr_results = train_model(model, request_reply_df)"
   ]
  },
  {
   "cell_type": "code",
   "execution_count": 20,
   "metadata": {},
   "outputs": [
    {
     "data": {
      "image/png": "[encoded data removed]",
      "text/plain": [
       "<Figure size 432x288 with 1 Axes>"
      ]
     },
     "metadata": {
      "needs_background": "light"
     },
     "output_type": "display_data"
    }
   ],
   "source": [
    "plt.plot(conv_qr_history.history['loss'])\n",
    "# plt.plot(conv_qr_history.history['val_accuracy'])\n",
    "plt.title('Convolutional model loss')\n",
    "plt.ylabel('Loss')\n",
    "plt.xlabel('Epoch')\n",
    "plt.legend(['Train', 'Val'], loc='upper left')\n",
    "plt.show()"
   ]
  },
  {
   "cell_type": "code",
   "execution_count": 21,
   "metadata": {},
   "outputs": [],
   "source": [
    "# features = generate_features(reply_reply_df)\n",
    "# model = build_conv_model(features)\n",
    "# conv_rr_history, conv_rr_results = train_model(model, reply_reply_df)"
   ]
  },
  {
   "cell_type": "code",
   "execution_count": 22,
   "metadata": {},
   "outputs": [],
   "source": [
    "# plt.plot(conv_rr_history.history['accuracy'])\n",
    "# # plt.plot(conv_rr_history.history['val_accuracy'])\n",
    "# plt.title('Convolutional model accuracy')\n",
    "# plt.ylabel('Accuracy')\n",
    "# plt.xlabel('Epoch')\n",
    "# plt.legend(['Train', 'Val'], loc='upper left')\n",
    "# plt.show()"
   ]
  },
  {
   "cell_type": "code",
   "execution_count": 65,
   "metadata": {},
   "outputs": [],
   "source": [
    "from sklearn.ensemble import RandomForestClassifier\n",
    "from sklearn.model_selection import train_test_split"
   ]
  },
  {
   "cell_type": "code",
   "execution_count": 22,
   "metadata": {},
   "outputs": [],
   "source": [
    "dataset = request_reply_df.copy()\n",
    "labels = dataset.pop(\"Malicious\")\n",
    "X_train, X_test, y_train, y_test = train_test_split(dataset, labels, test_size=.2, stratify=labels)"
   ]
  },
  {
   "cell_type": "code",
   "execution_count": 23,
   "metadata": {},
   "outputs": [
    {
     "data": {
      "text/plain": [
       "RandomForestClassifier(bootstrap=True, ccp_alpha=0.0, class_weight=None,\n",
       "                       criterion='gini', max_depth=None, max_features='auto',\n",
       "                       max_leaf_nodes=None, max_samples=None,\n",
       "                       min_impurity_decrease=0.0, min_impurity_split=None,\n",
       "                       min_samples_leaf=1, min_samples_split=2,\n",
       "                       min_weight_fraction_leaf=0.0, n_estimators=100,\n",
       "                       n_jobs=None, oob_score=False, random_state=None,\n",
       "                       verbose=0, warm_start=False)"
      ]
     },
     "execution_count": 23,
     "metadata": {},
     "output_type": "execute_result"
    }
   ],
   "source": [
    "clf = RandomForestClassifier(n_estimators=100)\n",
    "clf.fit(X_train, y_train)"
   ]
  },
  {
   "cell_type": "code",
   "execution_count": 24,
   "metadata": {},
   "outputs": [],
   "source": [
    "predictions = clf.predict(X_test)"
   ]
  },
  {
   "cell_type": "code",
   "execution_count": 25,
   "metadata": {},
   "outputs": [
    {
     "name": "stdout",
     "output_type": "stream",
     "text": [
      "Accuracy of random forest classifier:0.8105691056910569\n"
     ]
    }
   ],
   "source": [
    "errors = [0 if p == label else 1 for p, label in zip(predictions, y_test)]\n",
    "rf_accuracy = 1 - (np.sum(errors)/len(errors))\n",
    "print(\"Accuracy of random forest classifier:\" + str(rf_accuracy))"
   ]
  },
  {
   "cell_type": "code",
   "execution_count": 26,
   "metadata": {},
   "outputs": [],
   "source": [
    "from sklearn.metrics import plot_confusion_matrix"
   ]
  },
  {
   "cell_type": "code",
   "execution_count": 27,
   "metadata": {},
   "outputs": [
    {
     "data": {
      "text/plain": [
       "<sklearn.metrics._plot.confusion_matrix.ConfusionMatrixDisplay at 0x7fabf8ebd358>"
      ]
     },
     "execution_count": 27,
     "metadata": {},
     "output_type": "execute_result"
    },
    {
     "data": {
      "image/png": "[encoded data removed]",
      "text/plain": [
       "<Figure size 432x288 with 2 Axes>"
      ]
     },
     "metadata": {
      "needs_background": "light"
     },
     "output_type": "display_data"
    }
   ],
   "source": [
    "plot_confusion_matrix(clf, X_test, y_test)"
   ]
  },
  {
   "cell_type": "code",
   "execution_count": 10,
   "metadata": {},
   "outputs": [
    {
     "name": "stdout",
     "output_type": "stream",
     "text": [
      "Train for 99 steps\n",
      "Epoch 1/20\n",
      "99/99 [==============================] - 2s 19ms/step - loss: 0.7231 - accuracy: 0.5000\n",
      "Epoch 2/20\n",
      "99/99 [==============================] - 1s 8ms/step - loss: 0.7071 - accuracy: 0.5076\n",
      "Epoch 3/20\n",
      "99/99 [==============================] - 1s 8ms/step - loss: 0.6993 - accuracy: 0.5183\n",
      "Epoch 4/20\n",
      "99/99 [==============================] - 1s 8ms/step - loss: 0.6968 - accuracy: 0.5238\n",
      "Epoch 5/20\n",
      "99/99 [==============================] - 1s 8ms/step - loss: 0.6956 - accuracy: 0.5304\n",
      "Epoch 6/20\n",
      "99/99 [==============================] - 1s 8ms/step - loss: 0.6927 - accuracy: 0.5386\n",
      "Epoch 7/20\n",
      "99/99 [==============================] - 1s 8ms/step - loss: 0.6918 - accuracy: 0.5394\n",
      "Epoch 8/20\n",
      "99/99 [==============================] - 1s 8ms/step - loss: 0.6914 - accuracy: 0.5382\n",
      "Epoch 9/20\n",
      "99/99 [==============================] - 1s 9ms/step - loss: 0.6902 - accuracy: 0.5464\n",
      "Epoch 10/20\n",
      "99/99 [==============================] - 1s 8ms/step - loss: 0.6901 - accuracy: 0.5431\n",
      "Epoch 11/20\n",
      "99/99 [==============================] - 1s 8ms/step - loss: 0.6894 - accuracy: 0.5453\n",
      "Epoch 12/20\n",
      "99/99 [==============================] - 1s 8ms/step - loss: 0.6887 - accuracy: 0.5439\n",
      "Epoch 13/20\n",
      "99/99 [==============================] - 1s 8ms/step - loss: 0.6885 - accuracy: 0.5453\n",
      "Epoch 14/20\n",
      "99/99 [==============================] - 1s 8ms/step - loss: 0.6881 - accuracy: 0.5477\n",
      "Epoch 15/20\n",
      "99/99 [==============================] - 1s 8ms/step - loss: 0.6874 - accuracy: 0.5475\n",
      "Epoch 16/20\n",
      "99/99 [==============================] - 1s 8ms/step - loss: 0.6873 - accuracy: 0.5477\n",
      "Epoch 17/20\n",
      "99/99 [==============================] - 1s 8ms/step - loss: 0.6865 - accuracy: 0.5508\n",
      "Epoch 18/20\n",
      "99/99 [==============================] - 1s 8ms/step - loss: 0.6866 - accuracy: 0.5511\n",
      "Epoch 19/20\n",
      "99/99 [==============================] - 1s 8ms/step - loss: 0.6858 - accuracy: 0.5508\n",
      "Epoch 20/20\n",
      "99/99 [==============================] - 1s 8ms/step - loss: 0.6857 - accuracy: 0.5539\n",
      "History: {'loss': [0.7229154288041882, 0.7069873935808011, 0.6993577378552135, 0.6970111264930507, 0.6955221103943461, 0.6928753795904842, 0.6918408078391377, 0.6914067173876414, 0.6903155912471012, 0.6901011050232058, 0.6893315424279469, 0.6887088889271263, 0.6886297349280458, 0.6880328342681978, 0.6874593570222699, 0.6875172694766425, 0.6866629167300898, 0.6865077333721689, 0.6857597155541908, 0.6857114649885069], 'accuracy': [0.5, 0.50762194, 0.51829267, 0.52378047, 0.53038615, 0.5386179, 0.5394309, 0.5382114, 0.5464431, 0.54308945, 0.5453252, 0.54390246, 0.5453252, 0.5476626, 0.54745936, 0.5476626, 0.550813, 0.5511179, 0.550813, 0.5538618]}\n",
      "25/25 [==============================] - 1s 24ms/step - loss: 0.7094 - accuracy: 0.4963\n",
      "test loss, test acc: [0.7094440245628357, 0.49634147]\n"
     ]
    }
   ],
   "source": [
    "features = generate_features(request_reply_fourier)\n",
    "model = build_fc_model(features)\n",
    "fourier_fc_qr_history, fourier_fc_qr_results = train_model(model, request_reply_fourier)"
   ]
  },
  {
   "cell_type": "code",
   "execution_count": 11,
   "metadata": {},
   "outputs": [
    {
     "data": {
      "image/png": "[encoded data removed]",
      "text/plain": [
       "<Figure size 432x288 with 1 Axes>"
      ]
     },
     "metadata": {
      "needs_background": "light"
     },
     "output_type": "display_data"
    }
   ],
   "source": [
    "plt.plot(fourier_fc_qr_history.history['loss'])\n",
    "# plt.plot(fourier_fc_qr_history.history['val_accuracy'])\n",
    "plt.title('Fully Connected Fourier model loss')\n",
    "plt.ylabel('Loss')\n",
    "plt.xlabel('Epoch')\n",
    "plt.legend(['Train', 'Val'], loc='upper left')\n",
    "plt.show()"
   ]
  },
  {
   "cell_type": "code",
   "execution_count": null,
   "metadata": {},
   "outputs": [
    {
     "name": "stdout",
     "output_type": "stream",
     "text": [
      "Train for 99 steps\n",
      "Epoch 1/20\n",
      "99/99 [==============================] - 4s 36ms/step - loss: 0.7135 - accuracy: 0.5103\n",
      "Epoch 2/20\n",
      "99/99 [==============================] - 2s 23ms/step - loss: 0.7069 - accuracy: 0.5115\n",
      "Epoch 3/20\n",
      "99/99 [==============================] - 2s 23ms/step - loss: 0.7018 - accuracy: 0.5151\n",
      "Epoch 4/20\n",
      "99/99 [==============================] - 2s 23ms/step - loss: 0.6988 - accuracy: 0.5241\n",
      "Epoch 5/20\n",
      "99/99 [==============================] - 2s 23ms/step - loss: 0.6961 - accuracy: 0.5264\n",
      "Epoch 6/20\n",
      "99/99 [==============================] - 2s 23ms/step - loss: 0.6938 - accuracy: 0.5331\n",
      "Epoch 7/20\n",
      "99/99 [==============================] - 2s 23ms/step - loss: 0.6924 - accuracy: 0.5366\n",
      "Epoch 8/20\n",
      "99/99 [==============================] - 2s 23ms/step - loss: 0.6919 - accuracy: 0.5345\n",
      "Epoch 9/20\n",
      "99/99 [==============================] - 2s 23ms/step - loss: 0.6887 - accuracy: 0.5446\n",
      "Epoch 10/20\n",
      "99/99 [==============================] - 2s 23ms/step - loss: 0.6888 - accuracy: 0.5459\n",
      "Epoch 11/20\n",
      "99/99 [==============================] - 2s 23ms/step - loss: 0.6876 - accuracy: 0.5480\n",
      "Epoch 12/20\n",
      "99/99 [==============================] - 2s 23ms/step - loss: 0.6884 - accuracy: 0.5456\n",
      "Epoch 13/20\n",
      "99/99 [==============================] - 2s 23ms/step - loss: 0.6873 - accuracy: 0.5492\n",
      "Epoch 14/20\n",
      "99/99 [==============================] - 2s 23ms/step - loss: 0.6864 - accuracy: 0.5503\n",
      "Epoch 15/20\n",
      "99/99 [==============================] - 2s 23ms/step - loss: 0.6861 - accuracy: 0.5492\n",
      "Epoch 16/20\n",
      "49/99 [=============>................] - ETA: 1s - loss: 0.6821 - accuracy: 0.5643"
     ]
    }
   ],
   "source": [
    "features = generate_features(request_reply_fourier)\n",
    "model = build_conv_model(features)\n",
    "fourier_conv_qr_history, fourier_conv_qr_results = train_model(model, request_reply_fourier)"
   ]
  },
  {
   "cell_type": "code",
   "execution_count": null,
   "metadata": {},
   "outputs": [],
   "source": [
    "plt.plot(fourier_conv_qr_history.history['loss'])\n",
    "# plt.plot(fourier_conv_qr_history.history['val_accuracy'])\n",
    "plt.title('Convolutional Fourier model loss')\n",
    "plt.ylabel('Loss')\n",
    "plt.xlabel('Epoch')\n",
    "plt.legend(['Train', 'Val'], loc='upper left')\n",
    "plt.show()"
   ]
  },
  {
   "cell_type": "code",
   "execution_count": 32,
   "metadata": {},
   "outputs": [
    {
     "name": "stdout",
     "output_type": "stream",
     "text": [
      "Train for 99 steps\n",
      "Epoch 1/20\n",
      "99/99 [==============================] - 2s 18ms/step - loss: 0.8760 - accuracy: 0.5436\n",
      "Epoch 2/20\n",
      "99/99 [==============================] - 1s 8ms/step - loss: 0.6850 - accuracy: 0.5959\n",
      "Epoch 3/20\n",
      "99/99 [==============================] - 1s 8ms/step - loss: 0.6403 - accuracy: 0.6351\n",
      "Epoch 4/20\n",
      "99/99 [==============================] - 1s 8ms/step - loss: 0.6105 - accuracy: 0.6631\n",
      "Epoch 5/20\n",
      "99/99 [==============================] - 1s 8ms/step - loss: 0.5820 - accuracy: 0.6938\n",
      "Epoch 6/20\n",
      "99/99 [==============================] - 1s 8ms/step - loss: 0.5559 - accuracy: 0.7199\n",
      "Epoch 7/20\n",
      "99/99 [==============================] - 1s 8ms/step - loss: 0.5365 - accuracy: 0.7363\n",
      "Epoch 8/20\n",
      "99/99 [==============================] - 1s 8ms/step - loss: 0.5211 - accuracy: 0.7438\n",
      "Epoch 9/20\n",
      "99/99 [==============================] - 1s 9ms/step - loss: 0.5005 - accuracy: 0.7630\n",
      "Epoch 10/20\n",
      "99/99 [==============================] - 1s 8ms/step - loss: 0.4751 - accuracy: 0.7794\n",
      "Epoch 11/20\n",
      "99/99 [==============================] - 1s 8ms/step - loss: 0.4582 - accuracy: 0.7948\n",
      "Epoch 12/20\n",
      "99/99 [==============================] - 1s 8ms/step - loss: 0.4325 - accuracy: 0.8171\n",
      "Epoch 13/20\n",
      "99/99 [==============================] - 1s 9ms/step - loss: 0.4204 - accuracy: 0.8202\n",
      "Epoch 14/20\n",
      "99/99 [==============================] - 1s 8ms/step - loss: 0.3988 - accuracy: 0.8348\n",
      "Epoch 15/20\n",
      "99/99 [==============================] - 1s 8ms/step - loss: 0.3860 - accuracy: 0.8370\n",
      "Epoch 16/20\n",
      "99/99 [==============================] - 1s 9ms/step - loss: 0.3784 - accuracy: 0.8424\n",
      "Epoch 17/20\n",
      "99/99 [==============================] - 1s 8ms/step - loss: 0.3574 - accuracy: 0.8544\n",
      "Epoch 18/20\n",
      "99/99 [==============================] - 1s 8ms/step - loss: 0.3437 - accuracy: 0.8634\n",
      "Epoch 19/20\n",
      "99/99 [==============================] - 1s 8ms/step - loss: 0.3281 - accuracy: 0.8728\n",
      "Epoch 20/20\n",
      "99/99 [==============================] - 1s 8ms/step - loss: 0.3261 - accuracy: 0.8694\n",
      "History: {'loss': [0.8754558463891348, 0.6853127444420404, 0.6404763547385611, 0.6102269056851302, 0.5821656393326395, 0.5562629273873034, 0.536510258973614, 0.5212860327304863, 0.5005637159555908, 0.47513865703732017, 0.45808205614245034, 0.43243335036000585, 0.4209111328653204, 0.3984732922257447, 0.3860779668136341, 0.3785785215535784, 0.3572295432289441, 0.34339546321368797, 0.32827587995102736, 0.3267710524179587], 'accuracy': [0.5435976, 0.595935, 0.63506097, 0.6631098, 0.6938008, 0.7199187, 0.7362805, 0.7438008, 0.7630081, 0.7793699, 0.7948171, 0.81707317, 0.82022357, 0.8347561, 0.83699185, 0.842378, 0.85436994, 0.86341465, 0.8727642, 0.8694106]}\n",
      "25/25 [==============================] - 1s 23ms/step - loss: 0.7652 - accuracy: 0.6431\n",
      "test loss, test acc: [0.7651719236373902, 0.6430894]\n"
     ]
    }
   ],
   "source": [
    "features = generate_features(request_reply_wavelet)\n",
    "model = build_fc_model(features)\n",
    "wavelet_fc_qr_history, wavelet_fc_qr_results = train_model(model, request_reply_wavelet)"
   ]
  },
  {
   "cell_type": "code",
   "execution_count": 33,
   "metadata": {},
   "outputs": [
    {
     "data": {
      "image/png": "[encoded data removed]",
      "text/plain": [
       "<Figure size 432x288 with 1 Axes>"
      ]
     },
     "metadata": {
      "needs_background": "light"
     },
     "output_type": "display_data"
    }
   ],
   "source": [
    "plt.plot(wavelet_fc_qr_history.history['loss'])\n",
    "plt.title('Fully Connected Wavelet model loss')\n",
    "plt.ylabel('Loss')\n",
    "plt.xlabel('Epoch')\n",
    "plt.legend(['Train', 'Val'], loc='upper left')\n",
    "plt.show()"
   ]
  },
  {
   "cell_type": "code",
   "execution_count": 34,
   "metadata": {},
   "outputs": [],
   "source": [
    "# features = generate_features(reply_reply_wavelet)\n",
    "# model = build_fc_model(features)\n",
    "# wavelet_fc_rr_history, wavelet_fc_rr_results = train_model(model, reply_reply_wavelet)"
   ]
  },
  {
   "cell_type": "code",
   "execution_count": 35,
   "metadata": {},
   "outputs": [],
   "source": [
    "# plt.plot(wavelet_fc_rr_history.history['accuracy'])\n",
    "# plt.plot(wavelet_fc_rr_history.history['val_accuracy'])\n",
    "# plt.title('Fully Connected Wavelet model accuracy')\n",
    "# plt.ylabel('Accuracy')\n",
    "# plt.xlabel('Epoch')\n",
    "# plt.legend(['Train', 'Val'], loc='upper left')\n",
    "# plt.show()"
   ]
  },
  {
   "cell_type": "code",
   "execution_count": 36,
   "metadata": {},
   "outputs": [
    {
     "name": "stdout",
     "output_type": "stream",
     "text": [
      "Train for 99 steps\n",
      "Epoch 1/20\n",
      "99/99 [==============================] - 3s 34ms/step - loss: 0.6716 - accuracy: 0.6041\n",
      "Epoch 2/20\n",
      "99/99 [==============================] - 2s 24ms/step - loss: 0.5937 - accuracy: 0.6915\n",
      "Epoch 3/20\n",
      "99/99 [==============================] - 2s 24ms/step - loss: 0.5507 - accuracy: 0.7279\n",
      "Epoch 4/20\n",
      "99/99 [==============================] - 2s 24ms/step - loss: 0.5223 - accuracy: 0.7508\n",
      "Epoch 5/20\n",
      "99/99 [==============================] - 2s 23ms/step - loss: 0.5020 - accuracy: 0.7634\n",
      "Epoch 6/20\n",
      "99/99 [==============================] - 2s 23ms/step - loss: 0.4797 - accuracy: 0.7755\n",
      "Epoch 7/20\n",
      "99/99 [==============================] - 2s 23ms/step - loss: 0.4625 - accuracy: 0.7863\n",
      "Epoch 8/20\n",
      "99/99 [==============================] - 2s 23ms/step - loss: 0.4482 - accuracy: 0.7931\n",
      "Epoch 9/20\n",
      "99/99 [==============================] - 2s 23ms/step - loss: 0.4332 - accuracy: 0.8020\n",
      "Epoch 10/20\n",
      "99/99 [==============================] - 2s 23ms/step - loss: 0.4189 - accuracy: 0.8159\n",
      "Epoch 11/20\n",
      "99/99 [==============================] - 2s 23ms/step - loss: 0.4058 - accuracy: 0.8201\n",
      "Epoch 12/20\n",
      "99/99 [==============================] - 2s 24ms/step - loss: 0.3925 - accuracy: 0.8265\n",
      "Epoch 13/20\n",
      "99/99 [==============================] - 2s 23ms/step - loss: 0.3784 - accuracy: 0.8392\n",
      "Epoch 14/20\n",
      "99/99 [==============================] - 2s 23ms/step - loss: 0.3678 - accuracy: 0.8409\n",
      "Epoch 15/20\n",
      "99/99 [==============================] - 2s 24ms/step - loss: 0.3524 - accuracy: 0.8543\n",
      "Epoch 16/20\n",
      "99/99 [==============================] - 2s 23ms/step - loss: 0.3426 - accuracy: 0.8599\n",
      "Epoch 17/20\n",
      "99/99 [==============================] - 2s 24ms/step - loss: 0.3356 - accuracy: 0.8636\n",
      "Epoch 18/20\n",
      "99/99 [==============================] - 2s 24ms/step - loss: 0.3211 - accuracy: 0.8706\n",
      "Epoch 19/20\n",
      "99/99 [==============================] - 2s 24ms/step - loss: 0.3091 - accuracy: 0.8752\n",
      "Epoch 20/20\n",
      "99/99 [==============================] - 2s 24ms/step - loss: 0.3068 - accuracy: 0.8754\n",
      "History: {'loss': [0.6719962813989903, 0.5937203419644658, 0.5507850502201213, 0.5228352366181893, 0.5011975539893638, 0.4798607914064958, 0.46289275738039637, 0.4485463538184399, 0.4331665088733037, 0.41814411770764404, 0.4063614764954986, 0.3922132704921854, 0.37868351949666573, 0.36795641185064626, 0.3528797378748413, 0.3425986926124348, 0.3359029533235523, 0.32123869884668327, 0.3090593852708495, 0.30716032540895105], 'accuracy': [0.60406506, 0.6914634, 0.7279472, 0.750813, 0.7634146, 0.7755081, 0.7862805, 0.79308945, 0.80203253, 0.81585366, 0.82012194, 0.8265244, 0.8392276, 0.84085363, 0.8542683, 0.85985774, 0.8636179, 0.8706301, 0.87520325, 0.8754065]}\n",
      "25/25 [==============================] - 1s 29ms/step - loss: 0.6523 - accuracy: 0.7053\n",
      "test loss, test acc: [0.6522662663459777, 0.70528454]\n"
     ]
    }
   ],
   "source": [
    "features = generate_features(request_reply_wavelet)\n",
    "model = build_conv_model(features)\n",
    "wavelet_conv_qr_history, wavelet_conv_qr_results = train_model(model, request_reply_wavelet)"
   ]
  },
  {
   "cell_type": "code",
   "execution_count": 37,
   "metadata": {},
   "outputs": [
    {
     "data": {
      "image/png": "[encoded data removed]",
      "text/plain": [
       "<Figure size 432x288 with 1 Axes>"
      ]
     },
     "metadata": {
      "needs_background": "light"
     },
     "output_type": "display_data"
    }
   ],
   "source": [
    "plt.plot(wavelet_conv_qr_history.history['loss'])\n",
    "plt.title('Convolutional Wavelet model loss')\n",
    "plt.ylabel('Loss')\n",
    "plt.xlabel('Epoch')\n",
    "plt.legend(['Train', 'Val'], loc='upper left')\n",
    "plt.show()"
   ]
  },
  {
   "cell_type": "code",
   "execution_count": 38,
   "metadata": {},
   "outputs": [
    {
     "ename": "TypeError",
     "evalue": "in user code:\n\n    /home/erick/dev/jhu_masters/code/custom_layers.py:23 build  *\n        self.kernel = self.add_weight(name='kernel',\n    /home/erick/anaconda3/lib/python3.7/site-packages/tensorflow_core/python/keras/engine/base_layer.py:469 add_weight  **\n        caching_device=caching_device)\n    /home/erick/anaconda3/lib/python3.7/site-packages/tensorflow_core/python/training/tracking/base.py:743 _add_variable_with_custom_getter\n        **kwargs_for_getter)\n    /home/erick/anaconda3/lib/python3.7/site-packages/tensorflow_core/python/keras/engine/base_layer_utils.py:129 make_variable\n        variable_shape = tensor_shape.TensorShape(shape)\n    /home/erick/anaconda3/lib/python3.7/site-packages/tensorflow_core/python/framework/tensor_shape.py:771 __init__\n        self._dims = [as_dimension(d) for d in dims_iter]\n    /home/erick/anaconda3/lib/python3.7/site-packages/tensorflow_core/python/framework/tensor_shape.py:771 <listcomp>\n        self._dims = [as_dimension(d) for d in dims_iter]\n    /home/erick/anaconda3/lib/python3.7/site-packages/tensorflow_core/python/framework/tensor_shape.py:716 as_dimension\n        return Dimension(value)\n    /home/erick/anaconda3/lib/python3.7/site-packages/tensorflow_core/python/framework/tensor_shape.py:200 __init__\n        None)\n    <string>:3 raise_from\n        \n\n    TypeError: Dimension value must be integer or None or have an __index__ method, got <tf.Tensor 'sequential_6/fourier_conv_layer/strided_slice:0' shape=(100, 1) dtype=float32>\n",
     "output_type": "error",
     "traceback": [
      "\u001b[0;31m---------------------------------------------------------------------------\u001b[0m",
      "\u001b[0;31mTypeError\u001b[0m                                 Traceback (most recent call last)",
      "\u001b[0;32m<ipython-input-38-90fcd2baec8c>\u001b[0m in \u001b[0;36m<module>\u001b[0;34m\u001b[0m\n\u001b[1;32m      1\u001b[0m \u001b[0mfeatures\u001b[0m \u001b[0;34m=\u001b[0m \u001b[0mgenerate_features\u001b[0m\u001b[0;34m(\u001b[0m\u001b[0mrequest_reply_df\u001b[0m\u001b[0;34m)\u001b[0m\u001b[0;34m\u001b[0m\u001b[0;34m\u001b[0m\u001b[0m\n\u001b[1;32m      2\u001b[0m \u001b[0mmodel\u001b[0m \u001b[0;34m=\u001b[0m \u001b[0mfourier_model\u001b[0m\u001b[0;34m(\u001b[0m\u001b[0mfeatures\u001b[0m\u001b[0;34m)\u001b[0m\u001b[0;34m\u001b[0m\u001b[0;34m\u001b[0m\u001b[0m\n\u001b[0;32m----> 3\u001b[0;31m \u001b[0mfourier_nn_qr_history\u001b[0m\u001b[0;34m,\u001b[0m \u001b[0mfourier_nn_qr_results\u001b[0m \u001b[0;34m=\u001b[0m \u001b[0mtrain_model\u001b[0m\u001b[0;34m(\u001b[0m\u001b[0mmodel\u001b[0m\u001b[0;34m,\u001b[0m \u001b[0mrequest_reply_df\u001b[0m\u001b[0;34m)\u001b[0m\u001b[0;34m\u001b[0m\u001b[0;34m\u001b[0m\u001b[0m\n\u001b[0m",
      "\u001b[0;32m~/dev/jhu_masters/code/prototype_model.py\u001b[0m in \u001b[0;36mtrain_model\u001b[0;34m(model, data, train_epoch)\u001b[0m\n\u001b[1;32m    134\u001b[0m \u001b[0;32mdef\u001b[0m \u001b[0mtrain_model\u001b[0m\u001b[0;34m(\u001b[0m\u001b[0mmodel\u001b[0m\u001b[0;34m,\u001b[0m \u001b[0mdata\u001b[0m\u001b[0;34m,\u001b[0m \u001b[0mtrain_epoch\u001b[0m\u001b[0;34m=\u001b[0m\u001b[0mEPOCHS\u001b[0m\u001b[0;34m)\u001b[0m\u001b[0;34m:\u001b[0m\u001b[0;34m\u001b[0m\u001b[0;34m\u001b[0m\u001b[0m\n\u001b[1;32m    135\u001b[0m     \u001b[0mtrain\u001b[0m\u001b[0;34m,\u001b[0m \u001b[0mtest\u001b[0m \u001b[0;34m=\u001b[0m \u001b[0mfix_data\u001b[0m\u001b[0;34m(\u001b[0m\u001b[0mdata\u001b[0m\u001b[0;34m,\u001b[0m \u001b[0mshuffle\u001b[0m\u001b[0;34m=\u001b[0m\u001b[0;32mTrue\u001b[0m\u001b[0;34m,\u001b[0m \u001b[0mbatch_size\u001b[0m\u001b[0;34m=\u001b[0m\u001b[0mBATCH_SIZE\u001b[0m\u001b[0;34m)\u001b[0m\u001b[0;34m\u001b[0m\u001b[0;34m\u001b[0m\u001b[0m\n\u001b[0;32m--> 136\u001b[0;31m     \u001b[0mhistory\u001b[0m \u001b[0;34m=\u001b[0m \u001b[0mmodel\u001b[0m\u001b[0;34m.\u001b[0m\u001b[0mfit\u001b[0m\u001b[0;34m(\u001b[0m\u001b[0mtrain\u001b[0m\u001b[0;34m,\u001b[0m \u001b[0mepochs\u001b[0m\u001b[0;34m=\u001b[0m\u001b[0mtrain_epoch\u001b[0m\u001b[0;34m)\u001b[0m\u001b[0;34m\u001b[0m\u001b[0;34m\u001b[0m\u001b[0m\n\u001b[0m\u001b[1;32m    137\u001b[0m \u001b[0;34m\u001b[0m\u001b[0m\n\u001b[1;32m    138\u001b[0m     \u001b[0mprint\u001b[0m\u001b[0;34m(\u001b[0m\u001b[0;34m\"History: {}\"\u001b[0m\u001b[0;34m.\u001b[0m\u001b[0mformat\u001b[0m\u001b[0;34m(\u001b[0m\u001b[0mhistory\u001b[0m\u001b[0;34m.\u001b[0m\u001b[0mhistory\u001b[0m\u001b[0;34m)\u001b[0m\u001b[0;34m)\u001b[0m\u001b[0;34m\u001b[0m\u001b[0;34m\u001b[0m\u001b[0m\n",
      "\u001b[0;32m~/anaconda3/lib/python3.7/site-packages/tensorflow_core/python/keras/engine/training.py\u001b[0m in \u001b[0;36mfit\u001b[0;34m(self, x, y, batch_size, epochs, verbose, callbacks, validation_split, validation_data, shuffle, class_weight, sample_weight, initial_epoch, steps_per_epoch, validation_steps, validation_freq, max_queue_size, workers, use_multiprocessing, **kwargs)\u001b[0m\n\u001b[1;32m    716\u001b[0m         \u001b[0mmax_queue_size\u001b[0m\u001b[0;34m=\u001b[0m\u001b[0mmax_queue_size\u001b[0m\u001b[0;34m,\u001b[0m\u001b[0;34m\u001b[0m\u001b[0;34m\u001b[0m\u001b[0m\n\u001b[1;32m    717\u001b[0m         \u001b[0mworkers\u001b[0m\u001b[0;34m=\u001b[0m\u001b[0mworkers\u001b[0m\u001b[0;34m,\u001b[0m\u001b[0;34m\u001b[0m\u001b[0;34m\u001b[0m\u001b[0m\n\u001b[0;32m--> 718\u001b[0;31m         use_multiprocessing=use_multiprocessing)\n\u001b[0m\u001b[1;32m    719\u001b[0m \u001b[0;34m\u001b[0m\u001b[0m\n\u001b[1;32m    720\u001b[0m   def evaluate(self,\n",
      "\u001b[0;32m~/anaconda3/lib/python3.7/site-packages/tensorflow_core/python/keras/engine/training_v2.py\u001b[0m in \u001b[0;36mfit\u001b[0;34m(self, model, x, y, batch_size, epochs, verbose, callbacks, validation_split, validation_data, shuffle, class_weight, sample_weight, initial_epoch, steps_per_epoch, validation_steps, validation_freq, max_queue_size, workers, use_multiprocessing, **kwargs)\u001b[0m\n\u001b[1;32m    233\u001b[0m           \u001b[0mmax_queue_size\u001b[0m\u001b[0;34m=\u001b[0m\u001b[0mmax_queue_size\u001b[0m\u001b[0;34m,\u001b[0m\u001b[0;34m\u001b[0m\u001b[0;34m\u001b[0m\u001b[0m\n\u001b[1;32m    234\u001b[0m           \u001b[0mworkers\u001b[0m\u001b[0;34m=\u001b[0m\u001b[0mworkers\u001b[0m\u001b[0;34m,\u001b[0m\u001b[0;34m\u001b[0m\u001b[0;34m\u001b[0m\u001b[0m\n\u001b[0;32m--> 235\u001b[0;31m           use_multiprocessing=use_multiprocessing)\n\u001b[0m\u001b[1;32m    236\u001b[0m \u001b[0;34m\u001b[0m\u001b[0m\n\u001b[1;32m    237\u001b[0m       \u001b[0mtotal_samples\u001b[0m \u001b[0;34m=\u001b[0m \u001b[0m_get_total_number_of_samples\u001b[0m\u001b[0;34m(\u001b[0m\u001b[0mtraining_data_adapter\u001b[0m\u001b[0;34m)\u001b[0m\u001b[0;34m\u001b[0m\u001b[0;34m\u001b[0m\u001b[0m\n",
      "\u001b[0;32m~/anaconda3/lib/python3.7/site-packages/tensorflow_core/python/keras/engine/training_v2.py\u001b[0m in \u001b[0;36m_process_training_inputs\u001b[0;34m(model, x, y, batch_size, epochs, sample_weights, class_weights, steps_per_epoch, validation_split, validation_data, validation_steps, shuffle, distribution_strategy, max_queue_size, workers, use_multiprocessing)\u001b[0m\n\u001b[1;32m    580\u001b[0m         \u001b[0mmax_queue_size\u001b[0m\u001b[0;34m=\u001b[0m\u001b[0mmax_queue_size\u001b[0m\u001b[0;34m,\u001b[0m\u001b[0;34m\u001b[0m\u001b[0;34m\u001b[0m\u001b[0m\n\u001b[1;32m    581\u001b[0m         \u001b[0mworkers\u001b[0m\u001b[0;34m=\u001b[0m\u001b[0mworkers\u001b[0m\u001b[0;34m,\u001b[0m\u001b[0;34m\u001b[0m\u001b[0;34m\u001b[0m\u001b[0m\n\u001b[0;32m--> 582\u001b[0;31m         use_multiprocessing=use_multiprocessing)\n\u001b[0m\u001b[1;32m    583\u001b[0m     \u001b[0mval_adapter\u001b[0m \u001b[0;34m=\u001b[0m \u001b[0;32mNone\u001b[0m\u001b[0;34m\u001b[0m\u001b[0;34m\u001b[0m\u001b[0m\n\u001b[1;32m    584\u001b[0m     \u001b[0;32mif\u001b[0m \u001b[0mvalidation_data\u001b[0m\u001b[0;34m:\u001b[0m\u001b[0;34m\u001b[0m\u001b[0;34m\u001b[0m\u001b[0m\n",
      "\u001b[0;32m~/anaconda3/lib/python3.7/site-packages/tensorflow_core/python/keras/engine/training_v2.py\u001b[0m in \u001b[0;36m_process_inputs\u001b[0;34m(model, mode, x, y, batch_size, epochs, sample_weights, class_weights, shuffle, steps, distribution_strategy, max_queue_size, workers, use_multiprocessing)\u001b[0m\n\u001b[1;32m    693\u001b[0m       \u001b[0mmax_queue_size\u001b[0m\u001b[0;34m=\u001b[0m\u001b[0mmax_queue_size\u001b[0m\u001b[0;34m,\u001b[0m\u001b[0;34m\u001b[0m\u001b[0;34m\u001b[0m\u001b[0m\n\u001b[1;32m    694\u001b[0m       \u001b[0mworkers\u001b[0m\u001b[0;34m=\u001b[0m\u001b[0mworkers\u001b[0m\u001b[0;34m,\u001b[0m\u001b[0;34m\u001b[0m\u001b[0;34m\u001b[0m\u001b[0m\n\u001b[0;32m--> 695\u001b[0;31m       use_multiprocessing=use_multiprocessing)\n\u001b[0m\u001b[1;32m    696\u001b[0m \u001b[0;34m\u001b[0m\u001b[0m\n\u001b[1;32m    697\u001b[0m   \u001b[0;32mreturn\u001b[0m \u001b[0madapter\u001b[0m\u001b[0;34m\u001b[0m\u001b[0;34m\u001b[0m\u001b[0m\n",
      "\u001b[0;32m~/anaconda3/lib/python3.7/site-packages/tensorflow_core/python/keras/engine/data_adapter.py\u001b[0m in \u001b[0;36m__init__\u001b[0;34m(self, x, y, sample_weights, steps, standardize_function, **kwargs)\u001b[0m\n\u001b[1;32m    715\u001b[0m \u001b[0;34m\u001b[0m\u001b[0m\n\u001b[1;32m    716\u001b[0m     \u001b[0;32mif\u001b[0m \u001b[0mstandardize_function\u001b[0m \u001b[0;32mis\u001b[0m \u001b[0;32mnot\u001b[0m \u001b[0;32mNone\u001b[0m\u001b[0;34m:\u001b[0m\u001b[0;34m\u001b[0m\u001b[0;34m\u001b[0m\u001b[0m\n\u001b[0;32m--> 717\u001b[0;31m       \u001b[0mx\u001b[0m \u001b[0;34m=\u001b[0m \u001b[0mstandardize_function\u001b[0m\u001b[0;34m(\u001b[0m\u001b[0mx\u001b[0m\u001b[0;34m)\u001b[0m\u001b[0;34m\u001b[0m\u001b[0;34m\u001b[0m\u001b[0m\n\u001b[0m\u001b[1;32m    718\u001b[0m \u001b[0;34m\u001b[0m\u001b[0m\n\u001b[1;32m    719\u001b[0m     \u001b[0;31m# Note that the dataset instance is immutable, its fine to reusing the user\u001b[0m\u001b[0;34m\u001b[0m\u001b[0;34m\u001b[0m\u001b[0;34m\u001b[0m\u001b[0m\n",
      "\u001b[0;32m~/anaconda3/lib/python3.7/site-packages/tensorflow_core/python/keras/engine/training_v2.py\u001b[0m in \u001b[0;36mstandardize_function\u001b[0;34m(dataset)\u001b[0m\n\u001b[1;32m    647\u001b[0m         \u001b[0mmodel\u001b[0m\u001b[0;34m.\u001b[0m\u001b[0msample_weight_mode\u001b[0m \u001b[0;34m=\u001b[0m \u001b[0mgetattr\u001b[0m\u001b[0;34m(\u001b[0m\u001b[0mmodel\u001b[0m\u001b[0;34m,\u001b[0m \u001b[0;34m'sample_weight_mode'\u001b[0m\u001b[0;34m,\u001b[0m \u001b[0;32mNone\u001b[0m\u001b[0;34m)\u001b[0m\u001b[0;34m\u001b[0m\u001b[0;34m\u001b[0m\u001b[0m\n\u001b[1;32m    648\u001b[0m \u001b[0;34m\u001b[0m\u001b[0m\n\u001b[0;32m--> 649\u001b[0;31m       \u001b[0mstandardize\u001b[0m\u001b[0;34m(\u001b[0m\u001b[0mdataset\u001b[0m\u001b[0;34m,\u001b[0m \u001b[0mextract_tensors_from_dataset\u001b[0m\u001b[0;34m=\u001b[0m\u001b[0;32mFalse\u001b[0m\u001b[0;34m)\u001b[0m\u001b[0;34m\u001b[0m\u001b[0;34m\u001b[0m\u001b[0m\n\u001b[0m\u001b[1;32m    650\u001b[0m \u001b[0;34m\u001b[0m\u001b[0m\n\u001b[1;32m    651\u001b[0m       \u001b[0;31m# Then we map using only the tensor standardization portion.\u001b[0m\u001b[0;34m\u001b[0m\u001b[0;34m\u001b[0m\u001b[0;34m\u001b[0m\u001b[0m\n",
      "\u001b[0;32m~/anaconda3/lib/python3.7/site-packages/tensorflow_core/python/keras/engine/training.py\u001b[0m in \u001b[0;36m_standardize_user_data\u001b[0;34m(self, x, y, sample_weight, class_weight, batch_size, check_steps, steps_name, steps, validation_split, shuffle, extract_tensors_from_dataset)\u001b[0m\n\u001b[1;32m   2147\u001b[0m     \u001b[0;31m# First, we build the model on the fly if necessary.\u001b[0m\u001b[0;34m\u001b[0m\u001b[0;34m\u001b[0m\u001b[0;34m\u001b[0m\u001b[0m\n\u001b[1;32m   2148\u001b[0m     \u001b[0;32mif\u001b[0m \u001b[0;32mnot\u001b[0m \u001b[0mself\u001b[0m\u001b[0;34m.\u001b[0m\u001b[0minputs\u001b[0m\u001b[0;34m:\u001b[0m\u001b[0;34m\u001b[0m\u001b[0;34m\u001b[0m\u001b[0m\n\u001b[0;32m-> 2149\u001b[0;31m       \u001b[0mall_inputs\u001b[0m\u001b[0;34m,\u001b[0m \u001b[0my_input\u001b[0m\u001b[0;34m,\u001b[0m \u001b[0mdict_inputs\u001b[0m \u001b[0;34m=\u001b[0m \u001b[0mself\u001b[0m\u001b[0;34m.\u001b[0m\u001b[0m_build_model_with_inputs\u001b[0m\u001b[0;34m(\u001b[0m\u001b[0mx\u001b[0m\u001b[0;34m,\u001b[0m \u001b[0my\u001b[0m\u001b[0;34m)\u001b[0m\u001b[0;34m\u001b[0m\u001b[0;34m\u001b[0m\u001b[0m\n\u001b[0m\u001b[1;32m   2150\u001b[0m       \u001b[0mis_build_called\u001b[0m \u001b[0;34m=\u001b[0m \u001b[0;32mTrue\u001b[0m\u001b[0;34m\u001b[0m\u001b[0;34m\u001b[0m\u001b[0m\n\u001b[1;32m   2151\u001b[0m     \u001b[0;32melse\u001b[0m\u001b[0;34m:\u001b[0m\u001b[0;34m\u001b[0m\u001b[0;34m\u001b[0m\u001b[0m\n",
      "\u001b[0;32m~/anaconda3/lib/python3.7/site-packages/tensorflow_core/python/keras/engine/training.py\u001b[0m in \u001b[0;36m_build_model_with_inputs\u001b[0;34m(self, inputs, targets)\u001b[0m\n\u001b[1;32m   2366\u001b[0m     \u001b[0;32melse\u001b[0m\u001b[0;34m:\u001b[0m\u001b[0;34m\u001b[0m\u001b[0;34m\u001b[0m\u001b[0m\n\u001b[1;32m   2367\u001b[0m       \u001b[0mcast_inputs\u001b[0m \u001b[0;34m=\u001b[0m \u001b[0minputs\u001b[0m\u001b[0;34m\u001b[0m\u001b[0;34m\u001b[0m\u001b[0m\n\u001b[0;32m-> 2368\u001b[0;31m     \u001b[0mself\u001b[0m\u001b[0;34m.\u001b[0m\u001b[0m_set_inputs\u001b[0m\u001b[0;34m(\u001b[0m\u001b[0mcast_inputs\u001b[0m\u001b[0;34m)\u001b[0m\u001b[0;34m\u001b[0m\u001b[0;34m\u001b[0m\u001b[0m\n\u001b[0m\u001b[1;32m   2369\u001b[0m     \u001b[0;32mreturn\u001b[0m \u001b[0mprocessed_inputs\u001b[0m\u001b[0;34m,\u001b[0m \u001b[0mtargets\u001b[0m\u001b[0;34m,\u001b[0m \u001b[0mis_dict_inputs\u001b[0m\u001b[0;34m\u001b[0m\u001b[0;34m\u001b[0m\u001b[0m\n\u001b[1;32m   2370\u001b[0m \u001b[0;34m\u001b[0m\u001b[0m\n",
      "\u001b[0;32m~/anaconda3/lib/python3.7/site-packages/tensorflow_core/python/keras/engine/training.py\u001b[0m in \u001b[0;36m_set_inputs\u001b[0;34m(self, inputs, outputs, training)\u001b[0m\n\u001b[1;32m   2452\u001b[0m           \u001b[0mkwargs\u001b[0m\u001b[0;34m[\u001b[0m\u001b[0;34m'training'\u001b[0m\u001b[0;34m]\u001b[0m \u001b[0;34m=\u001b[0m \u001b[0mtraining\u001b[0m\u001b[0;34m\u001b[0m\u001b[0;34m\u001b[0m\u001b[0m\n\u001b[1;32m   2453\u001b[0m       \u001b[0;32mtry\u001b[0m\u001b[0;34m:\u001b[0m\u001b[0;34m\u001b[0m\u001b[0;34m\u001b[0m\u001b[0m\n\u001b[0;32m-> 2454\u001b[0;31m         \u001b[0moutputs\u001b[0m \u001b[0;34m=\u001b[0m \u001b[0mself\u001b[0m\u001b[0;34m(\u001b[0m\u001b[0minputs\u001b[0m\u001b[0;34m,\u001b[0m \u001b[0;34m**\u001b[0m\u001b[0mkwargs\u001b[0m\u001b[0;34m)\u001b[0m\u001b[0;34m\u001b[0m\u001b[0;34m\u001b[0m\u001b[0m\n\u001b[0m\u001b[1;32m   2455\u001b[0m       \u001b[0;32mexcept\u001b[0m \u001b[0mNotImplementedError\u001b[0m\u001b[0;34m:\u001b[0m\u001b[0;34m\u001b[0m\u001b[0;34m\u001b[0m\u001b[0m\n\u001b[1;32m   2456\u001b[0m         \u001b[0;31m# This Model or a submodel is dynamic and hasn't overridden\u001b[0m\u001b[0;34m\u001b[0m\u001b[0;34m\u001b[0m\u001b[0;34m\u001b[0m\u001b[0m\n",
      "\u001b[0;32m~/anaconda3/lib/python3.7/site-packages/tensorflow_core/python/keras/engine/base_layer.py\u001b[0m in \u001b[0;36m__call__\u001b[0;34m(self, *args, **kwargs)\u001b[0m\n\u001b[1;32m    813\u001b[0m                     not base_layer_utils.is_in_eager_or_tf_function()):\n\u001b[1;32m    814\u001b[0m                   \u001b[0;32mwith\u001b[0m \u001b[0mauto_control_deps\u001b[0m\u001b[0;34m.\u001b[0m\u001b[0mAutomaticControlDependencies\u001b[0m\u001b[0;34m(\u001b[0m\u001b[0;34m)\u001b[0m \u001b[0;32mas\u001b[0m \u001b[0macd\u001b[0m\u001b[0;34m:\u001b[0m\u001b[0;34m\u001b[0m\u001b[0;34m\u001b[0m\u001b[0m\n\u001b[0;32m--> 815\u001b[0;31m                     \u001b[0moutputs\u001b[0m \u001b[0;34m=\u001b[0m \u001b[0mcall_fn\u001b[0m\u001b[0;34m(\u001b[0m\u001b[0mcast_inputs\u001b[0m\u001b[0;34m,\u001b[0m \u001b[0;34m*\u001b[0m\u001b[0margs\u001b[0m\u001b[0;34m,\u001b[0m \u001b[0;34m**\u001b[0m\u001b[0mkwargs\u001b[0m\u001b[0;34m)\u001b[0m\u001b[0;34m\u001b[0m\u001b[0;34m\u001b[0m\u001b[0m\n\u001b[0m\u001b[1;32m    816\u001b[0m                     \u001b[0;31m# Wrap Tensors in `outputs` in `tf.identity` to avoid\u001b[0m\u001b[0;34m\u001b[0m\u001b[0;34m\u001b[0m\u001b[0;34m\u001b[0m\u001b[0m\n\u001b[1;32m    817\u001b[0m                     \u001b[0;31m# circular dependencies.\u001b[0m\u001b[0;34m\u001b[0m\u001b[0;34m\u001b[0m\u001b[0;34m\u001b[0m\u001b[0m\n",
      "\u001b[0;32m~/anaconda3/lib/python3.7/site-packages/tensorflow_core/python/keras/engine/sequential.py\u001b[0m in \u001b[0;36mcall\u001b[0;34m(self, inputs, training, mask)\u001b[0m\n\u001b[1;32m    285\u001b[0m         \u001b[0mkwargs\u001b[0m\u001b[0;34m[\u001b[0m\u001b[0;34m'training'\u001b[0m\u001b[0;34m]\u001b[0m \u001b[0;34m=\u001b[0m \u001b[0mtraining\u001b[0m\u001b[0;34m\u001b[0m\u001b[0;34m\u001b[0m\u001b[0m\n\u001b[1;32m    286\u001b[0m \u001b[0;34m\u001b[0m\u001b[0m\n\u001b[0;32m--> 287\u001b[0;31m       \u001b[0moutputs\u001b[0m \u001b[0;34m=\u001b[0m \u001b[0mlayer\u001b[0m\u001b[0;34m(\u001b[0m\u001b[0minputs\u001b[0m\u001b[0;34m,\u001b[0m \u001b[0;34m**\u001b[0m\u001b[0mkwargs\u001b[0m\u001b[0;34m)\u001b[0m\u001b[0;34m\u001b[0m\u001b[0;34m\u001b[0m\u001b[0m\n\u001b[0m\u001b[1;32m    288\u001b[0m \u001b[0;34m\u001b[0m\u001b[0m\n\u001b[1;32m    289\u001b[0m       \u001b[0;31m# `outputs` will be the inputs to the next layer.\u001b[0m\u001b[0;34m\u001b[0m\u001b[0;34m\u001b[0m\u001b[0;34m\u001b[0m\u001b[0m\n",
      "\u001b[0;32m~/anaconda3/lib/python3.7/site-packages/tensorflow_core/python/keras/engine/base_layer.py\u001b[0m in \u001b[0;36m__call__\u001b[0;34m(self, *args, **kwargs)\u001b[0m\n\u001b[1;32m    813\u001b[0m                     not base_layer_utils.is_in_eager_or_tf_function()):\n\u001b[1;32m    814\u001b[0m                   \u001b[0;32mwith\u001b[0m \u001b[0mauto_control_deps\u001b[0m\u001b[0;34m.\u001b[0m\u001b[0mAutomaticControlDependencies\u001b[0m\u001b[0;34m(\u001b[0m\u001b[0;34m)\u001b[0m \u001b[0;32mas\u001b[0m \u001b[0macd\u001b[0m\u001b[0;34m:\u001b[0m\u001b[0;34m\u001b[0m\u001b[0;34m\u001b[0m\u001b[0m\n\u001b[0;32m--> 815\u001b[0;31m                     \u001b[0moutputs\u001b[0m \u001b[0;34m=\u001b[0m \u001b[0mcall_fn\u001b[0m\u001b[0;34m(\u001b[0m\u001b[0mcast_inputs\u001b[0m\u001b[0;34m,\u001b[0m \u001b[0;34m*\u001b[0m\u001b[0margs\u001b[0m\u001b[0;34m,\u001b[0m \u001b[0;34m**\u001b[0m\u001b[0mkwargs\u001b[0m\u001b[0;34m)\u001b[0m\u001b[0;34m\u001b[0m\u001b[0;34m\u001b[0m\u001b[0m\n\u001b[0m\u001b[1;32m    816\u001b[0m                     \u001b[0;31m# Wrap Tensors in `outputs` in `tf.identity` to avoid\u001b[0m\u001b[0;34m\u001b[0m\u001b[0;34m\u001b[0m\u001b[0;34m\u001b[0m\u001b[0m\n\u001b[1;32m    817\u001b[0m                     \u001b[0;31m# circular dependencies.\u001b[0m\u001b[0;34m\u001b[0m\u001b[0;34m\u001b[0m\u001b[0;34m\u001b[0m\u001b[0m\n",
      "\u001b[0;32m~/anaconda3/lib/python3.7/site-packages/tensorflow_core/python/autograph/impl/api.py\u001b[0m in \u001b[0;36mwrapper\u001b[0;34m(*args, **kwargs)\u001b[0m\n\u001b[1;32m    263\u001b[0m       \u001b[0;32mexcept\u001b[0m \u001b[0mException\u001b[0m \u001b[0;32mas\u001b[0m \u001b[0me\u001b[0m\u001b[0;34m:\u001b[0m  \u001b[0;31m# pylint:disable=broad-except\u001b[0m\u001b[0;34m\u001b[0m\u001b[0;34m\u001b[0m\u001b[0m\n\u001b[1;32m    264\u001b[0m         \u001b[0;32mif\u001b[0m \u001b[0mhasattr\u001b[0m\u001b[0;34m(\u001b[0m\u001b[0me\u001b[0m\u001b[0;34m,\u001b[0m \u001b[0;34m'ag_error_metadata'\u001b[0m\u001b[0;34m)\u001b[0m\u001b[0;34m:\u001b[0m\u001b[0;34m\u001b[0m\u001b[0;34m\u001b[0m\u001b[0m\n\u001b[0;32m--> 265\u001b[0;31m           \u001b[0;32mraise\u001b[0m \u001b[0me\u001b[0m\u001b[0;34m.\u001b[0m\u001b[0mag_error_metadata\u001b[0m\u001b[0;34m.\u001b[0m\u001b[0mto_exception\u001b[0m\u001b[0;34m(\u001b[0m\u001b[0me\u001b[0m\u001b[0;34m)\u001b[0m\u001b[0;34m\u001b[0m\u001b[0;34m\u001b[0m\u001b[0m\n\u001b[0m\u001b[1;32m    266\u001b[0m         \u001b[0;32melse\u001b[0m\u001b[0;34m:\u001b[0m\u001b[0;34m\u001b[0m\u001b[0;34m\u001b[0m\u001b[0m\n\u001b[1;32m    267\u001b[0m           \u001b[0;32mraise\u001b[0m\u001b[0;34m\u001b[0m\u001b[0;34m\u001b[0m\u001b[0m\n",
      "\u001b[0;31mTypeError\u001b[0m: in user code:\n\n    /home/erick/dev/jhu_masters/code/custom_layers.py:23 build  *\n        self.kernel = self.add_weight(name='kernel',\n    /home/erick/anaconda3/lib/python3.7/site-packages/tensorflow_core/python/keras/engine/base_layer.py:469 add_weight  **\n        caching_device=caching_device)\n    /home/erick/anaconda3/lib/python3.7/site-packages/tensorflow_core/python/training/tracking/base.py:743 _add_variable_with_custom_getter\n        **kwargs_for_getter)\n    /home/erick/anaconda3/lib/python3.7/site-packages/tensorflow_core/python/keras/engine/base_layer_utils.py:129 make_variable\n        variable_shape = tensor_shape.TensorShape(shape)\n    /home/erick/anaconda3/lib/python3.7/site-packages/tensorflow_core/python/framework/tensor_shape.py:771 __init__\n        self._dims = [as_dimension(d) for d in dims_iter]\n    /home/erick/anaconda3/lib/python3.7/site-packages/tensorflow_core/python/framework/tensor_shape.py:771 <listcomp>\n        self._dims = [as_dimension(d) for d in dims_iter]\n    /home/erick/anaconda3/lib/python3.7/site-packages/tensorflow_core/python/framework/tensor_shape.py:716 as_dimension\n        return Dimension(value)\n    /home/erick/anaconda3/lib/python3.7/site-packages/tensorflow_core/python/framework/tensor_shape.py:200 __init__\n        None)\n    <string>:3 raise_from\n        \n\n    TypeError: Dimension value must be integer or None or have an __index__ method, got <tf.Tensor 'sequential_6/fourier_conv_layer/strided_slice:0' shape=(100, 1) dtype=float32>\n"
     ]
    }
   ],
   "source": [
    "features = generate_features(request_reply_df)\n",
    "model = fourier_model(features)\n",
    "fourier_nn_qr_history, fourier_nn_qr_results = train_model(model, request_reply_df)"
   ]
  },
  {
   "cell_type": "code",
   "execution_count": null,
   "metadata": {},
   "outputs": [],
   "source": [
    "plt.plot(fourier_nn_qr_history.history['loss'])\n",
    "plt.title('Fourier Neural Network loss')\n",
    "plt.ylabel('Loss')\n",
    "plt.xlabel('Epoch')\n",
    "plt.legend(['Train', 'Val'], loc='upper left')\n",
    "plt.show()"
   ]
  },
  {
   "cell_type": "code",
   "execution_count": null,
   "metadata": {},
   "outputs": [],
   "source": [
    "# features = generate_features(request_reply_df)\n",
    "# model = wavelet_model(features)\n",
    "# wavelet_nn_qr_history, wavelet_nn_qr_results = train_model(model, request_reply_df)"
   ]
  },
  {
   "cell_type": "code",
   "execution_count": null,
   "metadata": {},
   "outputs": [],
   "source": [
    "# plt.plot(wavelet_nn_qr_history.history['loss'])\n",
    "# plt.title('Wavelet Neural Network loss')\n",
    "# plt.ylabel('Loss')\n",
    "# plt.xlabel('Epoch')\n",
    "# plt.legend(['Train', 'Val'], loc='upper left')\n",
    "# plt.show()"
   ]
  },
  {
   "cell_type": "code",
   "execution_count": null,
   "metadata": {},
   "outputs": [],
   "source": [
    "# features = generate_features(reply_reply_wavelet)\n",
    "# model = build_conv_model(features)\n",
    "# wavelet_conv_rr_history, wavelet_conv_rr_results = train_model(model, reply_reply_wavelet)"
   ]
  },
  {
   "cell_type": "code",
   "execution_count": null,
   "metadata": {},
   "outputs": [],
   "source": [
    "# plt.plot(wavelet_conv_rr_history.history['accuracy'])\n",
    "# plt.plot(wavelet_conv_rr_history.history['val_accuracy'])\n",
    "# plt.title('Convolutional Wavelet model accuracy')\n",
    "# plt.ylabel('Accuracy')\n",
    "# plt.xlabel('Epoch')\n",
    "# plt.legend(['Train', 'Val'], loc='upper left')\n",
    "# plt.show()"
   ]
  },
  {
   "cell_type": "code",
   "execution_count": null,
   "metadata": {},
   "outputs": [],
   "source": [
    "from sklearn.svm import SVC"
   ]
  },
  {
   "cell_type": "code",
   "execution_count": null,
   "metadata": {},
   "outputs": [],
   "source": [
    "clf = SVC()\n",
    "clf.fit(X_train, y_train)"
   ]
  },
  {
   "cell_type": "code",
   "execution_count": null,
   "metadata": {},
   "outputs": [],
   "source": [
    "predictions = clf.predict(X_test)\n",
    "errors = [0 if p == label else 1 for p, label in zip(predictions, y_test)]\n",
    "svm_accuracy = 1 - (np.sum(errors)/len(errors))\n",
    "print(\"Accuracy of support vector classifier:\" + str(svm_accuracy))"
   ]
  },
  {
   "cell_type": "code",
   "execution_count": 57,
   "metadata": {},
   "outputs": [
    {
     "name": "stdout",
     "output_type": "stream",
     "text": [
      "WARNING:tensorflow:Layer sequential_2 is casting an input tensor from dtype float64 to the layer's dtype of float32, which is new behavior in TensorFlow 2.  The layer has dtype float32 because it's dtype defaults to floatx.\n",
      "\n",
      "If you intended to run this layer in float32, you can safely ignore this warning. If in doubt, this warning is likely only an issue if you are porting a TensorFlow 1.X model to TensorFlow 2.\n",
      "\n",
      "To change all layers to have dtype float64 by default, call `tf.keras.backend.set_floatx('float64')`. To change just this layer, pass dtype='float64' to the layer constructor. If you are the author of this layer, you can disable autocasting by passing autocast=False to the base Layer constructor.\n",
      "\n",
      "Epoch 1/25\n",
      "99/99 [==============================] - 3s 32ms/step - loss: 0.9484 - accuracy: 0.5326\n",
      "Epoch 2/25\n",
      "99/99 [==============================] - 2s 15ms/step - loss: 0.6816 - accuracy: 0.5960\n",
      "Epoch 3/25\n",
      "99/99 [==============================] - 1s 15ms/step - loss: 0.6417 - accuracy: 0.6364\n",
      "Epoch 4/25\n",
      "99/99 [==============================] - 1s 14ms/step - loss: 0.6108 - accuracy: 0.6657\n",
      "Epoch 5/25\n",
      "99/99 [==============================] - 1s 14ms/step - loss: 0.5848 - accuracy: 0.6927\n",
      "Epoch 6/25\n",
      "99/99 [==============================] - 1s 14ms/step - loss: 0.5626 - accuracy: 0.7120\n",
      "Epoch 7/25\n",
      "99/99 [==============================] - 1s 14ms/step - loss: 0.5420 - accuracy: 0.7374\n",
      "Epoch 8/25\n",
      "99/99 [==============================] - 1s 14ms/step - loss: 0.5204 - accuracy: 0.7464\n",
      "Epoch 9/25\n",
      "99/99 [==============================] - 1s 14ms/step - loss: 0.4963 - accuracy: 0.7678\n",
      "Epoch 10/25\n",
      "99/99 [==============================] - 1s 14ms/step - loss: 0.4766 - accuracy: 0.7783\n",
      "Epoch 11/25\n",
      "99/99 [==============================] - 1s 14ms/step - loss: 0.4573 - accuracy: 0.7967\n",
      "Epoch 12/25\n",
      "99/99 [==============================] - 1s 14ms/step - loss: 0.4430 - accuracy: 0.8036\n",
      "Epoch 13/25\n",
      "99/99 [==============================] - 1s 15ms/step - loss: 0.4413 - accuracy: 0.8050\n",
      "Epoch 14/25\n",
      "99/99 [==============================] - 1s 15ms/step - loss: 0.4052 - accuracy: 0.8292\n",
      "Epoch 15/25\n",
      "99/99 [==============================] - 1s 15ms/step - loss: 0.3914 - accuracy: 0.8382\n",
      "Epoch 16/25\n",
      "99/99 [==============================] - 1s 15ms/step - loss: 0.3722 - accuracy: 0.8510\n",
      "Epoch 17/25\n",
      "99/99 [==============================] - 1s 15ms/step - loss: 0.3604 - accuracy: 0.8533\n",
      "Epoch 18/25\n",
      "99/99 [==============================] - 1s 15ms/step - loss: 0.3398 - accuracy: 0.8706\n",
      "Epoch 19/25\n",
      "99/99 [==============================] - 1s 15ms/step - loss: 0.3328 - accuracy: 0.8684\n",
      "Epoch 20/25\n",
      "99/99 [==============================] - 1s 15ms/step - loss: 0.3150 - accuracy: 0.8826\n",
      "Epoch 21/25\n",
      "99/99 [==============================] - 1s 15ms/step - loss: 0.3008 - accuracy: 0.8887\n",
      "Epoch 22/25\n",
      "99/99 [==============================] - 1s 15ms/step - loss: 0.2987 - accuracy: 0.8896\n",
      "Epoch 23/25\n",
      "99/99 [==============================] - 1s 15ms/step - loss: 0.2930 - accuracy: 0.8869\n",
      "Epoch 24/25\n",
      "99/99 [==============================] - 1s 14ms/step - loss: 0.2680 - accuracy: 0.9085\n",
      "Epoch 25/25\n",
      "99/99 [==============================] - 1s 14ms/step - loss: 0.2489 - accuracy: 0.9200\n",
      "History: {'loss': [0.9500172966864051, 0.6815779917850727, 0.6417212379657156, 0.6104987354540243, 0.5850176481696648, 0.5621459922049103, 0.5418058307917137, 0.520603693234242, 0.49640808448316603, 0.47671577782650304, 0.45729501284961777, 0.44292269307908005, 0.44108947433107265, 0.4052584574111109, 0.3918455266128711, 0.37229138812640816, 0.3600718680072606, 0.3397554246390738, 0.33275432457647675, 0.31483021181652215, 0.30080842399379104, 0.29862908037697394, 0.292826568086942, 0.2682238589154511, 0.24901245634366825], 'accuracy': [0.532622, 0.5960366, 0.6363821, 0.6656504, 0.6926829, 0.71199185, 0.7373984, 0.7464431, 0.76778454, 0.778252, 0.796748, 0.8035569, 0.8049797, 0.82916665, 0.83821136, 0.8510163, 0.85325205, 0.8706301, 0.8683943, 0.88262194, 0.8887195, 0.88963413, 0.88689023, 0.9085366, 0.92002034]}\n",
      "25/25 [==============================] - 1s 41ms/step - loss: 0.8941 - accuracy: 0.5951\n",
      "test loss, test acc: [0.8941166329383851, 0.595122]\n"
     ]
    }
   ],
   "source": [
    "features = generate_features(high_pass_wavelet)\n",
    "model = build_fc_model(features)\n",
    "high_pass_history, high_pass_results = train_model(model, high_pass_wavelet)"
   ]
  },
  {
   "cell_type": "code",
   "execution_count": 58,
   "metadata": {},
   "outputs": [
    {
     "data": {
      "image/png": "[encoded data removed]",
      "text/plain": [
       "<Figure size 432x288 with 1 Axes>"
      ]
     },
     "metadata": {
      "needs_background": "light"
     },
     "output_type": "display_data"
    }
   ],
   "source": [
    "plt.plot(high_pass_history.history['loss'])\n",
    "plt.title('High Pass Wavelet FC model loss')\n",
    "plt.ylabel('Loss')\n",
    "plt.xlabel('Epoch')\n",
    "plt.legend(['Train', 'Val'], loc='upper left')\n",
    "plt.show()"
   ]
  },
  {
   "cell_type": "code",
   "execution_count": 59,
   "metadata": {},
   "outputs": [
    {
     "name": "stdout",
     "output_type": "stream",
     "text": [
      "WARNING:tensorflow:Layer sequential_3 is casting an input tensor from dtype float64 to the layer's dtype of float32, which is new behavior in TensorFlow 2.  The layer has dtype float32 because it's dtype defaults to floatx.\n",
      "\n",
      "If you intended to run this layer in float32, you can safely ignore this warning. If in doubt, this warning is likely only an issue if you are porting a TensorFlow 1.X model to TensorFlow 2.\n",
      "\n",
      "To change all layers to have dtype float64 by default, call `tf.keras.backend.set_floatx('float64')`. To change just this layer, pass dtype='float64' to the layer constructor. If you are the author of this layer, you can disable autocasting by passing autocast=False to the base Layer constructor.\n",
      "\n",
      "Epoch 1/25\n",
      "99/99 [==============================] - 4s 39ms/step - loss: 0.6705 - accuracy: 0.5927\n",
      "Epoch 2/25\n",
      "99/99 [==============================] - 2s 17ms/step - loss: 0.6030 - accuracy: 0.6778\n",
      "Epoch 3/25\n",
      "99/99 [==============================] - 2s 18ms/step - loss: 0.5641 - accuracy: 0.7200\n",
      "Epoch 4/25\n",
      "99/99 [==============================] - 2s 17ms/step - loss: 0.5363 - accuracy: 0.7407\n",
      "Epoch 5/25\n",
      "99/99 [==============================] - 2s 17ms/step - loss: 0.5102 - accuracy: 0.7566\n",
      "Epoch 6/25\n",
      "99/99 [==============================] - 2s 17ms/step - loss: 0.4929 - accuracy: 0.7688\n",
      "Epoch 7/25\n",
      "99/99 [==============================] - 2s 17ms/step - loss: 0.4710 - accuracy: 0.7796\n",
      "Epoch 8/25\n",
      "99/99 [==============================] - 2s 17ms/step - loss: 0.4574 - accuracy: 0.7927\n",
      "Epoch 9/25\n",
      "99/99 [==============================] - 2s 17ms/step - loss: 0.4401 - accuracy: 0.8021\n",
      "Epoch 10/25\n",
      "99/99 [==============================] - 2s 17ms/step - loss: 0.4280 - accuracy: 0.8052\n",
      "Epoch 11/25\n",
      "99/99 [==============================] - 2s 17ms/step - loss: 0.4126 - accuracy: 0.8107\n",
      "Epoch 12/25\n",
      "99/99 [==============================] - 2s 17ms/step - loss: 0.4020 - accuracy: 0.8247\n",
      "Epoch 13/25\n",
      "99/99 [==============================] - 2s 17ms/step - loss: 0.3890 - accuracy: 0.8314\n",
      "Epoch 14/25\n",
      "99/99 [==============================] - 2s 17ms/step - loss: 0.3741 - accuracy: 0.8378\n",
      "Epoch 15/25\n",
      "99/99 [==============================] - 2s 17ms/step - loss: 0.3601 - accuracy: 0.8453\n",
      "Epoch 16/25\n",
      "99/99 [==============================] - 2s 17ms/step - loss: 0.3489 - accuracy: 0.8515\n",
      "Epoch 17/25\n",
      "99/99 [==============================] - 2s 17ms/step - loss: 0.3351 - accuracy: 0.8600\n",
      "Epoch 18/25\n",
      "99/99 [==============================] - 2s 17ms/step - loss: 0.3243 - accuracy: 0.8668\n",
      "Epoch 19/25\n",
      "99/99 [==============================] - 2s 17ms/step - loss: 0.3145 - accuracy: 0.8702\n",
      "Epoch 20/25\n",
      "99/99 [==============================] - 2s 17ms/step - loss: 0.3073 - accuracy: 0.8750\n",
      "Epoch 21/25\n",
      "99/99 [==============================] - 2s 17ms/step - loss: 0.2906 - accuracy: 0.8868\n",
      "Epoch 22/25\n",
      "99/99 [==============================] - 2s 17ms/step - loss: 0.2803 - accuracy: 0.8895\n",
      "Epoch 23/25\n",
      "99/99 [==============================] - 2s 17ms/step - loss: 0.2705 - accuracy: 0.8952\n",
      "Epoch 24/25\n",
      "99/99 [==============================] - 2s 17ms/step - loss: 0.2639 - accuracy: 0.8987\n",
      "Epoch 25/25\n",
      "99/99 [==============================] - 2s 17ms/step - loss: 0.2572 - accuracy: 0.9001\n",
      "History: {'loss': [0.6707772629532388, 0.6027834392417737, 0.5641716186835514, 0.5361771914290219, 0.5108808105190595, 0.4927303253150568, 0.47120657351201145, 0.4571849266445734, 0.440220742690854, 0.42797994898344444, 0.41334587850464066, 0.401927240253464, 0.38837902956619497, 0.3744693075617154, 0.35976725592603526, 0.3489142917399484, 0.33535252726538395, 0.32494021331270534, 0.3144026383515296, 0.30713704925000185, 0.29099959380379536, 0.28052334239085513, 0.2701930617535017, 0.26424448434414904, 0.2575562777133977], 'accuracy': [0.5926829, 0.67784554, 0.72002035, 0.7406504, 0.7566057, 0.7688008, 0.77957314, 0.79268295, 0.80213416, 0.80518293, 0.81067073, 0.8246951, 0.8314024, 0.83780485, 0.84532523, 0.8515244, 0.85995936, 0.8667683, 0.8702236, 0.875, 0.8867886, 0.8895325, 0.89522356, 0.89867884, 0.9001016]}\n",
      "25/25 [==============================] - 1s 55ms/step - loss: 0.7779 - accuracy: 0.7008\n",
      "test loss, test acc: [0.7778966736793518, 0.700813]\n"
     ]
    }
   ],
   "source": [
    "features = generate_features(high_pass_wavelet)\n",
    "model = build_conv_model(features)\n",
    "high_pass_conv_history, high_pass_results = train_model(model, high_pass_wavelet)"
   ]
  },
  {
   "cell_type": "code",
   "execution_count": 60,
   "metadata": {},
   "outputs": [
    {
     "data": {
      "image/png": "[encoded data removed]",
      "text/plain": [
       "<Figure size 432x288 with 1 Axes>"
      ]
     },
     "metadata": {
      "needs_background": "light"
     },
     "output_type": "display_data"
    }
   ],
   "source": [
    "plt.plot(high_pass_conv_history.history['loss'])\n",
    "plt.title('High Pass Wavelet FC model loss')\n",
    "plt.ylabel('Loss')\n",
    "plt.xlabel('Epoch')\n",
    "plt.legend(['Train', 'Val'], loc='upper left')\n",
    "plt.show()"
   ]
  },
  {
   "cell_type": "code",
   "execution_count": 61,
   "metadata": {},
   "outputs": [
    {
     "name": "stdout",
     "output_type": "stream",
     "text": [
      "WARNING:tensorflow:Layer sequential_4 is casting an input tensor from dtype float64 to the layer's dtype of float32, which is new behavior in TensorFlow 2.  The layer has dtype float32 because it's dtype defaults to floatx.\n",
      "\n",
      "If you intended to run this layer in float32, you can safely ignore this warning. If in doubt, this warning is likely only an issue if you are porting a TensorFlow 1.X model to TensorFlow 2.\n",
      "\n",
      "To change all layers to have dtype float64 by default, call `tf.keras.backend.set_floatx('float64')`. To change just this layer, pass dtype='float64' to the layer constructor. If you are the author of this layer, you can disable autocasting by passing autocast=False to the base Layer constructor.\n",
      "\n",
      "Epoch 1/25\n",
      "99/99 [==============================] - 1s 6ms/step - loss: 0.6916 - accuracy: 0.5291\n",
      "Epoch 2/25\n",
      "99/99 [==============================] - 0s 3ms/step - loss: 0.6885 - accuracy: 0.5528\n",
      "Epoch 3/25\n",
      "99/99 [==============================] - 0s 3ms/step - loss: 0.6878 - accuracy: 0.5528\n",
      "Epoch 4/25\n",
      "99/99 [==============================] - 0s 2ms/step - loss: 0.6876 - accuracy: 0.5528\n",
      "Epoch 5/25\n",
      "99/99 [==============================] - 0s 3ms/step - loss: 0.6875 - accuracy: 0.5528\n",
      "Epoch 6/25\n",
      "99/99 [==============================] - 0s 3ms/step - loss: 0.6877 - accuracy: 0.5528\n",
      "Epoch 7/25\n",
      "99/99 [==============================] - 0s 2ms/step - loss: 0.6875 - accuracy: 0.5528\n",
      "Epoch 8/25\n",
      "99/99 [==============================] - 0s 2ms/step - loss: 0.6875 - accuracy: 0.5528\n",
      "Epoch 9/25\n",
      "99/99 [==============================] - 0s 2ms/step - loss: 0.6876 - accuracy: 0.5528\n",
      "Epoch 10/25\n",
      "99/99 [==============================] - 0s 2ms/step - loss: 0.6877 - accuracy: 0.5528\n",
      "Epoch 11/25\n",
      "99/99 [==============================] - 0s 2ms/step - loss: 0.6875 - accuracy: 0.5528\n",
      "Epoch 12/25\n",
      "99/99 [==============================] - 0s 2ms/step - loss: 0.6876 - accuracy: 0.5528\n",
      "Epoch 13/25\n",
      "99/99 [==============================] - 0s 2ms/step - loss: 0.6875 - accuracy: 0.5528\n",
      "Epoch 14/25\n",
      "99/99 [==============================] - 0s 2ms/step - loss: 0.6875 - accuracy: 0.5528\n",
      "Epoch 15/25\n",
      "99/99 [==============================] - 0s 2ms/step - loss: 0.6877 - accuracy: 0.5528\n",
      "Epoch 16/25\n",
      "99/99 [==============================] - 0s 2ms/step - loss: 0.6876 - accuracy: 0.5528\n",
      "Epoch 17/25\n",
      "99/99 [==============================] - 0s 2ms/step - loss: 0.6877 - accuracy: 0.5528\n",
      "Epoch 18/25\n",
      "99/99 [==============================] - 0s 3ms/step - loss: 0.6875 - accuracy: 0.5528\n",
      "Epoch 19/25\n",
      "99/99 [==============================] - 0s 3ms/step - loss: 0.6876 - accuracy: 0.5528\n",
      "Epoch 20/25\n",
      "99/99 [==============================] - 0s 2ms/step - loss: 0.6877 - accuracy: 0.5528\n",
      "Epoch 21/25\n",
      "99/99 [==============================] - 0s 3ms/step - loss: 0.6876 - accuracy: 0.5528\n",
      "Epoch 22/25\n",
      "99/99 [==============================] - 0s 2ms/step - loss: 0.6877 - accuracy: 0.5528\n",
      "Epoch 23/25\n",
      "99/99 [==============================] - 0s 2ms/step - loss: 0.6877 - accuracy: 0.5528\n",
      "Epoch 24/25\n",
      "99/99 [==============================] - 0s 2ms/step - loss: 0.6875 - accuracy: 0.5528\n",
      "Epoch 25/25\n",
      "99/99 [==============================] - 0s 2ms/step - loss: 0.6876 - accuracy: 0.5528\n",
      "History: {'loss': [0.6915583768026615, 0.6884068273674182, 0.687749458643479, 0.6876111752618619, 0.6875901479062027, 0.6875856908840862, 0.6875885175011023, 0.687562080175896, 0.6875803702003588, 0.6875891336580602, 0.687591159367949, 0.6875816275918387, 0.6875878654844393, 0.6875806095881191, 0.6875721882513868, 0.6875805584638099, 0.6875805015244135, 0.6875775195961076, 0.6875687785507217, 0.6875807760449929, 0.6875560232778875, 0.6875811562063249, 0.6875921340008092, 0.6875885211355318, 0.6875794860647946], 'accuracy': [0.529065, 0.55284554, 0.55284554, 0.55284554, 0.55284554, 0.55284554, 0.55284554, 0.55284554, 0.55284554, 0.55284554, 0.55284554, 0.55284554, 0.55284554, 0.55284554, 0.55284554, 0.55284554, 0.55284554, 0.55284554, 0.55284554, 0.55284554, 0.55284554, 0.55284554, 0.55284554, 0.55284554, 0.55284554]}\n",
      "25/25 [==============================] - 0s 4ms/step - loss: 0.6875 - accuracy: 0.5528\n",
      "test loss, test acc: [0.6875044560432434, 0.55284554]\n"
     ]
    }
   ],
   "source": [
    "features = generate_features(low_pass_wavelet)\n",
    "model = build_fc_model(features)\n",
    "low_pass_history, low_pass_results = train_model(model, low_pass_wavelet)"
   ]
  },
  {
   "cell_type": "code",
   "execution_count": 64,
   "metadata": {},
   "outputs": [
    {
     "data": {
      "image/png": "[encoded data removed]",
      "text/plain": [
       "<Figure size 432x288 with 1 Axes>"
      ]
     },
     "metadata": {
      "needs_background": "light"
     },
     "output_type": "display_data"
    }
   ],
   "source": [
    "plt.plot(low_pass_history.history['loss'])\n",
    "plt.title('Low Pass Wavelet FC model loss')\n",
    "plt.ylabel('Loss')\n",
    "plt.xlabel('Epoch')\n",
    "plt.legend(['Train', 'Val'], loc='upper left')\n",
    "plt.show()"
   ]
  },
  {
   "cell_type": "code",
   "execution_count": 121,
   "metadata": {},
   "outputs": [],
   "source": [
    "def build_summary_model():\n",
    "    \n",
    "    model = Sequential()\n",
    "    model.add(layers.Dense(256, activation='relu'))\n",
    "    model.add(layers.Dense(256, activation='relu'))\n",
    "    model.add(layers.Dense(256, activation='relu'))\n",
    "    model.add(layers.Dense(1, activation='sigmoid'))\n",
    "\n",
    "    model.compile(\n",
    "        optimizer='SGD',\n",
    "        loss='binary_crossentropy',\n",
    "        metrics=['accuracy']\n",
    "    )\n",
    "\n",
    "    return model"
   ]
  },
  {
   "cell_type": "code",
   "execution_count": 125,
   "metadata": {},
   "outputs": [
    {
     "data": {
      "text/plain": [
       "Malicious               int64\n",
       "Arithmetic_Mean       float64\n",
       "Standard_Deviation    float64\n",
       "Variance              float64\n",
       "Max                   float64\n",
       "Min                   float64\n",
       "Geometric_Mean        float64\n",
       "Harmonic_Mean         float64\n",
       "dtype: object"
      ]
     },
     "execution_count": 125,
     "metadata": {},
     "output_type": "execute_result"
    }
   ],
   "source": [
    "summary_data.dtypes"
   ]
  },
  {
   "cell_type": "code",
   "execution_count": 127,
   "metadata": {},
   "outputs": [],
   "source": [
    "summary_data[\"Malicious\"] = pd.Categorical(summary_data[\"Malicious\"])\n",
    "summary_data[\"Malicious\"] = summary_data.Malicious.cat.codes"
   ]
  },
  {
   "cell_type": "code",
   "execution_count": 129,
   "metadata": {},
   "outputs": [
    {
     "name": "stdout",
     "output_type": "stream",
     "text": [
      "Epoch 1/30\n",
      "      1/Unknown - 0s 22ms/step"
     ]
    },
    {
     "ename": "ValueError",
     "evalue": "logits and labels must have the same shape ((7, 1) vs ())",
     "output_type": "error",
     "traceback": [
      "\u001b[0;31m---------------------------------------------------------------------------\u001b[0m",
      "\u001b[0;31mValueError\u001b[0m                                Traceback (most recent call last)",
      "\u001b[0;32m~/anaconda3/lib/python3.7/site-packages/tensorflow_core/python/framework/tensor_shape.py\u001b[0m in \u001b[0;36mmerge_with\u001b[0;34m(self, other)\u001b[0m\n\u001b[1;32m    927\u001b[0m       \u001b[0;32mtry\u001b[0m\u001b[0;34m:\u001b[0m\u001b[0;34m\u001b[0m\u001b[0;34m\u001b[0m\u001b[0m\n\u001b[0;32m--> 928\u001b[0;31m         \u001b[0mself\u001b[0m\u001b[0;34m.\u001b[0m\u001b[0massert_same_rank\u001b[0m\u001b[0;34m(\u001b[0m\u001b[0mother\u001b[0m\u001b[0;34m)\u001b[0m\u001b[0;34m\u001b[0m\u001b[0;34m\u001b[0m\u001b[0m\n\u001b[0m\u001b[1;32m    929\u001b[0m         \u001b[0mnew_dims\u001b[0m \u001b[0;34m=\u001b[0m \u001b[0;34m[\u001b[0m\u001b[0;34m]\u001b[0m\u001b[0;34m\u001b[0m\u001b[0;34m\u001b[0m\u001b[0m\n",
      "\u001b[0;32m~/anaconda3/lib/python3.7/site-packages/tensorflow_core/python/framework/tensor_shape.py\u001b[0m in \u001b[0;36massert_same_rank\u001b[0;34m(self, other)\u001b[0m\n\u001b[1;32m    982\u001b[0m         raise ValueError(\"Shapes %s and %s must have the same rank\" %\n\u001b[0;32m--> 983\u001b[0;31m                          (self, other))\n\u001b[0m\u001b[1;32m    984\u001b[0m \u001b[0;34m\u001b[0m\u001b[0m\n",
      "\u001b[0;31mValueError\u001b[0m: Shapes () and (7, 1) must have the same rank",
      "\nDuring handling of the above exception, another exception occurred:\n",
      "\u001b[0;31mValueError\u001b[0m                                Traceback (most recent call last)",
      "\u001b[0;32m~/anaconda3/lib/python3.7/site-packages/tensorflow_core/python/ops/nn_impl.py\u001b[0m in \u001b[0;36msigmoid_cross_entropy_with_logits\u001b[0;34m(_sentinel, labels, logits, name)\u001b[0m\n\u001b[1;32m    167\u001b[0m     \u001b[0;32mtry\u001b[0m\u001b[0;34m:\u001b[0m\u001b[0;34m\u001b[0m\u001b[0;34m\u001b[0m\u001b[0m\n\u001b[0;32m--> 168\u001b[0;31m       \u001b[0mlabels\u001b[0m\u001b[0;34m.\u001b[0m\u001b[0mget_shape\u001b[0m\u001b[0;34m(\u001b[0m\u001b[0;34m)\u001b[0m\u001b[0;34m.\u001b[0m\u001b[0mmerge_with\u001b[0m\u001b[0;34m(\u001b[0m\u001b[0mlogits\u001b[0m\u001b[0;34m.\u001b[0m\u001b[0mget_shape\u001b[0m\u001b[0;34m(\u001b[0m\u001b[0;34m)\u001b[0m\u001b[0;34m)\u001b[0m\u001b[0;34m\u001b[0m\u001b[0;34m\u001b[0m\u001b[0m\n\u001b[0m\u001b[1;32m    169\u001b[0m     \u001b[0;32mexcept\u001b[0m \u001b[0mValueError\u001b[0m\u001b[0;34m:\u001b[0m\u001b[0;34m\u001b[0m\u001b[0;34m\u001b[0m\u001b[0m\n",
      "\u001b[0;32m~/anaconda3/lib/python3.7/site-packages/tensorflow_core/python/framework/tensor_shape.py\u001b[0m in \u001b[0;36mmerge_with\u001b[0;34m(self, other)\u001b[0m\n\u001b[1;32m    933\u001b[0m       \u001b[0;32mexcept\u001b[0m \u001b[0mValueError\u001b[0m\u001b[0;34m:\u001b[0m\u001b[0;34m\u001b[0m\u001b[0;34m\u001b[0m\u001b[0m\n\u001b[0;32m--> 934\u001b[0;31m         \u001b[0;32mraise\u001b[0m \u001b[0mValueError\u001b[0m\u001b[0;34m(\u001b[0m\u001b[0;34m\"Shapes %s and %s are not compatible\"\u001b[0m \u001b[0;34m%\u001b[0m \u001b[0;34m(\u001b[0m\u001b[0mself\u001b[0m\u001b[0;34m,\u001b[0m \u001b[0mother\u001b[0m\u001b[0;34m)\u001b[0m\u001b[0;34m)\u001b[0m\u001b[0;34m\u001b[0m\u001b[0;34m\u001b[0m\u001b[0m\n\u001b[0m\u001b[1;32m    935\u001b[0m \u001b[0;34m\u001b[0m\u001b[0m\n",
      "\u001b[0;31mValueError\u001b[0m: Shapes () and (7, 1) are not compatible",
      "\nDuring handling of the above exception, another exception occurred:\n",
      "\u001b[0;31mValueError\u001b[0m                                Traceback (most recent call last)",
      "\u001b[0;32m<ipython-input-129-299bd1ee2424>\u001b[0m in \u001b[0;36m<module>\u001b[0;34m\u001b[0m\n\u001b[1;32m      4\u001b[0m \u001b[0mtrain_data\u001b[0m \u001b[0;34m=\u001b[0m \u001b[0mtf\u001b[0m\u001b[0;34m.\u001b[0m\u001b[0mdata\u001b[0m\u001b[0;34m.\u001b[0m\u001b[0mDataset\u001b[0m\u001b[0;34m.\u001b[0m\u001b[0mfrom_tensor_slices\u001b[0m\u001b[0;34m(\u001b[0m\u001b[0;34m(\u001b[0m\u001b[0mtraining\u001b[0m\u001b[0;34m.\u001b[0m\u001b[0mvalues\u001b[0m\u001b[0;34m,\u001b[0m \u001b[0my\u001b[0m\u001b[0;34m.\u001b[0m\u001b[0mvalues\u001b[0m\u001b[0;34m)\u001b[0m\u001b[0;34m)\u001b[0m\u001b[0;34m\u001b[0m\u001b[0;34m\u001b[0m\u001b[0m\n\u001b[1;32m      5\u001b[0m \u001b[0mtrain_dataset\u001b[0m \u001b[0;34m=\u001b[0m \u001b[0mtrain_data\u001b[0m\u001b[0;34m.\u001b[0m\u001b[0mshuffle\u001b[0m\u001b[0;34m(\u001b[0m\u001b[0mlen\u001b[0m\u001b[0;34m(\u001b[0m\u001b[0mtraining\u001b[0m\u001b[0;34m)\u001b[0m\u001b[0;34m)\u001b[0m\u001b[0;34m.\u001b[0m\u001b[0mbatch\u001b[0m\u001b[0;34m(\u001b[0m\u001b[0;36m1\u001b[0m\u001b[0;34m)\u001b[0m\u001b[0;34m\u001b[0m\u001b[0;34m\u001b[0m\u001b[0m\n\u001b[0;32m----> 6\u001b[0;31m \u001b[0mmodel\u001b[0m\u001b[0;34m.\u001b[0m\u001b[0mfit\u001b[0m\u001b[0;34m(\u001b[0m\u001b[0mtraining_data\u001b[0m\u001b[0;34m,\u001b[0m \u001b[0mepochs\u001b[0m\u001b[0;34m=\u001b[0m\u001b[0;36m30\u001b[0m\u001b[0;34m)\u001b[0m\u001b[0;34m\u001b[0m\u001b[0;34m\u001b[0m\u001b[0m\n\u001b[0m",
      "\u001b[0;32m~/anaconda3/lib/python3.7/site-packages/tensorflow_core/python/keras/engine/training.py\u001b[0m in \u001b[0;36mfit\u001b[0;34m(self, x, y, batch_size, epochs, verbose, callbacks, validation_split, validation_data, shuffle, class_weight, sample_weight, initial_epoch, steps_per_epoch, validation_steps, validation_freq, max_queue_size, workers, use_multiprocessing, **kwargs)\u001b[0m\n\u001b[1;32m    726\u001b[0m         \u001b[0mmax_queue_size\u001b[0m\u001b[0;34m=\u001b[0m\u001b[0mmax_queue_size\u001b[0m\u001b[0;34m,\u001b[0m\u001b[0;34m\u001b[0m\u001b[0;34m\u001b[0m\u001b[0m\n\u001b[1;32m    727\u001b[0m         \u001b[0mworkers\u001b[0m\u001b[0;34m=\u001b[0m\u001b[0mworkers\u001b[0m\u001b[0;34m,\u001b[0m\u001b[0;34m\u001b[0m\u001b[0;34m\u001b[0m\u001b[0m\n\u001b[0;32m--> 728\u001b[0;31m         use_multiprocessing=use_multiprocessing)\n\u001b[0m\u001b[1;32m    729\u001b[0m \u001b[0;34m\u001b[0m\u001b[0m\n\u001b[1;32m    730\u001b[0m   def evaluate(self,\n",
      "\u001b[0;32m~/anaconda3/lib/python3.7/site-packages/tensorflow_core/python/keras/engine/training_v2.py\u001b[0m in \u001b[0;36mfit\u001b[0;34m(self, model, x, y, batch_size, epochs, verbose, callbacks, validation_split, validation_data, shuffle, class_weight, sample_weight, initial_epoch, steps_per_epoch, validation_steps, validation_freq, **kwargs)\u001b[0m\n\u001b[1;32m    322\u001b[0m                 \u001b[0mmode\u001b[0m\u001b[0;34m=\u001b[0m\u001b[0mModeKeys\u001b[0m\u001b[0;34m.\u001b[0m\u001b[0mTRAIN\u001b[0m\u001b[0;34m,\u001b[0m\u001b[0;34m\u001b[0m\u001b[0;34m\u001b[0m\u001b[0m\n\u001b[1;32m    323\u001b[0m                 \u001b[0mtraining_context\u001b[0m\u001b[0;34m=\u001b[0m\u001b[0mtraining_context\u001b[0m\u001b[0;34m,\u001b[0m\u001b[0;34m\u001b[0m\u001b[0;34m\u001b[0m\u001b[0m\n\u001b[0;32m--> 324\u001b[0;31m                 total_epochs=epochs)\n\u001b[0m\u001b[1;32m    325\u001b[0m             \u001b[0mcbks\u001b[0m\u001b[0;34m.\u001b[0m\u001b[0mmake_logs\u001b[0m\u001b[0;34m(\u001b[0m\u001b[0mmodel\u001b[0m\u001b[0;34m,\u001b[0m \u001b[0mepoch_logs\u001b[0m\u001b[0;34m,\u001b[0m \u001b[0mtraining_result\u001b[0m\u001b[0;34m,\u001b[0m \u001b[0mModeKeys\u001b[0m\u001b[0;34m.\u001b[0m\u001b[0mTRAIN\u001b[0m\u001b[0;34m)\u001b[0m\u001b[0;34m\u001b[0m\u001b[0;34m\u001b[0m\u001b[0m\n\u001b[1;32m    326\u001b[0m \u001b[0;34m\u001b[0m\u001b[0m\n",
      "\u001b[0;32m~/anaconda3/lib/python3.7/site-packages/tensorflow_core/python/keras/engine/training_v2.py\u001b[0m in \u001b[0;36mrun_one_epoch\u001b[0;34m(model, iterator, execution_function, dataset_size, batch_size, strategy, steps_per_epoch, num_samples, mode, training_context, total_epochs)\u001b[0m\n\u001b[1;32m    121\u001b[0m         step=step, mode=mode, size=current_batch_size) as batch_logs:\n\u001b[1;32m    122\u001b[0m       \u001b[0;32mtry\u001b[0m\u001b[0;34m:\u001b[0m\u001b[0;34m\u001b[0m\u001b[0;34m\u001b[0m\u001b[0m\n\u001b[0;32m--> 123\u001b[0;31m         \u001b[0mbatch_outs\u001b[0m \u001b[0;34m=\u001b[0m \u001b[0mexecution_function\u001b[0m\u001b[0;34m(\u001b[0m\u001b[0miterator\u001b[0m\u001b[0;34m)\u001b[0m\u001b[0;34m\u001b[0m\u001b[0;34m\u001b[0m\u001b[0m\n\u001b[0m\u001b[1;32m    124\u001b[0m       \u001b[0;32mexcept\u001b[0m \u001b[0;34m(\u001b[0m\u001b[0mStopIteration\u001b[0m\u001b[0;34m,\u001b[0m \u001b[0merrors\u001b[0m\u001b[0;34m.\u001b[0m\u001b[0mOutOfRangeError\u001b[0m\u001b[0;34m)\u001b[0m\u001b[0;34m:\u001b[0m\u001b[0;34m\u001b[0m\u001b[0;34m\u001b[0m\u001b[0m\n\u001b[1;32m    125\u001b[0m         \u001b[0;31m# TODO(kaftan): File bug about tf function and errors.OutOfRangeError?\u001b[0m\u001b[0;34m\u001b[0m\u001b[0;34m\u001b[0m\u001b[0;34m\u001b[0m\u001b[0m\n",
      "\u001b[0;32m~/anaconda3/lib/python3.7/site-packages/tensorflow_core/python/keras/engine/training_v2_utils.py\u001b[0m in \u001b[0;36mexecution_function\u001b[0;34m(input_fn)\u001b[0m\n\u001b[1;32m     84\u001b[0m     \u001b[0;31m# `numpy` translates Tensors to values in Eager mode.\u001b[0m\u001b[0;34m\u001b[0m\u001b[0;34m\u001b[0m\u001b[0;34m\u001b[0m\u001b[0m\n\u001b[1;32m     85\u001b[0m     return nest.map_structure(_non_none_constant_value,\n\u001b[0;32m---> 86\u001b[0;31m                               distributed_function(input_fn))\n\u001b[0m\u001b[1;32m     87\u001b[0m \u001b[0;34m\u001b[0m\u001b[0m\n\u001b[1;32m     88\u001b[0m   \u001b[0;32mreturn\u001b[0m \u001b[0mexecution_function\u001b[0m\u001b[0;34m\u001b[0m\u001b[0;34m\u001b[0m\u001b[0m\n",
      "\u001b[0;32m~/anaconda3/lib/python3.7/site-packages/tensorflow_core/python/eager/def_function.py\u001b[0m in \u001b[0;36m__call__\u001b[0;34m(self, *args, **kwds)\u001b[0m\n\u001b[1;32m    455\u001b[0m \u001b[0;34m\u001b[0m\u001b[0m\n\u001b[1;32m    456\u001b[0m     \u001b[0mtracing_count\u001b[0m \u001b[0;34m=\u001b[0m \u001b[0mself\u001b[0m\u001b[0;34m.\u001b[0m\u001b[0m_get_tracing_count\u001b[0m\u001b[0;34m(\u001b[0m\u001b[0;34m)\u001b[0m\u001b[0;34m\u001b[0m\u001b[0;34m\u001b[0m\u001b[0m\n\u001b[0;32m--> 457\u001b[0;31m     \u001b[0mresult\u001b[0m \u001b[0;34m=\u001b[0m \u001b[0mself\u001b[0m\u001b[0;34m.\u001b[0m\u001b[0m_call\u001b[0m\u001b[0;34m(\u001b[0m\u001b[0;34m*\u001b[0m\u001b[0margs\u001b[0m\u001b[0;34m,\u001b[0m \u001b[0;34m**\u001b[0m\u001b[0mkwds\u001b[0m\u001b[0;34m)\u001b[0m\u001b[0;34m\u001b[0m\u001b[0;34m\u001b[0m\u001b[0m\n\u001b[0m\u001b[1;32m    458\u001b[0m     \u001b[0;32mif\u001b[0m \u001b[0mtracing_count\u001b[0m \u001b[0;34m==\u001b[0m \u001b[0mself\u001b[0m\u001b[0;34m.\u001b[0m\u001b[0m_get_tracing_count\u001b[0m\u001b[0;34m(\u001b[0m\u001b[0;34m)\u001b[0m\u001b[0;34m:\u001b[0m\u001b[0;34m\u001b[0m\u001b[0;34m\u001b[0m\u001b[0m\n\u001b[1;32m    459\u001b[0m       \u001b[0mself\u001b[0m\u001b[0;34m.\u001b[0m\u001b[0m_call_counter\u001b[0m\u001b[0;34m.\u001b[0m\u001b[0mcalled_without_tracing\u001b[0m\u001b[0;34m(\u001b[0m\u001b[0;34m)\u001b[0m\u001b[0;34m\u001b[0m\u001b[0;34m\u001b[0m\u001b[0m\n",
      "\u001b[0;32m~/anaconda3/lib/python3.7/site-packages/tensorflow_core/python/eager/def_function.py\u001b[0m in \u001b[0;36m_call\u001b[0;34m(self, *args, **kwds)\u001b[0m\n\u001b[1;32m    501\u001b[0m       \u001b[0;31m# This is the first call of __call__, so we have to initialize.\u001b[0m\u001b[0;34m\u001b[0m\u001b[0;34m\u001b[0m\u001b[0;34m\u001b[0m\u001b[0m\n\u001b[1;32m    502\u001b[0m       \u001b[0minitializer_map\u001b[0m \u001b[0;34m=\u001b[0m \u001b[0mobject_identity\u001b[0m\u001b[0;34m.\u001b[0m\u001b[0mObjectIdentityDictionary\u001b[0m\u001b[0;34m(\u001b[0m\u001b[0;34m)\u001b[0m\u001b[0;34m\u001b[0m\u001b[0;34m\u001b[0m\u001b[0m\n\u001b[0;32m--> 503\u001b[0;31m       \u001b[0mself\u001b[0m\u001b[0;34m.\u001b[0m\u001b[0m_initialize\u001b[0m\u001b[0;34m(\u001b[0m\u001b[0margs\u001b[0m\u001b[0;34m,\u001b[0m \u001b[0mkwds\u001b[0m\u001b[0;34m,\u001b[0m \u001b[0madd_initializers_to\u001b[0m\u001b[0;34m=\u001b[0m\u001b[0minitializer_map\u001b[0m\u001b[0;34m)\u001b[0m\u001b[0;34m\u001b[0m\u001b[0;34m\u001b[0m\u001b[0m\n\u001b[0m\u001b[1;32m    504\u001b[0m     \u001b[0;32mfinally\u001b[0m\u001b[0;34m:\u001b[0m\u001b[0;34m\u001b[0m\u001b[0;34m\u001b[0m\u001b[0m\n\u001b[1;32m    505\u001b[0m       \u001b[0;31m# At this point we know that the initialization is complete (or less\u001b[0m\u001b[0;34m\u001b[0m\u001b[0;34m\u001b[0m\u001b[0;34m\u001b[0m\u001b[0m\n",
      "\u001b[0;32m~/anaconda3/lib/python3.7/site-packages/tensorflow_core/python/eager/def_function.py\u001b[0m in \u001b[0;36m_initialize\u001b[0;34m(self, args, kwds, add_initializers_to)\u001b[0m\n\u001b[1;32m    406\u001b[0m     self._concrete_stateful_fn = (\n\u001b[1;32m    407\u001b[0m         self._stateful_fn._get_concrete_function_internal_garbage_collected(  # pylint: disable=protected-access\n\u001b[0;32m--> 408\u001b[0;31m             *args, **kwds))\n\u001b[0m\u001b[1;32m    409\u001b[0m \u001b[0;34m\u001b[0m\u001b[0m\n\u001b[1;32m    410\u001b[0m     \u001b[0;32mdef\u001b[0m \u001b[0minvalid_creator_scope\u001b[0m\u001b[0;34m(\u001b[0m\u001b[0;34m*\u001b[0m\u001b[0munused_args\u001b[0m\u001b[0;34m,\u001b[0m \u001b[0;34m**\u001b[0m\u001b[0munused_kwds\u001b[0m\u001b[0;34m)\u001b[0m\u001b[0;34m:\u001b[0m\u001b[0;34m\u001b[0m\u001b[0;34m\u001b[0m\u001b[0m\n",
      "\u001b[0;32m~/anaconda3/lib/python3.7/site-packages/tensorflow_core/python/eager/function.py\u001b[0m in \u001b[0;36m_get_concrete_function_internal_garbage_collected\u001b[0;34m(self, *args, **kwargs)\u001b[0m\n\u001b[1;32m   1846\u001b[0m     \u001b[0;32mif\u001b[0m \u001b[0mself\u001b[0m\u001b[0;34m.\u001b[0m\u001b[0minput_signature\u001b[0m\u001b[0;34m:\u001b[0m\u001b[0;34m\u001b[0m\u001b[0;34m\u001b[0m\u001b[0m\n\u001b[1;32m   1847\u001b[0m       \u001b[0margs\u001b[0m\u001b[0;34m,\u001b[0m \u001b[0mkwargs\u001b[0m \u001b[0;34m=\u001b[0m \u001b[0;32mNone\u001b[0m\u001b[0;34m,\u001b[0m \u001b[0;32mNone\u001b[0m\u001b[0;34m\u001b[0m\u001b[0;34m\u001b[0m\u001b[0m\n\u001b[0;32m-> 1848\u001b[0;31m     \u001b[0mgraph_function\u001b[0m\u001b[0;34m,\u001b[0m \u001b[0m_\u001b[0m\u001b[0;34m,\u001b[0m \u001b[0m_\u001b[0m \u001b[0;34m=\u001b[0m \u001b[0mself\u001b[0m\u001b[0;34m.\u001b[0m\u001b[0m_maybe_define_function\u001b[0m\u001b[0;34m(\u001b[0m\u001b[0margs\u001b[0m\u001b[0;34m,\u001b[0m \u001b[0mkwargs\u001b[0m\u001b[0;34m)\u001b[0m\u001b[0;34m\u001b[0m\u001b[0;34m\u001b[0m\u001b[0m\n\u001b[0m\u001b[1;32m   1849\u001b[0m     \u001b[0;32mreturn\u001b[0m \u001b[0mgraph_function\u001b[0m\u001b[0;34m\u001b[0m\u001b[0;34m\u001b[0m\u001b[0m\n\u001b[1;32m   1850\u001b[0m \u001b[0;34m\u001b[0m\u001b[0m\n",
      "\u001b[0;32m~/anaconda3/lib/python3.7/site-packages/tensorflow_core/python/eager/function.py\u001b[0m in \u001b[0;36m_maybe_define_function\u001b[0;34m(self, args, kwargs)\u001b[0m\n\u001b[1;32m   2148\u001b[0m         \u001b[0mgraph_function\u001b[0m \u001b[0;34m=\u001b[0m \u001b[0mself\u001b[0m\u001b[0;34m.\u001b[0m\u001b[0m_function_cache\u001b[0m\u001b[0;34m.\u001b[0m\u001b[0mprimary\u001b[0m\u001b[0;34m.\u001b[0m\u001b[0mget\u001b[0m\u001b[0;34m(\u001b[0m\u001b[0mcache_key\u001b[0m\u001b[0;34m,\u001b[0m \u001b[0;32mNone\u001b[0m\u001b[0;34m)\u001b[0m\u001b[0;34m\u001b[0m\u001b[0;34m\u001b[0m\u001b[0m\n\u001b[1;32m   2149\u001b[0m         \u001b[0;32mif\u001b[0m \u001b[0mgraph_function\u001b[0m \u001b[0;32mis\u001b[0m \u001b[0;32mNone\u001b[0m\u001b[0;34m:\u001b[0m\u001b[0;34m\u001b[0m\u001b[0;34m\u001b[0m\u001b[0m\n\u001b[0;32m-> 2150\u001b[0;31m           \u001b[0mgraph_function\u001b[0m \u001b[0;34m=\u001b[0m \u001b[0mself\u001b[0m\u001b[0;34m.\u001b[0m\u001b[0m_create_graph_function\u001b[0m\u001b[0;34m(\u001b[0m\u001b[0margs\u001b[0m\u001b[0;34m,\u001b[0m \u001b[0mkwargs\u001b[0m\u001b[0;34m)\u001b[0m\u001b[0;34m\u001b[0m\u001b[0;34m\u001b[0m\u001b[0m\n\u001b[0m\u001b[1;32m   2151\u001b[0m           \u001b[0mself\u001b[0m\u001b[0;34m.\u001b[0m\u001b[0m_function_cache\u001b[0m\u001b[0;34m.\u001b[0m\u001b[0mprimary\u001b[0m\u001b[0;34m[\u001b[0m\u001b[0mcache_key\u001b[0m\u001b[0;34m]\u001b[0m \u001b[0;34m=\u001b[0m \u001b[0mgraph_function\u001b[0m\u001b[0;34m\u001b[0m\u001b[0;34m\u001b[0m\u001b[0m\n\u001b[1;32m   2152\u001b[0m         \u001b[0;32mreturn\u001b[0m \u001b[0mgraph_function\u001b[0m\u001b[0;34m,\u001b[0m \u001b[0margs\u001b[0m\u001b[0;34m,\u001b[0m \u001b[0mkwargs\u001b[0m\u001b[0;34m\u001b[0m\u001b[0;34m\u001b[0m\u001b[0m\n",
      "\u001b[0;32m~/anaconda3/lib/python3.7/site-packages/tensorflow_core/python/eager/function.py\u001b[0m in \u001b[0;36m_create_graph_function\u001b[0;34m(self, args, kwargs, override_flat_arg_shapes)\u001b[0m\n\u001b[1;32m   2039\u001b[0m             \u001b[0marg_names\u001b[0m\u001b[0;34m=\u001b[0m\u001b[0marg_names\u001b[0m\u001b[0;34m,\u001b[0m\u001b[0;34m\u001b[0m\u001b[0;34m\u001b[0m\u001b[0m\n\u001b[1;32m   2040\u001b[0m             \u001b[0moverride_flat_arg_shapes\u001b[0m\u001b[0;34m=\u001b[0m\u001b[0moverride_flat_arg_shapes\u001b[0m\u001b[0;34m,\u001b[0m\u001b[0;34m\u001b[0m\u001b[0;34m\u001b[0m\u001b[0m\n\u001b[0;32m-> 2041\u001b[0;31m             capture_by_value=self._capture_by_value),\n\u001b[0m\u001b[1;32m   2042\u001b[0m         \u001b[0mself\u001b[0m\u001b[0;34m.\u001b[0m\u001b[0m_function_attributes\u001b[0m\u001b[0;34m,\u001b[0m\u001b[0;34m\u001b[0m\u001b[0;34m\u001b[0m\u001b[0m\n\u001b[1;32m   2043\u001b[0m         \u001b[0;31m# Tell the ConcreteFunction to clean up its graph once it goes out of\u001b[0m\u001b[0;34m\u001b[0m\u001b[0;34m\u001b[0m\u001b[0;34m\u001b[0m\u001b[0m\n",
      "\u001b[0;32m~/anaconda3/lib/python3.7/site-packages/tensorflow_core/python/framework/func_graph.py\u001b[0m in \u001b[0;36mfunc_graph_from_py_func\u001b[0;34m(name, python_func, args, kwargs, signature, func_graph, autograph, autograph_options, add_control_dependencies, arg_names, op_return_value, collections, capture_by_value, override_flat_arg_shapes)\u001b[0m\n\u001b[1;32m    913\u001b[0m                                           converted_func)\n\u001b[1;32m    914\u001b[0m \u001b[0;34m\u001b[0m\u001b[0m\n\u001b[0;32m--> 915\u001b[0;31m       \u001b[0mfunc_outputs\u001b[0m \u001b[0;34m=\u001b[0m \u001b[0mpython_func\u001b[0m\u001b[0;34m(\u001b[0m\u001b[0;34m*\u001b[0m\u001b[0mfunc_args\u001b[0m\u001b[0;34m,\u001b[0m \u001b[0;34m**\u001b[0m\u001b[0mfunc_kwargs\u001b[0m\u001b[0;34m)\u001b[0m\u001b[0;34m\u001b[0m\u001b[0;34m\u001b[0m\u001b[0m\n\u001b[0m\u001b[1;32m    916\u001b[0m \u001b[0;34m\u001b[0m\u001b[0m\n\u001b[1;32m    917\u001b[0m       \u001b[0;31m# invariant: `func_outputs` contains only Tensors, CompositeTensors,\u001b[0m\u001b[0;34m\u001b[0m\u001b[0;34m\u001b[0m\u001b[0;34m\u001b[0m\u001b[0m\n",
      "\u001b[0;32m~/anaconda3/lib/python3.7/site-packages/tensorflow_core/python/eager/def_function.py\u001b[0m in \u001b[0;36mwrapped_fn\u001b[0;34m(*args, **kwds)\u001b[0m\n\u001b[1;32m    356\u001b[0m         \u001b[0;31m# __wrapped__ allows AutoGraph to swap in a converted function. We give\u001b[0m\u001b[0;34m\u001b[0m\u001b[0;34m\u001b[0m\u001b[0;34m\u001b[0m\u001b[0m\n\u001b[1;32m    357\u001b[0m         \u001b[0;31m# the function a weak reference to itself to avoid a reference cycle.\u001b[0m\u001b[0;34m\u001b[0m\u001b[0;34m\u001b[0m\u001b[0;34m\u001b[0m\u001b[0m\n\u001b[0;32m--> 358\u001b[0;31m         \u001b[0;32mreturn\u001b[0m \u001b[0mweak_wrapped_fn\u001b[0m\u001b[0;34m(\u001b[0m\u001b[0;34m)\u001b[0m\u001b[0;34m.\u001b[0m\u001b[0m__wrapped__\u001b[0m\u001b[0;34m(\u001b[0m\u001b[0;34m*\u001b[0m\u001b[0margs\u001b[0m\u001b[0;34m,\u001b[0m \u001b[0;34m**\u001b[0m\u001b[0mkwds\u001b[0m\u001b[0;34m)\u001b[0m\u001b[0;34m\u001b[0m\u001b[0;34m\u001b[0m\u001b[0m\n\u001b[0m\u001b[1;32m    359\u001b[0m     \u001b[0mweak_wrapped_fn\u001b[0m \u001b[0;34m=\u001b[0m \u001b[0mweakref\u001b[0m\u001b[0;34m.\u001b[0m\u001b[0mref\u001b[0m\u001b[0;34m(\u001b[0m\u001b[0mwrapped_fn\u001b[0m\u001b[0;34m)\u001b[0m\u001b[0;34m\u001b[0m\u001b[0;34m\u001b[0m\u001b[0m\n\u001b[1;32m    360\u001b[0m \u001b[0;34m\u001b[0m\u001b[0m\n",
      "\u001b[0;32m~/anaconda3/lib/python3.7/site-packages/tensorflow_core/python/keras/engine/training_v2_utils.py\u001b[0m in \u001b[0;36mdistributed_function\u001b[0;34m(input_iterator)\u001b[0m\n\u001b[1;32m     71\u001b[0m     \u001b[0mstrategy\u001b[0m \u001b[0;34m=\u001b[0m \u001b[0mdistribution_strategy_context\u001b[0m\u001b[0;34m.\u001b[0m\u001b[0mget_strategy\u001b[0m\u001b[0;34m(\u001b[0m\u001b[0;34m)\u001b[0m\u001b[0;34m\u001b[0m\u001b[0;34m\u001b[0m\u001b[0m\n\u001b[1;32m     72\u001b[0m     outputs = strategy.experimental_run_v2(\n\u001b[0;32m---> 73\u001b[0;31m         per_replica_function, args=(model, x, y, sample_weights))\n\u001b[0m\u001b[1;32m     74\u001b[0m     \u001b[0;31m# Out of PerReplica outputs reduce or pick values to return.\u001b[0m\u001b[0;34m\u001b[0m\u001b[0;34m\u001b[0m\u001b[0;34m\u001b[0m\u001b[0m\n\u001b[1;32m     75\u001b[0m     all_outputs = dist_utils.unwrap_output_dict(\n",
      "\u001b[0;32m~/anaconda3/lib/python3.7/site-packages/tensorflow_core/python/distribute/distribute_lib.py\u001b[0m in \u001b[0;36mexperimental_run_v2\u001b[0;34m(self, fn, args, kwargs)\u001b[0m\n\u001b[1;32m    758\u001b[0m       fn = autograph.tf_convert(fn, ag_ctx.control_status_ctx(),\n\u001b[1;32m    759\u001b[0m                                 convert_by_default=False)\n\u001b[0;32m--> 760\u001b[0;31m       \u001b[0;32mreturn\u001b[0m \u001b[0mself\u001b[0m\u001b[0;34m.\u001b[0m\u001b[0m_extended\u001b[0m\u001b[0;34m.\u001b[0m\u001b[0mcall_for_each_replica\u001b[0m\u001b[0;34m(\u001b[0m\u001b[0mfn\u001b[0m\u001b[0;34m,\u001b[0m \u001b[0margs\u001b[0m\u001b[0;34m=\u001b[0m\u001b[0margs\u001b[0m\u001b[0;34m,\u001b[0m \u001b[0mkwargs\u001b[0m\u001b[0;34m=\u001b[0m\u001b[0mkwargs\u001b[0m\u001b[0;34m)\u001b[0m\u001b[0;34m\u001b[0m\u001b[0;34m\u001b[0m\u001b[0m\n\u001b[0m\u001b[1;32m    761\u001b[0m \u001b[0;34m\u001b[0m\u001b[0m\n\u001b[1;32m    762\u001b[0m   \u001b[0;32mdef\u001b[0m \u001b[0mreduce\u001b[0m\u001b[0;34m(\u001b[0m\u001b[0mself\u001b[0m\u001b[0;34m,\u001b[0m \u001b[0mreduce_op\u001b[0m\u001b[0;34m,\u001b[0m \u001b[0mvalue\u001b[0m\u001b[0;34m,\u001b[0m \u001b[0maxis\u001b[0m\u001b[0;34m)\u001b[0m\u001b[0;34m:\u001b[0m\u001b[0;34m\u001b[0m\u001b[0;34m\u001b[0m\u001b[0m\n",
      "\u001b[0;32m~/anaconda3/lib/python3.7/site-packages/tensorflow_core/python/distribute/distribute_lib.py\u001b[0m in \u001b[0;36mcall_for_each_replica\u001b[0;34m(self, fn, args, kwargs)\u001b[0m\n\u001b[1;32m   1785\u001b[0m       \u001b[0mkwargs\u001b[0m \u001b[0;34m=\u001b[0m \u001b[0;34m{\u001b[0m\u001b[0;34m}\u001b[0m\u001b[0;34m\u001b[0m\u001b[0;34m\u001b[0m\u001b[0m\n\u001b[1;32m   1786\u001b[0m     \u001b[0;32mwith\u001b[0m \u001b[0mself\u001b[0m\u001b[0;34m.\u001b[0m\u001b[0m_container_strategy\u001b[0m\u001b[0;34m(\u001b[0m\u001b[0;34m)\u001b[0m\u001b[0;34m.\u001b[0m\u001b[0mscope\u001b[0m\u001b[0;34m(\u001b[0m\u001b[0;34m)\u001b[0m\u001b[0;34m:\u001b[0m\u001b[0;34m\u001b[0m\u001b[0;34m\u001b[0m\u001b[0m\n\u001b[0;32m-> 1787\u001b[0;31m       \u001b[0;32mreturn\u001b[0m \u001b[0mself\u001b[0m\u001b[0;34m.\u001b[0m\u001b[0m_call_for_each_replica\u001b[0m\u001b[0;34m(\u001b[0m\u001b[0mfn\u001b[0m\u001b[0;34m,\u001b[0m \u001b[0margs\u001b[0m\u001b[0;34m,\u001b[0m \u001b[0mkwargs\u001b[0m\u001b[0;34m)\u001b[0m\u001b[0;34m\u001b[0m\u001b[0;34m\u001b[0m\u001b[0m\n\u001b[0m\u001b[1;32m   1788\u001b[0m \u001b[0;34m\u001b[0m\u001b[0m\n\u001b[1;32m   1789\u001b[0m   \u001b[0;32mdef\u001b[0m \u001b[0m_call_for_each_replica\u001b[0m\u001b[0;34m(\u001b[0m\u001b[0mself\u001b[0m\u001b[0;34m,\u001b[0m \u001b[0mfn\u001b[0m\u001b[0;34m,\u001b[0m \u001b[0margs\u001b[0m\u001b[0;34m,\u001b[0m \u001b[0mkwargs\u001b[0m\u001b[0;34m)\u001b[0m\u001b[0;34m:\u001b[0m\u001b[0;34m\u001b[0m\u001b[0;34m\u001b[0m\u001b[0m\n",
      "\u001b[0;32m~/anaconda3/lib/python3.7/site-packages/tensorflow_core/python/distribute/distribute_lib.py\u001b[0m in \u001b[0;36m_call_for_each_replica\u001b[0;34m(self, fn, args, kwargs)\u001b[0m\n\u001b[1;32m   2130\u001b[0m         \u001b[0mself\u001b[0m\u001b[0;34m.\u001b[0m\u001b[0m_container_strategy\u001b[0m\u001b[0;34m(\u001b[0m\u001b[0;34m)\u001b[0m\u001b[0;34m,\u001b[0m\u001b[0;34m\u001b[0m\u001b[0;34m\u001b[0m\u001b[0m\n\u001b[1;32m   2131\u001b[0m         replica_id_in_sync_group=constant_op.constant(0, dtypes.int32)):\n\u001b[0;32m-> 2132\u001b[0;31m       \u001b[0;32mreturn\u001b[0m \u001b[0mfn\u001b[0m\u001b[0;34m(\u001b[0m\u001b[0;34m*\u001b[0m\u001b[0margs\u001b[0m\u001b[0;34m,\u001b[0m \u001b[0;34m**\u001b[0m\u001b[0mkwargs\u001b[0m\u001b[0;34m)\u001b[0m\u001b[0;34m\u001b[0m\u001b[0;34m\u001b[0m\u001b[0m\n\u001b[0m\u001b[1;32m   2133\u001b[0m \u001b[0;34m\u001b[0m\u001b[0m\n\u001b[1;32m   2134\u001b[0m   \u001b[0;32mdef\u001b[0m \u001b[0m_reduce_to\u001b[0m\u001b[0;34m(\u001b[0m\u001b[0mself\u001b[0m\u001b[0;34m,\u001b[0m \u001b[0mreduce_op\u001b[0m\u001b[0;34m,\u001b[0m \u001b[0mvalue\u001b[0m\u001b[0;34m,\u001b[0m \u001b[0mdestinations\u001b[0m\u001b[0;34m)\u001b[0m\u001b[0;34m:\u001b[0m\u001b[0;34m\u001b[0m\u001b[0;34m\u001b[0m\u001b[0m\n",
      "\u001b[0;32m~/anaconda3/lib/python3.7/site-packages/tensorflow_core/python/autograph/impl/api.py\u001b[0m in \u001b[0;36mwrapper\u001b[0;34m(*args, **kwargs)\u001b[0m\n\u001b[1;32m    290\u001b[0m   \u001b[0;32mdef\u001b[0m \u001b[0mwrapper\u001b[0m\u001b[0;34m(\u001b[0m\u001b[0;34m*\u001b[0m\u001b[0margs\u001b[0m\u001b[0;34m,\u001b[0m \u001b[0;34m**\u001b[0m\u001b[0mkwargs\u001b[0m\u001b[0;34m)\u001b[0m\u001b[0;34m:\u001b[0m\u001b[0;34m\u001b[0m\u001b[0;34m\u001b[0m\u001b[0m\n\u001b[1;32m    291\u001b[0m     \u001b[0;32mwith\u001b[0m \u001b[0mag_ctx\u001b[0m\u001b[0;34m.\u001b[0m\u001b[0mControlStatusCtx\u001b[0m\u001b[0;34m(\u001b[0m\u001b[0mstatus\u001b[0m\u001b[0;34m=\u001b[0m\u001b[0mag_ctx\u001b[0m\u001b[0;34m.\u001b[0m\u001b[0mStatus\u001b[0m\u001b[0;34m.\u001b[0m\u001b[0mDISABLED\u001b[0m\u001b[0;34m)\u001b[0m\u001b[0;34m:\u001b[0m\u001b[0;34m\u001b[0m\u001b[0;34m\u001b[0m\u001b[0m\n\u001b[0;32m--> 292\u001b[0;31m       \u001b[0;32mreturn\u001b[0m \u001b[0mfunc\u001b[0m\u001b[0;34m(\u001b[0m\u001b[0;34m*\u001b[0m\u001b[0margs\u001b[0m\u001b[0;34m,\u001b[0m \u001b[0;34m**\u001b[0m\u001b[0mkwargs\u001b[0m\u001b[0;34m)\u001b[0m\u001b[0;34m\u001b[0m\u001b[0;34m\u001b[0m\u001b[0m\n\u001b[0m\u001b[1;32m    293\u001b[0m \u001b[0;34m\u001b[0m\u001b[0m\n\u001b[1;32m    294\u001b[0m   \u001b[0;32mif\u001b[0m \u001b[0minspect\u001b[0m\u001b[0;34m.\u001b[0m\u001b[0misfunction\u001b[0m\u001b[0;34m(\u001b[0m\u001b[0mfunc\u001b[0m\u001b[0;34m)\u001b[0m \u001b[0;32mor\u001b[0m \u001b[0minspect\u001b[0m\u001b[0;34m.\u001b[0m\u001b[0mismethod\u001b[0m\u001b[0;34m(\u001b[0m\u001b[0mfunc\u001b[0m\u001b[0;34m)\u001b[0m\u001b[0;34m:\u001b[0m\u001b[0;34m\u001b[0m\u001b[0;34m\u001b[0m\u001b[0m\n",
      "\u001b[0;32m~/anaconda3/lib/python3.7/site-packages/tensorflow_core/python/keras/engine/training_v2_utils.py\u001b[0m in \u001b[0;36mtrain_on_batch\u001b[0;34m(model, x, y, sample_weight, class_weight, reset_metrics)\u001b[0m\n\u001b[1;32m    262\u001b[0m       \u001b[0my\u001b[0m\u001b[0;34m,\u001b[0m\u001b[0;34m\u001b[0m\u001b[0;34m\u001b[0m\u001b[0m\n\u001b[1;32m    263\u001b[0m       \u001b[0msample_weights\u001b[0m\u001b[0;34m=\u001b[0m\u001b[0msample_weights\u001b[0m\u001b[0;34m,\u001b[0m\u001b[0;34m\u001b[0m\u001b[0;34m\u001b[0m\u001b[0m\n\u001b[0;32m--> 264\u001b[0;31m       output_loss_metrics=model._output_loss_metrics)\n\u001b[0m\u001b[1;32m    265\u001b[0m \u001b[0;34m\u001b[0m\u001b[0m\n\u001b[1;32m    266\u001b[0m   \u001b[0;32mif\u001b[0m \u001b[0mreset_metrics\u001b[0m\u001b[0;34m:\u001b[0m\u001b[0;34m\u001b[0m\u001b[0;34m\u001b[0m\u001b[0m\n",
      "\u001b[0;32m~/anaconda3/lib/python3.7/site-packages/tensorflow_core/python/keras/engine/training_eager.py\u001b[0m in \u001b[0;36mtrain_on_batch\u001b[0;34m(model, inputs, targets, sample_weights, output_loss_metrics)\u001b[0m\n\u001b[1;32m    309\u001b[0m           \u001b[0msample_weights\u001b[0m\u001b[0;34m=\u001b[0m\u001b[0msample_weights\u001b[0m\u001b[0;34m,\u001b[0m\u001b[0;34m\u001b[0m\u001b[0;34m\u001b[0m\u001b[0m\n\u001b[1;32m    310\u001b[0m           \u001b[0mtraining\u001b[0m\u001b[0;34m=\u001b[0m\u001b[0;32mTrue\u001b[0m\u001b[0;34m,\u001b[0m\u001b[0;34m\u001b[0m\u001b[0;34m\u001b[0m\u001b[0m\n\u001b[0;32m--> 311\u001b[0;31m           output_loss_metrics=output_loss_metrics))\n\u001b[0m\u001b[1;32m    312\u001b[0m   \u001b[0;32mif\u001b[0m \u001b[0;32mnot\u001b[0m \u001b[0misinstance\u001b[0m\u001b[0;34m(\u001b[0m\u001b[0mouts\u001b[0m\u001b[0;34m,\u001b[0m \u001b[0mlist\u001b[0m\u001b[0;34m)\u001b[0m\u001b[0;34m:\u001b[0m\u001b[0;34m\u001b[0m\u001b[0;34m\u001b[0m\u001b[0m\n\u001b[1;32m    313\u001b[0m     \u001b[0mouts\u001b[0m \u001b[0;34m=\u001b[0m \u001b[0;34m[\u001b[0m\u001b[0mouts\u001b[0m\u001b[0;34m]\u001b[0m\u001b[0;34m\u001b[0m\u001b[0;34m\u001b[0m\u001b[0m\n",
      "\u001b[0;32m~/anaconda3/lib/python3.7/site-packages/tensorflow_core/python/keras/engine/training_eager.py\u001b[0m in \u001b[0;36m_process_single_batch\u001b[0;34m(model, inputs, targets, output_loss_metrics, sample_weights, training)\u001b[0m\n\u001b[1;32m    250\u001b[0m               \u001b[0moutput_loss_metrics\u001b[0m\u001b[0;34m=\u001b[0m\u001b[0moutput_loss_metrics\u001b[0m\u001b[0;34m,\u001b[0m\u001b[0;34m\u001b[0m\u001b[0;34m\u001b[0m\u001b[0m\n\u001b[1;32m    251\u001b[0m               \u001b[0msample_weights\u001b[0m\u001b[0;34m=\u001b[0m\u001b[0msample_weights\u001b[0m\u001b[0;34m,\u001b[0m\u001b[0;34m\u001b[0m\u001b[0;34m\u001b[0m\u001b[0m\n\u001b[0;32m--> 252\u001b[0;31m               training=training))\n\u001b[0m\u001b[1;32m    253\u001b[0m       \u001b[0;32mif\u001b[0m \u001b[0mtotal_loss\u001b[0m \u001b[0;32mis\u001b[0m \u001b[0;32mNone\u001b[0m\u001b[0;34m:\u001b[0m\u001b[0;34m\u001b[0m\u001b[0;34m\u001b[0m\u001b[0m\n\u001b[1;32m    254\u001b[0m         raise ValueError('The model cannot be run '\n",
      "\u001b[0;32m~/anaconda3/lib/python3.7/site-packages/tensorflow_core/python/keras/engine/training_eager.py\u001b[0m in \u001b[0;36m_model_loss\u001b[0;34m(model, inputs, targets, output_loss_metrics, sample_weights, training)\u001b[0m\n\u001b[1;32m    164\u001b[0m \u001b[0;34m\u001b[0m\u001b[0m\n\u001b[1;32m    165\u001b[0m         \u001b[0;32mif\u001b[0m \u001b[0mhasattr\u001b[0m\u001b[0;34m(\u001b[0m\u001b[0mloss_fn\u001b[0m\u001b[0;34m,\u001b[0m \u001b[0;34m'reduction'\u001b[0m\u001b[0;34m)\u001b[0m\u001b[0;34m:\u001b[0m\u001b[0;34m\u001b[0m\u001b[0;34m\u001b[0m\u001b[0m\n\u001b[0;32m--> 166\u001b[0;31m           \u001b[0mper_sample_losses\u001b[0m \u001b[0;34m=\u001b[0m \u001b[0mloss_fn\u001b[0m\u001b[0;34m.\u001b[0m\u001b[0mcall\u001b[0m\u001b[0;34m(\u001b[0m\u001b[0mtargets\u001b[0m\u001b[0;34m[\u001b[0m\u001b[0mi\u001b[0m\u001b[0;34m]\u001b[0m\u001b[0;34m,\u001b[0m \u001b[0mouts\u001b[0m\u001b[0;34m[\u001b[0m\u001b[0mi\u001b[0m\u001b[0;34m]\u001b[0m\u001b[0;34m)\u001b[0m\u001b[0;34m\u001b[0m\u001b[0;34m\u001b[0m\u001b[0m\n\u001b[0m\u001b[1;32m    167\u001b[0m           weighted_losses = losses_utils.compute_weighted_loss(\n\u001b[1;32m    168\u001b[0m               \u001b[0mper_sample_losses\u001b[0m\u001b[0;34m,\u001b[0m\u001b[0;34m\u001b[0m\u001b[0;34m\u001b[0m\u001b[0m\n",
      "\u001b[0;32m~/anaconda3/lib/python3.7/site-packages/tensorflow_core/python/keras/losses.py\u001b[0m in \u001b[0;36mcall\u001b[0;34m(self, y_true, y_pred)\u001b[0m\n\u001b[1;32m    219\u001b[0m       y_pred, y_true = tf_losses_util.squeeze_or_expand_dimensions(\n\u001b[1;32m    220\u001b[0m           y_pred, y_true)\n\u001b[0;32m--> 221\u001b[0;31m     \u001b[0;32mreturn\u001b[0m \u001b[0mself\u001b[0m\u001b[0;34m.\u001b[0m\u001b[0mfn\u001b[0m\u001b[0;34m(\u001b[0m\u001b[0my_true\u001b[0m\u001b[0;34m,\u001b[0m \u001b[0my_pred\u001b[0m\u001b[0;34m,\u001b[0m \u001b[0;34m**\u001b[0m\u001b[0mself\u001b[0m\u001b[0;34m.\u001b[0m\u001b[0m_fn_kwargs\u001b[0m\u001b[0;34m)\u001b[0m\u001b[0;34m\u001b[0m\u001b[0;34m\u001b[0m\u001b[0m\n\u001b[0m\u001b[1;32m    222\u001b[0m \u001b[0;34m\u001b[0m\u001b[0m\n\u001b[1;32m    223\u001b[0m   \u001b[0;32mdef\u001b[0m \u001b[0mget_config\u001b[0m\u001b[0;34m(\u001b[0m\u001b[0mself\u001b[0m\u001b[0;34m)\u001b[0m\u001b[0;34m:\u001b[0m\u001b[0;34m\u001b[0m\u001b[0;34m\u001b[0m\u001b[0m\n",
      "\u001b[0;32m~/anaconda3/lib/python3.7/site-packages/tensorflow_core/python/keras/losses.py\u001b[0m in \u001b[0;36mbinary_crossentropy\u001b[0;34m(y_true, y_pred, from_logits, label_smoothing)\u001b[0m\n\u001b[1;32m    992\u001b[0m                                  _smooth_labels, lambda: y_true)\n\u001b[1;32m    993\u001b[0m   return K.mean(\n\u001b[0;32m--> 994\u001b[0;31m       K.binary_crossentropy(y_true, y_pred, from_logits=from_logits), axis=-1)\n\u001b[0m\u001b[1;32m    995\u001b[0m \u001b[0;34m\u001b[0m\u001b[0m\n\u001b[1;32m    996\u001b[0m \u001b[0;34m\u001b[0m\u001b[0m\n",
      "\u001b[0;32m~/anaconda3/lib/python3.7/site-packages/tensorflow_core/python/keras/backend.py\u001b[0m in \u001b[0;36mbinary_crossentropy\u001b[0;34m(target, output, from_logits)\u001b[0m\n\u001b[1;32m   4586\u001b[0m       \u001b[0;32massert\u001b[0m \u001b[0mlen\u001b[0m\u001b[0;34m(\u001b[0m\u001b[0moutput\u001b[0m\u001b[0;34m.\u001b[0m\u001b[0mop\u001b[0m\u001b[0;34m.\u001b[0m\u001b[0minputs\u001b[0m\u001b[0;34m)\u001b[0m \u001b[0;34m==\u001b[0m \u001b[0;36m1\u001b[0m\u001b[0;34m\u001b[0m\u001b[0;34m\u001b[0m\u001b[0m\n\u001b[1;32m   4587\u001b[0m       \u001b[0moutput\u001b[0m \u001b[0;34m=\u001b[0m \u001b[0moutput\u001b[0m\u001b[0;34m.\u001b[0m\u001b[0mop\u001b[0m\u001b[0;34m.\u001b[0m\u001b[0minputs\u001b[0m\u001b[0;34m[\u001b[0m\u001b[0;36m0\u001b[0m\u001b[0;34m]\u001b[0m\u001b[0;34m\u001b[0m\u001b[0;34m\u001b[0m\u001b[0m\n\u001b[0;32m-> 4588\u001b[0;31m   \u001b[0;32mreturn\u001b[0m \u001b[0mnn\u001b[0m\u001b[0;34m.\u001b[0m\u001b[0msigmoid_cross_entropy_with_logits\u001b[0m\u001b[0;34m(\u001b[0m\u001b[0mlabels\u001b[0m\u001b[0;34m=\u001b[0m\u001b[0mtarget\u001b[0m\u001b[0;34m,\u001b[0m \u001b[0mlogits\u001b[0m\u001b[0;34m=\u001b[0m\u001b[0moutput\u001b[0m\u001b[0;34m)\u001b[0m\u001b[0;34m\u001b[0m\u001b[0;34m\u001b[0m\u001b[0m\n\u001b[0m\u001b[1;32m   4589\u001b[0m \u001b[0;34m\u001b[0m\u001b[0m\n\u001b[1;32m   4590\u001b[0m \u001b[0;34m\u001b[0m\u001b[0m\n",
      "\u001b[0;32m~/anaconda3/lib/python3.7/site-packages/tensorflow_core/python/ops/nn_impl.py\u001b[0m in \u001b[0;36msigmoid_cross_entropy_with_logits\u001b[0;34m(_sentinel, labels, logits, name)\u001b[0m\n\u001b[1;32m    169\u001b[0m     \u001b[0;32mexcept\u001b[0m \u001b[0mValueError\u001b[0m\u001b[0;34m:\u001b[0m\u001b[0;34m\u001b[0m\u001b[0;34m\u001b[0m\u001b[0m\n\u001b[1;32m    170\u001b[0m       raise ValueError(\"logits and labels must have the same shape (%s vs %s)\" %\n\u001b[0;32m--> 171\u001b[0;31m                        (logits.get_shape(), labels.get_shape()))\n\u001b[0m\u001b[1;32m    172\u001b[0m \u001b[0;34m\u001b[0m\u001b[0m\n\u001b[1;32m    173\u001b[0m     \u001b[0;31m# The logistic loss formula from above is\u001b[0m\u001b[0;34m\u001b[0m\u001b[0;34m\u001b[0m\u001b[0;34m\u001b[0m\u001b[0m\n",
      "\u001b[0;31mValueError\u001b[0m: logits and labels must have the same shape ((7, 1) vs ())"
     ]
    }
   ],
   "source": [
    "model = build_summary_model()\n",
    "training = summary_data.copy()\n",
    "y = training.pop(\"Malicious\")\n",
    "train_data = tf.data.Dataset.from_tensor_slices((training.values, y.values))\n",
    "train_dataset = train_data.shuffle(len(training)).batch(1)\n",
    "model.fit(training_data, epochs=30)"
   ]
  },
  {
   "cell_type": "code",
   "execution_count": 114,
   "metadata": {},
   "outputs": [
    {
     "name": "stdout",
     "output_type": "stream",
     "text": [
      "Features: [5.91859627e+01 1.22067837e+02 1.49005568e+04 6.67421103e+02\n",
      " 2.31313700e+00 1.64430959e+01 8.62619316e+00], Target: 0\n",
      "Features: [  22.10321427   34.71520753 1205.14563405  224.698067      3.786087\n",
      "   12.88222587    9.80347794], Target: 0\n",
      "Features: [  22.90788412   57.44095974 3299.46385606  423.770189      3.89719\n",
      "   10.90832751    8.49799987], Target: 0\n",
      "Features: [2.78508592e+01 6.09393521e+01 3.71360464e+03 4.19315100e+02\n",
      " 2.87008300e+00 1.24814972e+01 8.96435182e+00], Target: 0\n",
      "Features: [2.90376568e+01 7.65439209e+01 5.85897183e+03 5.27385950e+02\n",
      " 2.85697000e+00 1.14984592e+01 8.44215314e+00], Target: 0\n",
      "(12300, 7) (12300,)\n"
     ]
    }
   ],
   "source": [
    "for feat, targ in train_data.take(5):\n",
    "    print('Features: {}, Target: {}'.format(feat, targ))\n",
    "print(X.shape, y.shape)"
   ]
  },
  {
   "cell_type": "code",
   "execution_count": null,
   "metadata": {},
   "outputs": [],
   "source": [
    "print(\"==================================================\")\n",
    "print(\"=                Overall results                ==\")\n",
    "print(\"==================================================\")\n",
    "print(\"    *Request-reply data*\")\n",
    "print(\"    Fully-Connected test accuracy: {}\".format(fc_qr_results[1]))\n",
    "print(\"    Convolutional test accuracy: {}\".format(conv_qr_results[1]))\n",
    "print(\"    Fourier f-c test accuracy: {}\".format(fourier_fc_qr_results[1]))\n",
    "print(\"    Fourier conv test accuracy: {}\".format(fourier_conv_qr_results[1]))\n",
    "print(\"    Wavelet f-c test accuracy: {}\".format(wavelet_fc_qr_results[1]))\n",
    "print(\"    Wavelet conv test accuracy: {}\".format(wavelet_conv_qr_results[1]))\n",
    "print(\"    Fourier NN test accuracy: {}\").format(fourier_nn_qr_results[1])\n",
    "print(\"    High-pass Wavelet f-c test accuracy {}\".format(high_pass_results[1]))\n",
    "print(\"    High-pass Wavelet conv test accuracy {}\".format(high_pass_conv_results[1]))\n",
    "print(\"    Low-pass Wavelet f-c test accuracy {}\".format(low_pass_results[1]))\n",
    "# print(\"    Wavelet NN test accuracy: {}\").formaat(wavelet_nn_qr_results[1])\n",
    "print(\"    Random Forest (control 1) test accuracy: {}\".format(rf_accuracy))\n",
    "print(\"    Support Vector Machine (control 2) test accuracy: {}\".format(svm_accuracy))\n",
    "# print(\"    *Reply-reply data*\")\n",
    "# print(\"    Fully-Connected test accuracy: {}\".format(fc_rr_results[1]))\n",
    "# print(\"    Convolutional test accuracy: {}\".format(conv_rr_results[1]))\n",
    "# print(\"    Fourier f-c test accuracy: {}\".format(fourier_fc_rr_results[1]))\n",
    "# print(\"    Fourier conv test accuracy: {}\".format(fourier_conv_rr_results[1]))\n",
    "# print(\"    Wavelet f-c test accuracy: {}\".format(wavelet_fc_rr_results[1]))\n",
    "# print(\"    Wavelet conv test accuracy: {}\".format(wavelet_conv_rr_results[1]))"
   ]
  },
  {
   "cell_type": "code",
   "execution_count": null,
   "metadata": {},
   "outputs": [],
   "source": []
  },
  {
   "cell_type": "code",
   "execution_count": null,
   "metadata": {},
   "outputs": [],
   "source": []
  }
 ],
 "metadata": {
  "kernelspec": {
   "display_name": "Python 3",
   "language": "python",
   "name": "python3"
  },
  "language_info": {
   "codemirror_mode": {
    "name": "ipython",
    "version": 3
   },
   "file_extension": ".py",
   "mimetype": "text/x-python",
   "name": "python",
   "nbconvert_exporter": "python",
   "pygments_lexer": "ipython3",
   "version": "3.7.4"
  }
 },
 "nbformat": 4,
 "nbformat_minor": 2
}
