{
 "cells": [
  {
   "cell_type": "code",
   "execution_count": 1,
   "metadata": {},
   "outputs": [],
   "source": [
    "import pandas as pd\n",
    "import numpy as np\n",
    "import matplotlib.pyplot as plt\n",
    "import seaborn as sns\n",
    "%matplotlib inline"
   ]
  },
  {
   "cell_type": "code",
   "execution_count": 2,
   "metadata": {},
   "outputs": [],
   "source": [
    "request_reply_df = pd.read_csv(\"./data/requestreply.csv\", header=None)\n",
    "reply_reply_df = pd.read_csv(\"./data/replyreply.csv\", header=None)"
   ]
  },
  {
   "cell_type": "code",
   "execution_count": 3,
   "metadata": {},
   "outputs": [
    {
     "data": {
      "text/html": [
       "<div>\n",
       "<style scoped>\n",
       "    .dataframe tbody tr th:only-of-type {\n",
       "        vertical-align: middle;\n",
       "    }\n",
       "\n",
       "    .dataframe tbody tr th {\n",
       "        vertical-align: top;\n",
       "    }\n",
       "\n",
       "    .dataframe thead th {\n",
       "        text-align: right;\n",
       "    }\n",
       "</style>\n",
       "<table border=\"1\" class=\"dataframe\">\n",
       "  <thead>\n",
       "    <tr style=\"text-align: right;\">\n",
       "      <th></th>\n",
       "      <th>2</th>\n",
       "      <th>3</th>\n",
       "      <th>4</th>\n",
       "      <th>5</th>\n",
       "      <th>6</th>\n",
       "      <th>7</th>\n",
       "      <th>8</th>\n",
       "      <th>9</th>\n",
       "      <th>10</th>\n",
       "      <th>11</th>\n",
       "      <th>...</th>\n",
       "      <th>92</th>\n",
       "      <th>93</th>\n",
       "      <th>94</th>\n",
       "      <th>95</th>\n",
       "      <th>96</th>\n",
       "      <th>97</th>\n",
       "      <th>98</th>\n",
       "      <th>99</th>\n",
       "      <th>100</th>\n",
       "      <th>101</th>\n",
       "    </tr>\n",
       "  </thead>\n",
       "  <tbody>\n",
       "    <tr>\n",
       "      <th>count</th>\n",
       "      <td>12300.000000</td>\n",
       "      <td>12300.000000</td>\n",
       "      <td>12300.000000</td>\n",
       "      <td>12300.000000</td>\n",
       "      <td>12300.000000</td>\n",
       "      <td>12300.000000</td>\n",
       "      <td>12300.000000</td>\n",
       "      <td>12300.000000</td>\n",
       "      <td>12300.000000</td>\n",
       "      <td>12300.000000</td>\n",
       "      <td>...</td>\n",
       "      <td>12300.000000</td>\n",
       "      <td>12300.000000</td>\n",
       "      <td>12300.000000</td>\n",
       "      <td>12300.000000</td>\n",
       "      <td>12300.000000</td>\n",
       "      <td>12300.000000</td>\n",
       "      <td>12300.000000</td>\n",
       "      <td>12300.000000</td>\n",
       "      <td>12300.000000</td>\n",
       "      <td>12300.000000</td>\n",
       "    </tr>\n",
       "    <tr>\n",
       "      <th>mean</th>\n",
       "      <td>168.552801</td>\n",
       "      <td>80.671077</td>\n",
       "      <td>38.756572</td>\n",
       "      <td>32.053867</td>\n",
       "      <td>30.741587</td>\n",
       "      <td>29.762200</td>\n",
       "      <td>29.199574</td>\n",
       "      <td>27.477508</td>\n",
       "      <td>26.854041</td>\n",
       "      <td>25.994097</td>\n",
       "      <td>...</td>\n",
       "      <td>25.061934</td>\n",
       "      <td>25.304607</td>\n",
       "      <td>25.449759</td>\n",
       "      <td>25.352015</td>\n",
       "      <td>25.144316</td>\n",
       "      <td>25.101272</td>\n",
       "      <td>26.139811</td>\n",
       "      <td>26.930865</td>\n",
       "      <td>28.847339</td>\n",
       "      <td>33.734174</td>\n",
       "    </tr>\n",
       "    <tr>\n",
       "      <th>std</th>\n",
       "      <td>143.484703</td>\n",
       "      <td>139.634386</td>\n",
       "      <td>124.942185</td>\n",
       "      <td>115.652077</td>\n",
       "      <td>108.482573</td>\n",
       "      <td>103.805790</td>\n",
       "      <td>114.714679</td>\n",
       "      <td>104.206368</td>\n",
       "      <td>100.228591</td>\n",
       "      <td>97.246000</td>\n",
       "      <td>...</td>\n",
       "      <td>103.891678</td>\n",
       "      <td>103.689839</td>\n",
       "      <td>104.585712</td>\n",
       "      <td>104.140811</td>\n",
       "      <td>105.343442</td>\n",
       "      <td>105.831126</td>\n",
       "      <td>108.482392</td>\n",
       "      <td>113.407518</td>\n",
       "      <td>149.541268</td>\n",
       "      <td>157.315308</td>\n",
       "    </tr>\n",
       "    <tr>\n",
       "      <th>min</th>\n",
       "      <td>-1.000000</td>\n",
       "      <td>-1.000000</td>\n",
       "      <td>-1.000000</td>\n",
       "      <td>-1.000000</td>\n",
       "      <td>-1.000000</td>\n",
       "      <td>-1.000000</td>\n",
       "      <td>-1.000000</td>\n",
       "      <td>-1.000000</td>\n",
       "      <td>-1.000000</td>\n",
       "      <td>-1.000000</td>\n",
       "      <td>...</td>\n",
       "      <td>-1.000000</td>\n",
       "      <td>-1.000000</td>\n",
       "      <td>-1.000000</td>\n",
       "      <td>-1.000000</td>\n",
       "      <td>-1.000000</td>\n",
       "      <td>-1.000000</td>\n",
       "      <td>-1.000000</td>\n",
       "      <td>-1.000000</td>\n",
       "      <td>-1.000000</td>\n",
       "      <td>-1.000000</td>\n",
       "    </tr>\n",
       "    <tr>\n",
       "      <th>25%</th>\n",
       "      <td>110.203981</td>\n",
       "      <td>10.664463</td>\n",
       "      <td>7.254362</td>\n",
       "      <td>6.472051</td>\n",
       "      <td>6.865978</td>\n",
       "      <td>6.719649</td>\n",
       "      <td>6.819010</td>\n",
       "      <td>6.800115</td>\n",
       "      <td>6.838262</td>\n",
       "      <td>6.684005</td>\n",
       "      <td>...</td>\n",
       "      <td>6.622315</td>\n",
       "      <td>6.737947</td>\n",
       "      <td>6.783962</td>\n",
       "      <td>6.749630</td>\n",
       "      <td>6.704092</td>\n",
       "      <td>6.692827</td>\n",
       "      <td>6.615638</td>\n",
       "      <td>6.826102</td>\n",
       "      <td>6.601989</td>\n",
       "      <td>6.671906</td>\n",
       "    </tr>\n",
       "    <tr>\n",
       "      <th>50%</th>\n",
       "      <td>125.361919</td>\n",
       "      <td>27.813911</td>\n",
       "      <td>11.111021</td>\n",
       "      <td>9.940505</td>\n",
       "      <td>10.165453</td>\n",
       "      <td>10.082960</td>\n",
       "      <td>10.182023</td>\n",
       "      <td>10.108947</td>\n",
       "      <td>10.139465</td>\n",
       "      <td>10.075569</td>\n",
       "      <td>...</td>\n",
       "      <td>10.021448</td>\n",
       "      <td>10.118008</td>\n",
       "      <td>10.111928</td>\n",
       "      <td>10.084033</td>\n",
       "      <td>10.094404</td>\n",
       "      <td>10.052443</td>\n",
       "      <td>10.025501</td>\n",
       "      <td>10.061979</td>\n",
       "      <td>10.042549</td>\n",
       "      <td>10.014534</td>\n",
       "    </tr>\n",
       "    <tr>\n",
       "      <th>75%</th>\n",
       "      <td>216.209472</td>\n",
       "      <td>114.264309</td>\n",
       "      <td>19.995451</td>\n",
       "      <td>15.584529</td>\n",
       "      <td>15.759706</td>\n",
       "      <td>15.511990</td>\n",
       "      <td>15.537262</td>\n",
       "      <td>15.574992</td>\n",
       "      <td>15.710831</td>\n",
       "      <td>15.468359</td>\n",
       "      <td>...</td>\n",
       "      <td>15.242099</td>\n",
       "      <td>15.369892</td>\n",
       "      <td>15.529871</td>\n",
       "      <td>15.397132</td>\n",
       "      <td>15.461623</td>\n",
       "      <td>15.429079</td>\n",
       "      <td>15.504480</td>\n",
       "      <td>15.425980</td>\n",
       "      <td>15.324474</td>\n",
       "      <td>15.388250</td>\n",
       "    </tr>\n",
       "    <tr>\n",
       "      <th>max</th>\n",
       "      <td>5317.913055</td>\n",
       "      <td>5216.073036</td>\n",
       "      <td>5111.930847</td>\n",
       "      <td>5008.516073</td>\n",
       "      <td>4904.536963</td>\n",
       "      <td>4800.885916</td>\n",
       "      <td>6366.826057</td>\n",
       "      <td>6265.555143</td>\n",
       "      <td>6161.940098</td>\n",
       "      <td>6053.858995</td>\n",
       "      <td>...</td>\n",
       "      <td>8872.637033</td>\n",
       "      <td>8973.212957</td>\n",
       "      <td>9074.537039</td>\n",
       "      <td>9175.518036</td>\n",
       "      <td>9275.300026</td>\n",
       "      <td>9375.156164</td>\n",
       "      <td>9476.207972</td>\n",
       "      <td>9576.614857</td>\n",
       "      <td>9934.896946</td>\n",
       "      <td>10035.484076</td>\n",
       "    </tr>\n",
       "  </tbody>\n",
       "</table>\n",
       "<p>8 rows × 100 columns</p>\n",
       "</div>"
      ],
      "text/plain": [
       "                2             3             4             5             6    \\\n",
       "count  12300.000000  12300.000000  12300.000000  12300.000000  12300.000000   \n",
       "mean     168.552801     80.671077     38.756572     32.053867     30.741587   \n",
       "std      143.484703    139.634386    124.942185    115.652077    108.482573   \n",
       "min       -1.000000     -1.000000     -1.000000     -1.000000     -1.000000   \n",
       "25%      110.203981     10.664463      7.254362      6.472051      6.865978   \n",
       "50%      125.361919     27.813911     11.111021      9.940505     10.165453   \n",
       "75%      216.209472    114.264309     19.995451     15.584529     15.759706   \n",
       "max     5317.913055   5216.073036   5111.930847   5008.516073   4904.536963   \n",
       "\n",
       "                7             8             9             10            11   \\\n",
       "count  12300.000000  12300.000000  12300.000000  12300.000000  12300.000000   \n",
       "mean      29.762200     29.199574     27.477508     26.854041     25.994097   \n",
       "std      103.805790    114.714679    104.206368    100.228591     97.246000   \n",
       "min       -1.000000     -1.000000     -1.000000     -1.000000     -1.000000   \n",
       "25%        6.719649      6.819010      6.800115      6.838262      6.684005   \n",
       "50%       10.082960     10.182023     10.108947     10.139465     10.075569   \n",
       "75%       15.511990     15.537262     15.574992     15.710831     15.468359   \n",
       "max     4800.885916   6366.826057   6265.555143   6161.940098   6053.858995   \n",
       "\n",
       "           ...                92            93            94            95   \\\n",
       "count      ...       12300.000000  12300.000000  12300.000000  12300.000000   \n",
       "mean       ...          25.061934     25.304607     25.449759     25.352015   \n",
       "std        ...         103.891678    103.689839    104.585712    104.140811   \n",
       "min        ...          -1.000000     -1.000000     -1.000000     -1.000000   \n",
       "25%        ...           6.622315      6.737947      6.783962      6.749630   \n",
       "50%        ...          10.021448     10.118008     10.111928     10.084033   \n",
       "75%        ...          15.242099     15.369892     15.529871     15.397132   \n",
       "max        ...        8872.637033   8973.212957   9074.537039   9175.518036   \n",
       "\n",
       "                96            97            98            99            100  \\\n",
       "count  12300.000000  12300.000000  12300.000000  12300.000000  12300.000000   \n",
       "mean      25.144316     25.101272     26.139811     26.930865     28.847339   \n",
       "std      105.343442    105.831126    108.482392    113.407518    149.541268   \n",
       "min       -1.000000     -1.000000     -1.000000     -1.000000     -1.000000   \n",
       "25%        6.704092      6.692827      6.615638      6.826102      6.601989   \n",
       "50%       10.094404     10.052443     10.025501     10.061979     10.042549   \n",
       "75%       15.461623     15.429079     15.504480     15.425980     15.324474   \n",
       "max     9275.300026   9375.156164   9476.207972   9576.614857   9934.896946   \n",
       "\n",
       "                101  \n",
       "count  12300.000000  \n",
       "mean      33.734174  \n",
       "std      157.315308  \n",
       "min       -1.000000  \n",
       "25%        6.671906  \n",
       "50%       10.014534  \n",
       "75%       15.388250  \n",
       "max    10035.484076  \n",
       "\n",
       "[8 rows x 100 columns]"
      ]
     },
     "execution_count": 3,
     "metadata": {},
     "output_type": "execute_result"
    }
   ],
   "source": [
    "request_reply_df.describe()"
   ]
  },
  {
   "cell_type": "code",
   "execution_count": 4,
   "metadata": {},
   "outputs": [],
   "source": [
    "request_reply_df.rename(columns={0:'Malicious'}, inplace=True)"
   ]
  },
  {
   "cell_type": "code",
   "execution_count": 5,
   "metadata": {},
   "outputs": [],
   "source": [
    "request_reply_df[\"Malicious\"].replace('legit', 0, inplace=True)\n",
    "request_reply_df[\"Malicious\"].replace('malware', 1, inplace=True)"
   ]
  },
  {
   "cell_type": "code",
   "execution_count": 6,
   "metadata": {},
   "outputs": [
    {
     "data": {
      "text/plain": [
       "<matplotlib.axes._subplots.AxesSubplot at 0x7fa7109823c8>"
      ]
     },
     "execution_count": 6,
     "metadata": {},
     "output_type": "execute_result"
    },
    {
     "data": {
      "image/png": "[encoded data removed]",
      "text/plain": [
       "<Figure size 432x288 with 1 Axes>"
      ]
     },
     "metadata": {
      "needs_background": "light"
     },
     "output_type": "display_data"
    }
   ],
   "source": [
    "benignware = request_reply_df.loc[request_reply_df[\"Malicious\"] == 0]\n",
    "benignware.plot(legend=False)"
   ]
  },
  {
   "cell_type": "code",
   "execution_count": 7,
   "metadata": {},
   "outputs": [
    {
     "data": {
      "text/plain": [
       "<matplotlib.axes._subplots.AxesSubplot at 0x7fa7214af320>"
      ]
     },
     "execution_count": 7,
     "metadata": {},
     "output_type": "execute_result"
    },
    {
     "data": {
      "image/png": "[encoded data removed]",
      "text/plain": [
       "<Figure size 432x288 with 1 Axes>"
      ]
     },
     "metadata": {
      "needs_background": "light"
     },
     "output_type": "display_data"
    }
   ],
   "source": [
    "malware = request_reply_df.loc[request_reply_df[\"Malicious\"] == 1]\n",
    "malware.plot(legend=False)"
   ]
  },
  {
   "cell_type": "code",
   "execution_count": 8,
   "metadata": {},
   "outputs": [],
   "source": [
    "from prototype_model import *"
   ]
  },
  {
   "cell_type": "code",
   "execution_count": 9,
   "metadata": {},
   "outputs": [
    {
     "name": "stderr",
     "output_type": "stream",
     "text": [
      "WARNING: Logging before flag parsing goes to stderr.\n",
      "W1011 10:37:48.584872 4608886208 base_layer.py:1772] Layer sequential is casting an input tensor from dtype float64 to the layer's dtype of float32, which is new behavior in TensorFlow 2.  The layer has dtype float32 because it's dtype defaults to floatx.\n",
      "\n",
      "If you intended to run this layer in float32, you can safely ignore this warning. If in doubt, this warning is likely only an issue if you are porting a TensorFlow 1.X model to TensorFlow 2.\n",
      "\n",
      "To change all layers to have dtype float64 by default, call `tf.keras.backend.set_floatx('float64')`. To change just this layer, pass dtype='float64' to the layer constructor. If you are the author of this layer, you can disable autocasting by passing autocast=False to the base Layer constructor.\n",
      "\n"
     ]
    },
    {
     "name": "stdout",
     "output_type": "stream",
     "text": [
      "Epoch 1/30\n"
     ]
    },
    {
     "name": "stderr",
     "output_type": "stream",
     "text": [
      "W1011 10:37:50.076583 4608886208 deprecation.py:323] From /Users/egalinkin/anaconda3/lib/python3.6/site-packages/tensorflow_core/python/ops/nn_impl.py:183: where (from tensorflow.python.ops.array_ops) is deprecated and will be removed in a future version.\n",
      "Instructions for updating:\n",
      "Use tf.where in 2.0, which has the same broadcast rule as np.where\n"
     ]
    },
    {
     "name": "stdout",
     "output_type": "stream",
     "text": [
      "492/492 [==============================] - 7s 15ms/step - loss: 1.3460 - accuracy: 0.5259\n",
      "Epoch 2/30\n",
      "492/492 [==============================] - 4s 8ms/step - loss: 0.7227 - accuracy: 0.5704\n",
      "Epoch 3/30\n",
      "492/492 [==============================] - 4s 8ms/step - loss: 0.7131 - accuracy: 0.5799\n",
      "Epoch 4/30\n",
      "492/492 [==============================] - 4s 8ms/step - loss: 0.6876 - accuracy: 0.6021\n",
      "Epoch 5/30\n",
      "492/492 [==============================] - 3s 7ms/step - loss: 0.7219 - accuracy: 0.5814\n",
      "Epoch 6/30\n",
      "492/492 [==============================] - 4s 8ms/step - loss: 0.6815 - accuracy: 0.5925\n",
      "Epoch 7/30\n",
      "492/492 [==============================] - 4s 7ms/step - loss: 0.7070 - accuracy: 0.5750\n",
      "Epoch 8/30\n",
      "492/492 [==============================] - 4s 8ms/step - loss: 0.6717 - accuracy: 0.5979\n",
      "Epoch 9/30\n",
      "492/492 [==============================] - 4s 8ms/step - loss: 0.6593 - accuracy: 0.6120\n",
      "Epoch 10/30\n",
      "492/492 [==============================] - 4s 8ms/step - loss: 0.6431 - accuracy: 0.6204\n",
      "Epoch 11/30\n",
      "492/492 [==============================] - 4s 8ms/step - loss: 0.6233 - accuracy: 0.6466\n",
      "Epoch 12/30\n",
      "492/492 [==============================] - 4s 8ms/step - loss: 0.6079 - accuracy: 0.6673\n",
      "Epoch 13/30\n",
      "492/492 [==============================] - 4s 8ms/step - loss: 0.5850 - accuracy: 0.6824\n",
      "Epoch 14/30\n",
      "492/492 [==============================] - 4s 7ms/step - loss: 0.5740 - accuracy: 0.7054\n",
      "Epoch 15/30\n",
      "492/492 [==============================] - 4s 8ms/step - loss: 0.5546 - accuracy: 0.7190\n",
      "Epoch 16/30\n",
      "492/492 [==============================] - 4s 8ms/step - loss: 0.5285 - accuracy: 0.7346\n",
      "Epoch 17/30\n",
      "492/492 [==============================] - 4s 7ms/step - loss: 0.4999 - accuracy: 0.7568\n",
      "Epoch 18/30\n",
      "492/492 [==============================] - 4s 8ms/step - loss: 0.4723 - accuracy: 0.7725\n",
      "Epoch 19/30\n",
      "492/492 [==============================] - 4s 7ms/step - loss: 0.4677 - accuracy: 0.7817\n",
      "Epoch 20/30\n",
      "492/492 [==============================] - 4s 8ms/step - loss: 0.4495 - accuracy: 0.7955\n",
      "Epoch 21/30\n",
      "492/492 [==============================] - 4s 7ms/step - loss: 0.4203 - accuracy: 0.8088\n",
      "Epoch 22/30\n",
      "492/492 [==============================] - 4s 7ms/step - loss: 0.4052 - accuracy: 0.8159\n",
      "Epoch 23/30\n",
      "492/492 [==============================] - 4s 8ms/step - loss: 0.3826 - accuracy: 0.8328\n",
      "Epoch 24/30\n",
      "492/492 [==============================] - 4s 7ms/step - loss: 0.3742 - accuracy: 0.8381\n",
      "Epoch 25/30\n",
      "492/492 [==============================] - 4s 8ms/step - loss: 0.3592 - accuracy: 0.8457\n",
      "Epoch 26/30\n",
      "492/492 [==============================] - 4s 8ms/step - loss: 0.3506 - accuracy: 0.8548\n",
      "Epoch 27/30\n",
      "492/492 [==============================] - 4s 7ms/step - loss: 0.3357 - accuracy: 0.8661\n",
      "Epoch 28/30\n",
      "492/492 [==============================] - 4s 8ms/step - loss: 0.3184 - accuracy: 0.8729\n",
      "Epoch 29/30\n",
      "492/492 [==============================] - 4s 7ms/step - loss: 0.3088 - accuracy: 0.8753\n",
      "Epoch 30/30\n",
      "492/492 [==============================] - 4s 7ms/step - loss: 0.3134 - accuracy: 0.8785\n",
      "History: {'loss': [1.345991016524594, 0.7234594985479261, 0.7135345981251903, 0.6877242298266752, 0.7218133366204859, 0.6810929926672602, 0.7070832222821267, 0.6721679347801984, 0.6592579437344055, 0.6433032902517939, 0.623248688816055, 0.6076704449043041, 0.5851197601333866, 0.5741800586503696, 0.5543911922268752, 0.5283228423355556, 0.4997671842575073, 0.47274168199155386, 0.4673414882726786, 0.449398843283818, 0.41991529998377086, 0.40594111458678556, 0.38264230142037076, 0.37430201579884786, 0.3592572419684592, 0.35055972800809676, 0.3354947801255356, 0.3184319304044896, 0.3087504476278536, 0.3132506640839989], 'accuracy': [0.5259146, 0.5704268, 0.57987803, 0.60213417, 0.5814024, 0.59247965, 0.575, 0.5978659, 0.6119919, 0.62042683, 0.6466463, 0.66727644, 0.6824187, 0.70538616, 0.7190041, 0.73455286, 0.75680894, 0.7724593, 0.78170735, 0.7955285, 0.80884147, 0.81585366, 0.8328252, 0.83810973, 0.84573174, 0.85477644, 0.8660569, 0.87286586, 0.8753049, 0.8784553]}\n",
      "123/123 [==============================] - 2s 15ms/step - loss: 1.0117 - accuracy: 0.6646\n",
      "test loss, test acc: [1.0117453503899458, 0.66463417]\n"
     ]
    }
   ],
   "source": [
    "features = generate_features(request_reply_df)\n",
    "model = build_fc_model(features)\n",
    "fc_qr_history, fc_qr_results = train_model(model, request_reply_df)"
   ]
  },
  {
   "cell_type": "code",
   "execution_count": 10,
   "metadata": {},
   "outputs": [
    {
     "data": {
      "image/png": "[encoded data removed]",
      "text/plain": [
       "<Figure size 432x288 with 1 Axes>"
      ]
     },
     "metadata": {
      "needs_background": "light"
     },
     "output_type": "display_data"
    }
   ],
   "source": [
    "plt.plot(fc_qr_history.history['loss'])\n",
    "plt.title('Fully Connected model loss')\n",
    "plt.ylabel('Loss')\n",
    "plt.xlabel('Epoch')\n",
    "plt.legend(['Train', 'Val'], loc='upper left')\n",
    "plt.show()"
   ]
  },
  {
   "cell_type": "code",
   "execution_count": 11,
   "metadata": {},
   "outputs": [],
   "source": [
    "# features = generate_features(reply_reply_df)\n",
    "# model = build_fc_model(features)\n",
    "# fc_rr_history, fc_rr_results = train_model(model, reply_reply_df)"
   ]
  },
  {
   "cell_type": "code",
   "execution_count": 12,
   "metadata": {},
   "outputs": [],
   "source": [
    "# plt.plot(fc_rr_history.history['loss'])\n",
    "# # plt.plot(fc_rr_history.history['val_accuracy'])\n",
    "# plt.title('Fully Connected model loss')\n",
    "# plt.ylabel('Loss')\n",
    "# plt.xlabel('Epoch')\n",
    "# plt.legend(['Train', 'Val'], loc='upper left')\n",
    "# plt.show()"
   ]
  },
  {
   "cell_type": "code",
   "execution_count": 13,
   "metadata": {},
   "outputs": [
    {
     "name": "stderr",
     "output_type": "stream",
     "text": [
      "W1011 10:39:47.313662 4608886208 base_layer.py:1772] Layer sequential_1 is casting an input tensor from dtype float64 to the layer's dtype of float32, which is new behavior in TensorFlow 2.  The layer has dtype float32 because it's dtype defaults to floatx.\n",
      "\n",
      "If you intended to run this layer in float32, you can safely ignore this warning. If in doubt, this warning is likely only an issue if you are porting a TensorFlow 1.X model to TensorFlow 2.\n",
      "\n",
      "To change all layers to have dtype float64 by default, call `tf.keras.backend.set_floatx('float64')`. To change just this layer, pass dtype='float64' to the layer constructor. If you are the author of this layer, you can disable autocasting by passing autocast=False to the base Layer constructor.\n",
      "\n"
     ]
    },
    {
     "name": "stdout",
     "output_type": "stream",
     "text": [
      "Epoch 1/30\n",
      "492/492 [==============================] - 10s 20ms/step - loss: 0.6615 - accuracy: 0.6124\n",
      "Epoch 2/30\n",
      "492/492 [==============================] - 7s 13ms/step - loss: 0.6205 - accuracy: 0.6620\n",
      "Epoch 3/30\n",
      "492/492 [==============================] - 7s 14ms/step - loss: 0.6032 - accuracy: 0.6784\n",
      "Epoch 4/30\n",
      "492/492 [==============================] - 7s 15ms/step - loss: 0.5892 - accuracy: 0.6948\n",
      "Epoch 5/30\n",
      "492/492 [==============================] - 7s 15ms/step - loss: 0.5742 - accuracy: 0.7064\n",
      "Epoch 6/30\n",
      "492/492 [==============================] - 7s 15ms/step - loss: 0.5575 - accuracy: 0.7194\n",
      "Epoch 7/30\n",
      "492/492 [==============================] - 8s 16ms/step - loss: 0.5492 - accuracy: 0.7193\n",
      "Epoch 8/30\n",
      "492/492 [==============================] - 8s 17ms/step - loss: 0.5390 - accuracy: 0.7292\n",
      "Epoch 9/30\n",
      "492/492 [==============================] - 8s 17ms/step - loss: 0.5303 - accuracy: 0.7388\n",
      "Epoch 10/30\n",
      "492/492 [==============================] - 8s 17ms/step - loss: 0.5178 - accuracy: 0.7475\n",
      "Epoch 11/30\n",
      "492/492 [==============================] - 8s 16ms/step - loss: 0.5136 - accuracy: 0.7473\n",
      "Epoch 12/30\n",
      "492/492 [==============================] - 8s 16ms/step - loss: 0.5078 - accuracy: 0.7530\n",
      "Epoch 13/30\n",
      "492/492 [==============================] - 8s 17ms/step - loss: 0.4993 - accuracy: 0.7544\n",
      "Epoch 14/30\n",
      "492/492 [==============================] - 8s 16ms/step - loss: 0.4909 - accuracy: 0.7622\n",
      "Epoch 15/30\n",
      "492/492 [==============================] - 8s 17ms/step - loss: 0.4766 - accuracy: 0.7706\n",
      "Epoch 16/30\n",
      "492/492 [==============================] - 8s 16ms/step - loss: 0.4631 - accuracy: 0.7822\n",
      "Epoch 17/30\n",
      "492/492 [==============================] - 8s 16ms/step - loss: 0.4644 - accuracy: 0.7775\n",
      "Epoch 18/30\n",
      "492/492 [==============================] - 8s 17ms/step - loss: 0.4529 - accuracy: 0.7880\n",
      "Epoch 19/30\n",
      "492/492 [==============================] - 7s 14ms/step - loss: 0.4377 - accuracy: 0.7944\n",
      "Epoch 20/30\n",
      "492/492 [==============================] - 7s 15ms/step - loss: 0.4343 - accuracy: 0.7949\n",
      "Epoch 21/30\n",
      "492/492 [==============================] - 7s 15ms/step - loss: 0.4225 - accuracy: 0.8059\n",
      "Epoch 22/30\n",
      "492/492 [==============================] - 7s 15ms/step - loss: 0.4190 - accuracy: 0.8004\n",
      "Epoch 23/30\n",
      "492/492 [==============================] - 7s 14ms/step - loss: 0.4043 - accuracy: 0.8147\n",
      "Epoch 24/30\n",
      "492/492 [==============================] - 7s 14ms/step - loss: 0.3944 - accuracy: 0.8201\n",
      "Epoch 25/30\n",
      "492/492 [==============================] - 7s 14ms/step - loss: 0.3844 - accuracy: 0.8251\n",
      "Epoch 26/30\n",
      "492/492 [==============================] - 7s 15ms/step - loss: 0.3729 - accuracy: 0.8321\n",
      "Epoch 27/30\n",
      "492/492 [==============================] - 7s 14ms/step - loss: 0.3669 - accuracy: 0.8410\n",
      "Epoch 28/30\n",
      "492/492 [==============================] - 7s 14ms/step - loss: 0.3631 - accuracy: 0.8330\n",
      "Epoch 29/30\n",
      "492/492 [==============================] - 7s 14ms/step - loss: 0.3513 - accuracy: 0.8477\n",
      "Epoch 30/30\n",
      "492/492 [==============================] - 7s 15ms/step - loss: 0.3401 - accuracy: 0.8502\n",
      "History: {'loss': [0.6614914678218888, 0.6202401934358163, 0.6030442881874922, 0.5891047074058191, 0.5744137995369066, 0.5576005544725472, 0.5491812171914229, 0.5391294328662438, 0.5306026281380072, 0.5176416662165789, 0.5135053820241757, 0.507588708031226, 0.49940836144898965, 0.49095398578338506, 0.47720392184650023, 0.46325243361354845, 0.4642466651351471, 0.45277590289469655, 0.4381156602526099, 0.43457742934910265, 0.4221913351760647, 0.41918743965102406, 0.4047788850115082, 0.3945004816765223, 0.38460640236735344, 0.3728379464852131, 0.36717527150744345, 0.3632132374810252, 0.35120590364303045, 0.34006489742153545], 'accuracy': [0.6123984, 0.6619919, 0.67835367, 0.69481707, 0.7064024, 0.7194106, 0.719309, 0.7291667, 0.73882115, 0.74745935, 0.7472561, 0.7530488, 0.7543699, 0.7621951, 0.77063006, 0.7822155, 0.7775406, 0.78800815, 0.7944106, 0.7949187, 0.8058943, 0.8004065, 0.8147358, 0.82012194, 0.8251016, 0.8321138, 0.84095526, 0.83302844, 0.8476626, 0.8502033]}\n",
      "123/123 [==============================] - 2s 14ms/step - loss: 0.6382 - accuracy: 0.7272\n",
      "test loss, test acc: [0.6381856770050235, 0.7272358]\n"
     ]
    }
   ],
   "source": [
    "features = generate_features(request_reply_df)\n",
    "model = build_conv_model(features)\n",
    "conv_qr_history, conv_qr_results = train_model(model, request_reply_df)"
   ]
  },
  {
   "cell_type": "code",
   "execution_count": 14,
   "metadata": {},
   "outputs": [
    {
     "data": {
      "image/png": "[encoded data removed]",
      "text/plain": [
       "<Figure size 432x288 with 1 Axes>"
      ]
     },
     "metadata": {
      "needs_background": "light"
     },
     "output_type": "display_data"
    }
   ],
   "source": [
    "plt.plot(conv_qr_history.history['loss'])\n",
    "# plt.plot(conv_qr_history.history['val_accuracy'])\n",
    "plt.title('Convolutional model loss')\n",
    "plt.ylabel('Loss')\n",
    "plt.xlabel('Epoch')\n",
    "plt.legend(['Train', 'Val'], loc='upper left')\n",
    "plt.show()"
   ]
  },
  {
   "cell_type": "code",
   "execution_count": 15,
   "metadata": {},
   "outputs": [],
   "source": [
    "# features = generate_features(reply_reply_df)\n",
    "# model = build_conv_model(features)\n",
    "# conv_rr_history, conv_rr_results = train_model(model, reply_reply_df)"
   ]
  },
  {
   "cell_type": "code",
   "execution_count": 16,
   "metadata": {},
   "outputs": [],
   "source": [
    "# plt.plot(conv_rr_history.history['accuracy'])\n",
    "# # plt.plot(conv_rr_history.history['val_accuracy'])\n",
    "# plt.title('Convolutional model accuracy')\n",
    "# plt.ylabel('Accuracy')\n",
    "# plt.xlabel('Epoch')\n",
    "# plt.legend(['Train', 'Val'], loc='upper left')\n",
    "# plt.show()"
   ]
  },
  {
   "cell_type": "code",
   "execution_count": 17,
   "metadata": {},
   "outputs": [],
   "source": [
    "from sklearn.ensemble import RandomForestClassifier\n",
    "from sklearn.model_selection import train_test_split"
   ]
  },
  {
   "cell_type": "code",
   "execution_count": 18,
   "metadata": {},
   "outputs": [],
   "source": [
    "dataset = request_reply_df.copy()\n",
    "labels = dataset.pop(\"Malicious\")\n",
    "X_train, X_test, y_train, y_test = train_test_split(dataset, labels, test_size=.2, stratify=labels)"
   ]
  },
  {
   "cell_type": "code",
   "execution_count": 19,
   "metadata": {},
   "outputs": [
    {
     "data": {
      "text/plain": [
       "RandomForestClassifier(bootstrap=True, class_weight=None, criterion='gini',\n",
       "            max_depth=None, max_features='auto', max_leaf_nodes=None,\n",
       "            min_impurity_decrease=0.0, min_impurity_split=None,\n",
       "            min_samples_leaf=1, min_samples_split=2,\n",
       "            min_weight_fraction_leaf=0.0, n_estimators=100, n_jobs=None,\n",
       "            oob_score=False, random_state=None, verbose=0,\n",
       "            warm_start=False)"
      ]
     },
     "execution_count": 19,
     "metadata": {},
     "output_type": "execute_result"
    }
   ],
   "source": [
    "clf = RandomForestClassifier(n_estimators=100)\n",
    "clf.fit(X_train, y_train)"
   ]
  },
  {
   "cell_type": "code",
   "execution_count": 20,
   "metadata": {},
   "outputs": [],
   "source": [
    "predictions = clf.predict(X_test)"
   ]
  },
  {
   "cell_type": "code",
   "execution_count": 21,
   "metadata": {},
   "outputs": [
    {
     "name": "stdout",
     "output_type": "stream",
     "text": [
      "Accuracy of random forest classifier:0.7914634146341464\n"
     ]
    }
   ],
   "source": [
    "errors = [0 if p == label else 1 for p, label in zip(predictions, y_test)]\n",
    "rf_accuracy = 1 - (np.sum(errors)/len(errors))\n",
    "print(\"Accuracy of random forest classifier:\" + str(rf_accuracy))"
   ]
  },
  {
   "cell_type": "code",
   "execution_count": 22,
   "metadata": {},
   "outputs": [
    {
     "name": "stdout",
     "output_type": "stream",
     "text": [
      "Epoch 1/30\n",
      "492/492 [==============================] - 5s 10ms/step - loss: 200.8515 - accuracy: 0.4856\n",
      "Epoch 2/30\n",
      "492/492 [==============================] - 3s 5ms/step - loss: 19.5552 - accuracy: 0.5042\n",
      "Epoch 3/30\n",
      "492/492 [==============================] - 3s 5ms/step - loss: 9.0468 - accuracy: 0.5016\n",
      "Epoch 4/30\n",
      "492/492 [==============================] - 3s 5ms/step - loss: 7.0635 - accuracy: 0.5039\n",
      "Epoch 5/30\n",
      "492/492 [==============================] - 3s 5ms/step - loss: 3.8835 - accuracy: 0.5068\n",
      "Epoch 6/30\n",
      "492/492 [==============================] - 3s 5ms/step - loss: 2.1463 - accuracy: 0.5058\n",
      "Epoch 7/30\n",
      "492/492 [==============================] - 3s 5ms/step - loss: 2.5955 - accuracy: 0.5127\n",
      "Epoch 8/30\n",
      "492/492 [==============================] - 3s 5ms/step - loss: 1.8222 - accuracy: 0.5098\n",
      "Epoch 9/30\n",
      "492/492 [==============================] - 3s 5ms/step - loss: 2.9368 - accuracy: 0.5123\n",
      "Epoch 10/30\n",
      "492/492 [==============================] - 3s 5ms/step - loss: 1.3969 - accuracy: 0.5107\n",
      "Epoch 11/30\n",
      "492/492 [==============================] - 3s 5ms/step - loss: 1.8806 - accuracy: 0.4941\n",
      "Epoch 12/30\n",
      "492/492 [==============================] - 3s 5ms/step - loss: 0.7957 - accuracy: 0.5370\n",
      "Epoch 13/30\n",
      "492/492 [==============================] - 3s 5ms/step - loss: 0.7119 - accuracy: 0.5435\n",
      "Epoch 14/30\n",
      "492/492 [==============================] - 3s 5ms/step - loss: 0.6941 - accuracy: 0.5478\n",
      "Epoch 15/30\n",
      "492/492 [==============================] - 3s 5ms/step - loss: 0.7600 - accuracy: 0.5496\n",
      "Epoch 16/30\n",
      "492/492 [==============================] - 3s 5ms/step - loss: 0.7057 - accuracy: 0.5509\n",
      "Epoch 17/30\n",
      "492/492 [==============================] - 3s 5ms/step - loss: 0.6994 - accuracy: 0.5520\n",
      "Epoch 18/30\n",
      "492/492 [==============================] - 3s 5ms/step - loss: 0.7084 - accuracy: 0.5529\n",
      "Epoch 19/30\n",
      "492/492 [==============================] - 3s 5ms/step - loss: 0.7161 - accuracy: 0.5521\n",
      "Epoch 20/30\n",
      "492/492 [==============================] - 3s 5ms/step - loss: 0.6944 - accuracy: 0.5524\n",
      "Epoch 21/30\n",
      "492/492 [==============================] - 3s 5ms/step - loss: 0.6894 - accuracy: 0.5526\n",
      "Epoch 22/30\n",
      "492/492 [==============================] - 3s 5ms/step - loss: 0.6897 - accuracy: 0.5527\n",
      "Epoch 23/30\n",
      "492/492 [==============================] - 3s 5ms/step - loss: 0.6906 - accuracy: 0.5527\n",
      "Epoch 24/30\n",
      "492/492 [==============================] - 3s 6ms/step - loss: 0.6892 - accuracy: 0.5530\n",
      "Epoch 25/30\n",
      "492/492 [==============================] - 3s 6ms/step - loss: 0.7122 - accuracy: 0.5528\n",
      "Epoch 26/30\n",
      "492/492 [==============================] - 3s 6ms/step - loss: 0.7603 - accuracy: 0.5529\n",
      "Epoch 27/30\n",
      "492/492 [==============================] - 3s 5ms/step - loss: 0.7086 - accuracy: 0.5537\n",
      "Epoch 28/30\n",
      "492/492 [==============================] - 3s 6ms/step - loss: 0.7217 - accuracy: 0.5532\n",
      "Epoch 29/30\n",
      "492/492 [==============================] - 3s 5ms/step - loss: 0.6885 - accuracy: 0.5529\n",
      "Epoch 30/30\n",
      "492/492 [==============================] - 3s 5ms/step - loss: 0.6874 - accuracy: 0.5529\n",
      "History: {'loss': [200.85150169744725, 19.52361935885941, 9.072351462472746, 7.054653030222024, 3.8870982136425933, 2.1437328079851663, 2.593466366512504, 1.8232193643726953, 2.9349751695990562, 1.3960811609659738, 1.8782234142223995, 0.79869471962859, 0.7118580747183746, 0.6940340579040651, 0.7599593817097384, 0.7057782606623038, 0.69926871323004, 0.7084408956087702, 0.7159515350330167, 0.6943062736493785, 0.6894121499565559, 0.6896740729973568, 0.6905256386210279, 0.6892105872795834, 0.7121716495451889, 0.76019084441468, 0.7085119504027251, 0.7216697647804167, 0.6884092190643636, 0.6874781980262539], 'accuracy': [0.48556912, 0.50416666, 0.501626, 0.5038618, 0.50680894, 0.5057927, 0.51270324, 0.5097561, 0.51229674, 0.5106707, 0.4941057, 0.5369919, 0.54349595, 0.54776424, 0.5495935, 0.55091465, 0.55203253, 0.55294716, 0.55213416, 0.55243903, 0.5526423, 0.5527439, 0.5527439, 0.5530488, 0.55284554, 0.55294716, 0.55365855, 0.5531504, 0.55294716, 0.55294716]}\n",
      "123/123 [==============================] - 1s 10ms/step - loss: 0.7073 - accuracy: 0.5524\n",
      "test loss, test acc: [0.7072526240736489, 0.55243903]\n"
     ]
    }
   ],
   "source": [
    "features = generate_features(request_reply_fourier)\n",
    "model = build_fc_model(features)\n",
    "fourier_fc_qr_history, fourier_fc_qr_results = train_model(model, request_reply_fourier)"
   ]
  },
  {
   "cell_type": "code",
   "execution_count": 23,
   "metadata": {},
   "outputs": [
    {
     "data": {
      "image/png": "[encoded data removed]",
      "text/plain": [
       "<Figure size 432x288 with 1 Axes>"
      ]
     },
     "metadata": {
      "needs_background": "light"
     },
     "output_type": "display_data"
    }
   ],
   "source": [
    "plt.plot(fourier_fc_qr_history.history['loss'])\n",
    "# plt.plot(fourier_fc_qr_history.history['val_accuracy'])\n",
    "plt.title('Fully Connected Fourier model loss')\n",
    "plt.ylabel('Loss')\n",
    "plt.xlabel('Epoch')\n",
    "plt.legend(['Train', 'Val'], loc='upper left')\n",
    "plt.show()"
   ]
  },
  {
   "cell_type": "code",
   "execution_count": 24,
   "metadata": {},
   "outputs": [
    {
     "name": "stdout",
     "output_type": "stream",
     "text": [
      "Epoch 1/30\n",
      "492/492 [==============================] - 8s 17ms/step - loss: 0.7146 - accuracy: 0.5121\n",
      "Epoch 2/30\n",
      "492/492 [==============================] - 6s 13ms/step - loss: 0.6990 - accuracy: 0.5305\n",
      "Epoch 3/30\n",
      "492/492 [==============================] - 6s 13ms/step - loss: 0.6937 - accuracy: 0.5376\n",
      "Epoch 4/30\n",
      "492/492 [==============================] - 6s 13ms/step - loss: 0.6908 - accuracy: 0.5415\n",
      "Epoch 5/30\n",
      "492/492 [==============================] - 6s 13ms/step - loss: 0.6891 - accuracy: 0.5454\n",
      "Epoch 6/30\n",
      "492/492 [==============================] - 6s 13ms/step - loss: 0.6894 - accuracy: 0.5450\n",
      "Epoch 7/30\n",
      "492/492 [==============================] - 6s 13ms/step - loss: 0.6887 - accuracy: 0.5396\n",
      "Epoch 8/30\n",
      "492/492 [==============================] - 6s 13ms/step - loss: 0.6882 - accuracy: 0.5445\n",
      "Epoch 9/30\n",
      "492/492 [==============================] - 7s 13ms/step - loss: 0.6897 - accuracy: 0.5448\n",
      "Epoch 10/30\n",
      "492/492 [==============================] - 7s 13ms/step - loss: 0.6881 - accuracy: 0.5518\n",
      "Epoch 11/30\n",
      "492/492 [==============================] - 6s 13ms/step - loss: 0.6905 - accuracy: 0.5433\n",
      "Epoch 12/30\n",
      "492/492 [==============================] - 6s 13ms/step - loss: 0.6881 - accuracy: 0.5504\n",
      "Epoch 13/30\n",
      "492/492 [==============================] - 7s 14ms/step - loss: 0.6870 - accuracy: 0.5511\n",
      "Epoch 14/30\n",
      "492/492 [==============================] - 7s 14ms/step - loss: 0.6861 - accuracy: 0.5515\n",
      "Epoch 15/30\n",
      "492/492 [==============================] - 7s 14ms/step - loss: 0.6855 - accuracy: 0.5504\n",
      "Epoch 16/30\n",
      "492/492 [==============================] - 6s 13ms/step - loss: 0.6847 - accuracy: 0.5533\n",
      "Epoch 17/30\n",
      "492/492 [==============================] - 7s 14ms/step - loss: 0.6836 - accuracy: 0.5524\n",
      "Epoch 18/30\n",
      "492/492 [==============================] - 7s 14ms/step - loss: 0.6838 - accuracy: 0.5556\n",
      "Epoch 19/30\n",
      "492/492 [==============================] - 7s 14ms/step - loss: 0.6835 - accuracy: 0.5530\n",
      "Epoch 20/30\n",
      "492/492 [==============================] - 7s 13ms/step - loss: 0.6830 - accuracy: 0.5563\n",
      "Epoch 21/30\n",
      "492/492 [==============================] - 7s 14ms/step - loss: 0.6826 - accuracy: 0.5569\n",
      "Epoch 22/30\n",
      "492/492 [==============================] - 7s 13ms/step - loss: 0.6813 - accuracy: 0.5592\n",
      "Epoch 23/30\n",
      "492/492 [==============================] - 7s 13ms/step - loss: 0.6813 - accuracy: 0.5610\n",
      "Epoch 24/30\n",
      "492/492 [==============================] - 7s 14ms/step - loss: 0.6803 - accuracy: 0.5625\n",
      "Epoch 25/30\n",
      "492/492 [==============================] - 7s 14ms/step - loss: 0.6802 - accuracy: 0.5605\n",
      "Epoch 26/30\n",
      "492/492 [==============================] - 7s 13ms/step - loss: 0.6800 - accuracy: 0.5569\n",
      "Epoch 27/30\n",
      "492/492 [==============================] - 7s 14ms/step - loss: 0.6789 - accuracy: 0.5652\n",
      "Epoch 28/30\n",
      "492/492 [==============================] - 7s 14ms/step - loss: 0.6781 - accuracy: 0.5606\n",
      "Epoch 29/30\n",
      "492/492 [==============================] - 7s 14ms/step - loss: 0.6779 - accuracy: 0.5624\n",
      "Epoch 30/30\n",
      "492/492 [==============================] - 7s 14ms/step - loss: 0.6781 - accuracy: 0.5639\n",
      "History: {'loss': [0.7146470786594763, 0.6989405392631283, 0.6938204762896871, 0.6907153803158582, 0.6892566421652228, 0.6893766685956861, 0.6887652065938081, 0.6883019493605064, 0.6896795717681327, 0.6880547043269243, 0.6905645701458784, 0.6881212364367353, 0.6869870506651033, 0.686128721731465, 0.6854202038631206, 0.6847318207345358, 0.6837039910923175, 0.6836908158005738, 0.6834952241279245, 0.683061541338277, 0.6826679851950669, 0.6813131567181611, 0.6813819018321309, 0.6802593538673912, 0.68003369334752, 0.6800571388103128, 0.6789402782432432, 0.6778944627783163, 0.6780459764527111, 0.6780355321924861], 'accuracy': [0.5120935, 0.5304878, 0.53760165, 0.54146343, 0.54542685, 0.54502034, 0.53963417, 0.5445122, 0.5448171, 0.5518293, 0.5432927, 0.5504065, 0.5511179, 0.5515244, 0.5504065, 0.55325204, 0.55243903, 0.55558944, 0.5530488, 0.5563008, 0.5569106, 0.559248, 0.5609756, 0.5625, 0.5604675, 0.5569106, 0.5652439, 0.5605691, 0.5623984, 0.56392276]}\n",
      "123/123 [==============================] - 2s 13ms/step - loss: 0.7335 - accuracy: 0.4248\n",
      "test loss, test acc: [0.7335351744318396, 0.42479676]\n"
     ]
    }
   ],
   "source": [
    "features = generate_features(request_reply_fourier)\n",
    "model = build_conv_model(features)\n",
    "fourier_conv_qr_history, fourier_conv_qr_results = train_model(model, request_reply_fourier)"
   ]
  },
  {
   "cell_type": "code",
   "execution_count": 25,
   "metadata": {},
   "outputs": [
    {
     "data": {
      "image/png": "[encoded data removed]",
      "text/plain": [
       "<Figure size 432x288 with 1 Axes>"
      ]
     },
     "metadata": {
      "needs_background": "light"
     },
     "output_type": "display_data"
    }
   ],
   "source": [
    "plt.plot(fourier_conv_qr_history.history['loss'])\n",
    "# plt.plot(fourier_conv_qr_history.history['val_accuracy'])\n",
    "plt.title('Convolutional Fourier model loss')\n",
    "plt.ylabel('Loss')\n",
    "plt.xlabel('Epoch')\n",
    "plt.legend(['Train', 'Val'], loc='upper left')\n",
    "plt.show()"
   ]
  },
  {
   "cell_type": "code",
   "execution_count": 26,
   "metadata": {},
   "outputs": [
    {
     "name": "stdout",
     "output_type": "stream",
     "text": [
      "Epoch 1/30\n",
      "492/492 [==============================] - 5s 10ms/step - loss: 1.5978 - accuracy: 0.5390\n",
      "Epoch 2/30\n",
      "492/492 [==============================] - 3s 5ms/step - loss: 0.7222 - accuracy: 0.6145\n",
      "Epoch 3/30\n",
      "492/492 [==============================] - 3s 5ms/step - loss: 0.6356 - accuracy: 0.6599\n",
      "Epoch 4/30\n",
      "492/492 [==============================] - 3s 5ms/step - loss: 0.5773 - accuracy: 0.6907\n",
      "Epoch 5/30\n",
      "492/492 [==============================] - 3s 6ms/step - loss: 0.5573 - accuracy: 0.7128\n",
      "Epoch 6/30\n",
      "492/492 [==============================] - 2s 5ms/step - loss: 0.5487 - accuracy: 0.7252\n",
      "Epoch 7/30\n",
      "492/492 [==============================] - 3s 5ms/step - loss: 0.5342 - accuracy: 0.7314\n",
      "Epoch 8/30\n",
      "492/492 [==============================] - 2s 5ms/step - loss: 0.5173 - accuracy: 0.7522\n",
      "Epoch 9/30\n",
      "492/492 [==============================] - 2s 5ms/step - loss: 0.4883 - accuracy: 0.7669\n",
      "Epoch 10/30\n",
      "492/492 [==============================] - 2s 5ms/step - loss: 0.4527 - accuracy: 0.7859\n",
      "Epoch 11/30\n",
      "492/492 [==============================] - 3s 5ms/step - loss: 0.4496 - accuracy: 0.7956\n",
      "Epoch 12/30\n",
      "492/492 [==============================] - 2s 5ms/step - loss: 0.4347 - accuracy: 0.8014\n",
      "Epoch 13/30\n",
      "492/492 [==============================] - 2s 5ms/step - loss: 0.4206 - accuracy: 0.8099\n",
      "Epoch 14/30\n",
      "492/492 [==============================] - 2s 5ms/step - loss: 0.3937 - accuracy: 0.8217\n",
      "Epoch 15/30\n",
      "492/492 [==============================] - 2s 5ms/step - loss: 0.3832 - accuracy: 0.8343\n",
      "Epoch 16/30\n",
      "492/492 [==============================] - 2s 5ms/step - loss: 0.3661 - accuracy: 0.8414\n",
      "Epoch 17/30\n",
      "492/492 [==============================] - 3s 5ms/step - loss: 0.3492 - accuracy: 0.8516\n",
      "Epoch 18/30\n",
      "492/492 [==============================] - 2s 5ms/step - loss: 0.3515 - accuracy: 0.8518\n",
      "Epoch 19/30\n",
      "492/492 [==============================] - 3s 5ms/step - loss: 0.3247 - accuracy: 0.8664\n",
      "Epoch 20/30\n",
      "492/492 [==============================] - 2s 5ms/step - loss: 0.3001 - accuracy: 0.8721\n",
      "Epoch 21/30\n",
      "492/492 [==============================] - 2s 5ms/step - loss: 0.2796 - accuracy: 0.8855\n",
      "Epoch 22/30\n",
      "492/492 [==============================] - 3s 5ms/step - loss: 0.2846 - accuracy: 0.8843\n",
      "Epoch 23/30\n",
      "492/492 [==============================] - 2s 5ms/step - loss: 0.2786 - accuracy: 0.8891\n",
      "Epoch 24/30\n",
      "492/492 [==============================] - 3s 5ms/step - loss: 0.2669 - accuracy: 0.8971\n",
      "Epoch 25/30\n",
      "492/492 [==============================] - 3s 5ms/step - loss: 0.2520 - accuracy: 0.8973\n",
      "Epoch 26/30\n",
      "492/492 [==============================] - 3s 6ms/step - loss: 0.2450 - accuracy: 0.9041\n",
      "Epoch 27/30\n",
      "492/492 [==============================] - 3s 6ms/step - loss: 0.2536 - accuracy: 0.9003\n",
      "Epoch 28/30\n",
      "492/492 [==============================] - 3s 5ms/step - loss: 0.2259 - accuracy: 0.9150\n",
      "Epoch 29/30\n",
      "492/492 [==============================] - 3s 5ms/step - loss: 0.2444 - accuracy: 0.9035\n",
      "Epoch 30/30\n",
      "492/492 [==============================] - 3s 5ms/step - loss: 0.2024 - accuracy: 0.9223\n",
      "History: {'loss': [1.5978245532851878, 0.7222705671821184, 0.6355089865685478, 0.5771855901533026, 0.5575915683454614, 0.5489320829813558, 0.5338293866413396, 0.517750201368235, 0.4879993440174475, 0.4527517504444936, 0.4496662095491964, 0.43455473266965977, 0.42061554116567945, 0.3934643976693231, 0.38350704481931236, 0.36617861127829165, 0.34920199621256776, 0.35124743319442114, 0.3244056481777168, 0.3001041856132508, 0.2792298654548642, 0.28437996767006996, 0.2787057831807713, 0.26725327463563137, 0.2522396093756869, 0.2453387065722448, 0.2548526884245921, 0.2258859746824435, 0.24422787395646658, 0.20256415685653928], 'accuracy': [0.5390244, 0.61453253, 0.65985775, 0.6906504, 0.71280485, 0.7252033, 0.73140246, 0.7522358, 0.7668699, 0.785874, 0.7956301, 0.8014228, 0.8098577, 0.82174796, 0.8343496, 0.84136176, 0.85162604, 0.8518293, 0.8663618, 0.87205285, 0.88546747, 0.8843496, 0.889126, 0.8970528, 0.8972561, 0.904065, 0.90030485, 0.9150407, 0.90345526, 0.9222561]}\n",
      "123/123 [==============================] - 1s 10ms/step - loss: 1.8136 - accuracy: 0.6374\n",
      "test loss, test acc: [1.8136395773267358, 0.63739836]\n"
     ]
    }
   ],
   "source": [
    "features = generate_features(request_reply_wavelet)\n",
    "model = build_fc_model(features)\n",
    "wavelet_fc_qr_history, wavelet_fc_qr_results = train_model(model, request_reply_wavelet)"
   ]
  },
  {
   "cell_type": "code",
   "execution_count": 27,
   "metadata": {},
   "outputs": [
    {
     "data": {
      "image/png": "[encoded data removed]",
      "text/plain": [
       "<Figure size 432x288 with 1 Axes>"
      ]
     },
     "metadata": {
      "needs_background": "light"
     },
     "output_type": "display_data"
    }
   ],
   "source": [
    "plt.plot(wavelet_fc_qr_history.history['loss'])\n",
    "plt.title('Fully Connected Wavelet model loss')\n",
    "plt.ylabel('Loss')\n",
    "plt.xlabel('Epoch')\n",
    "plt.legend(['Train', 'Val'], loc='upper left')\n",
    "plt.show()"
   ]
  },
  {
   "cell_type": "code",
   "execution_count": 28,
   "metadata": {},
   "outputs": [],
   "source": [
    "# features = generate_features(reply_reply_wavelet)\n",
    "# model = build_fc_model(features)\n",
    "# wavelet_fc_rr_history, wavelet_fc_rr_results = train_model(model, reply_reply_wavelet)"
   ]
  },
  {
   "cell_type": "code",
   "execution_count": 29,
   "metadata": {},
   "outputs": [],
   "source": [
    "# plt.plot(wavelet_fc_rr_history.history['accuracy'])\n",
    "# plt.plot(wavelet_fc_rr_history.history['val_accuracy'])\n",
    "# plt.title('Fully Connected Wavelet model accuracy')\n",
    "# plt.ylabel('Accuracy')\n",
    "# plt.xlabel('Epoch')\n",
    "# plt.legend(['Train', 'Val'], loc='upper left')\n",
    "# plt.show()"
   ]
  },
  {
   "cell_type": "code",
   "execution_count": 30,
   "metadata": {},
   "outputs": [
    {
     "name": "stderr",
     "output_type": "stream",
     "text": [
      "W1011 10:49:58.367111 4608886208 base_layer.py:1772] Layer sequential_5 is casting an input tensor from dtype float64 to the layer's dtype of float32, which is new behavior in TensorFlow 2.  The layer has dtype float32 because it's dtype defaults to floatx.\n",
      "\n",
      "If you intended to run this layer in float32, you can safely ignore this warning. If in doubt, this warning is likely only an issue if you are porting a TensorFlow 1.X model to TensorFlow 2.\n",
      "\n",
      "To change all layers to have dtype float64 by default, call `tf.keras.backend.set_floatx('float64')`. To change just this layer, pass dtype='float64' to the layer constructor. If you are the author of this layer, you can disable autocasting by passing autocast=False to the base Layer constructor.\n",
      "\n"
     ]
    },
    {
     "name": "stdout",
     "output_type": "stream",
     "text": [
      "Epoch 1/30\n",
      "492/492 [==============================] - 9s 19ms/step - loss: 0.6465 - accuracy: 0.6229\n",
      "Epoch 2/30\n",
      "492/492 [==============================] - 7s 14ms/step - loss: 0.6022 - accuracy: 0.6819\n",
      "Epoch 3/30\n",
      "492/492 [==============================] - 7s 15ms/step - loss: 0.5793 - accuracy: 0.7011\n",
      "Epoch 4/30\n",
      "492/492 [==============================] - 7s 14ms/step - loss: 0.5607 - accuracy: 0.7157\n",
      "Epoch 5/30\n",
      "492/492 [==============================] - 7s 14ms/step - loss: 0.5421 - accuracy: 0.7297\n",
      "Epoch 6/30\n",
      "492/492 [==============================] - 7s 14ms/step - loss: 0.5248 - accuracy: 0.7426\n",
      "Epoch 7/30\n",
      "492/492 [==============================] - 7s 15ms/step - loss: 0.5162 - accuracy: 0.7444\n",
      "Epoch 8/30\n",
      "492/492 [==============================] - 7s 14ms/step - loss: 0.5006 - accuracy: 0.7526\n",
      "Epoch 9/30\n",
      "492/492 [==============================] - 7s 15ms/step - loss: 0.4887 - accuracy: 0.7624\n",
      "Epoch 10/30\n",
      "492/492 [==============================] - 7s 14ms/step - loss: 0.4755 - accuracy: 0.7738\n",
      "Epoch 11/30\n",
      "492/492 [==============================] - 7s 14ms/step - loss: 0.4760 - accuracy: 0.7715\n",
      "Epoch 12/30\n",
      "492/492 [==============================] - 7s 14ms/step - loss: 0.4570 - accuracy: 0.7851\n",
      "Epoch 13/30\n",
      "492/492 [==============================] - 7s 14ms/step - loss: 0.4363 - accuracy: 0.7936\n",
      "Epoch 14/30\n",
      "492/492 [==============================] - 7s 14ms/step - loss: 0.4298 - accuracy: 0.8014\n",
      "Epoch 15/30\n",
      "492/492 [==============================] - 7s 15ms/step - loss: 0.4190 - accuracy: 0.8057\n",
      "Epoch 16/30\n",
      "492/492 [==============================] - 7s 14ms/step - loss: 0.4012 - accuracy: 0.8182\n",
      "Epoch 17/30\n",
      "492/492 [==============================] - 7s 14ms/step - loss: 0.3816 - accuracy: 0.8265\n",
      "Epoch 18/30\n",
      "492/492 [==============================] - 7s 14ms/step - loss: 0.3830 - accuracy: 0.8306\n",
      "Epoch 19/30\n",
      "492/492 [==============================] - 7s 15ms/step - loss: 0.3563 - accuracy: 0.8460\n",
      "Epoch 20/30\n",
      "492/492 [==============================] - 7s 14ms/step - loss: 0.3594 - accuracy: 0.8444\n",
      "Epoch 21/30\n",
      "492/492 [==============================] - 7s 14ms/step - loss: 0.3372 - accuracy: 0.8575\n",
      "Epoch 22/30\n",
      "492/492 [==============================] - 7s 14ms/step - loss: 0.3298 - accuracy: 0.8568\n",
      "Epoch 23/30\n",
      "492/492 [==============================] - 7s 14ms/step - loss: 0.3171 - accuracy: 0.8610\n",
      "Epoch 24/30\n",
      "492/492 [==============================] - 7s 14ms/step - loss: 0.3040 - accuracy: 0.8737\n",
      "Epoch 25/30\n",
      "492/492 [==============================] - 7s 14ms/step - loss: 0.2838 - accuracy: 0.8821\n",
      "Epoch 26/30\n",
      "492/492 [==============================] - 7s 14ms/step - loss: 0.2735 - accuracy: 0.8880\n",
      "Epoch 27/30\n",
      "492/492 [==============================] - 7s 13ms/step - loss: 0.2682 - accuracy: 0.8873\n",
      "Epoch 28/30\n",
      "492/492 [==============================] - 7s 14ms/step - loss: 0.2607 - accuracy: 0.8914\n",
      "Epoch 29/30\n",
      "492/492 [==============================] - 7s 14ms/step - loss: 0.2342 - accuracy: 0.9072\n",
      "Epoch 30/30\n",
      "492/492 [==============================] - 7s 14ms/step - loss: 0.2335 - accuracy: 0.9046\n",
      "History: {'loss': [0.6464930863642111, 0.6021553399722751, 0.5792570360671214, 0.5609140130199068, 0.5418948052617593, 0.5249803789505144, 0.5163754018220476, 0.500554170429222, 0.48818080221128657, 0.4756214974856958, 0.4759652341405551, 0.45720921547674553, 0.4360029392428999, 0.4294997188376217, 0.41892938791372913, 0.4014102863223572, 0.3814473359171695, 0.3831474864931126, 0.3562419266720128, 0.35935276795208937, 0.33704554619706745, 0.33026681908565325, 0.3171805711993115, 0.30384034195505993, 0.2833968612357853, 0.27330332779423977, 0.26793523888459536, 0.2606415931832015, 0.2342909170859834, 0.23385618630857244], 'accuracy': [0.62286586, 0.6819106, 0.7011179, 0.7156504, 0.7296748, 0.7425813, 0.7444106, 0.7526423, 0.76239836, 0.77378047, 0.7715447, 0.785061, 0.7935976, 0.8014228, 0.80569106, 0.81819105, 0.8265244, 0.8305894, 0.8460366, 0.8444106, 0.85752034, 0.85680896, 0.8609756, 0.87367886, 0.8821138, 0.8880081, 0.88729674, 0.8913618, 0.9072155, 0.90457314]}\n",
      "123/123 [==============================] - 2s 13ms/step - loss: 0.7822 - accuracy: 0.6947\n",
      "test loss, test acc: [0.7821596560439443, 0.69471544]\n"
     ]
    }
   ],
   "source": [
    "features = generate_features(request_reply_wavelet)\n",
    "model = build_conv_model(features)\n",
    "wavelet_conv_qr_history, wavelet_conv_qr_results = train_model(model, request_reply_wavelet)"
   ]
  },
  {
   "cell_type": "code",
   "execution_count": 31,
   "metadata": {},
   "outputs": [
    {
     "data": {
      "image/png": "[encoded data removed]",
      "text/plain": [
       "<Figure size 432x288 with 1 Axes>"
      ]
     },
     "metadata": {
      "needs_background": "light"
     },
     "output_type": "display_data"
    }
   ],
   "source": [
    "plt.plot(wavelet_conv_qr_history.history['loss'])\n",
    "plt.title('Convolutional Wavelet model loss')\n",
    "plt.ylabel('Loss')\n",
    "plt.xlabel('Epoch')\n",
    "plt.legend(['Train', 'Val'], loc='upper left')\n",
    "plt.show()"
   ]
  },
  {
   "cell_type": "code",
   "execution_count": 32,
   "metadata": {},
   "outputs": [],
   "source": [
    "# features = generate_features(reply_reply_wavelet)\n",
    "# model = build_conv_model(features)\n",
    "# wavelet_conv_rr_history, wavelet_conv_rr_results = train_model(model, reply_reply_wavelet)"
   ]
  },
  {
   "cell_type": "code",
   "execution_count": 33,
   "metadata": {},
   "outputs": [],
   "source": [
    "# plt.plot(wavelet_conv_rr_history.history['accuracy'])\n",
    "# plt.plot(wavelet_conv_rr_history.history['val_accuracy'])\n",
    "# plt.title('Convolutional Wavelet model accuracy')\n",
    "# plt.ylabel('Accuracy')\n",
    "# plt.xlabel('Epoch')\n",
    "# plt.legend(['Train', 'Val'], loc='upper left')\n",
    "# plt.show()"
   ]
  },
  {
   "cell_type": "code",
   "execution_count": 34,
   "metadata": {},
   "outputs": [],
   "source": [
    "from sklearn.svm import SVC"
   ]
  },
  {
   "cell_type": "code",
   "execution_count": 35,
   "metadata": {},
   "outputs": [
    {
     "name": "stderr",
     "output_type": "stream",
     "text": [
      "/Users/egalinkin/anaconda3/lib/python3.6/site-packages/sklearn/svm/base.py:196: FutureWarning: The default value of gamma will change from 'auto' to 'scale' in version 0.22 to account better for unscaled features. Set gamma explicitly to 'auto' or 'scale' to avoid this warning.\n",
      "  \"avoid this warning.\", FutureWarning)\n"
     ]
    },
    {
     "data": {
      "text/plain": [
       "SVC(C=1.0, cache_size=200, class_weight=None, coef0=0.0,\n",
       "  decision_function_shape='ovr', degree=3, gamma='auto_deprecated',\n",
       "  kernel='rbf', max_iter=-1, probability=False, random_state=None,\n",
       "  shrinking=True, tol=0.001, verbose=False)"
      ]
     },
     "execution_count": 35,
     "metadata": {},
     "output_type": "execute_result"
    }
   ],
   "source": [
    "clf = SVC()\n",
    "clf.fit(X_train, y_train)"
   ]
  },
  {
   "cell_type": "code",
   "execution_count": 36,
   "metadata": {},
   "outputs": [
    {
     "name": "stdout",
     "output_type": "stream",
     "text": [
      "Accuracy of support vector classifier:0.5528455284552846\n"
     ]
    }
   ],
   "source": [
    "predictions = clf.predict(X_test)\n",
    "errors = [0 if p == label else 1 for p, label in zip(predictions, y_test)]\n",
    "svm_accuracy = 1 - (np.sum(errors)/len(errors))\n",
    "print(\"Accuracy of support vector classifier:\" + str(svm_accuracy))"
   ]
  },
  {
   "cell_type": "code",
   "execution_count": 37,
   "metadata": {},
   "outputs": [
    {
     "name": "stdout",
     "output_type": "stream",
     "text": [
      "==================================================\n",
      "=                Overall results                ==\n",
      "==================================================\n",
      "    *Request-reply data*\n",
      "    Fully-Connected test accuracy: 0.6646341681480408\n",
      "    Convolutional test accuracy: 0.7272357940673828\n",
      "    Fourier f-c test accuracy: 0.5524390339851379\n",
      "    Fourier conv test accuracy: 0.4247967600822449\n",
      "    Wavelet f-c test accuracy: 0.637398362159729\n",
      "    Wavelet conv test accuracy: 0.6947154402732849\n",
      "    Random Forest (control 1) test accuracy: 0.7914634146341464\n",
      "    Support Vector Machine (control 2) test accuracy: 0.5528455284552846\n"
     ]
    }
   ],
   "source": [
    "print(\"==================================================\")\n",
    "print(\"=                Overall results                ==\")\n",
    "print(\"==================================================\")\n",
    "print(\"    *Request-reply data*\")\n",
    "print(\"    Fully-Connected test accuracy: {}\".format(fc_qr_results[1]))\n",
    "print(\"    Convolutional test accuracy: {}\".format(conv_qr_results[1]))\n",
    "print(\"    Fourier f-c test accuracy: {}\".format(fourier_fc_qr_results[1]))\n",
    "print(\"    Fourier conv test accuracy: {}\".format(fourier_conv_qr_results[1]))\n",
    "print(\"    Wavelet f-c test accuracy: {}\".format(wavelet_fc_qr_results[1]))\n",
    "print(\"    Wavelet conv test accuracy: {}\".format(wavelet_conv_qr_results[1]))\n",
    "# print(\"    Fourier NN test accuracy: {}\").format(fourier_nn_qr_results[1])\n",
    "# print(\"    Wavelet NN test accuracy: {}\").formaat(wavelet_nn_qr_results[1])\n",
    "print(\"    Random Forest (control 1) test accuracy: {}\".format(rf_accuracy))\n",
    "print(\"    Support Vector Machine (control 2) test accuracy: {}\".format(svm_accuracy))\n",
    "# print(\"    *Reply-reply data*\")\n",
    "# print(\"    Fully-Connected test accuracy: {}\".format(fc_rr_results[1]))\n",
    "# print(\"    Convolutional test accuracy: {}\".format(conv_rr_results[1]))\n",
    "# print(\"    Fourier f-c test accuracy: {}\".format(fourier_fc_rr_results[1]))\n",
    "# print(\"    Fourier conv test accuracy: {}\".format(fourier_conv_rr_results[1]))\n",
    "# print(\"    Wavelet f-c test accuracy: {}\".format(wavelet_fc_rr_results[1]))\n",
    "# print(\"    Wavelet conv test accuracy: {}\".format(wavelet_conv_rr_results[1]))"
   ]
  },
  {
   "cell_type": "code",
   "execution_count": null,
   "metadata": {},
   "outputs": [],
   "source": []
  },
  {
   "cell_type": "code",
   "execution_count": null,
   "metadata": {},
   "outputs": [],
   "source": []
  }
 ],
 "metadata": {
  "kernelspec": {
   "display_name": "Python 3",
   "language": "python",
   "name": "python3"
  },
  "language_info": {
   "codemirror_mode": {
    "name": "ipython",
    "version": 3
   },
   "file_extension": ".py",
   "mimetype": "text/x-python",
   "name": "python",
   "nbconvert_exporter": "python",
   "pygments_lexer": "ipython3",
   "version": "3.6.7"
  }
 },
 "nbformat": 4,
 "nbformat_minor": 2
}
