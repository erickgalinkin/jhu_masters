{
 "cells": [
  {
   "cell_type": "code",
   "execution_count": 1,
   "metadata": {},
   "outputs": [],
   "source": [
    "import pandas as pd\n",
    "import numpy as np\n",
    "import matplotlib.pyplot as plt\n",
    "import seaborn as sns\n",
    "%matplotlib inline"
   ]
  },
  {
   "cell_type": "code",
   "execution_count": 21,
   "metadata": {},
   "outputs": [],
   "source": [
    "request_reply_df = pd.read_csv(\"./data/requestreply.csv\", header=None)\n",
    "reply_reply_df = pd.read_csv(\"./data/replyreply.csv\", header=None)"
   ]
  },
  {
   "cell_type": "code",
   "execution_count": 22,
   "metadata": {},
   "outputs": [
    {
     "data": {
      "text/html": [
       "<div>\n",
       "<style scoped>\n",
       "    .dataframe tbody tr th:only-of-type {\n",
       "        vertical-align: middle;\n",
       "    }\n",
       "\n",
       "    .dataframe tbody tr th {\n",
       "        vertical-align: top;\n",
       "    }\n",
       "\n",
       "    .dataframe thead th {\n",
       "        text-align: right;\n",
       "    }\n",
       "</style>\n",
       "<table border=\"1\" class=\"dataframe\">\n",
       "  <thead>\n",
       "    <tr style=\"text-align: right;\">\n",
       "      <th></th>\n",
       "      <th>2</th>\n",
       "      <th>3</th>\n",
       "      <th>4</th>\n",
       "      <th>5</th>\n",
       "      <th>6</th>\n",
       "      <th>7</th>\n",
       "      <th>8</th>\n",
       "      <th>9</th>\n",
       "      <th>10</th>\n",
       "      <th>11</th>\n",
       "      <th>...</th>\n",
       "      <th>92</th>\n",
       "      <th>93</th>\n",
       "      <th>94</th>\n",
       "      <th>95</th>\n",
       "      <th>96</th>\n",
       "      <th>97</th>\n",
       "      <th>98</th>\n",
       "      <th>99</th>\n",
       "      <th>100</th>\n",
       "      <th>101</th>\n",
       "    </tr>\n",
       "  </thead>\n",
       "  <tbody>\n",
       "    <tr>\n",
       "      <th>count</th>\n",
       "      <td>12300.000000</td>\n",
       "      <td>12300.000000</td>\n",
       "      <td>12300.000000</td>\n",
       "      <td>12300.000000</td>\n",
       "      <td>12300.000000</td>\n",
       "      <td>12300.000000</td>\n",
       "      <td>12300.000000</td>\n",
       "      <td>12300.000000</td>\n",
       "      <td>12300.000000</td>\n",
       "      <td>12300.000000</td>\n",
       "      <td>...</td>\n",
       "      <td>12300.000000</td>\n",
       "      <td>12300.000000</td>\n",
       "      <td>12300.000000</td>\n",
       "      <td>12300.000000</td>\n",
       "      <td>12300.000000</td>\n",
       "      <td>12300.000000</td>\n",
       "      <td>12300.000000</td>\n",
       "      <td>12300.000000</td>\n",
       "      <td>12300.000000</td>\n",
       "      <td>12300.000000</td>\n",
       "    </tr>\n",
       "    <tr>\n",
       "      <th>mean</th>\n",
       "      <td>168.552801</td>\n",
       "      <td>80.671077</td>\n",
       "      <td>38.756572</td>\n",
       "      <td>32.053867</td>\n",
       "      <td>30.741587</td>\n",
       "      <td>29.762200</td>\n",
       "      <td>29.199574</td>\n",
       "      <td>27.477508</td>\n",
       "      <td>26.854041</td>\n",
       "      <td>25.994097</td>\n",
       "      <td>...</td>\n",
       "      <td>25.061934</td>\n",
       "      <td>25.304607</td>\n",
       "      <td>25.449759</td>\n",
       "      <td>25.352015</td>\n",
       "      <td>25.144316</td>\n",
       "      <td>25.101272</td>\n",
       "      <td>26.139811</td>\n",
       "      <td>26.930865</td>\n",
       "      <td>28.847339</td>\n",
       "      <td>33.734174</td>\n",
       "    </tr>\n",
       "    <tr>\n",
       "      <th>std</th>\n",
       "      <td>143.484703</td>\n",
       "      <td>139.634386</td>\n",
       "      <td>124.942185</td>\n",
       "      <td>115.652077</td>\n",
       "      <td>108.482573</td>\n",
       "      <td>103.805790</td>\n",
       "      <td>114.714679</td>\n",
       "      <td>104.206368</td>\n",
       "      <td>100.228591</td>\n",
       "      <td>97.246000</td>\n",
       "      <td>...</td>\n",
       "      <td>103.891678</td>\n",
       "      <td>103.689839</td>\n",
       "      <td>104.585712</td>\n",
       "      <td>104.140811</td>\n",
       "      <td>105.343442</td>\n",
       "      <td>105.831126</td>\n",
       "      <td>108.482392</td>\n",
       "      <td>113.407518</td>\n",
       "      <td>149.541268</td>\n",
       "      <td>157.315308</td>\n",
       "    </tr>\n",
       "    <tr>\n",
       "      <th>min</th>\n",
       "      <td>-1.000000</td>\n",
       "      <td>-1.000000</td>\n",
       "      <td>-1.000000</td>\n",
       "      <td>-1.000000</td>\n",
       "      <td>-1.000000</td>\n",
       "      <td>-1.000000</td>\n",
       "      <td>-1.000000</td>\n",
       "      <td>-1.000000</td>\n",
       "      <td>-1.000000</td>\n",
       "      <td>-1.000000</td>\n",
       "      <td>...</td>\n",
       "      <td>-1.000000</td>\n",
       "      <td>-1.000000</td>\n",
       "      <td>-1.000000</td>\n",
       "      <td>-1.000000</td>\n",
       "      <td>-1.000000</td>\n",
       "      <td>-1.000000</td>\n",
       "      <td>-1.000000</td>\n",
       "      <td>-1.000000</td>\n",
       "      <td>-1.000000</td>\n",
       "      <td>-1.000000</td>\n",
       "    </tr>\n",
       "    <tr>\n",
       "      <th>25%</th>\n",
       "      <td>110.203981</td>\n",
       "      <td>10.664463</td>\n",
       "      <td>7.254362</td>\n",
       "      <td>6.472051</td>\n",
       "      <td>6.865978</td>\n",
       "      <td>6.719649</td>\n",
       "      <td>6.819010</td>\n",
       "      <td>6.800115</td>\n",
       "      <td>6.838262</td>\n",
       "      <td>6.684005</td>\n",
       "      <td>...</td>\n",
       "      <td>6.622315</td>\n",
       "      <td>6.737947</td>\n",
       "      <td>6.783962</td>\n",
       "      <td>6.749630</td>\n",
       "      <td>6.704092</td>\n",
       "      <td>6.692827</td>\n",
       "      <td>6.615638</td>\n",
       "      <td>6.826102</td>\n",
       "      <td>6.601989</td>\n",
       "      <td>6.671906</td>\n",
       "    </tr>\n",
       "    <tr>\n",
       "      <th>50%</th>\n",
       "      <td>125.361919</td>\n",
       "      <td>27.813911</td>\n",
       "      <td>11.111021</td>\n",
       "      <td>9.940505</td>\n",
       "      <td>10.165453</td>\n",
       "      <td>10.082960</td>\n",
       "      <td>10.182023</td>\n",
       "      <td>10.108947</td>\n",
       "      <td>10.139465</td>\n",
       "      <td>10.075569</td>\n",
       "      <td>...</td>\n",
       "      <td>10.021448</td>\n",
       "      <td>10.118008</td>\n",
       "      <td>10.111928</td>\n",
       "      <td>10.084033</td>\n",
       "      <td>10.094404</td>\n",
       "      <td>10.052443</td>\n",
       "      <td>10.025501</td>\n",
       "      <td>10.061979</td>\n",
       "      <td>10.042549</td>\n",
       "      <td>10.014534</td>\n",
       "    </tr>\n",
       "    <tr>\n",
       "      <th>75%</th>\n",
       "      <td>216.209472</td>\n",
       "      <td>114.264309</td>\n",
       "      <td>19.995451</td>\n",
       "      <td>15.584529</td>\n",
       "      <td>15.759706</td>\n",
       "      <td>15.511990</td>\n",
       "      <td>15.537262</td>\n",
       "      <td>15.574992</td>\n",
       "      <td>15.710831</td>\n",
       "      <td>15.468359</td>\n",
       "      <td>...</td>\n",
       "      <td>15.242099</td>\n",
       "      <td>15.369892</td>\n",
       "      <td>15.529871</td>\n",
       "      <td>15.397132</td>\n",
       "      <td>15.461623</td>\n",
       "      <td>15.429079</td>\n",
       "      <td>15.504480</td>\n",
       "      <td>15.425980</td>\n",
       "      <td>15.324474</td>\n",
       "      <td>15.388250</td>\n",
       "    </tr>\n",
       "    <tr>\n",
       "      <th>max</th>\n",
       "      <td>5317.913055</td>\n",
       "      <td>5216.073036</td>\n",
       "      <td>5111.930847</td>\n",
       "      <td>5008.516073</td>\n",
       "      <td>4904.536963</td>\n",
       "      <td>4800.885916</td>\n",
       "      <td>6366.826057</td>\n",
       "      <td>6265.555143</td>\n",
       "      <td>6161.940098</td>\n",
       "      <td>6053.858995</td>\n",
       "      <td>...</td>\n",
       "      <td>8872.637033</td>\n",
       "      <td>8973.212957</td>\n",
       "      <td>9074.537039</td>\n",
       "      <td>9175.518036</td>\n",
       "      <td>9275.300026</td>\n",
       "      <td>9375.156164</td>\n",
       "      <td>9476.207972</td>\n",
       "      <td>9576.614857</td>\n",
       "      <td>9934.896946</td>\n",
       "      <td>10035.484076</td>\n",
       "    </tr>\n",
       "  </tbody>\n",
       "</table>\n",
       "<p>8 rows × 100 columns</p>\n",
       "</div>"
      ],
      "text/plain": [
       "                2             3             4             5             6    \\\n",
       "count  12300.000000  12300.000000  12300.000000  12300.000000  12300.000000   \n",
       "mean     168.552801     80.671077     38.756572     32.053867     30.741587   \n",
       "std      143.484703    139.634386    124.942185    115.652077    108.482573   \n",
       "min       -1.000000     -1.000000     -1.000000     -1.000000     -1.000000   \n",
       "25%      110.203981     10.664463      7.254362      6.472051      6.865978   \n",
       "50%      125.361919     27.813911     11.111021      9.940505     10.165453   \n",
       "75%      216.209472    114.264309     19.995451     15.584529     15.759706   \n",
       "max     5317.913055   5216.073036   5111.930847   5008.516073   4904.536963   \n",
       "\n",
       "                7             8             9             10            11   \\\n",
       "count  12300.000000  12300.000000  12300.000000  12300.000000  12300.000000   \n",
       "mean      29.762200     29.199574     27.477508     26.854041     25.994097   \n",
       "std      103.805790    114.714679    104.206368    100.228591     97.246000   \n",
       "min       -1.000000     -1.000000     -1.000000     -1.000000     -1.000000   \n",
       "25%        6.719649      6.819010      6.800115      6.838262      6.684005   \n",
       "50%       10.082960     10.182023     10.108947     10.139465     10.075569   \n",
       "75%       15.511990     15.537262     15.574992     15.710831     15.468359   \n",
       "max     4800.885916   6366.826057   6265.555143   6161.940098   6053.858995   \n",
       "\n",
       "       ...           92            93            94            95   \\\n",
       "count  ...  12300.000000  12300.000000  12300.000000  12300.000000   \n",
       "mean   ...     25.061934     25.304607     25.449759     25.352015   \n",
       "std    ...    103.891678    103.689839    104.585712    104.140811   \n",
       "min    ...     -1.000000     -1.000000     -1.000000     -1.000000   \n",
       "25%    ...      6.622315      6.737947      6.783962      6.749630   \n",
       "50%    ...     10.021448     10.118008     10.111928     10.084033   \n",
       "75%    ...     15.242099     15.369892     15.529871     15.397132   \n",
       "max    ...   8872.637033   8973.212957   9074.537039   9175.518036   \n",
       "\n",
       "                96            97            98            99            100  \\\n",
       "count  12300.000000  12300.000000  12300.000000  12300.000000  12300.000000   \n",
       "mean      25.144316     25.101272     26.139811     26.930865     28.847339   \n",
       "std      105.343442    105.831126    108.482392    113.407518    149.541268   \n",
       "min       -1.000000     -1.000000     -1.000000     -1.000000     -1.000000   \n",
       "25%        6.704092      6.692827      6.615638      6.826102      6.601989   \n",
       "50%       10.094404     10.052443     10.025501     10.061979     10.042549   \n",
       "75%       15.461623     15.429079     15.504480     15.425980     15.324474   \n",
       "max     9275.300026   9375.156164   9476.207972   9576.614857   9934.896946   \n",
       "\n",
       "                101  \n",
       "count  12300.000000  \n",
       "mean      33.734174  \n",
       "std      157.315308  \n",
       "min       -1.000000  \n",
       "25%        6.671906  \n",
       "50%       10.014534  \n",
       "75%       15.388250  \n",
       "max    10035.484076  \n",
       "\n",
       "[8 rows x 100 columns]"
      ]
     },
     "execution_count": 22,
     "metadata": {},
     "output_type": "execute_result"
    }
   ],
   "source": [
    "request_reply_df.describe()"
   ]
  },
  {
   "cell_type": "code",
   "execution_count": 23,
   "metadata": {},
   "outputs": [],
   "source": [
    "request_reply_df.rename(columns={0:'Malicious'}, inplace=True)"
   ]
  },
  {
   "cell_type": "code",
   "execution_count": 5,
   "metadata": {},
   "outputs": [],
   "source": [
    "request_reply_df[\"Malicious\"].replace('legit', 0, inplace=True)\n",
    "request_reply_df[\"Malicious\"].replace('malware', 1, inplace=True)"
   ]
  },
  {
   "cell_type": "code",
   "execution_count": 6,
   "metadata": {},
   "outputs": [
    {
     "data": {
      "text/plain": [
       "<matplotlib.axes._subplots.AxesSubplot at 0x1a182df7f0>"
      ]
     },
     "execution_count": 6,
     "metadata": {},
     "output_type": "execute_result"
    },
    {
     "data": {
      "image/png": "[encoded data removed]",
      "text/plain": [
       "<Figure size 432x288 with 1 Axes>"
      ]
     },
     "metadata": {
      "needs_background": "light"
     },
     "output_type": "display_data"
    }
   ],
   "source": [
    "benignware = request_reply_df.loc[request_reply_df[\"Malicious\"] == 0]\n",
    "benignware.plot(legend=False)"
   ]
  },
  {
   "cell_type": "code",
   "execution_count": 7,
   "metadata": {},
   "outputs": [
    {
     "data": {
      "text/plain": [
       "<matplotlib.axes._subplots.AxesSubplot at 0x1a1c1873c8>"
      ]
     },
     "execution_count": 7,
     "metadata": {},
     "output_type": "execute_result"
    },
    {
     "data": {
      "image/png": "[encoded data removed]",
      "text/plain": [
       "<Figure size 432x288 with 1 Axes>"
      ]
     },
     "metadata": {
      "needs_background": "light"
     },
     "output_type": "display_data"
    }
   ],
   "source": [
    "malware = request_reply_df.loc[request_reply_df[\"Malicious\"] == 1]\n",
    "malware.plot(legend=False)"
   ]
  },
  {
   "cell_type": "code",
   "execution_count": 8,
   "metadata": {},
   "outputs": [],
   "source": [
    "from prototype_model import *"
   ]
  },
  {
   "cell_type": "code",
   "execution_count": 9,
   "metadata": {},
   "outputs": [
    {
     "name": "stderr",
     "output_type": "stream",
     "text": [
      "WARNING: Logging before flag parsing goes to stderr.\n",
      "W0905 20:50:57.271034 4535956928 base_layer.py:1772] Layer sequential is casting an input tensor from dtype float64 to the layer's dtype of float32, which is new behavior in TensorFlow 2.  The layer has dtype float32 because it's dtype defaults to floatx.\n",
      "\n",
      "If you intended to run this layer in float32, you can safely ignore this warning. If in doubt, this warning is likely only an issue if you are porting a TensorFlow 1.X model to TensorFlow 2.\n",
      "\n",
      "To change all layers to have dtype float64 by default, call `tf.keras.backend.set_floatx('float64')`. To change just this layer, pass dtype='float64' to the layer constructor. If you are the author of this layer, you can disable autocasting by passing autocast=False to the base Layer constructor.\n",
      "\n"
     ]
    },
    {
     "name": "stdout",
     "output_type": "stream",
     "text": [
      "Epoch 1/15\n"
     ]
    },
    {
     "name": "stderr",
     "output_type": "stream",
     "text": [
      "W0905 20:50:58.301251 4535956928 deprecation.py:323] From /anaconda3/lib/python3.7/site-packages/tensorflow_core/python/ops/nn_impl.py:183: where (from tensorflow.python.ops.array_ops) is deprecated and will be removed in a future version.\n",
      "Instructions for updating:\n",
      "Use tf.where in 2.0, which has the same broadcast rule as np.where\n"
     ]
    },
    {
     "name": "stdout",
     "output_type": "stream",
     "text": [
      "178/178 [==============================] - 4s 24ms/step - loss: 2.0298 - accuracy: 0.5306 - val_loss: 0.0000e+00 - val_accuracy: 0.0000e+00\n",
      "Epoch 2/15\n",
      "178/178 [==============================] - 1s 8ms/step - loss: 0.8498 - accuracy: 0.5877 - val_loss: 0.8898 - val_accuracy: 0.5692\n",
      "Epoch 3/15\n",
      "178/178 [==============================] - 1s 8ms/step - loss: 0.6923 - accuracy: 0.6154 - val_loss: 0.9579 - val_accuracy: 0.5806\n",
      "Epoch 4/15\n",
      "178/178 [==============================] - 1s 7ms/step - loss: 0.6346 - accuracy: 0.6475 - val_loss: 1.0297 - val_accuracy: 0.5558\n",
      "Epoch 5/15\n",
      "178/178 [==============================] - 1s 7ms/step - loss: 0.6613 - accuracy: 0.6408 - val_loss: 0.8293 - val_accuracy: 0.5959\n",
      "Epoch 6/15\n",
      "178/178 [==============================] - 1s 8ms/step - loss: 0.5936 - accuracy: 0.6732 - val_loss: 0.9439 - val_accuracy: 0.6055\n",
      "Epoch 7/15\n",
      "178/178 [==============================] - 1s 8ms/step - loss: 0.5672 - accuracy: 0.6948 - val_loss: 0.8641 - val_accuracy: 0.6240\n",
      "Epoch 8/15\n",
      "178/178 [==============================] - 1s 7ms/step - loss: 0.5342 - accuracy: 0.7220 - val_loss: 0.9193 - val_accuracy: 0.6252\n",
      "Epoch 9/15\n",
      "178/178 [==============================] - 1s 7ms/step - loss: 0.5439 - accuracy: 0.7295 - val_loss: 0.8639 - val_accuracy: 0.6348\n",
      "Epoch 10/15\n",
      "178/178 [==============================] - 1s 8ms/step - loss: 0.5584 - accuracy: 0.7167 - val_loss: 0.8981 - val_accuracy: 0.6297\n",
      "Epoch 11/15\n",
      "178/178 [==============================] - 1s 8ms/step - loss: 0.5225 - accuracy: 0.7363 - val_loss: 0.8879 - val_accuracy: 0.6297\n",
      "Epoch 12/15\n",
      "178/178 [==============================] - 1s 7ms/step - loss: 0.4998 - accuracy: 0.7524 - val_loss: 0.9253 - val_accuracy: 0.6335\n",
      "Epoch 13/15\n",
      "178/178 [==============================] - 1s 8ms/step - loss: 0.4610 - accuracy: 0.7732 - val_loss: 0.9897 - val_accuracy: 0.6393\n",
      "Epoch 14/15\n",
      "178/178 [==============================] - 1s 7ms/step - loss: 0.4491 - accuracy: 0.7830 - val_loss: 0.9681 - val_accuracy: 0.6456\n",
      "Epoch 15/15\n",
      "178/178 [==============================] - 1s 8ms/step - loss: 0.4431 - accuracy: 0.7855 - val_loss: 0.9998 - val_accuracy: 0.6520\n",
      "History: {'loss': [2.030289364067681, 0.8499745703108429, 0.6922343356328158, 0.6353275051343396, 0.660969841562089, 0.5943565239260762, 0.5668717099287852, 0.5343957795716877, 0.5436400995178318, 0.5582422723097762, 0.5225010693422073, 0.4999129819140197, 0.4611906450918444, 0.4490950343216053, 0.44296073304514827], 'accuracy': [0.53060997, 0.587666, 0.61535, 0.64753544, 0.64078325, 0.6731938, 0.6948008, 0.72203463, 0.7294621, 0.71674544, 0.7363268, 0.75241953, 0.7732388, 0.7830295, 0.7855053], 'val_loss': [1.108459586277604, 0.889805518090725, 0.9578845435753465, 1.029691306874156, 0.8293279949575663, 0.943923108279705, 0.8641040101647377, 0.9192928168922663, 0.8639326579868793, 0.8980841785669327, 0.8879436403512955, 0.9253141339868307, 0.9896601364016533, 0.9681158978492022, 0.9997854009270668], 'val_accuracy': [0.56660295, 0.56915236, 0.5806246, 0.555768, 0.595921, 0.6054812, 0.6239643, 0.625239, 0.63479924, 0.6297004, 0.6297004, 0.63352454, 0.63926065, 0.6456342, 0.65200764]}\n",
      "37/37 [==============================] - 0s 6ms/step - loss: 0.8703 - accuracy: 0.5984\n",
      "test loss, test acc: [0.8702667258881234, 0.598374]\n"
     ]
    }
   ],
   "source": [
    "features = generate_features(request_reply_df)\n",
    "model = build_fc_model(features)\n",
    "fc_qr_history, fc_qr_results = train_model(model, request_reply_df)"
   ]
  },
  {
   "cell_type": "code",
   "execution_count": 10,
   "metadata": {},
   "outputs": [
    {
     "data": {
      "image/png": "[encoded data removed]",
      "text/plain": [
       "<Figure size 432x288 with 1 Axes>"
      ]
     },
     "metadata": {
      "needs_background": "light"
     },
     "output_type": "display_data"
    }
   ],
   "source": [
    "plt.plot(fc_qr_history.history['accuracy'])\n",
    "plt.plot(fc_qr_history.history['val_accuracy'])\n",
    "plt.title('Fully Connected model accuracy')\n",
    "plt.ylabel('Accuracy')\n",
    "plt.xlabel('Epoch')\n",
    "plt.legend(['Train', 'Val'], loc='upper left')\n",
    "plt.show()"
   ]
  },
  {
   "cell_type": "code",
   "execution_count": 11,
   "metadata": {},
   "outputs": [
    {
     "name": "stderr",
     "output_type": "stream",
     "text": [
      "W0905 20:51:21.975322 4535956928 base_layer.py:1772] Layer sequential_1 is casting an input tensor from dtype float64 to the layer's dtype of float32, which is new behavior in TensorFlow 2.  The layer has dtype float32 because it's dtype defaults to floatx.\n",
      "\n",
      "If you intended to run this layer in float32, you can safely ignore this warning. If in doubt, this warning is likely only an issue if you are porting a TensorFlow 1.X model to TensorFlow 2.\n",
      "\n",
      "To change all layers to have dtype float64 by default, call `tf.keras.backend.set_floatx('float64')`. To change just this layer, pass dtype='float64' to the layer constructor. If you are the author of this layer, you can disable autocasting by passing autocast=False to the base Layer constructor.\n",
      "\n"
     ]
    },
    {
     "name": "stdout",
     "output_type": "stream",
     "text": [
      "Epoch 1/15\n",
      "178/178 [==============================] - 4s 23ms/step - loss: 2.4906 - accuracy: 0.5173 - val_loss: 0.0000e+00 - val_accuracy: 0.0000e+00\n",
      "Epoch 2/15\n",
      "178/178 [==============================] - 1s 7ms/step - loss: 0.9099 - accuracy: 0.5232 - val_loss: 0.8438 - val_accuracy: 0.5634\n",
      "Epoch 3/15\n",
      "178/178 [==============================] - 1s 7ms/step - loss: 0.8200 - accuracy: 0.5359 - val_loss: 0.8308 - val_accuracy: 0.5615\n",
      "Epoch 4/15\n",
      "178/178 [==============================] - 1s 8ms/step - loss: 0.7273 - accuracy: 0.5416 - val_loss: 0.7829 - val_accuracy: 0.5749\n",
      "Epoch 5/15\n",
      "178/178 [==============================] - 1s 8ms/step - loss: 0.6944 - accuracy: 0.5549 - val_loss: 0.7886 - val_accuracy: 0.5137\n",
      "Epoch 6/15\n",
      "178/178 [==============================] - 1s 8ms/step - loss: 0.7065 - accuracy: 0.5619 - val_loss: 0.8539 - val_accuracy: 0.4691\n",
      "Epoch 7/15\n",
      "178/178 [==============================] - 1s 7ms/step - loss: 0.6847 - accuracy: 0.5621 - val_loss: 0.8726 - val_accuracy: 0.4621\n",
      "Epoch 8/15\n",
      "178/178 [==============================] - 1s 8ms/step - loss: 0.6847 - accuracy: 0.5674 - val_loss: 0.7634 - val_accuracy: 0.5354\n",
      "Epoch 9/15\n",
      "178/178 [==============================] - 1s 8ms/step - loss: 0.6749 - accuracy: 0.5722 - val_loss: 0.7897 - val_accuracy: 0.5577\n",
      "Epoch 10/15\n",
      "178/178 [==============================] - 1s 8ms/step - loss: 0.6424 - accuracy: 0.5944 - val_loss: 0.7748 - val_accuracy: 0.5596\n",
      "Epoch 11/15\n",
      "178/178 [==============================] - 1s 8ms/step - loss: 0.6352 - accuracy: 0.6009 - val_loss: 0.8029 - val_accuracy: 0.5730\n",
      "Epoch 12/15\n",
      "178/178 [==============================] - 1s 8ms/step - loss: 0.6309 - accuracy: 0.6071 - val_loss: 0.8192 - val_accuracy: 0.5653\n",
      "Epoch 13/15\n",
      "178/178 [==============================] - 1s 7ms/step - loss: 0.6241 - accuracy: 0.6183 - val_loss: 0.8109 - val_accuracy: 0.5296\n",
      "Epoch 14/15\n",
      "178/178 [==============================] - 1s 7ms/step - loss: 0.6217 - accuracy: 0.6166 - val_loss: 0.8810 - val_accuracy: 0.5736\n",
      "Epoch 15/15\n",
      "178/178 [==============================] - 1s 8ms/step - loss: 0.6311 - accuracy: 0.6151 - val_loss: 0.8733 - val_accuracy: 0.4850\n",
      "History: {'loss': [2.492829592156029, 0.9090658452578984, 0.8199489818294387, 0.7270682890646474, 0.6942951224984121, 0.7065892340013795, 0.6846728010298888, 0.6846039054255858, 0.6745862756096348, 0.6420292635906287, 0.6350318138499585, 0.6311831121277814, 0.6241370783500405, 0.6228043130059621, 0.6308564196332146], 'accuracy': [0.51733065, 0.5231825, 0.53589916, 0.54163855, 0.5549179, 0.56189513, 0.5621202, 0.5674094, 0.57224846, 0.59441817, 0.6009453, 0.6071348, 0.61827594, 0.6165879, 0.61512494], 'val_loss': [1.2383285444229841, 0.843847144395113, 0.8308146446943283, 0.7828857637941837, 0.7885873820632696, 0.8539229929447174, 0.8725751638412476, 0.7633879389613867, 0.7896967064589262, 0.7748090233653784, 0.8029255643486977, 0.8192471973598003, 0.8109117653220892, 0.8809670601040125, 0.8732549473643303], 'val_accuracy': [0.5506692, 0.5634162, 0.5615041, 0.57488847, 0.513703, 0.46908858, 0.46207777, 0.53537285, 0.5576801, 0.55959207, 0.5729764, 0.56532824, 0.52963674, 0.57361376, 0.4850223]}\n",
      "37/37 [==============================] - 0s 6ms/step - loss: 0.8656 - accuracy: 0.4954\n",
      "test loss, test acc: [0.8655887552209802, 0.49539295]\n"
     ]
    }
   ],
   "source": [
    "features = generate_features(reply_reply_df)\n",
    "model = build_fc_model(features)\n",
    "fc_rr_history, fc_rr_results = train_model(model, reply_reply_df)"
   ]
  },
  {
   "cell_type": "code",
   "execution_count": 12,
   "metadata": {},
   "outputs": [
    {
     "data": {
      "image/png": "[encoded data removed]",
      "text/plain": [
       "<Figure size 432x288 with 1 Axes>"
      ]
     },
     "metadata": {
      "needs_background": "light"
     },
     "output_type": "display_data"
    }
   ],
   "source": [
    "plt.plot(fc_rr_history.history['accuracy'])\n",
    "plt.plot(fc_rr_history.history['val_accuracy'])\n",
    "plt.title('Fully Connected model accuracy')\n",
    "plt.ylabel('Accuracy')\n",
    "plt.xlabel('Epoch')\n",
    "plt.legend(['Train', 'Val'], loc='upper left')\n",
    "plt.show()"
   ]
  },
  {
   "cell_type": "code",
   "execution_count": 13,
   "metadata": {},
   "outputs": [
    {
     "name": "stdout",
     "output_type": "stream",
     "text": [
      "Epoch 1/15\n",
      "178/178 [==============================] - 6s 31ms/step - loss: 0.7990 - accuracy: 0.5548 - val_loss: 0.0000e+00 - val_accuracy: 0.0000e+00\n",
      "Epoch 2/15\n",
      "178/178 [==============================] - 3s 16ms/step - loss: 0.6783 - accuracy: 0.5580 - val_loss: 0.6860 - val_accuracy: 0.5214\n",
      "Epoch 3/15\n",
      "178/178 [==============================] - 3s 16ms/step - loss: 0.6632 - accuracy: 0.5590 - val_loss: 0.6737 - val_accuracy: 0.5214\n",
      "Epoch 4/15\n",
      "178/178 [==============================] - 3s 16ms/step - loss: 0.6427 - accuracy: 0.5909 - val_loss: 0.6531 - val_accuracy: 0.6737\n",
      "Epoch 5/15\n",
      "178/178 [==============================] - 3s 16ms/step - loss: 0.6138 - accuracy: 0.6750 - val_loss: 0.6065 - val_accuracy: 0.6960\n",
      "Epoch 6/15\n",
      "178/178 [==============================] - 3s 16ms/step - loss: 0.5441 - accuracy: 0.7146 - val_loss: 0.5764 - val_accuracy: 0.6953\n",
      "Epoch 7/15\n",
      "178/178 [==============================] - 3s 15ms/step - loss: 0.5036 - accuracy: 0.7496 - val_loss: 0.5684 - val_accuracy: 0.7036\n",
      "Epoch 8/15\n",
      "178/178 [==============================] - 3s 16ms/step - loss: 0.4700 - accuracy: 0.7676 - val_loss: 0.5733 - val_accuracy: 0.7336\n",
      "Epoch 9/15\n",
      "178/178 [==============================] - 3s 16ms/step - loss: 0.4370 - accuracy: 0.7880 - val_loss: 0.5791 - val_accuracy: 0.7279\n",
      "Epoch 10/15\n",
      "178/178 [==============================] - 3s 17ms/step - loss: 0.4008 - accuracy: 0.8074 - val_loss: 0.6572 - val_accuracy: 0.7266\n",
      "Epoch 11/15\n",
      "178/178 [==============================] - 3s 16ms/step - loss: 0.3720 - accuracy: 0.8237 - val_loss: 0.6415 - val_accuracy: 0.7253\n",
      "Epoch 12/15\n",
      "178/178 [==============================] - 3s 16ms/step - loss: 0.3408 - accuracy: 0.8399 - val_loss: 0.7527 - val_accuracy: 0.7291\n",
      "Epoch 13/15\n",
      "178/178 [==============================] - 3s 16ms/step - loss: 0.3182 - accuracy: 0.8533 - val_loss: 0.7830 - val_accuracy: 0.7138\n",
      "Epoch 14/15\n",
      "178/178 [==============================] - 3s 16ms/step - loss: 0.2953 - accuracy: 0.8634 - val_loss: 0.8114 - val_accuracy: 0.7132\n",
      "Epoch 15/15\n",
      "178/178 [==============================] - 3s 16ms/step - loss: 0.2730 - accuracy: 0.8756 - val_loss: 0.8025 - val_accuracy: 0.7183\n",
      "History: {'loss': [0.799100549336948, 0.6782755828134492, 0.6631138046636201, 0.642985897680781, 0.613413336039287, 0.5435886349518128, 0.5033007300425939, 0.4697232515914414, 0.43741048538762656, 0.40096745405437545, 0.3718081634007889, 0.3405082171668401, 0.31822948353652236, 0.2952611097043467, 0.27296647549869507], 'accuracy': [0.55480534, 0.55795634, 0.55896914, 0.59092957, 0.67499435, 0.71460724, 0.74960613, 0.767612, 0.7879811, 0.80744994, 0.8236552, 0.83986044, 0.8532523, 0.8633806, 0.87564707], 'val_loss': [0.6949912123382092, 0.6860118862241507, 0.6737150959670544, 0.653135534375906, 0.6064640721306205, 0.5764002231881022, 0.5684231864288449, 0.5733374832198024, 0.5791270695626736, 0.6571874171495438, 0.6414533974602818, 0.7526911543682218, 0.7829724894836545, 0.8114280048757792, 0.8024575840681791], 'val_accuracy': [0.52007645, 0.52135116, 0.52135116, 0.6736775, 0.6959847, 0.69534737, 0.7036329, 0.7335883, 0.7278521, 0.72657746, 0.72530276, 0.7291268, 0.7138305, 0.7131931, 0.7182919]}\n",
      "37/37 [==============================] - 1s 32ms/step - loss: 0.7848 - accuracy: 0.7317\n",
      "test loss, test acc: [0.7847777162049268, 0.73170733]\n"
     ]
    }
   ],
   "source": [
    "features = generate_features(request_reply_df)\n",
    "model = build_conv_model(features)\n",
    "conv_qr_history, conv_qr_results = train_model(model, request_reply_df)"
   ]
  },
  {
   "cell_type": "code",
   "execution_count": 14,
   "metadata": {},
   "outputs": [
    {
     "data": {
      "image/png": "[encoded data removed]",
      "text/plain": [
       "<Figure size 432x288 with 1 Axes>"
      ]
     },
     "metadata": {
      "needs_background": "light"
     },
     "output_type": "display_data"
    }
   ],
   "source": [
    "plt.plot(conv_qr_history.history['accuracy'])\n",
    "plt.plot(conv_qr_history.history['val_accuracy'])\n",
    "plt.title('Convolutional model accuracy')\n",
    "plt.ylabel('Accuracy')\n",
    "plt.xlabel('Epoch')\n",
    "plt.legend(['Train', 'Val'], loc='upper left')\n",
    "plt.show()"
   ]
  },
  {
   "cell_type": "code",
   "execution_count": 15,
   "metadata": {},
   "outputs": [
    {
     "name": "stdout",
     "output_type": "stream",
     "text": [
      "[0.8702667258881234, 0.598374] [0.8655887552209802, 0.49539295] [0.7847777162049268, 0.73170733]\n"
     ]
    }
   ],
   "source": [
    "print(fc_qr_results, fc_rr_results, conv_qr_results)"
   ]
  },
  {
   "cell_type": "code",
   "execution_count": 16,
   "metadata": {},
   "outputs": [],
   "source": [
    "from sklearn.ensemble import RandomForestClassifier\n",
    "from sklearn.model_selection import train_test_split"
   ]
  },
  {
   "cell_type": "code",
   "execution_count": 32,
   "metadata": {},
   "outputs": [],
   "source": [
    "dataset = request_reply_df.copy()\n",
    "dataset.drop(1, axis=1, inplace=True)\n",
    "labels = dataset.pop(\"Malicious\")\n",
    "X_train, X_test, y_train, y_test = train_test_split(dataset, labels, test_size=.2)"
   ]
  },
  {
   "cell_type": "code",
   "execution_count": 33,
   "metadata": {},
   "outputs": [
    {
     "name": "stderr",
     "output_type": "stream",
     "text": [
      "/anaconda3/lib/python3.7/site-packages/sklearn/ensemble/forest.py:246: FutureWarning: The default value of n_estimators will change from 10 in version 0.20 to 100 in 0.22.\n",
      "  \"10 in version 0.20 to 100 in 0.22.\", FutureWarning)\n"
     ]
    },
    {
     "data": {
      "text/plain": [
       "RandomForestClassifier(bootstrap=True, class_weight=None, criterion='gini',\n",
       "            max_depth=None, max_features='auto', max_leaf_nodes=None,\n",
       "            min_impurity_decrease=0.0, min_impurity_split=None,\n",
       "            min_samples_leaf=1, min_samples_split=2,\n",
       "            min_weight_fraction_leaf=0.0, n_estimators=10, n_jobs=None,\n",
       "            oob_score=False, random_state=None, verbose=0,\n",
       "            warm_start=False)"
      ]
     },
     "execution_count": 33,
     "metadata": {},
     "output_type": "execute_result"
    }
   ],
   "source": [
    "clf = RandomForestClassifier()\n",
    "clf.fit(X_train, y_train)"
   ]
  },
  {
   "cell_type": "code",
   "execution_count": 35,
   "metadata": {},
   "outputs": [],
   "source": [
    "predictions = clf.predict(X_test)"
   ]
  },
  {
   "cell_type": "code",
   "execution_count": 38,
   "metadata": {},
   "outputs": [
    {
     "name": "stdout",
     "output_type": "stream",
     "text": [
      "Accuracy of random forest classifier:0.7528455284552845\n"
     ]
    }
   ],
   "source": [
    "errors = [0 if p == label else 1 for p, label in zip(predictions, y_test)]\n",
    "accuracy = 1 - (np.sum(errors)/len(errors))\n",
    "print(\"Accuracy of random forest classifier:\" + str(accuracy))"
   ]
  },
  {
   "cell_type": "code",
   "execution_count": null,
   "metadata": {},
   "outputs": [],
   "source": []
  }
 ],
 "metadata": {
  "kernelspec": {
   "display_name": "Python 3",
   "language": "python",
   "name": "python3"
  },
  "language_info": {
   "codemirror_mode": {
    "name": "ipython",
    "version": 3
   },
   "file_extension": ".py",
   "mimetype": "text/x-python",
   "name": "python",
   "nbconvert_exporter": "python",
   "pygments_lexer": "ipython3",
   "version": "3.7.3"
  }
 },
 "nbformat": 4,
 "nbformat_minor": 2
}
