{
 "cells": [
  {
   "cell_type": "code",
   "execution_count": 1,
   "metadata": {},
   "outputs": [],
   "source": [
    "import pandas as pd\n",
    "import numpy as np\n",
    "import matplotlib.pyplot as plt\n",
    "import seaborn as sns\n",
    "%matplotlib inline"
   ]
  },
  {
   "cell_type": "code",
   "execution_count": 2,
   "metadata": {},
   "outputs": [],
   "source": [
    "request_reply_df = pd.read_csv(\"./data/requestreply.csv\", header=None)\n",
    "reply_reply_df = pd.read_csv(\"./data/replyreply.csv\", header=None)"
   ]
  },
  {
   "cell_type": "code",
   "execution_count": 3,
   "metadata": {},
   "outputs": [
    {
     "data": {
      "text/html": [
       "<div>\n",
       "<style scoped>\n",
       "    .dataframe tbody tr th:only-of-type {\n",
       "        vertical-align: middle;\n",
       "    }\n",
       "\n",
       "    .dataframe tbody tr th {\n",
       "        vertical-align: top;\n",
       "    }\n",
       "\n",
       "    .dataframe thead th {\n",
       "        text-align: right;\n",
       "    }\n",
       "</style>\n",
       "<table border=\"1\" class=\"dataframe\">\n",
       "  <thead>\n",
       "    <tr style=\"text-align: right;\">\n",
       "      <th></th>\n",
       "      <th>2</th>\n",
       "      <th>3</th>\n",
       "      <th>4</th>\n",
       "      <th>5</th>\n",
       "      <th>6</th>\n",
       "      <th>7</th>\n",
       "      <th>8</th>\n",
       "      <th>9</th>\n",
       "      <th>10</th>\n",
       "      <th>11</th>\n",
       "      <th>...</th>\n",
       "      <th>92</th>\n",
       "      <th>93</th>\n",
       "      <th>94</th>\n",
       "      <th>95</th>\n",
       "      <th>96</th>\n",
       "      <th>97</th>\n",
       "      <th>98</th>\n",
       "      <th>99</th>\n",
       "      <th>100</th>\n",
       "      <th>101</th>\n",
       "    </tr>\n",
       "  </thead>\n",
       "  <tbody>\n",
       "    <tr>\n",
       "      <th>count</th>\n",
       "      <td>12300.000000</td>\n",
       "      <td>12300.000000</td>\n",
       "      <td>12300.000000</td>\n",
       "      <td>12300.000000</td>\n",
       "      <td>12300.000000</td>\n",
       "      <td>12300.000000</td>\n",
       "      <td>12300.000000</td>\n",
       "      <td>12300.000000</td>\n",
       "      <td>12300.000000</td>\n",
       "      <td>12300.000000</td>\n",
       "      <td>...</td>\n",
       "      <td>12300.000000</td>\n",
       "      <td>12300.000000</td>\n",
       "      <td>12300.000000</td>\n",
       "      <td>12300.000000</td>\n",
       "      <td>12300.000000</td>\n",
       "      <td>12300.000000</td>\n",
       "      <td>12300.000000</td>\n",
       "      <td>12300.000000</td>\n",
       "      <td>12300.000000</td>\n",
       "      <td>12300.000000</td>\n",
       "    </tr>\n",
       "    <tr>\n",
       "      <th>mean</th>\n",
       "      <td>168.552801</td>\n",
       "      <td>80.671077</td>\n",
       "      <td>38.756572</td>\n",
       "      <td>32.053867</td>\n",
       "      <td>30.741587</td>\n",
       "      <td>29.762200</td>\n",
       "      <td>29.199574</td>\n",
       "      <td>27.477508</td>\n",
       "      <td>26.854041</td>\n",
       "      <td>25.994097</td>\n",
       "      <td>...</td>\n",
       "      <td>25.061934</td>\n",
       "      <td>25.304607</td>\n",
       "      <td>25.449759</td>\n",
       "      <td>25.352015</td>\n",
       "      <td>25.144316</td>\n",
       "      <td>25.101272</td>\n",
       "      <td>26.139811</td>\n",
       "      <td>26.930865</td>\n",
       "      <td>28.847339</td>\n",
       "      <td>33.734174</td>\n",
       "    </tr>\n",
       "    <tr>\n",
       "      <th>std</th>\n",
       "      <td>143.484703</td>\n",
       "      <td>139.634386</td>\n",
       "      <td>124.942185</td>\n",
       "      <td>115.652077</td>\n",
       "      <td>108.482573</td>\n",
       "      <td>103.805790</td>\n",
       "      <td>114.714679</td>\n",
       "      <td>104.206368</td>\n",
       "      <td>100.228591</td>\n",
       "      <td>97.246000</td>\n",
       "      <td>...</td>\n",
       "      <td>103.891678</td>\n",
       "      <td>103.689839</td>\n",
       "      <td>104.585712</td>\n",
       "      <td>104.140811</td>\n",
       "      <td>105.343442</td>\n",
       "      <td>105.831126</td>\n",
       "      <td>108.482392</td>\n",
       "      <td>113.407518</td>\n",
       "      <td>149.541268</td>\n",
       "      <td>157.315308</td>\n",
       "    </tr>\n",
       "    <tr>\n",
       "      <th>min</th>\n",
       "      <td>-1.000000</td>\n",
       "      <td>-1.000000</td>\n",
       "      <td>-1.000000</td>\n",
       "      <td>-1.000000</td>\n",
       "      <td>-1.000000</td>\n",
       "      <td>-1.000000</td>\n",
       "      <td>-1.000000</td>\n",
       "      <td>-1.000000</td>\n",
       "      <td>-1.000000</td>\n",
       "      <td>-1.000000</td>\n",
       "      <td>...</td>\n",
       "      <td>-1.000000</td>\n",
       "      <td>-1.000000</td>\n",
       "      <td>-1.000000</td>\n",
       "      <td>-1.000000</td>\n",
       "      <td>-1.000000</td>\n",
       "      <td>-1.000000</td>\n",
       "      <td>-1.000000</td>\n",
       "      <td>-1.000000</td>\n",
       "      <td>-1.000000</td>\n",
       "      <td>-1.000000</td>\n",
       "    </tr>\n",
       "    <tr>\n",
       "      <th>25%</th>\n",
       "      <td>110.203981</td>\n",
       "      <td>10.664463</td>\n",
       "      <td>7.254362</td>\n",
       "      <td>6.472051</td>\n",
       "      <td>6.865978</td>\n",
       "      <td>6.719649</td>\n",
       "      <td>6.819010</td>\n",
       "      <td>6.800115</td>\n",
       "      <td>6.838262</td>\n",
       "      <td>6.684005</td>\n",
       "      <td>...</td>\n",
       "      <td>6.622315</td>\n",
       "      <td>6.737947</td>\n",
       "      <td>6.783962</td>\n",
       "      <td>6.749630</td>\n",
       "      <td>6.704092</td>\n",
       "      <td>6.692827</td>\n",
       "      <td>6.615638</td>\n",
       "      <td>6.826102</td>\n",
       "      <td>6.601989</td>\n",
       "      <td>6.671906</td>\n",
       "    </tr>\n",
       "    <tr>\n",
       "      <th>50%</th>\n",
       "      <td>125.361919</td>\n",
       "      <td>27.813911</td>\n",
       "      <td>11.111021</td>\n",
       "      <td>9.940505</td>\n",
       "      <td>10.165453</td>\n",
       "      <td>10.082960</td>\n",
       "      <td>10.182023</td>\n",
       "      <td>10.108947</td>\n",
       "      <td>10.139465</td>\n",
       "      <td>10.075569</td>\n",
       "      <td>...</td>\n",
       "      <td>10.021448</td>\n",
       "      <td>10.118008</td>\n",
       "      <td>10.111928</td>\n",
       "      <td>10.084033</td>\n",
       "      <td>10.094404</td>\n",
       "      <td>10.052443</td>\n",
       "      <td>10.025501</td>\n",
       "      <td>10.061979</td>\n",
       "      <td>10.042549</td>\n",
       "      <td>10.014534</td>\n",
       "    </tr>\n",
       "    <tr>\n",
       "      <th>75%</th>\n",
       "      <td>216.209472</td>\n",
       "      <td>114.264309</td>\n",
       "      <td>19.995451</td>\n",
       "      <td>15.584529</td>\n",
       "      <td>15.759706</td>\n",
       "      <td>15.511990</td>\n",
       "      <td>15.537262</td>\n",
       "      <td>15.574992</td>\n",
       "      <td>15.710831</td>\n",
       "      <td>15.468359</td>\n",
       "      <td>...</td>\n",
       "      <td>15.242099</td>\n",
       "      <td>15.369892</td>\n",
       "      <td>15.529871</td>\n",
       "      <td>15.397132</td>\n",
       "      <td>15.461623</td>\n",
       "      <td>15.429079</td>\n",
       "      <td>15.504480</td>\n",
       "      <td>15.425980</td>\n",
       "      <td>15.324474</td>\n",
       "      <td>15.388250</td>\n",
       "    </tr>\n",
       "    <tr>\n",
       "      <th>max</th>\n",
       "      <td>5317.913055</td>\n",
       "      <td>5216.073036</td>\n",
       "      <td>5111.930847</td>\n",
       "      <td>5008.516073</td>\n",
       "      <td>4904.536963</td>\n",
       "      <td>4800.885916</td>\n",
       "      <td>6366.826057</td>\n",
       "      <td>6265.555143</td>\n",
       "      <td>6161.940098</td>\n",
       "      <td>6053.858995</td>\n",
       "      <td>...</td>\n",
       "      <td>8872.637033</td>\n",
       "      <td>8973.212957</td>\n",
       "      <td>9074.537039</td>\n",
       "      <td>9175.518036</td>\n",
       "      <td>9275.300026</td>\n",
       "      <td>9375.156164</td>\n",
       "      <td>9476.207972</td>\n",
       "      <td>9576.614857</td>\n",
       "      <td>9934.896946</td>\n",
       "      <td>10035.484076</td>\n",
       "    </tr>\n",
       "  </tbody>\n",
       "</table>\n",
       "<p>8 rows × 100 columns</p>\n",
       "</div>"
      ],
      "text/plain": [
       "                2             3             4             5             6    \\\n",
       "count  12300.000000  12300.000000  12300.000000  12300.000000  12300.000000   \n",
       "mean     168.552801     80.671077     38.756572     32.053867     30.741587   \n",
       "std      143.484703    139.634386    124.942185    115.652077    108.482573   \n",
       "min       -1.000000     -1.000000     -1.000000     -1.000000     -1.000000   \n",
       "25%      110.203981     10.664463      7.254362      6.472051      6.865978   \n",
       "50%      125.361919     27.813911     11.111021      9.940505     10.165453   \n",
       "75%      216.209472    114.264309     19.995451     15.584529     15.759706   \n",
       "max     5317.913055   5216.073036   5111.930847   5008.516073   4904.536963   \n",
       "\n",
       "                7             8             9             10            11   \\\n",
       "count  12300.000000  12300.000000  12300.000000  12300.000000  12300.000000   \n",
       "mean      29.762200     29.199574     27.477508     26.854041     25.994097   \n",
       "std      103.805790    114.714679    104.206368    100.228591     97.246000   \n",
       "min       -1.000000     -1.000000     -1.000000     -1.000000     -1.000000   \n",
       "25%        6.719649      6.819010      6.800115      6.838262      6.684005   \n",
       "50%       10.082960     10.182023     10.108947     10.139465     10.075569   \n",
       "75%       15.511990     15.537262     15.574992     15.710831     15.468359   \n",
       "max     4800.885916   6366.826057   6265.555143   6161.940098   6053.858995   \n",
       "\n",
       "           ...                92            93            94            95   \\\n",
       "count      ...       12300.000000  12300.000000  12300.000000  12300.000000   \n",
       "mean       ...          25.061934     25.304607     25.449759     25.352015   \n",
       "std        ...         103.891678    103.689839    104.585712    104.140811   \n",
       "min        ...          -1.000000     -1.000000     -1.000000     -1.000000   \n",
       "25%        ...           6.622315      6.737947      6.783962      6.749630   \n",
       "50%        ...          10.021448     10.118008     10.111928     10.084033   \n",
       "75%        ...          15.242099     15.369892     15.529871     15.397132   \n",
       "max        ...        8872.637033   8973.212957   9074.537039   9175.518036   \n",
       "\n",
       "                96            97            98            99            100  \\\n",
       "count  12300.000000  12300.000000  12300.000000  12300.000000  12300.000000   \n",
       "mean      25.144316     25.101272     26.139811     26.930865     28.847339   \n",
       "std      105.343442    105.831126    108.482392    113.407518    149.541268   \n",
       "min       -1.000000     -1.000000     -1.000000     -1.000000     -1.000000   \n",
       "25%        6.704092      6.692827      6.615638      6.826102      6.601989   \n",
       "50%       10.094404     10.052443     10.025501     10.061979     10.042549   \n",
       "75%       15.461623     15.429079     15.504480     15.425980     15.324474   \n",
       "max     9275.300026   9375.156164   9476.207972   9576.614857   9934.896946   \n",
       "\n",
       "                101  \n",
       "count  12300.000000  \n",
       "mean      33.734174  \n",
       "std      157.315308  \n",
       "min       -1.000000  \n",
       "25%        6.671906  \n",
       "50%       10.014534  \n",
       "75%       15.388250  \n",
       "max    10035.484076  \n",
       "\n",
       "[8 rows x 100 columns]"
      ]
     },
     "execution_count": 3,
     "metadata": {},
     "output_type": "execute_result"
    }
   ],
   "source": [
    "request_reply_df.describe()"
   ]
  },
  {
   "cell_type": "code",
   "execution_count": 4,
   "metadata": {},
   "outputs": [],
   "source": [
    "request_reply_df.rename(columns={0:'Malicious'}, inplace=True)"
   ]
  },
  {
   "cell_type": "code",
   "execution_count": 5,
   "metadata": {},
   "outputs": [],
   "source": [
    "request_reply_df[\"Malicious\"].replace('legit', 0, inplace=True)\n",
    "request_reply_df[\"Malicious\"].replace('malware', 1, inplace=True)"
   ]
  },
  {
   "cell_type": "code",
   "execution_count": 6,
   "metadata": {},
   "outputs": [
    {
     "data": {
      "text/plain": [
       "<matplotlib.axes._subplots.AxesSubplot at 0x7fac3a862470>"
      ]
     },
     "execution_count": 6,
     "metadata": {},
     "output_type": "execute_result"
    },
    {
     "data": {
      "image/png": "[encoded data removed]",
      "text/plain": [
       "<Figure size 432x288 with 1 Axes>"
      ]
     },
     "metadata": {
      "needs_background": "light"
     },
     "output_type": "display_data"
    }
   ],
   "source": [
    "benignware = request_reply_df.loc[request_reply_df[\"Malicious\"] == 0]\n",
    "benignware.plot(legend=False)"
   ]
  },
  {
   "cell_type": "code",
   "execution_count": 7,
   "metadata": {},
   "outputs": [
    {
     "data": {
      "text/plain": [
       "<matplotlib.axes._subplots.AxesSubplot at 0x7fac28f0a438>"
      ]
     },
     "execution_count": 7,
     "metadata": {},
     "output_type": "execute_result"
    },
    {
     "data": {
      "image/png": "[encoded data removed]",
      "text/plain": [
       "<Figure size 432x288 with 1 Axes>"
      ]
     },
     "metadata": {
      "needs_background": "light"
     },
     "output_type": "display_data"
    }
   ],
   "source": [
    "malware = request_reply_df.loc[request_reply_df[\"Malicious\"] == 1]\n",
    "malware.plot(legend=False)"
   ]
  },
  {
   "cell_type": "code",
   "execution_count": 8,
   "metadata": {},
   "outputs": [],
   "source": [
    "from prototype_model import *"
   ]
  },
  {
   "cell_type": "code",
   "execution_count": 9,
   "metadata": {},
   "outputs": [
    {
     "name": "stdout",
     "output_type": "stream",
     "text": [
      "Epoch 1/15\n"
     ]
    },
    {
     "name": "stderr",
     "output_type": "stream",
     "text": [
      "WARNING: Logging before flag parsing goes to stderr.\n",
      "W0927 09:34:45.173693 4454487488 deprecation.py:323] From /Users/egalinkin/anaconda3/lib/python3.6/site-packages/tensorflow_core/python/ops/nn_impl.py:183: where (from tensorflow.python.ops.array_ops) is deprecated and will be removed in a future version.\n",
      "Instructions for updating:\n",
      "Use tf.where in 2.0, which has the same broadcast rule as np.where\n"
     ]
    },
    {
     "name": "stdout",
     "output_type": "stream",
     "text": [
      "99/99 [==============================] - 3s 27ms/step - loss: 2.3413 - accuracy: 0.5155\n",
      "Epoch 2/15\n",
      "99/99 [==============================] - 1s 11ms/step - loss: 1.0146 - accuracy: 0.5577\n",
      "Epoch 3/15\n",
      "99/99 [==============================] - 1s 11ms/step - loss: 0.7993 - accuracy: 0.5850\n",
      "Epoch 4/15\n",
      "99/99 [==============================] - 1s 10ms/step - loss: 0.6861 - accuracy: 0.6231\n",
      "Epoch 5/15\n",
      "99/99 [==============================] - 1s 10ms/step - loss: 0.6281 - accuracy: 0.6514\n",
      "Epoch 6/15\n",
      "99/99 [==============================] - 1s 10ms/step - loss: 0.6035 - accuracy: 0.6687\n",
      "Epoch 7/15\n",
      "99/99 [==============================] - 1s 10ms/step - loss: 0.5906 - accuracy: 0.6804\n",
      "Epoch 8/15\n",
      "99/99 [==============================] - 1s 10ms/step - loss: 0.5626 - accuracy: 0.7028\n",
      "Epoch 9/15\n",
      "99/99 [==============================] - 1s 10ms/step - loss: 0.5344 - accuracy: 0.7171\n",
      "Epoch 10/15\n",
      "99/99 [==============================] - 1s 10ms/step - loss: 0.5145 - accuracy: 0.7380\n",
      "Epoch 11/15\n",
      "99/99 [==============================] - 1s 10ms/step - loss: 0.4956 - accuracy: 0.7450\n",
      "Epoch 12/15\n",
      "99/99 [==============================] - 1s 10ms/step - loss: 0.4887 - accuracy: 0.7581\n",
      "Epoch 13/15\n",
      "99/99 [==============================] - 1s 10ms/step - loss: 0.4731 - accuracy: 0.7657\n",
      "Epoch 14/15\n",
      "99/99 [==============================] - 1s 10ms/step - loss: 0.4854 - accuracy: 0.7568\n",
      "Epoch 15/15\n",
      "99/99 [==============================] - 1s 10ms/step - loss: 0.4653 - accuracy: 0.7729\n",
      "History: {'loss': [2.3466189874381556, 1.0149160853730954, 0.7998214181118865, 0.6861435320319199, 0.6282858274331907, 0.6043509163749896, 0.5901975867951789, 0.562526308242383, 0.5342396775154563, 0.514427466242294, 0.4956362006988952, 0.4886584207415581, 0.4740560192887376, 0.48548957105816865, 0.46526672691106796], 'accuracy': [0.51554877, 0.5577236, 0.5849593, 0.6230691, 0.65142274, 0.6686992, 0.6803862, 0.7028455, 0.71707314, 0.73800814, 0.74502033, 0.7581301, 0.7656504, 0.75680894, 0.77286583]}\n",
      "25/25 [==============================] - 1s 38ms/step - loss: 0.8443 - accuracy: 0.6163\n",
      "test loss, test acc: [0.8443284606933594, 0.6162602]\n"
     ]
    }
   ],
   "source": [
    "features = generate_features(request_reply_df)\n",
    "model = build_fc_model(features)\n",
    "fc_qr_history, fc_qr_results = train_model(model, request_reply_df)"
   ]
  },
  {
   "cell_type": "code",
   "execution_count": 10,
   "metadata": {},
   "outputs": [
    {
     "data": {
      "image/png": "[encoded data removed]",
      "text/plain": [
       "<Figure size 432x288 with 1 Axes>"
      ]
     },
     "metadata": {
      "needs_background": "light"
     },
     "output_type": "display_data"
    }
   ],
   "source": [
    "plt.plot(fc_qr_history.history['loss'])\n",
    "plt.title('Fully Connected model loss')\n",
    "plt.ylabel('Loss')\n",
    "plt.xlabel('Epoch')\n",
    "plt.legend(['Train', 'Val'], loc='upper left')\n",
    "plt.show()"
   ]
  },
  {
   "cell_type": "code",
   "execution_count": 11,
   "metadata": {},
   "outputs": [],
   "source": [
    "# features = generate_features(reply_reply_df)\n",
    "# model = build_fc_model(features)\n",
    "# fc_rr_history, fc_rr_results = train_model(model, reply_reply_df)"
   ]
  },
  {
   "cell_type": "code",
   "execution_count": 12,
   "metadata": {},
   "outputs": [],
   "source": [
    "# plt.plot(fc_rr_history.history['loss'])\n",
    "# # plt.plot(fc_rr_history.history['val_accuracy'])\n",
    "# plt.title('Fully Connected model loss')\n",
    "# plt.ylabel('Loss')\n",
    "# plt.xlabel('Epoch')\n",
    "# plt.legend(['Train', 'Val'], loc='upper left')\n",
    "# plt.show()"
   ]
  },
  {
   "cell_type": "code",
   "execution_count": 13,
   "metadata": {},
   "outputs": [
    {
     "name": "stderr",
     "output_type": "stream",
     "text": [
      "W0927 09:35:03.302563 4454487488 base_layer.py:1772] Layer sequential_1 is casting an input tensor from dtype float64 to the layer's dtype of float32, which is new behavior in TensorFlow 2.  The layer has dtype float32 because it's dtype defaults to floatx.\n",
      "\n",
      "If you intended to run this layer in float32, you can safely ignore this warning. If in doubt, this warning is likely only an issue if you are porting a TensorFlow 1.X model to TensorFlow 2.\n",
      "\n",
      "To change all layers to have dtype float64 by default, call `tf.keras.backend.set_floatx('float64')`. To change just this layer, pass dtype='float64' to the layer constructor. If you are the author of this layer, you can disable autocasting by passing autocast=False to the base Layer constructor.\n",
      "\n"
     ]
    },
    {
     "name": "stdout",
     "output_type": "stream",
     "text": [
      "Epoch 1/15\n",
      "99/99 [==============================] - 4s 37ms/step - loss: 0.6644 - accuracy: 0.6341\n",
      "Epoch 2/15\n",
      "99/99 [==============================] - 2s 18ms/step - loss: 0.5630 - accuracy: 0.7135\n",
      "Epoch 3/15\n",
      "99/99 [==============================] - 2s 18ms/step - loss: 0.5315 - accuracy: 0.7383\n",
      "Epoch 4/15\n",
      "99/99 [==============================] - 2s 18ms/step - loss: 0.5086 - accuracy: 0.7515\n",
      "Epoch 5/15\n",
      "99/99 [==============================] - 2s 17ms/step - loss: 0.4805 - accuracy: 0.7703\n",
      "Epoch 6/15\n",
      "99/99 [==============================] - 2s 17ms/step - loss: 0.4629 - accuracy: 0.7837\n",
      "Epoch 7/15\n",
      "99/99 [==============================] - 2s 17ms/step - loss: 0.4451 - accuracy: 0.7960\n",
      "Epoch 8/15\n",
      "99/99 [==============================] - 2s 18ms/step - loss: 0.4216 - accuracy: 0.8076\n",
      "Epoch 9/15\n",
      "99/99 [==============================] - 2s 17ms/step - loss: 0.4054 - accuracy: 0.8153\n",
      "Epoch 10/15\n",
      "99/99 [==============================] - 2s 17ms/step - loss: 0.3942 - accuracy: 0.8198\n",
      "Epoch 11/15\n",
      "99/99 [==============================] - 2s 17ms/step - loss: 0.3740 - accuracy: 0.8340\n",
      "Epoch 12/15\n",
      "99/99 [==============================] - 2s 17ms/step - loss: 0.3845 - accuracy: 0.8286\n",
      "Epoch 13/15\n",
      "99/99 [==============================] - 2s 17ms/step - loss: 0.3505 - accuracy: 0.8476\n",
      "Epoch 14/15\n",
      "99/99 [==============================] - 2s 17ms/step - loss: 0.3304 - accuracy: 0.8612\n",
      "Epoch 15/15\n",
      "99/99 [==============================] - 2s 18ms/step - loss: 0.3096 - accuracy: 0.8694\n",
      "History: {'loss': [0.663743700317251, 0.5628493558464012, 0.5316249502262449, 0.5089712255611653, 0.48030141268561527, 0.46277450515729623, 0.4449141064310462, 0.42152038949534176, 0.4057490505823275, 0.39385711322954997, 0.37398000085741523, 0.3839014752245531, 0.3507148330592043, 0.33044840153155286, 0.3097939077552741], 'accuracy': [0.63414633, 0.71351624, 0.738313, 0.7515244, 0.7703252, 0.78373986, 0.7960366, 0.80762196, 0.8153455, 0.81981707, 0.8340447, 0.8285569, 0.847561, 0.8611789, 0.8694106]}\n",
      "25/25 [==============================] - 1s 45ms/step - loss: 0.5610 - accuracy: 0.7512\n",
      "test loss, test acc: [0.5609642875194549, 0.7512195]\n"
     ]
    }
   ],
   "source": [
    "features = generate_features(request_reply_df)\n",
    "model = build_conv_model(features)\n",
    "conv_qr_history, conv_qr_results = train_model(model, request_reply_df)"
   ]
  },
  {
   "cell_type": "code",
   "execution_count": 14,
   "metadata": {},
   "outputs": [
    {
     "data": {
      "image/png": "[encoded data removed]",
      "text/plain": [
       "<Figure size 432x288 with 1 Axes>"
      ]
     },
     "metadata": {
      "needs_background": "light"
     },
     "output_type": "display_data"
    }
   ],
   "source": [
    "plt.plot(conv_qr_history.history['loss'])\n",
    "# plt.plot(conv_qr_history.history['val_accuracy'])\n",
    "plt.title('Convolutional model accuracy')\n",
    "plt.ylabel('Loss')\n",
    "plt.xlabel('Epoch')\n",
    "plt.legend(['Train', 'Val'], loc='upper left')\n",
    "plt.show()"
   ]
  },
  {
   "cell_type": "code",
   "execution_count": 15,
   "metadata": {},
   "outputs": [],
   "source": [
    "# features = generate_features(reply_reply_df)\n",
    "# model = build_conv_model(features)\n",
    "# conv_rr_history, conv_rr_results = train_model(model, reply_reply_df)"
   ]
  },
  {
   "cell_type": "code",
   "execution_count": 16,
   "metadata": {},
   "outputs": [],
   "source": [
    "# plt.plot(conv_rr_history.history['accuracy'])\n",
    "# # plt.plot(conv_rr_history.history['val_accuracy'])\n",
    "# plt.title('Convolutional model accuracy')\n",
    "# plt.ylabel('Accuracy')\n",
    "# plt.xlabel('Epoch')\n",
    "# plt.legend(['Train', 'Val'], loc='upper left')\n",
    "# plt.show()"
   ]
  },
  {
   "cell_type": "code",
   "execution_count": 17,
   "metadata": {},
   "outputs": [],
   "source": [
    "from sklearn.ensemble import RandomForestClassifier\n",
    "from sklearn.model_selection import train_test_split"
   ]
  },
  {
   "cell_type": "code",
   "execution_count": 18,
   "metadata": {},
   "outputs": [],
   "source": [
    "dataset = request_reply_df.copy()\n",
    "labels = dataset.pop(\"Malicious\")\n",
    "X_train, X_test, y_train, y_test = train_test_split(dataset, labels, test_size=.2)"
   ]
  },
  {
   "cell_type": "code",
   "execution_count": 19,
   "metadata": {},
   "outputs": [
    {
     "data": {
      "text/plain": [
       "RandomForestClassifier(bootstrap=True, class_weight=None, criterion='gini',\n",
       "            max_depth=None, max_features='auto', max_leaf_nodes=None,\n",
       "            min_impurity_decrease=0.0, min_impurity_split=None,\n",
       "            min_samples_leaf=1, min_samples_split=2,\n",
       "            min_weight_fraction_leaf=0.0, n_estimators=100, n_jobs=None,\n",
       "            oob_score=False, random_state=None, verbose=0,\n",
       "            warm_start=False)"
      ]
     },
     "execution_count": 19,
     "metadata": {},
     "output_type": "execute_result"
    }
   ],
   "source": [
    "clf = RandomForestClassifier(n_estimators=100)\n",
    "clf.fit(X_train, y_train)"
   ]
  },
  {
   "cell_type": "code",
   "execution_count": 20,
   "metadata": {},
   "outputs": [],
   "source": [
    "predictions = clf.predict(X_test)"
   ]
  },
  {
   "cell_type": "code",
   "execution_count": 21,
   "metadata": {},
   "outputs": [
    {
     "name": "stdout",
     "output_type": "stream",
     "text": [
      "Accuracy of random forest classifier:0.7926829268292683\n"
     ]
    }
   ],
   "source": [
    "errors = [0 if p == label else 1 for p, label in zip(predictions, y_test)]\n",
    "accuracy = 1 - (np.sum(errors)/len(errors))\n",
    "print(\"Accuracy of random forest classifier:\" + str(accuracy))"
   ]
  },
  {
   "cell_type": "code",
   "execution_count": 22,
   "metadata": {},
   "outputs": [
    {
     "name": "stdout",
     "output_type": "stream",
     "text": [
      "Epoch 1/15\n",
      "99/99 [==============================] - 3s 27ms/step - loss: 354.8114 - accuracy: 0.4891\n",
      "Epoch 2/15\n",
      "99/99 [==============================] - 1s 10ms/step - loss: 145.6983 - accuracy: 0.5039\n",
      "Epoch 3/15\n",
      "99/99 [==============================] - 1s 10ms/step - loss: 89.2099 - accuracy: 0.5032\n",
      "Epoch 4/15\n",
      "99/99 [==============================] - 1s 10ms/step - loss: 55.6196 - accuracy: 0.5086\n",
      "Epoch 5/15\n",
      "99/99 [==============================] - 1s 10ms/step - loss: 39.5703 - accuracy: 0.5074\n",
      "Epoch 6/15\n",
      "99/99 [==============================] - 1s 10ms/step - loss: 27.8539 - accuracy: 0.5099\n",
      "Epoch 7/15\n",
      "99/99 [==============================] - 1s 10ms/step - loss: 21.0557 - accuracy: 0.5203\n",
      "Epoch 8/15\n",
      "99/99 [==============================] - 1s 10ms/step - loss: 18.7191 - accuracy: 0.5179\n",
      "Epoch 9/15\n",
      "99/99 [==============================] - 1s 10ms/step - loss: 14.8023 - accuracy: 0.5225\n",
      "Epoch 10/15\n",
      "99/99 [==============================] - 1s 10ms/step - loss: 14.1107 - accuracy: 0.5180\n",
      "Epoch 11/15\n",
      "99/99 [==============================] - 1s 10ms/step - loss: 12.2753 - accuracy: 0.5109\n",
      "Epoch 12/15\n",
      "99/99 [==============================] - 1s 10ms/step - loss: 9.9078 - accuracy: 0.5171\n",
      "Epoch 13/15\n",
      "99/99 [==============================] - 1s 10ms/step - loss: 9.2957 - accuracy: 0.5261\n",
      "Epoch 14/15\n",
      "99/99 [==============================] - 1s 10ms/step - loss: 8.5267 - accuracy: 0.5161\n",
      "Epoch 15/15\n",
      "99/99 [==============================] - 1s 10ms/step - loss: 8.2967 - accuracy: 0.5206\n",
      "History: {'loss': [356.4892156027197, 145.52614111241286, 89.22296217011242, 55.600907806458515, 39.51961275426353, 27.84422742448202, 21.0531019427912, 18.74087471496768, 14.812860992865835, 14.111281148786468, 12.281412960067998, 9.8918691534337, 9.289581449051214, 8.525497447184431, 8.303625646645461], 'accuracy': [0.48912603, 0.5038618, 0.5031504, 0.5086382, 0.5074187, 0.5098577, 0.5203252, 0.51788616, 0.5224593, 0.5179878, 0.510874, 0.51707315, 0.52611786, 0.5160569, 0.52063006]}\n",
      "25/25 [==============================] - 1s 35ms/step - loss: 12.0247 - accuracy: 0.4366\n",
      "test loss, test acc: [12.024701690673828, 0.43658537]\n"
     ]
    }
   ],
   "source": [
    "features = generate_features(request_reply_fourier)\n",
    "model = build_fc_model(features)\n",
    "fourier_fc_qr_history, fourier_fc_qr_results = train_model(model, request_reply_fourier)"
   ]
  },
  {
   "cell_type": "code",
   "execution_count": 23,
   "metadata": {},
   "outputs": [
    {
     "data": {
      "image/png": "[encoded data removed]",
      "text/plain": [
       "<Figure size 432x288 with 1 Axes>"
      ]
     },
     "metadata": {
      "needs_background": "light"
     },
     "output_type": "display_data"
    }
   ],
   "source": [
    "plt.plot(fourier_fc_qr_history.history['loss'])\n",
    "# plt.plot(fourier_fc_qr_history.history['val_accuracy'])\n",
    "plt.title('Fully Connected Fourier model accuracy')\n",
    "plt.ylabel('Loss')\n",
    "plt.xlabel('Epoch')\n",
    "plt.legend(['Train', 'Val'], loc='upper left')\n",
    "plt.show()"
   ]
  },
  {
   "cell_type": "code",
   "execution_count": 24,
   "metadata": {},
   "outputs": [
    {
     "name": "stdout",
     "output_type": "stream",
     "text": [
      "Epoch 1/15\n",
      "99/99 [==============================] - 4s 36ms/step - loss: 0.7330 - accuracy: 0.5014\n",
      "Epoch 2/15\n",
      "99/99 [==============================] - 2s 16ms/step - loss: 0.6935 - accuracy: 0.5433\n",
      "Epoch 3/15\n",
      "99/99 [==============================] - 2s 17ms/step - loss: 0.6907 - accuracy: 0.5463\n",
      "Epoch 4/15\n",
      "99/99 [==============================] - 2s 16ms/step - loss: 0.6882 - accuracy: 0.5454\n",
      "Epoch 5/15\n",
      "99/99 [==============================] - 2s 17ms/step - loss: 0.6865 - accuracy: 0.5503\n",
      "Epoch 6/15\n",
      "99/99 [==============================] - 2s 17ms/step - loss: 0.6881 - accuracy: 0.5476\n",
      "Epoch 7/15\n",
      "99/99 [==============================] - 2s 17ms/step - loss: 0.6839 - accuracy: 0.5528\n",
      "Epoch 8/15\n",
      "99/99 [==============================] - 2s 17ms/step - loss: 0.6822 - accuracy: 0.5534\n",
      "Epoch 9/15\n",
      "99/99 [==============================] - 2s 16ms/step - loss: 0.6816 - accuracy: 0.5490\n",
      "Epoch 10/15\n",
      "99/99 [==============================] - 2s 16ms/step - loss: 0.6807 - accuracy: 0.5543\n",
      "Epoch 11/15\n",
      "99/99 [==============================] - 2s 17ms/step - loss: 0.6783 - accuracy: 0.5528\n",
      "Epoch 12/15\n",
      "99/99 [==============================] - 2s 17ms/step - loss: 0.6767 - accuracy: 0.5556\n",
      "Epoch 13/15\n",
      "99/99 [==============================] - 2s 17ms/step - loss: 0.6733 - accuracy: 0.5561\n",
      "Epoch 14/15\n",
      "99/99 [==============================] - 2s 17ms/step - loss: 0.6718 - accuracy: 0.5591\n",
      "Epoch 15/15\n",
      "99/99 [==============================] - 2s 17ms/step - loss: 0.6707 - accuracy: 0.5591\n",
      "History: {'loss': [0.7330532869914683, 0.693547015267659, 0.6905712886312143, 0.6882039455136633, 0.686641063510887, 0.6879400378320275, 0.6838037725386581, 0.6822312706854285, 0.6815431997543429, 0.6806126562802772, 0.6782717764135299, 0.6768809311031326, 0.673415806114189, 0.6719982127348582, 0.6706861938402905], 'accuracy': [0.50142276, 0.5432927, 0.5463415, 0.54542685, 0.5503049, 0.547561, 0.55284554, 0.55335367, 0.54898375, 0.5542683, 0.55284554, 0.55558944, 0.55609757, 0.55914634, 0.55914634]}\n",
      "25/25 [==============================] - 1s 38ms/step - loss: 0.7917 - accuracy: 0.4577\n",
      "test loss, test acc: [0.7917349576950073, 0.4577236]\n"
     ]
    }
   ],
   "source": [
    "features = generate_features(request_reply_fourier)\n",
    "model = build_conv_model(features)\n",
    "fourier_conv_qr_history, fourier_conv_qr_results = train_model(model, request_reply_fourier)"
   ]
  },
  {
   "cell_type": "code",
   "execution_count": 25,
   "metadata": {},
   "outputs": [
    {
     "data": {
      "image/png": "[encoded data removed]",
      "text/plain": [
       "<Figure size 432x288 with 1 Axes>"
      ]
     },
     "metadata": {
      "needs_background": "light"
     },
     "output_type": "display_data"
    }
   ],
   "source": [
    "plt.plot(fourier_conv_qr_history.history['loss'])\n",
    "# plt.plot(fourier_conv_qr_history.history['val_accuracy'])\n",
    "plt.title('Convolutional Fourier model loss')\n",
    "plt.ylabel('Loss')\n",
    "plt.xlabel('Epoch')\n",
    "plt.legend(['Train', 'Val'], loc='upper left')\n",
    "plt.show()"
   ]
  },
  {
   "cell_type": "code",
   "execution_count": 26,
   "metadata": {},
   "outputs": [
    {
     "name": "stderr",
     "output_type": "stream",
     "text": [
      "W0927 09:36:31.336122 4454487488 base_layer.py:1772] Layer sequential_4 is casting an input tensor from dtype float64 to the layer's dtype of float32, which is new behavior in TensorFlow 2.  The layer has dtype float32 because it's dtype defaults to floatx.\n",
      "\n",
      "If you intended to run this layer in float32, you can safely ignore this warning. If in doubt, this warning is likely only an issue if you are porting a TensorFlow 1.X model to TensorFlow 2.\n",
      "\n",
      "To change all layers to have dtype float64 by default, call `tf.keras.backend.set_floatx('float64')`. To change just this layer, pass dtype='float64' to the layer constructor. If you are the author of this layer, you can disable autocasting by passing autocast=False to the base Layer constructor.\n",
      "\n"
     ]
    },
    {
     "name": "stdout",
     "output_type": "stream",
     "text": [
      "Epoch 1/15\n",
      "99/99 [==============================] - 3s 27ms/step - loss: 1.8306 - accuracy: 0.5274\n",
      "Epoch 2/15\n",
      "99/99 [==============================] - 1s 10ms/step - loss: 0.8467 - accuracy: 0.5761\n",
      "Epoch 3/15\n",
      "99/99 [==============================] - 1s 10ms/step - loss: 0.6995 - accuracy: 0.6167\n",
      "Epoch 4/15\n",
      "99/99 [==============================] - 1s 9ms/step - loss: 0.6369 - accuracy: 0.6570\n",
      "Epoch 5/15\n",
      "99/99 [==============================] - 1s 10ms/step - loss: 0.5907 - accuracy: 0.6827\n",
      "Epoch 6/15\n",
      "99/99 [==============================] - 1s 9ms/step - loss: 0.5596 - accuracy: 0.7072\n",
      "Epoch 7/15\n",
      "99/99 [==============================] - 1s 9ms/step - loss: 0.5346 - accuracy: 0.7274\n",
      "Epoch 8/15\n",
      "99/99 [==============================] - 1s 10ms/step - loss: 0.5146 - accuracy: 0.7409\n",
      "Epoch 9/15\n",
      "99/99 [==============================] - 1s 9ms/step - loss: 0.4934 - accuracy: 0.7553\n",
      "Epoch 10/15\n",
      "99/99 [==============================] - 1s 9ms/step - loss: 0.4787 - accuracy: 0.7661\n",
      "Epoch 11/15\n",
      "99/99 [==============================] - 1s 10ms/step - loss: 0.4604 - accuracy: 0.7793\n",
      "Epoch 12/15\n",
      "99/99 [==============================] - 1s 9ms/step - loss: 0.4429 - accuracy: 0.7884\n",
      "Epoch 13/15\n",
      "99/99 [==============================] - 1s 10ms/step - loss: 0.4316 - accuracy: 0.7952\n",
      "Epoch 14/15\n",
      "99/99 [==============================] - 1s 10ms/step - loss: 0.4174 - accuracy: 0.8051\n",
      "Epoch 15/15\n",
      "99/99 [==============================] - 1s 10ms/step - loss: 0.4083 - accuracy: 0.8113\n",
      "History: {'loss': [1.8346802523223364, 0.8465865858928944, 0.6998299643760775, 0.636737714938032, 0.5909553220480438, 0.5598814873918285, 0.5343271635048757, 0.5145927744546557, 0.4935844279522818, 0.4787411806060047, 0.46066364524810294, 0.44270889539786473, 0.4318067133426666, 0.4176123104686659, 0.40848419791072366], 'accuracy': [0.527439, 0.5761179, 0.6166667, 0.6570122, 0.6827236, 0.7072154, 0.72743905, 0.74085367, 0.75528455, 0.7660569, 0.77926826, 0.78841466, 0.7952236, 0.8050813, 0.8112805]}\n",
      "25/25 [==============================] - 1s 34ms/step - loss: 0.9410 - accuracy: 0.6142\n",
      "test loss, test acc: [0.9409651923179626, 0.61422765]\n"
     ]
    }
   ],
   "source": [
    "features = generate_features(request_reply_wavelet)\n",
    "model = build_fc_model(features)\n",
    "wavelet_fc_qr_history, wavelet_fc_qr_results = train_model(model, request_reply_wavelet)"
   ]
  },
  {
   "cell_type": "code",
   "execution_count": 27,
   "metadata": {},
   "outputs": [
    {
     "data": {
      "image/png": "[encoded data removed]",
      "text/plain": [
       "<Figure size 432x288 with 1 Axes>"
      ]
     },
     "metadata": {
      "needs_background": "light"
     },
     "output_type": "display_data"
    }
   ],
   "source": [
    "plt.plot(wavelet_fc_qr_history.history['loss'])\n",
    "plt.title('Fully Connected Wavelet model loss')\n",
    "plt.ylabel('Loss')\n",
    "plt.xlabel('Epoch')\n",
    "plt.legend(['Train', 'Val'], loc='upper left')\n",
    "plt.show()"
   ]
  },
  {
   "cell_type": "code",
   "execution_count": 28,
   "metadata": {},
   "outputs": [],
   "source": [
    "# features = generate_features(reply_reply_wavelet)\n",
    "# model = build_fc_model(features)\n",
    "# wavelet_fc_rr_history, wavelet_fc_rr_results = train_model(model, reply_reply_wavelet)"
   ]
  },
  {
   "cell_type": "code",
   "execution_count": 29,
   "metadata": {},
   "outputs": [],
   "source": [
    "# plt.plot(wavelet_fc_rr_history.history['accuracy'])\n",
    "# plt.plot(wavelet_fc_rr_history.history['val_accuracy'])\n",
    "# plt.title('Fully Connected Wavelet model accuracy')\n",
    "# plt.ylabel('Accuracy')\n",
    "# plt.xlabel('Epoch')\n",
    "# plt.legend(['Train', 'Val'], loc='upper left')\n",
    "# plt.show()"
   ]
  },
  {
   "cell_type": "code",
   "execution_count": 30,
   "metadata": {},
   "outputs": [
    {
     "name": "stderr",
     "output_type": "stream",
     "text": [
      "W0927 09:36:49.295767 4454487488 base_layer.py:1772] Layer sequential_5 is casting an input tensor from dtype float64 to the layer's dtype of float32, which is new behavior in TensorFlow 2.  The layer has dtype float32 because it's dtype defaults to floatx.\n",
      "\n",
      "If you intended to run this layer in float32, you can safely ignore this warning. If in doubt, this warning is likely only an issue if you are porting a TensorFlow 1.X model to TensorFlow 2.\n",
      "\n",
      "To change all layers to have dtype float64 by default, call `tf.keras.backend.set_floatx('float64')`. To change just this layer, pass dtype='float64' to the layer constructor. If you are the author of this layer, you can disable autocasting by passing autocast=False to the base Layer constructor.\n",
      "\n"
     ]
    },
    {
     "name": "stdout",
     "output_type": "stream",
     "text": [
      "Epoch 1/15\n",
      "99/99 [==============================] - 4s 37ms/step - loss: 0.6748 - accuracy: 0.6329\n",
      "Epoch 2/15\n",
      "99/99 [==============================] - 2s 17ms/step - loss: 0.5694 - accuracy: 0.7117\n",
      "Epoch 3/15\n",
      "99/99 [==============================] - 2s 17ms/step - loss: 0.5315 - accuracy: 0.7340\n",
      "Epoch 4/15\n",
      "99/99 [==============================] - 2s 17ms/step - loss: 0.5034 - accuracy: 0.7542\n",
      "Epoch 5/15\n",
      "99/99 [==============================] - 2s 17ms/step - loss: 0.4700 - accuracy: 0.7766\n",
      "Epoch 6/15\n",
      "99/99 [==============================] - 2s 17ms/step - loss: 0.4515 - accuracy: 0.7863\n",
      "Epoch 7/15\n",
      "99/99 [==============================] - 2s 16ms/step - loss: 0.4322 - accuracy: 0.8005\n",
      "Epoch 8/15\n",
      "99/99 [==============================] - 2s 17ms/step - loss: 0.4067 - accuracy: 0.8143\n",
      "Epoch 9/15\n",
      "99/99 [==============================] - 2s 17ms/step - loss: 0.3864 - accuracy: 0.8286\n",
      "Epoch 10/15\n",
      "99/99 [==============================] - 2s 17ms/step - loss: 0.3632 - accuracy: 0.8426\n",
      "Epoch 11/15\n",
      "99/99 [==============================] - 2s 17ms/step - loss: 0.3411 - accuracy: 0.8501\n",
      "Epoch 12/15\n",
      "99/99 [==============================] - 2s 16ms/step - loss: 0.3132 - accuracy: 0.8668\n",
      "Epoch 13/15\n",
      "99/99 [==============================] - 2s 17ms/step - loss: 0.3006 - accuracy: 0.8729\n",
      "Epoch 14/15\n",
      "99/99 [==============================] - 2s 17ms/step - loss: 0.2765 - accuracy: 0.8899\n",
      "Epoch 15/15\n",
      "99/99 [==============================] - 2s 16ms/step - loss: 0.2605 - accuracy: 0.8979\n",
      "History: {'loss': [0.6748070983382745, 0.5694455317244297, 0.5315852121003275, 0.5032076084516882, 0.4705883801225724, 0.45207352051889993, 0.43189247382607887, 0.40655321567281477, 0.3866832981991574, 0.363434427940264, 0.3411753310299501, 0.3131291427142252, 0.3007396676433765, 0.27697940294941265, 0.2610122927017813], 'accuracy': [0.6329268, 0.71168697, 0.73404473, 0.75416666, 0.776626, 0.7862805, 0.80050814, 0.81432927, 0.8285569, 0.8425813, 0.85010165, 0.8667683, 0.87286586, 0.889939, 0.89786583]}\n",
      "25/25 [==============================] - 1s 38ms/step - loss: 0.6907 - accuracy: 0.7024\n",
      "test loss, test acc: [0.690660935640335, 0.702439]\n"
     ]
    }
   ],
   "source": [
    "features = generate_features(request_reply_wavelet)\n",
    "model = build_conv_model(features)\n",
    "wavelet_conv_qr_history, wavelet_conv_qr_results = train_model(model, request_reply_wavelet)"
   ]
  },
  {
   "cell_type": "code",
   "execution_count": 31,
   "metadata": {},
   "outputs": [
    {
     "data": {
      "image/png": "[encoded data removed]",
      "text/plain": [
       "<Figure size 432x288 with 1 Axes>"
      ]
     },
     "metadata": {
      "needs_background": "light"
     },
     "output_type": "display_data"
    }
   ],
   "source": [
    "plt.plot(wavelet_conv_qr_history.history['loss'])\n",
    "plt.title('Convolutional Wavelet model loss')\n",
    "plt.ylabel('Loss')\n",
    "plt.xlabel('Epoch')\n",
    "plt.legend(['Train', 'Val'], loc='upper left')\n",
    "plt.show()"
   ]
  },
  {
   "cell_type": "code",
   "execution_count": 32,
   "metadata": {},
   "outputs": [],
   "source": [
    "# features = generate_features(reply_reply_wavelet)\n",
    "# model = build_conv_model(features)\n",
    "# wavelet_conv_rr_history, wavelet_conv_rr_results = train_model(model, reply_reply_wavelet)"
   ]
  },
  {
   "cell_type": "code",
   "execution_count": 33,
   "metadata": {},
   "outputs": [],
   "source": [
    "# plt.plot(wavelet_conv_rr_history.history['accuracy'])\n",
    "# plt.plot(wavelet_conv_rr_history.history['val_accuracy'])\n",
    "# plt.title('Convolutional Wavelet model accuracy')\n",
    "# plt.ylabel('Accuracy')\n",
    "# plt.xlabel('Epoch')\n",
    "# plt.legend(['Train', 'Val'], loc='upper left')\n",
    "# plt.show()"
   ]
  },
  {
   "cell_type": "code",
   "execution_count": 34,
   "metadata": {},
   "outputs": [
    {
     "name": "stdout",
     "output_type": "stream",
     "text": [
      "==================================================\n",
      "=                Overall results                ==\n",
      "==================================================\n",
      "    *Request-reply data*\n",
      "    Fully-Connected test accuracy: 0.6162601709365845\n",
      "    Convolutional test accuracy: 0.7512195110321045\n",
      "    Fourier f-c test accuracy: 0.43658536672592163\n",
      "    Fourier conv test accuracy: 0.45772358775138855\n",
      "    Wavelet f-c test accuracy: 0.6142276525497437\n",
      "    Wavelet conv test accuracy: 0.70243901014328\n",
      "    Random Forest (control) test accuracy: 0.7926829268292683\n"
     ]
    }
   ],
   "source": [
    "print(\"==================================================\")\n",
    "print(\"=                Overall results                ==\")\n",
    "print(\"==================================================\")\n",
    "print(\"    *Request-reply data*\")\n",
    "print(\"    Fully-Connected test accuracy: {}\".format(fc_qr_results[1]))\n",
    "print(\"    Convolutional test accuracy: {}\".format(conv_qr_results[1]))\n",
    "print(\"    Fourier f-c test accuracy: {}\".format(fourier_fc_qr_results[1]))\n",
    "print(\"    Fourier conv test accuracy: {}\".format(fourier_conv_qr_results[1]))\n",
    "print(\"    Wavelet f-c test accuracy: {}\".format(wavelet_fc_qr_results[1]))\n",
    "print(\"    Wavelet conv test accuracy: {}\".format(wavelet_conv_qr_results[1]))\n",
    "print(\"    Random Forest (control) test accuracy: {}\".format(accuracy))\n",
    "# print(\"    *Reply-reply data*\")\n",
    "# print(\"    Fully-Connected test accuracy: {}\".format(fc_rr_results[1]))\n",
    "# print(\"    Convolutional test accuracy: {}\".format(conv_rr_results[1]))\n",
    "# print(\"    Fourier f-c test accuracy: {}\".format(fourier_fc_rr_results[1]))\n",
    "# print(\"    Fourier conv test accuracy: {}\".format(fourier_conv_rr_results[1]))\n",
    "# print(\"    Wavelet f-c test accuracy: {}\".format(wavelet_fc_rr_results[1]))\n",
    "# print(\"    Wavelet conv test accuracy: {}\".format(wavelet_conv_rr_results[1]))"
   ]
  },
  {
   "cell_type": "code",
   "execution_count": null,
   "metadata": {},
   "outputs": [],
   "source": []
  },
  {
   "cell_type": "code",
   "execution_count": null,
   "metadata": {},
   "outputs": [],
   "source": []
  }
 ],
 "metadata": {
  "kernelspec": {
   "display_name": "Python 3",
   "language": "python",
   "name": "python3"
  },
  "language_info": {
   "codemirror_mode": {
    "name": "ipython",
    "version": 3
   },
   "file_extension": ".py",
   "mimetype": "text/x-python",
   "name": "python",
   "nbconvert_exporter": "python",
   "pygments_lexer": "ipython3",
   "version": "3.6.7"
  }
 },
 "nbformat": 4,
 "nbformat_minor": 2
}
