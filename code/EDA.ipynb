{
 "cells": [
  {
   "cell_type": "code",
   "execution_count": 1,
   "metadata": {},
   "outputs": [],
   "source": [
    "import pandas as pd\n",
    "import numpy as np\n",
    "import matplotlib.pyplot as plt\n",
    "import seaborn as sns\n",
    "%matplotlib inline"
   ]
  },
  {
   "cell_type": "code",
   "execution_count": 2,
   "metadata": {},
   "outputs": [],
   "source": [
    "request_reply_df = pd.read_csv(\"./data/requestreply.csv\", header=None)\n",
    "reply_reply_df = pd.read_csv(\"./data/replyreply.csv\", header=None)"
   ]
  },
  {
   "cell_type": "code",
   "execution_count": 3,
   "metadata": {},
   "outputs": [
    {
     "data": {
      "text/html": [
       "<div>\n",
       "<style scoped>\n",
       "    .dataframe tbody tr th:only-of-type {\n",
       "        vertical-align: middle;\n",
       "    }\n",
       "\n",
       "    .dataframe tbody tr th {\n",
       "        vertical-align: top;\n",
       "    }\n",
       "\n",
       "    .dataframe thead th {\n",
       "        text-align: right;\n",
       "    }\n",
       "</style>\n",
       "<table border=\"1\" class=\"dataframe\">\n",
       "  <thead>\n",
       "    <tr style=\"text-align: right;\">\n",
       "      <th></th>\n",
       "      <th>2</th>\n",
       "      <th>3</th>\n",
       "      <th>4</th>\n",
       "      <th>5</th>\n",
       "      <th>6</th>\n",
       "      <th>7</th>\n",
       "      <th>8</th>\n",
       "      <th>9</th>\n",
       "      <th>10</th>\n",
       "      <th>11</th>\n",
       "      <th>...</th>\n",
       "      <th>92</th>\n",
       "      <th>93</th>\n",
       "      <th>94</th>\n",
       "      <th>95</th>\n",
       "      <th>96</th>\n",
       "      <th>97</th>\n",
       "      <th>98</th>\n",
       "      <th>99</th>\n",
       "      <th>100</th>\n",
       "      <th>101</th>\n",
       "    </tr>\n",
       "  </thead>\n",
       "  <tbody>\n",
       "    <tr>\n",
       "      <th>count</th>\n",
       "      <td>12300.000000</td>\n",
       "      <td>12300.000000</td>\n",
       "      <td>12300.000000</td>\n",
       "      <td>12300.000000</td>\n",
       "      <td>12300.000000</td>\n",
       "      <td>12300.000000</td>\n",
       "      <td>12300.000000</td>\n",
       "      <td>12300.000000</td>\n",
       "      <td>12300.000000</td>\n",
       "      <td>12300.000000</td>\n",
       "      <td>...</td>\n",
       "      <td>12300.000000</td>\n",
       "      <td>12300.000000</td>\n",
       "      <td>12300.000000</td>\n",
       "      <td>12300.000000</td>\n",
       "      <td>12300.000000</td>\n",
       "      <td>12300.000000</td>\n",
       "      <td>12300.000000</td>\n",
       "      <td>12300.000000</td>\n",
       "      <td>12300.000000</td>\n",
       "      <td>12300.000000</td>\n",
       "    </tr>\n",
       "    <tr>\n",
       "      <th>mean</th>\n",
       "      <td>168.552801</td>\n",
       "      <td>80.671077</td>\n",
       "      <td>38.756572</td>\n",
       "      <td>32.053867</td>\n",
       "      <td>30.741587</td>\n",
       "      <td>29.762200</td>\n",
       "      <td>29.199574</td>\n",
       "      <td>27.477508</td>\n",
       "      <td>26.854041</td>\n",
       "      <td>25.994097</td>\n",
       "      <td>...</td>\n",
       "      <td>25.061934</td>\n",
       "      <td>25.304607</td>\n",
       "      <td>25.449759</td>\n",
       "      <td>25.352015</td>\n",
       "      <td>25.144316</td>\n",
       "      <td>25.101272</td>\n",
       "      <td>26.139811</td>\n",
       "      <td>26.930865</td>\n",
       "      <td>28.847339</td>\n",
       "      <td>33.734174</td>\n",
       "    </tr>\n",
       "    <tr>\n",
       "      <th>std</th>\n",
       "      <td>143.484703</td>\n",
       "      <td>139.634386</td>\n",
       "      <td>124.942185</td>\n",
       "      <td>115.652077</td>\n",
       "      <td>108.482573</td>\n",
       "      <td>103.805790</td>\n",
       "      <td>114.714679</td>\n",
       "      <td>104.206368</td>\n",
       "      <td>100.228591</td>\n",
       "      <td>97.246000</td>\n",
       "      <td>...</td>\n",
       "      <td>103.891678</td>\n",
       "      <td>103.689839</td>\n",
       "      <td>104.585712</td>\n",
       "      <td>104.140811</td>\n",
       "      <td>105.343442</td>\n",
       "      <td>105.831126</td>\n",
       "      <td>108.482392</td>\n",
       "      <td>113.407518</td>\n",
       "      <td>149.541268</td>\n",
       "      <td>157.315308</td>\n",
       "    </tr>\n",
       "    <tr>\n",
       "      <th>min</th>\n",
       "      <td>-1.000000</td>\n",
       "      <td>-1.000000</td>\n",
       "      <td>-1.000000</td>\n",
       "      <td>-1.000000</td>\n",
       "      <td>-1.000000</td>\n",
       "      <td>-1.000000</td>\n",
       "      <td>-1.000000</td>\n",
       "      <td>-1.000000</td>\n",
       "      <td>-1.000000</td>\n",
       "      <td>-1.000000</td>\n",
       "      <td>...</td>\n",
       "      <td>-1.000000</td>\n",
       "      <td>-1.000000</td>\n",
       "      <td>-1.000000</td>\n",
       "      <td>-1.000000</td>\n",
       "      <td>-1.000000</td>\n",
       "      <td>-1.000000</td>\n",
       "      <td>-1.000000</td>\n",
       "      <td>-1.000000</td>\n",
       "      <td>-1.000000</td>\n",
       "      <td>-1.000000</td>\n",
       "    </tr>\n",
       "    <tr>\n",
       "      <th>25%</th>\n",
       "      <td>110.203981</td>\n",
       "      <td>10.664463</td>\n",
       "      <td>7.254362</td>\n",
       "      <td>6.472051</td>\n",
       "      <td>6.865978</td>\n",
       "      <td>6.719649</td>\n",
       "      <td>6.819010</td>\n",
       "      <td>6.800115</td>\n",
       "      <td>6.838262</td>\n",
       "      <td>6.684005</td>\n",
       "      <td>...</td>\n",
       "      <td>6.622315</td>\n",
       "      <td>6.737947</td>\n",
       "      <td>6.783962</td>\n",
       "      <td>6.749630</td>\n",
       "      <td>6.704092</td>\n",
       "      <td>6.692827</td>\n",
       "      <td>6.615638</td>\n",
       "      <td>6.826102</td>\n",
       "      <td>6.601989</td>\n",
       "      <td>6.671906</td>\n",
       "    </tr>\n",
       "    <tr>\n",
       "      <th>50%</th>\n",
       "      <td>125.361919</td>\n",
       "      <td>27.813911</td>\n",
       "      <td>11.111021</td>\n",
       "      <td>9.940505</td>\n",
       "      <td>10.165453</td>\n",
       "      <td>10.082960</td>\n",
       "      <td>10.182023</td>\n",
       "      <td>10.108947</td>\n",
       "      <td>10.139465</td>\n",
       "      <td>10.075569</td>\n",
       "      <td>...</td>\n",
       "      <td>10.021448</td>\n",
       "      <td>10.118008</td>\n",
       "      <td>10.111928</td>\n",
       "      <td>10.084033</td>\n",
       "      <td>10.094404</td>\n",
       "      <td>10.052443</td>\n",
       "      <td>10.025501</td>\n",
       "      <td>10.061979</td>\n",
       "      <td>10.042549</td>\n",
       "      <td>10.014534</td>\n",
       "    </tr>\n",
       "    <tr>\n",
       "      <th>75%</th>\n",
       "      <td>216.209472</td>\n",
       "      <td>114.264309</td>\n",
       "      <td>19.995451</td>\n",
       "      <td>15.584529</td>\n",
       "      <td>15.759706</td>\n",
       "      <td>15.511990</td>\n",
       "      <td>15.537262</td>\n",
       "      <td>15.574992</td>\n",
       "      <td>15.710831</td>\n",
       "      <td>15.468359</td>\n",
       "      <td>...</td>\n",
       "      <td>15.242099</td>\n",
       "      <td>15.369892</td>\n",
       "      <td>15.529871</td>\n",
       "      <td>15.397132</td>\n",
       "      <td>15.461623</td>\n",
       "      <td>15.429079</td>\n",
       "      <td>15.504480</td>\n",
       "      <td>15.425980</td>\n",
       "      <td>15.324474</td>\n",
       "      <td>15.388250</td>\n",
       "    </tr>\n",
       "    <tr>\n",
       "      <th>max</th>\n",
       "      <td>5317.913055</td>\n",
       "      <td>5216.073036</td>\n",
       "      <td>5111.930847</td>\n",
       "      <td>5008.516073</td>\n",
       "      <td>4904.536963</td>\n",
       "      <td>4800.885916</td>\n",
       "      <td>6366.826057</td>\n",
       "      <td>6265.555143</td>\n",
       "      <td>6161.940098</td>\n",
       "      <td>6053.858995</td>\n",
       "      <td>...</td>\n",
       "      <td>8872.637033</td>\n",
       "      <td>8973.212957</td>\n",
       "      <td>9074.537039</td>\n",
       "      <td>9175.518036</td>\n",
       "      <td>9275.300026</td>\n",
       "      <td>9375.156164</td>\n",
       "      <td>9476.207972</td>\n",
       "      <td>9576.614857</td>\n",
       "      <td>9934.896946</td>\n",
       "      <td>10035.484076</td>\n",
       "    </tr>\n",
       "  </tbody>\n",
       "</table>\n",
       "<p>8 rows × 100 columns</p>\n",
       "</div>"
      ],
      "text/plain": [
       "                2             3             4             5             6    \\\n",
       "count  12300.000000  12300.000000  12300.000000  12300.000000  12300.000000   \n",
       "mean     168.552801     80.671077     38.756572     32.053867     30.741587   \n",
       "std      143.484703    139.634386    124.942185    115.652077    108.482573   \n",
       "min       -1.000000     -1.000000     -1.000000     -1.000000     -1.000000   \n",
       "25%      110.203981     10.664463      7.254362      6.472051      6.865978   \n",
       "50%      125.361919     27.813911     11.111021      9.940505     10.165453   \n",
       "75%      216.209472    114.264309     19.995451     15.584529     15.759706   \n",
       "max     5317.913055   5216.073036   5111.930847   5008.516073   4904.536963   \n",
       "\n",
       "                7             8             9             10            11   \\\n",
       "count  12300.000000  12300.000000  12300.000000  12300.000000  12300.000000   \n",
       "mean      29.762200     29.199574     27.477508     26.854041     25.994097   \n",
       "std      103.805790    114.714679    104.206368    100.228591     97.246000   \n",
       "min       -1.000000     -1.000000     -1.000000     -1.000000     -1.000000   \n",
       "25%        6.719649      6.819010      6.800115      6.838262      6.684005   \n",
       "50%       10.082960     10.182023     10.108947     10.139465     10.075569   \n",
       "75%       15.511990     15.537262     15.574992     15.710831     15.468359   \n",
       "max     4800.885916   6366.826057   6265.555143   6161.940098   6053.858995   \n",
       "\n",
       "           ...                92            93            94            95   \\\n",
       "count      ...       12300.000000  12300.000000  12300.000000  12300.000000   \n",
       "mean       ...          25.061934     25.304607     25.449759     25.352015   \n",
       "std        ...         103.891678    103.689839    104.585712    104.140811   \n",
       "min        ...          -1.000000     -1.000000     -1.000000     -1.000000   \n",
       "25%        ...           6.622315      6.737947      6.783962      6.749630   \n",
       "50%        ...          10.021448     10.118008     10.111928     10.084033   \n",
       "75%        ...          15.242099     15.369892     15.529871     15.397132   \n",
       "max        ...        8872.637033   8973.212957   9074.537039   9175.518036   \n",
       "\n",
       "                96            97            98            99            100  \\\n",
       "count  12300.000000  12300.000000  12300.000000  12300.000000  12300.000000   \n",
       "mean      25.144316     25.101272     26.139811     26.930865     28.847339   \n",
       "std      105.343442    105.831126    108.482392    113.407518    149.541268   \n",
       "min       -1.000000     -1.000000     -1.000000     -1.000000     -1.000000   \n",
       "25%        6.704092      6.692827      6.615638      6.826102      6.601989   \n",
       "50%       10.094404     10.052443     10.025501     10.061979     10.042549   \n",
       "75%       15.461623     15.429079     15.504480     15.425980     15.324474   \n",
       "max     9275.300026   9375.156164   9476.207972   9576.614857   9934.896946   \n",
       "\n",
       "                101  \n",
       "count  12300.000000  \n",
       "mean      33.734174  \n",
       "std      157.315308  \n",
       "min       -1.000000  \n",
       "25%        6.671906  \n",
       "50%       10.014534  \n",
       "75%       15.388250  \n",
       "max    10035.484076  \n",
       "\n",
       "[8 rows x 100 columns]"
      ]
     },
     "execution_count": 3,
     "metadata": {},
     "output_type": "execute_result"
    }
   ],
   "source": [
    "request_reply_df.describe()"
   ]
  },
  {
   "cell_type": "code",
   "execution_count": 4,
   "metadata": {},
   "outputs": [],
   "source": [
    "request_reply_df.rename(columns={0:'Malicious'}, inplace=True)"
   ]
  },
  {
   "cell_type": "code",
   "execution_count": null,
   "metadata": {},
   "outputs": [],
   "source": [
    "request_reply_df[\"Malicious\"].replace('legit', 0, inplace=True)\n",
    "request_reply_df[\"Malicious\"].replace('malware', 1, inplace=True)"
   ]
  },
  {
   "cell_type": "code",
   "execution_count": null,
   "metadata": {},
   "outputs": [
    {
     "data": {
      "text/plain": [
       "<matplotlib.axes._subplots.AxesSubplot at 0x7fd740a9b400>"
      ]
     },
     "execution_count": 6,
     "metadata": {},
     "output_type": "execute_result"
    },
    {
     "data": {
      "image/png": "[encoded data removed]",
      "text/plain": [
       "<Figure size 432x288 with 1 Axes>"
      ]
     },
     "metadata": {
      "needs_background": "light"
     },
     "output_type": "display_data"
    }
   ],
   "source": [
    "benignware = request_reply_df.loc[request_reply_df[\"Malicious\"] == 0]\n",
    "benignware.plot(legend=False)"
   ]
  },
  {
   "cell_type": "code",
   "execution_count": null,
   "metadata": {},
   "outputs": [
    {
     "data": {
      "text/plain": [
       "<matplotlib.axes._subplots.AxesSubplot at 0x7fd742cab550>"
      ]
     },
     "execution_count": 7,
     "metadata": {},
     "output_type": "execute_result"
    },
    {
     "data": {
      "image/png": "[encoded data removed]",
      "text/plain": [
       "<Figure size 432x288 with 1 Axes>"
      ]
     },
     "metadata": {
      "needs_background": "light"
     },
     "output_type": "display_data"
    }
   ],
   "source": [
    "malware = request_reply_df.loc[request_reply_df[\"Malicious\"] == 1]\n",
    "malware.plot(legend=False)"
   ]
  },
  {
   "cell_type": "code",
   "execution_count": null,
   "metadata": {},
   "outputs": [],
   "source": [
    "from prototype_model import *"
   ]
  },
  {
   "cell_type": "code",
   "execution_count": null,
   "metadata": {},
   "outputs": [
    {
     "name": "stderr",
     "output_type": "stream",
     "text": [
      "WARNING: Logging before flag parsing goes to stderr.\n",
      "W0920 07:54:39.174213 4520814016 base_layer.py:1772] Layer sequential is casting an input tensor from dtype float64 to the layer's dtype of float32, which is new behavior in TensorFlow 2.  The layer has dtype float32 because it's dtype defaults to floatx.\n",
      "\n",
      "If you intended to run this layer in float32, you can safely ignore this warning. If in doubt, this warning is likely only an issue if you are porting a TensorFlow 1.X model to TensorFlow 2.\n",
      "\n",
      "To change all layers to have dtype float64 by default, call `tf.keras.backend.set_floatx('float64')`. To change just this layer, pass dtype='float64' to the layer constructor. If you are the author of this layer, you can disable autocasting by passing autocast=False to the base Layer constructor.\n",
      "\n"
     ]
    },
    {
     "name": "stdout",
     "output_type": "stream",
     "text": [
      "Epoch 1/20\n"
     ]
    },
    {
     "name": "stderr",
     "output_type": "stream",
     "text": [
      "W0920 07:54:40.207420 4520814016 deprecation.py:323] From /Users/egalinkin/anaconda3/lib/python3.6/site-packages/tensorflow_core/python/ops/nn_impl.py:183: where (from tensorflow.python.ops.array_ops) is deprecated and will be removed in a future version.\n",
      "Instructions for updating:\n",
      "Use tf.where in 2.0, which has the same broadcast rule as np.where\n"
     ]
    },
    {
     "name": "stdout",
     "output_type": "stream",
     "text": [
      "941/941 [==============================] - 8s 9ms/step - loss: 1.5088 - accuracy: 0.5214 - val_loss: 0.0000e+00 - val_accuracy: 0.0000e+00\n",
      "Epoch 2/20\n",
      "941/941 [==============================] - 5s 5ms/step - loss: 0.8182 - accuracy: 0.5623 - val_loss: 0.7451 - val_accuracy: 0.5688\n",
      "Epoch 3/20\n",
      "941/941 [==============================] - 5s 5ms/step - loss: 0.7175 - accuracy: 0.5932 - val_loss: 0.7002 - val_accuracy: 0.5650\n",
      "Epoch 4/20\n",
      "941/941 [==============================] - 5s 5ms/step - loss: 0.6577 - accuracy: 0.6162 - val_loss: 0.7147 - val_accuracy: 0.5612\n",
      "Epoch 5/20\n",
      "941/941 [==============================] - 5s 5ms/step - loss: 0.6585 - accuracy: 0.6313 - val_loss: 0.6863 - val_accuracy: 0.5908\n",
      "Epoch 6/20\n",
      "941/941 [==============================] - 5s 5ms/step - loss: 0.6195 - accuracy: 0.6592 - val_loss: 0.7309 - val_accuracy: 0.6052\n",
      "Epoch 7/20\n",
      "941/941 [==============================] - 5s 5ms/step - loss: 0.6198 - accuracy: 0.6679 - val_loss: 0.7146 - val_accuracy: 0.6071\n",
      "Epoch 8/20\n",
      "941/941 [==============================] - 5s 5ms/step - loss: 0.6313 - accuracy: 0.6843 - val_loss: 0.7062 - val_accuracy: 0.6176\n",
      "Epoch 9/20\n",
      "941/941 [==============================] - 5s 5ms/step - loss: 0.5937 - accuracy: 0.6993 - val_loss: 0.7014 - val_accuracy: 0.6138\n",
      "Epoch 10/20\n",
      "941/941 [==============================] - 5s 5ms/step - loss: 0.5708 - accuracy: 0.7110 - val_loss: 0.7040 - val_accuracy: 0.6272\n",
      "Epoch 11/20\n",
      "941/941 [==============================] - 5s 5ms/step - loss: 0.5375 - accuracy: 0.7291 - val_loss: 0.7405 - val_accuracy: 0.6310\n",
      "Epoch 12/20\n",
      "941/941 [==============================] - 5s 5ms/step - loss: 0.5062 - accuracy: 0.7486 - val_loss: 0.7067 - val_accuracy: 0.6358\n",
      "Epoch 13/20\n",
      "941/941 [==============================] - 5s 5ms/step - loss: 0.4980 - accuracy: 0.7578 - val_loss: 0.7538 - val_accuracy: 0.6224\n",
      "Epoch 14/20\n",
      "941/941 [==============================] - 5s 5ms/step - loss: 0.4833 - accuracy: 0.7625 - val_loss: 0.7575 - val_accuracy: 0.6415\n",
      "Epoch 15/20\n",
      "941/941 [==============================] - 5s 5ms/step - loss: 0.4676 - accuracy: 0.7788 - val_loss: 0.7665 - val_accuracy: 0.6453\n",
      "Epoch 16/20\n",
      "941/941 [==============================] - 5s 5ms/step - loss: 0.4440 - accuracy: 0.7935 - val_loss: 0.8033 - val_accuracy: 0.6587\n",
      "Epoch 17/20\n",
      "941/941 [==============================] - 5s 5ms/step - loss: 0.4505 - accuracy: 0.7929 - val_loss: 0.8201 - val_accuracy: 0.6444\n",
      "Epoch 18/20\n",
      "941/941 [==============================] - 5s 5ms/step - loss: 0.4185 - accuracy: 0.8087 - val_loss: 0.8423 - val_accuracy: 0.6549\n",
      "Epoch 19/20\n",
      "941/941 [==============================] - 5s 5ms/step - loss: 0.3900 - accuracy: 0.8216 - val_loss: 0.9725 - val_accuracy: 0.6319\n",
      "Epoch 20/20\n",
      "941/941 [==============================] - 5s 5ms/step - loss: 0.4027 - accuracy: 0.8204 - val_loss: 0.8833 - val_accuracy: 0.6568\n",
      "History: {'loss': [1.5089044159347362, 0.8185168602778512, 0.7174101099854943, 0.6577007890013683, 0.6584187317051635, 0.6196114695063305, 0.6195626881978048, 0.6312171751576867, 0.5935974991819484, 0.5710330511085893, 0.5373215580267839, 0.5069814826067759, 0.49791423344678004, 0.48321217213620643, 0.46798171636078634, 0.443938118323584, 0.4502301626045996, 0.418770908796264, 0.3897569725741893, 0.40259370063668626], 'accuracy': [0.52141565, 0.56233394, 0.5931555, 0.6162185, 0.63131046, 0.65915614, 0.6678712, 0.68434477, 0.69933045, 0.71102136, 0.72908914, 0.7486449, 0.7577851, 0.7624615, 0.7788288, 0.7934956, 0.7928579, 0.8086938, 0.8215538, 0.82038474], 'val_loss': [0.8373300401937394, 0.7450603317646753, 0.700242178780692, 0.7147248622916994, 0.6862918754418691, 0.7308839079879579, 0.7145933630920592, 0.7061795913037799, 0.701448179710479, 0.7040041861079988, 0.7405185160182771, 0.7067431623027438, 0.7538314092726934, 0.7575452997570946, 0.7665005377360753, 0.8033233886673337, 0.8201072525410426, 0.842338343177523, 0.9724667943659283, 0.8833107145059677], 'val_accuracy': [0.5487572, 0.56883365, 0.56500953, 0.5611855, 0.59082216, 0.6051625, 0.60707456, 0.61759084, 0.61376673, 0.6271511, 0.6309751, 0.63575524, 0.62237096, 0.6414914, 0.64531547, 0.6586998, 0.64435947, 0.6548757, 0.6319312, 0.65678775]}\n",
      "185/185 [==============================] - 1s 4ms/step - loss: 0.9160 - accuracy: 0.6499\n",
      "test loss, test acc: [0.9160380230562107, 0.6498645]\n"
     ]
    }
   ],
   "source": [
    "features = generate_features(request_reply_df)\n",
    "model = build_fc_model(features)\n",
    "fc_qr_history, fc_qr_results = train_model(model, request_reply_df)"
   ]
  },
  {
   "cell_type": "code",
   "execution_count": null,
   "metadata": {},
   "outputs": [
    {
     "data": {
      "image/png": "[encoded data removed]",
      "text/plain": [
       "<Figure size 432x288 with 1 Axes>"
      ]
     },
     "metadata": {
      "needs_background": "light"
     },
     "output_type": "display_data"
    }
   ],
   "source": [
    "plt.plot(fc_qr_history.history['accuracy'])\n",
    "plt.plot(fc_qr_history.history['val_accuracy'])\n",
    "plt.title('Fully Connected model accuracy')\n",
    "plt.ylabel('Accuracy')\n",
    "plt.xlabel('Epoch')\n",
    "plt.legend(['Train', 'Val'], loc='upper left')\n",
    "plt.show()"
   ]
  },
  {
   "cell_type": "code",
   "execution_count": null,
   "metadata": {},
   "outputs": [
    {
     "name": "stderr",
     "output_type": "stream",
     "text": [
      "W0920 07:56:21.527021 4520814016 base_layer.py:1772] Layer sequential_1 is casting an input tensor from dtype float64 to the layer's dtype of float32, which is new behavior in TensorFlow 2.  The layer has dtype float32 because it's dtype defaults to floatx.\n",
      "\n",
      "If you intended to run this layer in float32, you can safely ignore this warning. If in doubt, this warning is likely only an issue if you are porting a TensorFlow 1.X model to TensorFlow 2.\n",
      "\n",
      "To change all layers to have dtype float64 by default, call `tf.keras.backend.set_floatx('float64')`. To change just this layer, pass dtype='float64' to the layer constructor. If you are the author of this layer, you can disable autocasting by passing autocast=False to the base Layer constructor.\n",
      "\n"
     ]
    },
    {
     "name": "stdout",
     "output_type": "stream",
     "text": [
      "Epoch 1/20\n",
      "941/941 [==============================] - 8s 9ms/step - loss: 1.5010 - accuracy: 0.5177 - val_loss: 0.0000e+00 - val_accuracy: 0.0000e+00\n",
      "Epoch 2/20\n",
      "941/941 [==============================] - 5s 5ms/step - loss: 0.7529 - accuracy: 0.5276 - val_loss: 0.7231 - val_accuracy: 0.5650\n",
      "Epoch 3/20\n"
     ]
    }
   ],
   "source": [
    "features = generate_features(reply_reply_df)\n",
    "model = build_fc_model(features)\n",
    "fc_rr_history, fc_rr_results = train_model(model, reply_reply_df)"
   ]
  },
  {
   "cell_type": "code",
   "execution_count": null,
   "metadata": {},
   "outputs": [],
   "source": [
    "plt.plot(fc_rr_history.history['accuracy'])\n",
    "plt.plot(fc_rr_history.history['val_accuracy'])\n",
    "plt.title('Fully Connected model accuracy')\n",
    "plt.ylabel('Accuracy')\n",
    "plt.xlabel('Epoch')\n",
    "plt.legend(['Train', 'Val'], loc='upper left')\n",
    "plt.show()"
   ]
  },
  {
   "cell_type": "code",
   "execution_count": null,
   "metadata": {},
   "outputs": [],
   "source": [
    "features = generate_features(request_reply_df)\n",
    "model = build_conv_model(features)\n",
    "conv_qr_history, conv_qr_results = train_model(model, request_reply_df)"
   ]
  },
  {
   "cell_type": "code",
   "execution_count": null,
   "metadata": {},
   "outputs": [],
   "source": [
    "plt.plot(conv_qr_history.history['accuracy'])\n",
    "plt.plot(conv_qr_history.history['val_accuracy'])\n",
    "plt.title('Convolutional model accuracy')\n",
    "plt.ylabel('Accuracy')\n",
    "plt.xlabel('Epoch')\n",
    "plt.legend(['Train', 'Val'], loc='upper left')\n",
    "plt.show()"
   ]
  },
  {
   "cell_type": "code",
   "execution_count": null,
   "metadata": {},
   "outputs": [],
   "source": [
    "features = generate_features(reply_reply_df)\n",
    "model = build_conv_model(features)\n",
    "conv_rr_history, conv_rr_results = train_model(model, reply_reply_df)"
   ]
  },
  {
   "cell_type": "code",
   "execution_count": null,
   "metadata": {},
   "outputs": [],
   "source": [
    "plt.plot(conv_rr_history.history['accuracy'])\n",
    "plt.plot(conv_rr_history.history['val_accuracy'])\n",
    "plt.title('Convolutional model accuracy')\n",
    "plt.ylabel('Accuracy')\n",
    "plt.xlabel('Epoch')\n",
    "plt.legend(['Train', 'Val'], loc='upper left')\n",
    "plt.show()"
   ]
  },
  {
   "cell_type": "code",
   "execution_count": null,
   "metadata": {},
   "outputs": [],
   "source": [
    "from sklearn.ensemble import RandomForestClassifier\n",
    "from sklearn.model_selection import train_test_split"
   ]
  },
  {
   "cell_type": "code",
   "execution_count": null,
   "metadata": {},
   "outputs": [],
   "source": [
    "dataset = reply_reply_df.copy()\n",
    "dataset.drop('1', axis=1, inplace=True)\n",
    "labels = dataset.pop(\"0\")\n",
    "X_train, X_test, y_train, y_test = train_test_split(dataset, labels, test_size=.15)"
   ]
  },
  {
   "cell_type": "code",
   "execution_count": null,
   "metadata": {},
   "outputs": [],
   "source": [
    "clf = RandomForestClassifier(n_estimators=50)\n",
    "clf.fit(X_train, y_train)"
   ]
  },
  {
   "cell_type": "code",
   "execution_count": null,
   "metadata": {},
   "outputs": [],
   "source": [
    "predictions = clf.predict(X_test)"
   ]
  },
  {
   "cell_type": "code",
   "execution_count": null,
   "metadata": {},
   "outputs": [],
   "source": [
    "errors = [0 if p == label else 1 for p, label in zip(predictions, y_test)]\n",
    "accuracy = 1 - (np.sum(errors)/len(errors))\n",
    "print(\"Accuracy of random forest classifier:\" + str(accuracy))"
   ]
  },
  {
   "cell_type": "code",
   "execution_count": null,
   "metadata": {},
   "outputs": [],
   "source": [
    "features = generate_features(request_reply_fourier)\n",
    "model = build_fc_model(features)\n",
    "fourier_fc_qr_history, fourier_fc_qr_results = train_model(model, request_reply_fourier)"
   ]
  },
  {
   "cell_type": "code",
   "execution_count": null,
   "metadata": {},
   "outputs": [],
   "source": [
    "plt.plot(fourier_fc_qr_history.history['accuracy'])\n",
    "plt.plot(fourier_fc_qr_history.history['val_accuracy'])\n",
    "plt.title('Fully Connected Fourier model accuracy')\n",
    "plt.ylabel('Accuracy')\n",
    "plt.xlabel('Epoch')\n",
    "plt.legend(['Train', 'Val'], loc='upper left')\n",
    "plt.show()"
   ]
  },
  {
   "cell_type": "code",
   "execution_count": null,
   "metadata": {},
   "outputs": [],
   "source": [
    "features = generate_features(request_reply_fourier)\n",
    "model = build_conv_model(features)\n",
    "fourier_conv_qr_history, fourier_conv_qr_results = train_model(model, request_reply_fourier)"
   ]
  },
  {
   "cell_type": "code",
   "execution_count": null,
   "metadata": {},
   "outputs": [],
   "source": [
    "plt.plot(fourier_conv_qr_history.history['accuracy'])\n",
    "plt.plot(fourier_conv_qr_history.history['val_accuracy'])\n",
    "plt.title('Convolutional Fourier model accuracy')\n",
    "plt.ylabel('Accuracy')\n",
    "plt.xlabel('Epoch')\n",
    "plt.legend(['Train', 'Val'], loc='upper left')\n",
    "plt.show()"
   ]
  },
  {
   "cell_type": "code",
   "execution_count": null,
   "metadata": {},
   "outputs": [],
   "source": [
    "features = generate_features(request_reply_wavelet)\n",
    "model = build_fc_model(features)\n",
    "wavelet_fc_qr_history, wavelet_fc_qr_results = train_model(model, request_reply_wavelet)"
   ]
  },
  {
   "cell_type": "code",
   "execution_count": null,
   "metadata": {},
   "outputs": [],
   "source": [
    "# plt.plot(wavelet_fc_qr_history.history['accuracy'])\n",
    "# plt.plot(wavelet_fc_qr_history.history['val_accuracy'])\n",
    "# plt.title('Fully Connected Wavelet model accuracy')\n",
    "# plt.ylabel('Accuracy')\n",
    "# plt.xlabel('Epoch')\n",
    "# plt.legend(['Train', 'Val'], loc='upper left')\n",
    "# plt.show()"
   ]
  },
  {
   "cell_type": "code",
   "execution_count": null,
   "metadata": {},
   "outputs": [],
   "source": [
    "# features = generate_features(reply_reply_wavelet)\n",
    "# model = build_fc_model(features)\n",
    "# wavelet_fc_rr_history, wavelet_fc_rr_results = train_model(model, reply_reply_wavelet)"
   ]
  },
  {
   "cell_type": "code",
   "execution_count": null,
   "metadata": {},
   "outputs": [],
   "source": [
    "# plt.plot(wavelet_fc_rr_history.history['accuracy'])\n",
    "# plt.plot(wavelet_fc_rr_history.history['val_accuracy'])\n",
    "# plt.title('Fully Connected Wavelet model accuracy')\n",
    "# plt.ylabel('Accuracy')\n",
    "# plt.xlabel('Epoch')\n",
    "# plt.legend(['Train', 'Val'], loc='upper left')\n",
    "# plt.show()"
   ]
  },
  {
   "cell_type": "code",
   "execution_count": null,
   "metadata": {},
   "outputs": [],
   "source": [
    "# features = generate_features(request_reply_wavelet)\n",
    "# model = build_conv_model(features)\n",
    "# wavelet_conv_qr_history, wavelet_conv_qr_results = train_model(model, request_reply_wavelet)"
   ]
  },
  {
   "cell_type": "code",
   "execution_count": null,
   "metadata": {},
   "outputs": [],
   "source": [
    "# plt.plot(wavelet_conv_qr_history.history['accuracy'])\n",
    "# plt.plot(wavelet_conv_qr_history.history['val_accuracy'])\n",
    "# plt.title('Convolutional Wavelet model accuracy')\n",
    "# plt.ylabel('Accuracy')\n",
    "# plt.xlabel('Epoch')\n",
    "# plt.legend(['Train', 'Val'], loc='upper left')\n",
    "# plt.show()"
   ]
  },
  {
   "cell_type": "code",
   "execution_count": null,
   "metadata": {},
   "outputs": [],
   "source": [
    "# features = generate_features(reply_reply_wavelet)\n",
    "# model = build_conv_model(features)\n",
    "# wavelet_conv_rr_history, wavelet_conv_rr_results = train_model(model, reply_reply_wavelet)"
   ]
  },
  {
   "cell_type": "code",
   "execution_count": null,
   "metadata": {},
   "outputs": [],
   "source": [
    "# plt.plot(wavelet_conv_rr_history.history['accuracy'])\n",
    "# plt.plot(wavelet_conv_rr_history.history['val_accuracy'])\n",
    "# plt.title('Convolutional Wavelet model accuracy')\n",
    "# plt.ylabel('Accuracy')\n",
    "# plt.xlabel('Epoch')\n",
    "# plt.legend(['Train', 'Val'], loc='upper left')\n",
    "# plt.show()"
   ]
  },
  {
   "cell_type": "code",
   "execution_count": null,
   "metadata": {},
   "outputs": [],
   "source": [
    "print(\"==================================================\")\n",
    "print(\"=                Overall results                ==\")\n",
    "print(\"==================================================\")\n",
    "print(\"    *Request-reply data*\")\n",
    "print(\"    Fully-Connected test accuracy: {}\".format(fc_qr_results[1]))\n",
    "print(\"    Convolutional test accuracy: {}\".format(conv_qr_results[1]))\n",
    "print(\"    Fourier f-c test accuracy: {}\".format(fourier_fc_qr_results[1]))\n",
    "print(\"    Fourier conv test accuracy: {}\".format(fourier_conv_qr_results[1]))\n",
    "# print(\"    Wavelet f-c test accuracy: {}\".format(wavelet_fc_qr_results[1]))\n",
    "# print(\"    Wavelet conv test accuracy: {}\".format(wavelet_conv_qr_results[1]))\n",
    "print(\"    Random Forest (control) test accuracy: {}\".format(accuracy))\n",
    "print(\"    *Reply-reply data*\")\n",
    "print(\"    Fully-Connected test accuracy: {}\".format(fc_rr_results[1]))\n",
    "print(\"    Convolutional test accuracy: {}\".format(conv_rr_results[1]))\n",
    "print(\"    Fourier f-c test accuracy: {}\".format(fourier_fc_rr_results[1]))\n",
    "print(\"    Fourier conv test accuracy: {}\".format(fourier_conv_rr_results[1]))\n",
    "# print(\"    Wavelet f-c test accuracy: {}\".format(wavelet_fc_rr_results[1]))\n",
    "# print(\"    Wavelet conv test accuracy: {}\".format(wavelet_conv_rr_results[1]))"
   ]
  },
  {
   "cell_type": "code",
   "execution_count": null,
   "metadata": {},
   "outputs": [],
   "source": []
  }
 ],
 "metadata": {
  "kernelspec": {
   "display_name": "Python 3",
   "language": "python",
   "name": "python3"
  },
  "language_info": {
   "codemirror_mode": {
    "name": "ipython",
    "version": 3
   },
   "file_extension": ".py",
   "mimetype": "text/x-python",
   "name": "python",
   "nbconvert_exporter": "python",
   "pygments_lexer": "ipython3",
   "version": "3.6.7"
  }
 },
 "nbformat": 4,
 "nbformat_minor": 2
}
