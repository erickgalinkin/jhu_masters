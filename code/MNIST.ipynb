{
 "cells": [
  {
   "cell_type": "code",
   "execution_count": 34,
   "metadata": {},
   "outputs": [],
   "source": [
    "import pandas as pd\n",
    "import numpy as np\n",
    "import matplotlib.pyplot as  plt\n",
    "import seaborn as sns\n",
    "import tensorflow as tf\n",
    "import pywt\n",
    "\n",
    "%matplotlib inline"
   ]
  },
  {
   "cell_type": "code",
   "execution_count": 35,
   "metadata": {},
   "outputs": [],
   "source": [
    "(train_images, train_labels), (test_images, test_labels) = tf.keras.datasets.mnist.load_data()"
   ]
  },
  {
   "cell_type": "code",
   "execution_count": 36,
   "metadata": {},
   "outputs": [
    {
     "data": {
      "text/plain": [
       "<matplotlib.image.AxesImage at 0x7f9224d21750>"
      ]
     },
     "execution_count": 36,
     "metadata": {},
     "output_type": "execute_result"
    },
    {
     "data": {
      "image/png": "[encoded data removed]",
      "text/plain": [
       "<Figure size 432x288 with 1 Axes>"
      ]
     },
     "metadata": {
      "needs_background": "light"
     },
     "output_type": "display_data"
    }
   ],
   "source": [
    "plt.imshow(train_images[0])"
   ]
  },
  {
   "cell_type": "code",
   "execution_count": 37,
   "metadata": {},
   "outputs": [],
   "source": [
    "from tensorflow.keras import layers\n",
    "from custom_layers import FourierConvLayer"
   ]
  },
  {
   "cell_type": "code",
   "execution_count": 38,
   "metadata": {},
   "outputs": [],
   "source": [
    "fc_model = tf.keras.models.Sequential([\n",
    "    layers.Flatten(),\n",
    "    layers.Dense(256, activation='relu'),\n",
    "    layers.Dense(256, activation='relu'),\n",
    "    layers.Dense(256, activation='relu'),\n",
    "    layers.Dense(10, activation='softmax')\n",
    "])"
   ]
  },
  {
   "cell_type": "code",
   "execution_count": 39,
   "metadata": {},
   "outputs": [],
   "source": [
    "conv_model = tf.keras.models.Sequential([\n",
    "    layers.Conv2D(256, kernel_size=(3,3), strides=1, activation='relu'),\n",
    "    layers.AveragePooling2D(),\n",
    "    layers.Conv2D(256, kernel_size=(3,3), activation='relu'),\n",
    "    layers.AveragePooling2D(),\n",
    "    layers.Flatten(),\n",
    "    layers.Dense(128, activation='relu'),\n",
    "    layers.Dense(128, activation='relu'),\n",
    "    layers.Dense(10, activation='softmax')\n",
    "])"
   ]
  },
  {
   "cell_type": "code",
   "execution_count": 40,
   "metadata": {},
   "outputs": [],
   "source": [
    "fourier_conv_model = tf.keras.models.Sequential([\n",
    "    layers.Flatten(),\n",
    "    FourierConvLayer(256, autocast=False),\n",
    "    FourierConvLayer(256, autocast=False),\n",
    "    layers.Flatten(),\n",
    "    layers.Dense(128, activation='relu'),\n",
    "    layers.Dense(128, activation='relu'),\n",
    "    layers.Dense(10, activation='softmax')\n",
    "])"
   ]
  },
  {
   "cell_type": "code",
   "execution_count": 41,
   "metadata": {},
   "outputs": [],
   "source": [
    "train_images = train_images.reshape(train_images.shape[0], 28, 28, 1).astype('float32')\n",
    "train_images = (train_images - 127.5) / 127.5"
   ]
  },
  {
   "cell_type": "code",
   "execution_count": 42,
   "metadata": {},
   "outputs": [],
   "source": [
    "test_images = test_images.reshape(test_images.shape[0], 28, 28, 1).astype('float32')\n",
    "test_images = (test_images - 127.5) / 127.5"
   ]
  },
  {
   "cell_type": "code",
   "execution_count": 43,
   "metadata": {},
   "outputs": [],
   "source": [
    "fc_model.compile(optimizer='adam', loss='sparse_categorical_crossentropy', metrics=['accuracy'])"
   ]
  },
  {
   "cell_type": "code",
   "execution_count": 44,
   "metadata": {},
   "outputs": [
    {
     "name": "stdout",
     "output_type": "stream",
     "text": [
      "Train on 60000 samples\n",
      "Epoch 1/10\n",
      "60000/60000 [==============================] - 2s 33us/sample - loss: 0.2965 - accuracy: 0.9071\n",
      "Epoch 2/10\n",
      "60000/60000 [==============================] - 2s 30us/sample - loss: 0.1315 - accuracy: 0.9586\n",
      "Epoch 3/10\n",
      "60000/60000 [==============================] - 2s 29us/sample - loss: 0.0954 - accuracy: 0.9701\n",
      "Epoch 4/10\n",
      "60000/60000 [==============================] - 2s 29us/sample - loss: 0.0814 - accuracy: 0.9733\n",
      "Epoch 5/10\n",
      "60000/60000 [==============================] - 2s 29us/sample - loss: 0.0681 - accuracy: 0.9781\n",
      "Epoch 6/10\n",
      "60000/60000 [==============================] - 2s 29us/sample - loss: 0.0589 - accuracy: 0.9814\n",
      "Epoch 7/10\n",
      "60000/60000 [==============================] - 2s 29us/sample - loss: 0.0525 - accuracy: 0.9826\n",
      "Epoch 8/10\n",
      "60000/60000 [==============================] - 2s 30us/sample - loss: 0.0499 - accuracy: 0.9839\n",
      "Epoch 9/10\n",
      "60000/60000 [==============================] - 2s 30us/sample - loss: 0.0431 - accuracy: 0.9856\n",
      "Epoch 10/10\n",
      "60000/60000 [==============================] - 2s 29us/sample - loss: 0.0416 - accuracy: 0.9865\n"
     ]
    }
   ],
   "source": [
    "fc_history = fc_model.fit(train_images, train_labels, epochs=10, batch_size=128)"
   ]
  },
  {
   "cell_type": "code",
   "execution_count": 45,
   "metadata": {},
   "outputs": [
    {
     "name": "stdout",
     "output_type": "stream",
     "text": [
      "Test loss: 0.08319612781077448\n",
      "Test accuracy: 0.9773\n"
     ]
    }
   ],
   "source": [
    "score = fc_model.evaluate(test_images, test_labels, verbose=0)\n",
    "print('Test loss:', score[0])\n",
    "print('Test accuracy:', score[1])"
   ]
  },
  {
   "cell_type": "code",
   "execution_count": 46,
   "metadata": {},
   "outputs": [],
   "source": [
    "conv_model.compile(optimizer='adam', loss='sparse_categorical_crossentropy', metrics=['accuracy'])"
   ]
  },
  {
   "cell_type": "code",
   "execution_count": 47,
   "metadata": {},
   "outputs": [
    {
     "name": "stdout",
     "output_type": "stream",
     "text": [
      "Train on 60000 samples\n",
      "Epoch 1/10\n",
      "60000/60000 [==============================] - 94s 2ms/sample - loss: 0.1809 - accuracy: 0.9456\n",
      "Epoch 2/10\n",
      "60000/60000 [==============================] - 94s 2ms/sample - loss: 0.0508 - accuracy: 0.9843\n",
      "Epoch 3/10\n",
      "60000/60000 [==============================] - 94s 2ms/sample - loss: 0.0365 - accuracy: 0.9890\n",
      "Epoch 4/10\n",
      "60000/60000 [==============================] - 94s 2ms/sample - loss: 0.0269 - accuracy: 0.9913\n",
      "Epoch 5/10\n",
      "60000/60000 [==============================] - 94s 2ms/sample - loss: 0.0212 - accuracy: 0.9934\n",
      "Epoch 6/10\n",
      "60000/60000 [==============================] - 94s 2ms/sample - loss: 0.0195 - accuracy: 0.9938\n",
      "Epoch 7/10\n",
      "60000/60000 [==============================] - 94s 2ms/sample - loss: 0.0166 - accuracy: 0.9944\n",
      "Epoch 8/10\n",
      "60000/60000 [==============================] - 94s 2ms/sample - loss: 0.0137 - accuracy: 0.9958\n",
      "Epoch 9/10\n",
      "60000/60000 [==============================] - 94s 2ms/sample - loss: 0.0128 - accuracy: 0.9958\n",
      "Epoch 10/10\n",
      "60000/60000 [==============================] - 94s 2ms/sample - loss: 0.0115 - accuracy: 0.9961\n"
     ]
    }
   ],
   "source": [
    "conv_history = conv_model.fit(train_images, train_labels, epochs=10, batch_size=128)"
   ]
  },
  {
   "cell_type": "code",
   "execution_count": 48,
   "metadata": {},
   "outputs": [
    {
     "name": "stdout",
     "output_type": "stream",
     "text": [
      "Test loss: 0.03519043545449967\n",
      "Test accuracy: 0.9911\n"
     ]
    }
   ],
   "source": [
    "score = conv_model.evaluate(test_images, test_labels, verbose=0)\n",
    "print('Test loss:', score[0])\n",
    "print('Test accuracy:', score[1])"
   ]
  },
  {
   "cell_type": "code",
   "execution_count": 50,
   "metadata": {},
   "outputs": [],
   "source": [
    "fourier_conv_model.compile(optimizer='adam', loss='sparse_categorical_crossentropy', metrics=['accuracy'])"
   ]
  },
  {
   "cell_type": "code",
   "execution_count": 51,
   "metadata": {},
   "outputs": [
    {
     "name": "stdout",
     "output_type": "stream",
     "text": [
      "Train on 60000 samples\n",
      "Epoch 1/10\n",
      "60000/60000 [==============================] - 58s 959us/sample - loss: 0.2826 - accuracy: 0.9129\n",
      "Epoch 2/10\n",
      "60000/60000 [==============================] - 57s 955us/sample - loss: 0.0963 - accuracy: 0.9706\n",
      "Epoch 3/10\n",
      "60000/60000 [==============================] - 57s 956us/sample - loss: 0.0644 - accuracy: 0.9796\n",
      "Epoch 4/10\n",
      "60000/60000 [==============================] - 57s 956us/sample - loss: 0.0433 - accuracy: 0.9862\n",
      "Epoch 5/10\n",
      "60000/60000 [==============================] - 57s 956us/sample - loss: 0.0356 - accuracy: 0.9885\n",
      "Epoch 6/10\n",
      "60000/60000 [==============================] - 57s 955us/sample - loss: 0.0294 - accuracy: 0.9904\n",
      "Epoch 7/10\n",
      "60000/60000 [==============================] - 57s 956us/sample - loss: 0.0261 - accuracy: 0.9915\n",
      "Epoch 8/10\n",
      "60000/60000 [==============================] - 57s 955us/sample - loss: 0.0224 - accuracy: 0.9926\n",
      "Epoch 9/10\n",
      "60000/60000 [==============================] - 57s 955us/sample - loss: 0.0197 - accuracy: 0.9937\n",
      "Epoch 10/10\n",
      "60000/60000 [==============================] - 57s 956us/sample - loss: 0.0198 - accuracy: 0.9936\n"
     ]
    }
   ],
   "source": [
    "fourier_history = fourier_conv_model.fit(train_images, train_labels, epochs=10, batch_size=128)"
   ]
  },
  {
   "cell_type": "code",
   "execution_count": 52,
   "metadata": {},
   "outputs": [
    {
     "name": "stdout",
     "output_type": "stream",
     "text": [
      "Test loss: 0.11795548995692341\n",
      "Test accuracy: 0.9745\n"
     ]
    }
   ],
   "source": [
    "score = fourier_conv_model.evaluate(test_images, test_labels, verbose=0)\n",
    "print('Test loss:', score[0])\n",
    "print('Test accuracy:', score[1])"
   ]
  },
  {
   "cell_type": "code",
   "execution_count": 53,
   "metadata": {},
   "outputs": [],
   "source": [
    "def fourierify(x):\n",
    "    return np.asarray([np.fft.fft(sample) for sample in x])"
   ]
  },
  {
   "cell_type": "code",
   "execution_count": 54,
   "metadata": {},
   "outputs": [],
   "source": [
    "fourier_test_images = fourierify(test_images)\n",
    "fourier_train_images = fourierify(train_images)"
   ]
  },
  {
   "cell_type": "code",
   "execution_count": 55,
   "metadata": {},
   "outputs": [
    {
     "name": "stdout",
     "output_type": "stream",
     "text": [
      "Train on 60000 samples\n",
      "Epoch 1/10\n",
      "60000/60000 [==============================] - 3s 42us/sample - loss: 0.0342 - accuracy: 0.9886\n",
      "Epoch 2/10\n",
      "60000/60000 [==============================] - 2s 41us/sample - loss: 0.0367 - accuracy: 0.9880\n",
      "Epoch 3/10\n",
      "60000/60000 [==============================] - 2s 41us/sample - loss: 0.0327 - accuracy: 0.9889\n",
      "Epoch 4/10\n",
      "60000/60000 [==============================] - 2s 41us/sample - loss: 0.0281 - accuracy: 0.9907\n",
      "Epoch 5/10\n",
      "60000/60000 [==============================] - 2s 40us/sample - loss: 0.0317 - accuracy: 0.9893\n",
      "Epoch 6/10\n",
      "60000/60000 [==============================] - 2s 40us/sample - loss: 0.0255 - accuracy: 0.9913\n",
      "Epoch 7/10\n",
      "60000/60000 [==============================] - 2s 41us/sample - loss: 0.0267 - accuracy: 0.9911\n",
      "Epoch 8/10\n",
      "60000/60000 [==============================] - 2s 41us/sample - loss: 0.0224 - accuracy: 0.9929\n",
      "Epoch 9/10\n",
      "60000/60000 [==============================] - 2s 41us/sample - loss: 0.0230 - accuracy: 0.9923\n",
      "Epoch 10/10\n",
      "60000/60000 [==============================] - 2s 41us/sample - loss: 0.0230 - accuracy: 0.9923\n"
     ]
    }
   ],
   "source": [
    "fourier_fc_history = fc_model.fit(fourier_train_images, train_labels, epochs=10, batch_size=128)"
   ]
  },
  {
   "cell_type": "code",
   "execution_count": 56,
   "metadata": {},
   "outputs": [
    {
     "name": "stdout",
     "output_type": "stream",
     "text": [
      "Test loss: 0.08507575669617472\n",
      "Test accuracy: 0.9812\n"
     ]
    }
   ],
   "source": [
    "score = fc_model.evaluate(fourier_test_images, test_labels, verbose=0)\n",
    "print('Test loss:', score[0])\n",
    "print('Test accuracy:', score[1])"
   ]
  },
  {
   "cell_type": "code",
   "execution_count": 57,
   "metadata": {},
   "outputs": [
    {
     "name": "stdout",
     "output_type": "stream",
     "text": [
      "Train on 60000 samples\n",
      "Epoch 1/10\n",
      "60000/60000 [==============================] - 97s 2ms/sample - loss: 0.0084 - accuracy: 0.9974\n",
      "Epoch 2/10\n",
      "60000/60000 [==============================] - 97s 2ms/sample - loss: 0.0098 - accuracy: 0.9968\n",
      "Epoch 3/10\n",
      "60000/60000 [==============================] - 97s 2ms/sample - loss: 0.0081 - accuracy: 0.9974\n",
      "Epoch 4/10\n",
      "60000/60000 [==============================] - 97s 2ms/sample - loss: 0.0062 - accuracy: 0.9979\n",
      "Epoch 5/10\n",
      "60000/60000 [==============================] - 96s 2ms/sample - loss: 0.0073 - accuracy: 0.9977\n",
      "Epoch 6/10\n",
      "60000/60000 [==============================] - 97s 2ms/sample - loss: 0.0048 - accuracy: 0.9984\n",
      "Epoch 7/10\n",
      "60000/60000 [==============================] - 97s 2ms/sample - loss: 0.0060 - accuracy: 0.9980\n",
      "Epoch 8/10\n",
      "60000/60000 [==============================] - 97s 2ms/sample - loss: 0.0055 - accuracy: 0.9981\n",
      "Epoch 9/10\n",
      "60000/60000 [==============================] - 97s 2ms/sample - loss: 0.0038 - accuracy: 0.9987\n",
      "Epoch 10/10\n",
      "60000/60000 [==============================] - 97s 2ms/sample - loss: 0.0038 - accuracy: 0.9987\n"
     ]
    }
   ],
   "source": [
    "fourier_conv_history = conv_model.fit(fourier_train_images, train_labels, epochs=10, batch_size=128)"
   ]
  },
  {
   "cell_type": "code",
   "execution_count": 58,
   "metadata": {},
   "outputs": [
    {
     "name": "stdout",
     "output_type": "stream",
     "text": [
      "Test loss: 0.045186635401371994\n",
      "Test accuracy: 0.991\n"
     ]
    }
   ],
   "source": [
    "score = conv_model.evaluate(fourier_test_images, test_labels, verbose=0)\n",
    "print('Test loss:', score[0])\n",
    "print('Test accuracy:', score[1])"
   ]
  },
  {
   "cell_type": "code",
   "execution_count": 59,
   "metadata": {},
   "outputs": [],
   "source": [
    "def waveletify(x):\n",
    "    scales = np.ones(1)\n",
    "    wavelet = 'morl'\n",
    "    wavelets = [pywt.cwt(sample, scales=scales, wavelet=wavelet) for sample in x]\n",
    "    wavelets = np.asarray([s[0] for s in wavelets])\n",
    "    return np.squeeze(wavelets, axis=1)"
   ]
  },
  {
   "cell_type": "code",
   "execution_count": 60,
   "metadata": {},
   "outputs": [],
   "source": [
    "wavelet_test_images = waveletify(test_images)\n",
    "wavelet_train_images = waveletify(train_images)"
   ]
  },
  {
   "cell_type": "code",
   "execution_count": 61,
   "metadata": {},
   "outputs": [
    {
     "name": "stdout",
     "output_type": "stream",
     "text": [
      "Train on 60000 samples\n",
      "Epoch 1/10\n",
      "60000/60000 [==============================] - 2s 30us/sample - loss: 0.2401 - accuracy: 0.9244\n",
      "Epoch 2/10\n",
      "60000/60000 [==============================] - 2s 30us/sample - loss: 0.0956 - accuracy: 0.9698\n",
      "Epoch 3/10\n",
      "60000/60000 [==============================] - 2s 30us/sample - loss: 0.0726 - accuracy: 0.9768\n",
      "Epoch 4/10\n",
      "60000/60000 [==============================] - 2s 30us/sample - loss: 0.0579 - accuracy: 0.9813\n",
      "Epoch 5/10\n",
      "60000/60000 [==============================] - 2s 30us/sample - loss: 0.0497 - accuracy: 0.9837\n",
      "Epoch 6/10\n",
      "60000/60000 [==============================] - 2s 30us/sample - loss: 0.0439 - accuracy: 0.9851\n",
      "Epoch 7/10\n",
      "60000/60000 [==============================] - 2s 30us/sample - loss: 0.0384 - accuracy: 0.9870\n",
      "Epoch 8/10\n",
      "60000/60000 [==============================] - 2s 30us/sample - loss: 0.0343 - accuracy: 0.9885\n",
      "Epoch 9/10\n",
      "60000/60000 [==============================] - 2s 30us/sample - loss: 0.0315 - accuracy: 0.9890\n",
      "Epoch 10/10\n",
      "60000/60000 [==============================] - 2s 30us/sample - loss: 0.0299 - accuracy: 0.9902\n"
     ]
    }
   ],
   "source": [
    "wavelet_fc_history = fc_model.fit(wavelet_train_images, train_labels, epochs=10, batch_size=128)"
   ]
  },
  {
   "cell_type": "code",
   "execution_count": 62,
   "metadata": {},
   "outputs": [
    {
     "name": "stdout",
     "output_type": "stream",
     "text": [
      "Test loss: 0.07500712764759082\n",
      "Test accuracy: 0.9783\n"
     ]
    }
   ],
   "source": [
    "score = fc_model.evaluate(wavelet_test_images, test_labels, verbose=0)\n",
    "print('Test loss:', score[0])\n",
    "print('Test accuracy:', score[1])"
   ]
  },
  {
   "cell_type": "code",
   "execution_count": 63,
   "metadata": {},
   "outputs": [
    {
     "name": "stdout",
     "output_type": "stream",
     "text": [
      "Train on 60000 samples\n",
      "Epoch 1/10\n",
      "60000/60000 [==============================] - 96s 2ms/sample - loss: 0.0841 - accuracy: 0.9745\n",
      "Epoch 2/10\n",
      "60000/60000 [==============================] - 97s 2ms/sample - loss: 0.0192 - accuracy: 0.9939\n",
      "Epoch 3/10\n",
      "60000/60000 [==============================] - 97s 2ms/sample - loss: 0.0123 - accuracy: 0.9961\n",
      "Epoch 4/10\n",
      "60000/60000 [==============================] - 97s 2ms/sample - loss: 0.0093 - accuracy: 0.9970\n",
      "Epoch 5/10\n",
      "60000/60000 [==============================] - 97s 2ms/sample - loss: 0.0066 - accuracy: 0.9979\n",
      "Epoch 6/10\n",
      "60000/60000 [==============================] - 97s 2ms/sample - loss: 0.0055 - accuracy: 0.9983\n",
      "Epoch 7/10\n",
      "60000/60000 [==============================] - 97s 2ms/sample - loss: 0.0071 - accuracy: 0.9977\n",
      "Epoch 8/10\n",
      "60000/60000 [==============================] - 96s 2ms/sample - loss: 0.0056 - accuracy: 0.9982\n",
      "Epoch 9/10\n",
      "60000/60000 [==============================] - 97s 2ms/sample - loss: 0.0033 - accuracy: 0.9988\n",
      "Epoch 10/10\n",
      "60000/60000 [==============================] - 97s 2ms/sample - loss: 0.0062 - accuracy: 0.9979\n"
     ]
    }
   ],
   "source": [
    "wavelet_conv_history = conv_model.fit(wavelet_train_images, train_labels, epochs=10, batch_size=128)"
   ]
  },
  {
   "cell_type": "code",
   "execution_count": 64,
   "metadata": {},
   "outputs": [
    {
     "name": "stdout",
     "output_type": "stream",
     "text": [
      "Test loss: 0.024734521689415867\n",
      "Test accuracy: 0.9929\n"
     ]
    }
   ],
   "source": [
    "score = conv_model.evaluate(wavelet_test_images, test_labels, verbose=0)\n",
    "print('Test loss:', score[0])\n",
    "print('Test accuracy:', score[1])"
   ]
  },
  {
   "cell_type": "code",
   "execution_count": null,
   "metadata": {},
   "outputs": [],
   "source": []
  }
 ],
 "metadata": {
  "kernelspec": {
   "display_name": "Python 3",
   "language": "python",
   "name": "python3"
  },
  "language_info": {
   "codemirror_mode": {
    "name": "ipython",
    "version": 3
   },
   "file_extension": ".py",
   "mimetype": "text/x-python",
   "name": "python",
   "nbconvert_exporter": "python",
   "pygments_lexer": "ipython3",
   "version": "3.7.4"
  }
 },
 "nbformat": 4,
 "nbformat_minor": 2
}
